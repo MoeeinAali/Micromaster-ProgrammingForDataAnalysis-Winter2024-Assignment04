{
  "cells": [
    {
      "cell_type": "markdown",
      "metadata": {
        "id": "l5p2aItYy2dC"
      },
      "source": [
        "<div>\n",
        "<img src=\"./micromaster.png\"\n",
        "alt=\"SUT logo\" width=150 height=150 align=left class=\"saturate\">\n",
        "<br>\n",
        "<font face=\"Times New Roman\">\n",
        "<div dir=ltr align=center>\n",
        "<!-- <font color=0F5298 size=7> -->\n",
        "<font color=0F5298 size=6>\n",
        "   Programming For Data Analysis\n",
        "  <br> <br>\n",
        "<!-- <font color=2565AE size=5> -->\n",
        "<font size=5>\n",
        "    Sharif Micromaster <br>\n",
        "    Winter 2024 <br> <br>\n",
        "<font color=606060 size=5>\n",
        "    Assignment 4: Practical - Introduction to Pandas, Matplotlib, Seaborn <br> <br>\n",
        "<hr>"
      ]
    },
    {
      "cell_type": "markdown",
      "metadata": {},
      "source": [
        "<div>\n",
        "<font face=\"Times New Roman\">\n",
        "<div dir=ltr align=left>\n",
        "<font color=686880 size=4>\n",
        "    Name: \n",
        "    <br>\n",
        "    No.: "
      ]
    },
    {
      "cell_type": "markdown",
      "metadata": {
        "id": "n36HI7Oa3_4M"
      },
      "source": [
        "## Notebook Content\n",
        "1. [Importing Libraries](#importing-libraries)\n",
        "2. [Loading Dataset](#loading-dataset)\n",
        "3. [Basic Understanding of Dataset](#basic-understanding-of-dataset)\n",
        "4. [Exploratory Data Analysis](#exploratory-data-analysis)\n",
        "5. [Feature Engineering](#feature-engineering)\n",
        "6. [Data Pre-Processing](#data-pre-processing)\n"
      ]
    },
    {
      "cell_type": "markdown",
      "metadata": {},
      "source": [
        "### Importing Libraries\n"
      ]
    },
    {
      "cell_type": "code",
      "execution_count": null,
      "metadata": {},
      "outputs": [],
      "source": [
        "# TODO: Import Required libraries\n",
        "# Codes"
      ]
    },
    {
      "cell_type": "markdown",
      "metadata": {},
      "source": [
        "### Loading Dataset"
      ]
    },
    {
      "cell_type": "code",
      "execution_count": null,
      "metadata": {},
      "outputs": [],
      "source": [
        "# TODO: Load dataset.csv \n",
        "# Codes"
      ]
    },
    {
      "cell_type": "markdown",
      "metadata": {},
      "source": [
        "## Basic Understanding of Dataset"
      ]
    },
    {
      "cell_type": "code",
      "execution_count": null,
      "metadata": {},
      "outputs": [],
      "source": [
        "# TODO: Print Shape of our Dataset\n",
        "# Codes"
      ]
    },
    {
      "cell_type": "code",
      "execution_count": null,
      "metadata": {},
      "outputs": [],
      "source": [
        "# TODO: Print Columns of Dataset\n",
        "# Codes"
      ]
    },
    {
      "cell_type": "code",
      "execution_count": null,
      "metadata": {},
      "outputs": [],
      "source": [
        "# TODO: Print first 5 rows of the dataset\n",
        "# Codes"
      ]
    },
    {
      "cell_type": "code",
      "execution_count": null,
      "metadata": {},
      "outputs": [],
      "source": [
        "# TODO: Print last 5 rows of the dataset\n",
        "# Codes"
      ]
    },
    {
      "cell_type": "code",
      "execution_count": null,
      "metadata": {},
      "outputs": [],
      "source": [
        "# TODO: Number of Duplicated in our dataset\n",
        "# Codes\n",
        "# TODO: The percentage of Duplicated in our dataset\n",
        "# Codes"
      ]
    },
    {
      "cell_type": "code",
      "execution_count": null,
      "metadata": {},
      "outputs": [],
      "source": [
        "# TODO: Types of our Columns in Dataset\n",
        "# Codes"
      ]
    },
    {
      "cell_type": "markdown",
      "metadata": {},
      "source": [
        "**Description**<br>\n",
        "\n",
        "* Except Area feature , all of them have right type . we have to change its type later .<br>\n"
      ]
    },
    {
      "cell_type": "code",
      "execution_count": null,
      "metadata": {},
      "outputs": [],
      "source": [
        "# TODO: Print the number of missing values in our Dataset for each Column\n",
        "# Codes\n",
        "# TODO: The percentage of missing values in our Dataset for each Column\n",
        "# Codes"
      ]
    },
    {
      "cell_type": "markdown",
      "metadata": {},
      "source": [
        "**Description**<br>\n",
        "\n",
        "* Due to Address feature plays an important role and it must be exact, we can't replace missing values with anything.\n",
        "* Consequently, we will drop those missing values later."
      ]
    },
    {
      "cell_type": "code",
      "execution_count": null,
      "metadata": {},
      "outputs": [],
      "source": [
        "# TODO: Print the cardinality of our Columns"
      ]
    },
    {
      "cell_type": "markdown",
      "metadata": {},
      "source": [
        "## Exploratory Data Analysis"
      ]
    },
    {
      "cell_type": "code",
      "execution_count": null,
      "metadata": {},
      "outputs": [],
      "source": [
        "# TODO: Plot the distribution of prices from the dataset using a histogram with kernel density estimation enabled, specifying a palette and setting the number of bins to 100.\n",
        "# Codes"
      ]
    },
    {
      "cell_type": "markdown",
      "metadata": {},
      "source": [
        "**Description**<br>\n",
        "\n",
        "* Most houses have roughly close price in one third of the first part\n",
        "* Outliers are obvious now(on the right side)"
      ]
    },
    {
      "cell_type": "code",
      "execution_count": null,
      "metadata": {},
      "outputs": [],
      "source": [
        "# TODO: Visualize the distribution of the number of rooms (Room) from the dataset using a histogram.\n",
        "# Codes"
      ]
    },
    {
      "cell_type": "markdown",
      "metadata": {},
      "source": [
        "**Description**<br>\n",
        "\n",
        "* About 2000 houses have exactly 2 rooms (most houses) \n",
        "* Distribution of 1 and 3 rooms are roughly the same (a little more 3 rooms)\n",
        "* we have not many houses with 4 or 5 rooms (in total about 150 houses)\n",
        "* houses without room is rarely seen \n",
        "\n",
        "**Conclusion**\n",
        "* Mean of rooms is roughly 2."
      ]
    },
    {
      "cell_type": "code",
      "execution_count": null,
      "metadata": {},
      "outputs": [],
      "source": [
        "# TODO: Create subplots to visualize the distribution of boolean columns ('Parking', 'Warehouse', 'Elevator') from the dataset using countplots.\n",
        "# Codes"
      ]
    },
    {
      "cell_type": "markdown",
      "metadata": {},
      "source": [
        "**Description**<br>\n",
        "\n",
        "* Most houses have Parking , Warehouse and Elevator (all these three features )\n",
        "* Most houses have Warehouse.(houses without warehouse are very low)\n",
        "* Those houses without Parking and Elevator have the same distribution(less than 1000 more than 500)\n"
      ]
    },
    {
      "cell_type": "markdown",
      "metadata": {},
      "source": [
        "## Feature Engineering"
      ]
    },
    {
      "cell_type": "code",
      "execution_count": null,
      "metadata": {},
      "outputs": [],
      "source": [
        "# TODO: Display the data types of columns in the dataset.\n",
        "# Codes"
      ]
    },
    {
      "cell_type": "markdown",
      "metadata": {},
      "source": [
        "**Description**<br>\n",
        "\n",
        "The type of Area must be changed if we want to show and do feature engineering .<br>\n",
        "\n",
        "To be possible to change its type we need to remove comma between numbers than we are capable changing its type.\n"
      ]
    },
    {
      "cell_type": "code",
      "execution_count": null,
      "metadata": {},
      "outputs": [],
      "source": [
        "# TODO: Remove commas from the 'Area' column and convert it to numeric data type.\n",
        "# Codes"
      ]
    },
    {
      "cell_type": "code",
      "execution_count": null,
      "metadata": {},
      "outputs": [],
      "source": [
        "# TODO: Generate descriptive statistics for the 'Area' column in the dataset.\n",
        "# Codes"
      ]
    },
    {
      "cell_type": "markdown",
      "metadata": {},
      "source": [
        "**Description**<br>\n",
        "\n",
        "We are going to divide Area feature to 4 category : Small(0-30) - AveUnderMean(30-90) - AveUpperMean(90-120)- High(120-...)\n",
        "\n",
        "except these features other will be replaced to nan values"
      ]
    },
    {
      "cell_type": "code",
      "execution_count": null,
      "metadata": {},
      "outputs": [],
      "source": [
        "# TODO: Create a new feature 'AreaSize' based on the 'Area' column values, categorizing them as 'Small', 'AveUnderMean', 'AveUpperMean', or 'High'.\n",
        "# Codes"
      ]
    },
    {
      "cell_type": "code",
      "execution_count": null,
      "metadata": {},
      "outputs": [],
      "source": [
        "# TODO: Visualize the distribution of the 'AreaSize' feature using a countplot.\n",
        "# Codes"
      ]
    },
    {
      "cell_type": "markdown",
      "metadata": {},
      "source": [
        "**Description**<br>\n",
        "\n",
        "* As we can see  about half of houses have between 30-90 meters(m2)\n",
        "* Houses with 90-120 meters  have the same contribution with houses which have more than 120 meters\n",
        "* we can realize that right-skewed has happened.(outliers most are on the right part)\n",
        "* very low houeses are with less than 30 meters size.\n"
      ]
    },
    {
      "cell_type": "markdown",
      "metadata": {},
      "source": [
        "We are going to determine 4 level for Price feature : Cheap , AveUnderMean , AveUpperMean , Expensive <br>\n",
        "\n",
        "- `cheap` : 0-25% \n",
        "- `AveUnderMean` : 25%-50%\n",
        "- `AveUpperMean` : 50%-75%\n",
        "- `Expensive` : upper 75%"
      ]
    },
    {
      "cell_type": "code",
      "execution_count": null,
      "metadata": {},
      "outputs": [],
      "source": [
        "# TODO: Create a new feature 'PriceLevel' based on the 'Price' column values, categorizing them as 'Cheap', 'AveUnderMean', 'AveUpperMean', or 'Expensive'.\n",
        "# Codes"
      ]
    },
    {
      "cell_type": "code",
      "execution_count": null,
      "metadata": {},
      "outputs": [],
      "source": [
        "# TODO: Visualize the distribution of the 'PriceLevel' feature using a countplot.\n",
        "# Codes"
      ]
    },
    {
      "cell_type": "markdown",
      "metadata": {},
      "source": [
        "**Description**<br>\n",
        "\n",
        "We have very balanced distribution in 4 parts"
      ]
    },
    {
      "cell_type": "markdown",
      "metadata": {},
      "source": [
        "## Data Pre-Processing"
      ]
    },
    {
      "cell_type": "code",
      "execution_count": null,
      "metadata": {},
      "outputs": [],
      "source": [
        "# TODO: \n",
        "# Codes"
      ]
    }
  ],
  "metadata": {
    "colab": {
      "provenance": []
    },
    "kernelspec": {
      "display_name": "Python 3",
      "name": "python3"
    },
    "language_info": {
      "codemirror_mode": {
        "name": "ipython",
        "version": 3
      },
      "file_extension": ".py",
      "mimetype": "text/x-python",
      "name": "python",
      "nbconvert_exporter": "python",
      "pygments_lexer": "ipython3",
      "version": "3.12.2"
    }
  },
  "nbformat": 4,
  "nbformat_minor": 0
}
