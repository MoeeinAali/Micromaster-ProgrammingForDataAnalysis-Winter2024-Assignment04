{
 "cells": [
  {
   "cell_type": "markdown",
   "id": "94b06932",
   "metadata": {
    "papermill": {
     "duration": 0.020571,
     "end_time": "2024-03-26T10:32:31.584656",
     "exception": false,
     "start_time": "2024-03-26T10:32:31.564085",
     "status": "completed"
    },
    "tags": []
   },
   "source": [
    "<html lang=\"en\">\n",
    "<head>\n",
    "<meta charset=\"UTF-8\">\n",
    "<meta name=\"viewport\" content=\"width=device-width, initial-scale=1.0\">\n",
    "</head>\n",
    "<body>\n",
    "\n",
    "<div style=\"text-align: center;\">\n",
    "    <img src=\"micromaster.png\" width=170 alt=\"micromaster_logo\">\n",
    "    <br>\n",
    "<font face=\"Times New Roman\">\n",
    "<div dir=ltr align=center>\n",
    "<font color=0F5298 size=6>\n",
    "    <b>Sharif Micromaster</b>\n",
    "     <br>\n",
    "<font color=0F5298 size=6>\n",
    "   Programming For Data Analysis ~ Winter 2024\n",
    "  <br>\n",
    "<font color=606060 size=5>\n",
    "    Assignment 4: Introduction to Pandas, Matplotlib, Seaborn \n",
    "</div>\n",
    "</body>\n",
    "</html>\n",
    "<hr>"
   ]
  },
  {
   "cell_type": "markdown",
   "id": "483a6240",
   "metadata": {
    "papermill": {
     "duration": 0.021866,
     "end_time": "2024-03-26T10:32:31.626329",
     "exception": false,
     "start_time": "2024-03-26T10:32:31.604463",
     "status": "completed"
    },
    "tags": []
   },
   "source": [
    "<div dir=ltr align=center>\n",
    "\n",
    "\n",
    "<font size=5>\n",
    "Solution Written by:\n",
    "<a href=\"https://github.com/moeeinaali\"><b>\n",
    "Moeein Aali</b></a>\n",
    "</div>"
   ]
  },
  {
   "cell_type": "markdown",
   "id": "c1b95402",
   "metadata": {
    "id": "n36HI7Oa3_4M",
    "jp-MarkdownHeadingCollapsed": true,
    "papermill": {
     "duration": 0.019529,
     "end_time": "2024-03-26T10:32:31.666802",
     "exception": false,
     "start_time": "2024-03-26T10:32:31.647273",
     "status": "completed"
    },
    "tags": []
   },
   "source": [
    "## Notebook Content\n",
    "0. [Introduction](#Introduction)\n",
    "1. [Importing Libraries](#importing-libraries)\n",
    "2. [Loading Dataset](#loading-dataset)\n",
    "3. [Basic Understanding of Dataset](#basic-understanding-of-dataset)\n",
    "4. [Exploratory Data Analysis](#exploratory-data-analysis)\n",
    "5. [Feature Engineering](#feature-engineering)\n",
    "6. [Data Pre-Processing](#data-pre-processing)"
   ]
  },
  {
   "cell_type": "markdown",
   "id": "12830a7a",
   "metadata": {
    "papermill": {
     "duration": 0.020245,
     "end_time": "2024-03-26T10:32:31.706710",
     "exception": false,
     "start_time": "2024-03-26T10:32:31.686465",
     "status": "completed"
    },
    "tags": []
   },
   "source": [
    "# Introduction\n",
    "This project aims to perform data preparation and initial analysis on a real estate dataset. The dataset includes information about properties from both sales and rental listings, sourced from various sources. The goal is to gain insights into the characteristics of the real estate market and prepare the data for further analysis or modeling.\n",
    "\n",
    "### **Project Steps**\n",
    "\n",
    "1. Data Loading and Inspection\n",
    "   - **Data Collection**: Real estate data is collected from multiple sources, including online listings and databases.\n",
    "   - **Initial Inspection**: The structure and basic characteristics of the dataset are examined, including the number of records, columns, and data types.\n",
    "\n",
    "\n",
    "2. Data Preprocessing\n",
    "   - **Duplicate Data Removal**: Any duplicate records in the dataset are identified and removed to ensure data integrity.\n",
    "   - **Data Type Identification**: The data types of columns are determined, and appropriate conversions are made if necessary.\n",
    "   - **Missing Data Handling**: Missing values in the dataset are addressed through imputation or removal, depending on the context.\n",
    "   - **Outlier Detection**: Outliers in the data, which may skew analysis results, are identified and processed using statistical methods.\n",
    "   - **Feature Engineering**: New features are created based on existing ones to enhance the predictive power of the dataset.\n",
    "\n",
    "\n",
    "3. Data Analysis and Exploration\n",
    "   - **Correlation Analysis**: Relationships between different variables in the dataset are explored using correlation matrices and visualizations.\n",
    "   - **Distribution Analysis**: The distribution of key variables, such as price and area, is examined to understand their patterns and characteristics.\n",
    "   - **Visualization**: Various plots and charts are created to visualize the data and gain insights into underlying trends and patterns.\n",
    "\n",
    "\n",
    "4. Data Modeling Preparation\n",
    "   - **Feature Selection**: Relevant features for modeling are selected based on their importance and contribution to the target variable.\n",
    "   - **Data Splitting**: The dataset is divided into training and testing sets to facilitate model training and evaluation.\n",
    "\n",
    "\n",
    "5. Conclusion\n",
    "   - This project serves as a foundational step in the analysis of real estate data. By preparing the dataset and performing initial exploratory analysis, it sets the stage for further analysis or modeling tasks. The insights gained from this project can be used by stakeholders in the real estate industry for decision-making and strategic planning.\n"
   ]
  },
  {
   "cell_type": "markdown",
   "id": "7ef3b757",
   "metadata": {
    "papermill": {
     "duration": 0.019343,
     "end_time": "2024-03-26T10:32:31.744945",
     "exception": false,
     "start_time": "2024-03-26T10:32:31.725602",
     "status": "completed"
    },
    "tags": []
   },
   "source": [
    "### Importing Libraries\n"
   ]
  },
  {
   "cell_type": "code",
   "execution_count": 222,
   "id": "a22ded0c",
   "metadata": {
    "ExecuteTime": {
     "end_time": "2024-05-08T18:16:13.565865Z",
     "start_time": "2024-05-08T18:16:13.561645Z"
    },
    "execution": {
     "iopub.execute_input": "2024-03-26T10:32:31.787207Z",
     "iopub.status.busy": "2024-03-26T10:32:31.786600Z",
     "iopub.status.idle": "2024-03-26T10:32:31.792703Z",
     "shell.execute_reply": "2024-03-26T10:32:31.791886Z"
    },
    "papermill": {
     "duration": 0.030288,
     "end_time": "2024-03-26T10:32:31.794897",
     "exception": false,
     "start_time": "2024-03-26T10:32:31.764609",
     "status": "completed"
    },
    "tags": []
   },
   "outputs": [],
   "source": [
    "# TODO: Import Required libraries\n",
    "import numpy as np\n",
    "import pandas as pd\n",
    "import matplotlib.pyplot as plt\n",
    "import seaborn as sns\n",
    "import re"
   ]
  },
  {
   "cell_type": "markdown",
   "id": "8e7d6231",
   "metadata": {
    "papermill": {
     "duration": 0.019678,
     "end_time": "2024-03-26T10:32:31.834319",
     "exception": false,
     "start_time": "2024-03-26T10:32:31.814641",
     "status": "completed"
    },
    "tags": []
   },
   "source": [
    "### Loading Dataset"
   ]
  },
  {
   "cell_type": "code",
   "execution_count": 223,
   "id": "ce96b856",
   "metadata": {
    "ExecuteTime": {
     "end_time": "2024-05-08T18:16:14.232175Z",
     "start_time": "2024-05-08T18:16:14.214639Z"
    },
    "execution": {
     "iopub.execute_input": "2024-03-26T10:32:31.875056Z",
     "iopub.status.busy": "2024-03-26T10:32:31.874231Z",
     "iopub.status.idle": "2024-03-26T10:32:31.878863Z",
     "shell.execute_reply": "2024-03-26T10:32:31.878102Z"
    },
    "papermill": {
     "duration": 0.027231,
     "end_time": "2024-03-26T10:32:31.880910",
     "exception": false,
     "start_time": "2024-03-26T10:32:31.853679",
     "status": "completed"
    },
    "tags": []
   },
   "outputs": [],
   "source": [
    "# TODO: Load dataset.csv \n",
    "df = pd.read_csv('dataset.csv')"
   ]
  },
  {
   "cell_type": "markdown",
   "id": "a6183fa6",
   "metadata": {
    "papermill": {
     "duration": 0.018643,
     "end_time": "2024-03-26T10:32:31.919264",
     "exception": false,
     "start_time": "2024-03-26T10:32:31.900621",
     "status": "completed"
    },
    "tags": []
   },
   "source": [
    "## Basic Understanding of Dataset"
   ]
  },
  {
   "cell_type": "code",
   "execution_count": 224,
   "id": "fb2ec520",
   "metadata": {
    "ExecuteTime": {
     "end_time": "2024-05-08T18:16:14.312328Z",
     "start_time": "2024-05-08T18:16:14.305883Z"
    },
    "execution": {
     "iopub.execute_input": "2024-03-26T10:32:31.958377Z",
     "iopub.status.busy": "2024-03-26T10:32:31.957590Z",
     "iopub.status.idle": "2024-03-26T10:32:31.962038Z",
     "shell.execute_reply": "2024-03-26T10:32:31.961230Z"
    },
    "papermill": {
     "duration": 0.026885,
     "end_time": "2024-03-26T10:32:31.964139",
     "exception": false,
     "start_time": "2024-03-26T10:32:31.937254",
     "status": "completed"
    },
    "tags": []
   },
   "outputs": [
    {
     "data": {
      "text/plain": [
       "(3479, 8)"
      ]
     },
     "execution_count": 224,
     "metadata": {},
     "output_type": "execute_result"
    }
   ],
   "source": [
    "# TODO: Print Shape of our Dataset\n",
    "df.shape"
   ]
  },
  {
   "cell_type": "code",
   "execution_count": 225,
   "id": "d19c8baa",
   "metadata": {
    "ExecuteTime": {
     "end_time": "2024-05-08T18:16:14.376034Z",
     "start_time": "2024-05-08T18:16:14.369288Z"
    },
    "execution": {
     "iopub.execute_input": "2024-03-26T10:32:32.004659Z",
     "iopub.status.busy": "2024-03-26T10:32:32.004232Z",
     "iopub.status.idle": "2024-03-26T10:32:32.008209Z",
     "shell.execute_reply": "2024-03-26T10:32:32.007232Z"
    },
    "papermill": {
     "duration": 0.027252,
     "end_time": "2024-03-26T10:32:32.010257",
     "exception": false,
     "start_time": "2024-03-26T10:32:31.983005",
     "status": "completed"
    },
    "tags": []
   },
   "outputs": [
    {
     "data": {
      "text/plain": [
       "Index(['Area', 'Room', 'Parking', 'Warehouse', 'Elevator', 'Address', 'Price',\n",
       "       'Price(USD)'],\n",
       "      dtype='object')"
      ]
     },
     "execution_count": 225,
     "metadata": {},
     "output_type": "execute_result"
    }
   ],
   "source": [
    "# TODO: Print Columns of Dataset\n",
    "df.columns"
   ]
  },
  {
   "cell_type": "code",
   "execution_count": 226,
   "id": "791d9366",
   "metadata": {
    "ExecuteTime": {
     "end_time": "2024-05-08T18:16:14.439193Z",
     "start_time": "2024-05-08T18:16:14.426134Z"
    },
    "execution": {
     "iopub.execute_input": "2024-03-26T10:32:32.051475Z",
     "iopub.status.busy": "2024-03-26T10:32:32.051060Z",
     "iopub.status.idle": "2024-03-26T10:32:32.055140Z",
     "shell.execute_reply": "2024-03-26T10:32:32.054143Z"
    },
    "papermill": {
     "duration": 0.02792,
     "end_time": "2024-03-26T10:32:32.057565",
     "exception": false,
     "start_time": "2024-03-26T10:32:32.029645",
     "status": "completed"
    },
    "tags": []
   },
   "outputs": [
    {
     "data": {
      "text/html": [
       "<div>\n",
       "<style scoped>\n",
       "    .dataframe tbody tr th:only-of-type {\n",
       "        vertical-align: middle;\n",
       "    }\n",
       "\n",
       "    .dataframe tbody tr th {\n",
       "        vertical-align: top;\n",
       "    }\n",
       "\n",
       "    .dataframe thead th {\n",
       "        text-align: right;\n",
       "    }\n",
       "</style>\n",
       "<table border=\"1\" class=\"dataframe\">\n",
       "  <thead>\n",
       "    <tr style=\"text-align: right;\">\n",
       "      <th></th>\n",
       "      <th>Area</th>\n",
       "      <th>Room</th>\n",
       "      <th>Parking</th>\n",
       "      <th>Warehouse</th>\n",
       "      <th>Elevator</th>\n",
       "      <th>Address</th>\n",
       "      <th>Price</th>\n",
       "      <th>Price(USD)</th>\n",
       "    </tr>\n",
       "  </thead>\n",
       "  <tbody>\n",
       "    <tr>\n",
       "      <th>0</th>\n",
       "      <td>63</td>\n",
       "      <td>1</td>\n",
       "      <td>True</td>\n",
       "      <td>True</td>\n",
       "      <td>True</td>\n",
       "      <td>Shahran</td>\n",
       "      <td>1.850000e+09</td>\n",
       "      <td>61666.67</td>\n",
       "    </tr>\n",
       "    <tr>\n",
       "      <th>1</th>\n",
       "      <td>60</td>\n",
       "      <td>1</td>\n",
       "      <td>True</td>\n",
       "      <td>True</td>\n",
       "      <td>True</td>\n",
       "      <td>Shahran</td>\n",
       "      <td>1.850000e+09</td>\n",
       "      <td>61666.67</td>\n",
       "    </tr>\n",
       "    <tr>\n",
       "      <th>2</th>\n",
       "      <td>79</td>\n",
       "      <td>2</td>\n",
       "      <td>True</td>\n",
       "      <td>True</td>\n",
       "      <td>True</td>\n",
       "      <td>Pardis</td>\n",
       "      <td>5.500000e+08</td>\n",
       "      <td>18333.33</td>\n",
       "    </tr>\n",
       "    <tr>\n",
       "      <th>3</th>\n",
       "      <td>95</td>\n",
       "      <td>2</td>\n",
       "      <td>True</td>\n",
       "      <td>True</td>\n",
       "      <td>True</td>\n",
       "      <td>Shahrake Qods</td>\n",
       "      <td>9.025000e+08</td>\n",
       "      <td>30083.33</td>\n",
       "    </tr>\n",
       "    <tr>\n",
       "      <th>4</th>\n",
       "      <td>123</td>\n",
       "      <td>2</td>\n",
       "      <td>True</td>\n",
       "      <td>True</td>\n",
       "      <td>True</td>\n",
       "      <td>Shahrake Gharb</td>\n",
       "      <td>7.000000e+09</td>\n",
       "      <td>233333.33</td>\n",
       "    </tr>\n",
       "  </tbody>\n",
       "</table>\n",
       "</div>"
      ],
      "text/plain": [
       "  Area  Room  Parking  Warehouse  Elevator         Address         Price  \\\n",
       "0   63     1     True       True      True         Shahran  1.850000e+09   \n",
       "1   60     1     True       True      True         Shahran  1.850000e+09   \n",
       "2   79     2     True       True      True          Pardis  5.500000e+08   \n",
       "3   95     2     True       True      True   Shahrake Qods  9.025000e+08   \n",
       "4  123     2     True       True      True  Shahrake Gharb  7.000000e+09   \n",
       "\n",
       "   Price(USD)  \n",
       "0    61666.67  \n",
       "1    61666.67  \n",
       "2    18333.33  \n",
       "3    30083.33  \n",
       "4   233333.33  "
      ]
     },
     "execution_count": 226,
     "metadata": {},
     "output_type": "execute_result"
    }
   ],
   "source": [
    "# TODO: Print first 5 rows of the dataset\n",
    "df.head(5)"
   ]
  },
  {
   "cell_type": "code",
   "execution_count": 227,
   "id": "ca2d7c6d",
   "metadata": {
    "ExecuteTime": {
     "end_time": "2024-05-08T18:16:14.524149Z",
     "start_time": "2024-05-08T18:16:14.505212Z"
    },
    "execution": {
     "iopub.execute_input": "2024-03-26T10:32:32.100962Z",
     "iopub.status.busy": "2024-03-26T10:32:32.100591Z",
     "iopub.status.idle": "2024-03-26T10:32:32.104618Z",
     "shell.execute_reply": "2024-03-26T10:32:32.103598Z"
    },
    "papermill": {
     "duration": 0.027624,
     "end_time": "2024-03-26T10:32:32.106662",
     "exception": false,
     "start_time": "2024-03-26T10:32:32.079038",
     "status": "completed"
    },
    "tags": []
   },
   "outputs": [
    {
     "data": {
      "text/html": [
       "<div>\n",
       "<style scoped>\n",
       "    .dataframe tbody tr th:only-of-type {\n",
       "        vertical-align: middle;\n",
       "    }\n",
       "\n",
       "    .dataframe tbody tr th {\n",
       "        vertical-align: top;\n",
       "    }\n",
       "\n",
       "    .dataframe thead th {\n",
       "        text-align: right;\n",
       "    }\n",
       "</style>\n",
       "<table border=\"1\" class=\"dataframe\">\n",
       "  <thead>\n",
       "    <tr style=\"text-align: right;\">\n",
       "      <th></th>\n",
       "      <th>Area</th>\n",
       "      <th>Room</th>\n",
       "      <th>Parking</th>\n",
       "      <th>Warehouse</th>\n",
       "      <th>Elevator</th>\n",
       "      <th>Address</th>\n",
       "      <th>Price</th>\n",
       "      <th>Price(USD)</th>\n",
       "    </tr>\n",
       "  </thead>\n",
       "  <tbody>\n",
       "    <tr>\n",
       "      <th>3474</th>\n",
       "      <td>86</td>\n",
       "      <td>2</td>\n",
       "      <td>True</td>\n",
       "      <td>True</td>\n",
       "      <td>True</td>\n",
       "      <td>Southern Janatabad</td>\n",
       "      <td>3.500000e+09</td>\n",
       "      <td>116666.67</td>\n",
       "    </tr>\n",
       "    <tr>\n",
       "      <th>3475</th>\n",
       "      <td>83</td>\n",
       "      <td>2</td>\n",
       "      <td>True</td>\n",
       "      <td>True</td>\n",
       "      <td>True</td>\n",
       "      <td>Niavaran</td>\n",
       "      <td>6.800000e+09</td>\n",
       "      <td>226666.67</td>\n",
       "    </tr>\n",
       "    <tr>\n",
       "      <th>3476</th>\n",
       "      <td>75</td>\n",
       "      <td>2</td>\n",
       "      <td>False</td>\n",
       "      <td>False</td>\n",
       "      <td>False</td>\n",
       "      <td>Parand</td>\n",
       "      <td>3.650000e+08</td>\n",
       "      <td>12166.67</td>\n",
       "    </tr>\n",
       "    <tr>\n",
       "      <th>3477</th>\n",
       "      <td>105</td>\n",
       "      <td>2</td>\n",
       "      <td>True</td>\n",
       "      <td>True</td>\n",
       "      <td>True</td>\n",
       "      <td>Dorous</td>\n",
       "      <td>5.600000e+09</td>\n",
       "      <td>186666.67</td>\n",
       "    </tr>\n",
       "    <tr>\n",
       "      <th>3478</th>\n",
       "      <td>82</td>\n",
       "      <td>2</td>\n",
       "      <td>False</td>\n",
       "      <td>True</td>\n",
       "      <td>True</td>\n",
       "      <td>Parand</td>\n",
       "      <td>3.600000e+08</td>\n",
       "      <td>12000.00</td>\n",
       "    </tr>\n",
       "  </tbody>\n",
       "</table>\n",
       "</div>"
      ],
      "text/plain": [
       "     Area  Room  Parking  Warehouse  Elevator             Address  \\\n",
       "3474   86     2     True       True      True  Southern Janatabad   \n",
       "3475   83     2     True       True      True            Niavaran   \n",
       "3476   75     2    False      False     False              Parand   \n",
       "3477  105     2     True       True      True              Dorous   \n",
       "3478   82     2    False       True      True              Parand   \n",
       "\n",
       "             Price  Price(USD)  \n",
       "3474  3.500000e+09   116666.67  \n",
       "3475  6.800000e+09   226666.67  \n",
       "3476  3.650000e+08    12166.67  \n",
       "3477  5.600000e+09   186666.67  \n",
       "3478  3.600000e+08    12000.00  "
      ]
     },
     "execution_count": 227,
     "metadata": {},
     "output_type": "execute_result"
    }
   ],
   "source": [
    "# TODO: Print last 5 rows of the dataset\n",
    "df.tail(5)"
   ]
  },
  {
   "cell_type": "code",
   "execution_count": 228,
   "id": "af45139e",
   "metadata": {
    "ExecuteTime": {
     "end_time": "2024-05-08T18:16:14.569520Z",
     "start_time": "2024-05-08T18:16:14.559830Z"
    },
    "execution": {
     "iopub.execute_input": "2024-03-26T10:32:32.147130Z",
     "iopub.status.busy": "2024-03-26T10:32:32.146392Z",
     "iopub.status.idle": "2024-03-26T10:32:32.150393Z",
     "shell.execute_reply": "2024-03-26T10:32:32.149664Z"
    },
    "papermill": {
     "duration": 0.026337,
     "end_time": "2024-03-26T10:32:32.152357",
     "exception": false,
     "start_time": "2024-03-26T10:32:32.126020",
     "status": "completed"
    },
    "tags": []
   },
   "outputs": [
    {
     "name": "stdout",
     "output_type": "stream",
     "text": [
      "The number of Duplicated Values: 208\n",
      "The Percentage of Duplicats: 5.978729519977005\n"
     ]
    }
   ],
   "source": [
    "# TODO: Number of Duplicated in our dataset\n",
    "duplicated_count = df.duplicated().sum()\n",
    "# TODO: The percentage of Duplicated in our dataset\n",
    "dataSet_count = len(df)\n",
    "print(\"The number of Duplicated Values:\", duplicated_count)\n",
    "print(f\"The Percentage of Duplicats:\", duplicated_count * 100 / dataSet_count)"
   ]
  },
  {
   "cell_type": "code",
   "execution_count": 229,
   "id": "b128346f",
   "metadata": {
    "ExecuteTime": {
     "end_time": "2024-05-08T18:16:14.649459Z",
     "start_time": "2024-05-08T18:16:14.641926Z"
    },
    "execution": {
     "iopub.execute_input": "2024-03-26T10:32:32.191926Z",
     "iopub.status.busy": "2024-03-26T10:32:32.191595Z",
     "iopub.status.idle": "2024-03-26T10:32:32.195655Z",
     "shell.execute_reply": "2024-03-26T10:32:32.194820Z"
    },
    "papermill": {
     "duration": 0.026104,
     "end_time": "2024-03-26T10:32:32.197645",
     "exception": false,
     "start_time": "2024-03-26T10:32:32.171541",
     "status": "completed"
    },
    "tags": []
   },
   "outputs": [
    {
     "data": {
      "text/plain": [
       "Area           object\n",
       "Room            int64\n",
       "Parking          bool\n",
       "Warehouse        bool\n",
       "Elevator         bool\n",
       "Address        object\n",
       "Price         float64\n",
       "Price(USD)    float64\n",
       "dtype: object"
      ]
     },
     "execution_count": 229,
     "metadata": {},
     "output_type": "execute_result"
    }
   ],
   "source": [
    "# TODO: Types of our Columns in Dataset\n",
    "df.dtypes"
   ]
  },
  {
   "cell_type": "markdown",
   "id": "82f186d1",
   "metadata": {
    "papermill": {
     "duration": 0.018741,
     "end_time": "2024-03-26T10:32:32.235926",
     "exception": false,
     "start_time": "2024-03-26T10:32:32.217185",
     "status": "completed"
    },
    "tags": []
   },
   "source": [
    "**Description**<br>\n",
    "\n",
    "* Except Area feature , all of them have right type . we have to change its type later .<br>\n"
   ]
  },
  {
   "cell_type": "code",
   "execution_count": 230,
   "id": "97f9549f",
   "metadata": {
    "ExecuteTime": {
     "end_time": "2024-05-08T18:16:14.860350Z",
     "start_time": "2024-05-08T18:16:14.851422Z"
    },
    "execution": {
     "iopub.execute_input": "2024-03-26T10:32:32.275581Z",
     "iopub.status.busy": "2024-03-26T10:32:32.274807Z",
     "iopub.status.idle": "2024-03-26T10:32:32.279742Z",
     "shell.execute_reply": "2024-03-26T10:32:32.278696Z"
    },
    "papermill": {
     "duration": 0.027186,
     "end_time": "2024-03-26T10:32:32.281852",
     "exception": false,
     "start_time": "2024-03-26T10:32:32.254666",
     "status": "completed"
    },
    "tags": []
   },
   "outputs": [
    {
     "name": "stdout",
     "output_type": "stream",
     "text": [
      "The Missing Values Count: Area           0\n",
      "Room           0\n",
      "Parking        0\n",
      "Warehouse      0\n",
      "Elevator       0\n",
      "Address       23\n",
      "Price          0\n",
      "Price(USD)     0\n",
      "dtype: int64\n",
      "The percentage of missing values:\n",
      "Area          0.00000\n",
      "Room          0.00000\n",
      "Parking       0.00000\n",
      "Warehouse     0.00000\n",
      "Elevator      0.00000\n",
      "Address       0.66111\n",
      "Price         0.00000\n",
      "Price(USD)    0.00000\n",
      "dtype: float64\n"
     ]
    }
   ],
   "source": [
    "# TODO: Print the number of missing values in our Dataset for each Column\n",
    "missing_values_count = df.isnull().sum()\n",
    "print(\"The Missing Values Count:\", missing_values_count)\n",
    "# TODO: The percentage of missing values in our Dataset for each Column\n",
    "print(\"The percentage of missing values:\")\n",
    "print(missing_values_count * 100 / dataSet_count)"
   ]
  },
  {
   "cell_type": "markdown",
   "id": "e5a2bd00",
   "metadata": {
    "papermill": {
     "duration": 0.019255,
     "end_time": "2024-03-26T10:32:32.319827",
     "exception": false,
     "start_time": "2024-03-26T10:32:32.300572",
     "status": "completed"
    },
    "tags": []
   },
   "source": [
    "**Description**<br>\n",
    "\n",
    "* Due to Address feature plays an important role and it must be exact, we can't replace missing values with anything.\n",
    "* Consequently, we will drop those missing values later."
   ]
  },
  {
   "cell_type": "code",
   "execution_count": 231,
   "id": "a828432b",
   "metadata": {
    "ExecuteTime": {
     "end_time": "2024-05-08T18:16:15.017656Z",
     "start_time": "2024-05-08T18:16:15.006775Z"
    },
    "execution": {
     "iopub.execute_input": "2024-03-26T10:32:32.360189Z",
     "iopub.status.busy": "2024-03-26T10:32:32.359772Z",
     "iopub.status.idle": "2024-03-26T10:32:32.363752Z",
     "shell.execute_reply": "2024-03-26T10:32:32.362993Z"
    },
    "papermill": {
     "duration": 0.026322,
     "end_time": "2024-03-26T10:32:32.365533",
     "exception": false,
     "start_time": "2024-03-26T10:32:32.339211",
     "status": "completed"
    },
    "tags": []
   },
   "outputs": [
    {
     "data": {
      "text/plain": [
       "Area          243\n",
       "Room            6\n",
       "Parking         2\n",
       "Warehouse       2\n",
       "Elevator        2\n",
       "Address       192\n",
       "Price         934\n",
       "Price(USD)    932\n",
       "dtype: int64"
      ]
     },
     "execution_count": 231,
     "metadata": {},
     "output_type": "execute_result"
    }
   ],
   "source": [
    "# TODO: Print the cardinality of our Columns\n",
    "df.nunique()"
   ]
  },
  {
   "cell_type": "markdown",
   "id": "99cab12d",
   "metadata": {
    "papermill": {
     "duration": 0.019098,
     "end_time": "2024-03-26T10:32:32.403912",
     "exception": false,
     "start_time": "2024-03-26T10:32:32.384814",
     "status": "completed"
    },
    "tags": []
   },
   "source": [
    "## Exploratory Data Analysis"
   ]
  },
  {
   "cell_type": "code",
   "execution_count": 232,
   "id": "b8330498",
   "metadata": {
    "ExecuteTime": {
     "end_time": "2024-05-08T18:16:15.474823Z",
     "start_time": "2024-05-08T18:16:15.132797Z"
    },
    "execution": {
     "iopub.execute_input": "2024-03-26T10:32:32.520560Z",
     "iopub.status.busy": "2024-03-26T10:32:32.519862Z",
     "iopub.status.idle": "2024-03-26T10:32:32.524476Z",
     "shell.execute_reply": "2024-03-26T10:32:32.523495Z"
    },
    "papermill": {
     "duration": 0.10311,
     "end_time": "2024-03-26T10:32:32.526581",
     "exception": false,
     "start_time": "2024-03-26T10:32:32.423471",
     "status": "completed"
    },
    "tags": []
   },
   "outputs": [
    {
     "name": "stderr",
     "output_type": "stream",
     "text": [
      "C:\\ProgramData\\anaconda3\\Lib\\site-packages\\seaborn\\_oldcore.py:1119: FutureWarning: use_inf_as_na option is deprecated and will be removed in a future version. Convert inf values to NaN before operating instead.\n",
      "  with pd.option_context('mode.use_inf_as_na', True):\n"
     ]
    },
    {
     "data": {
      "text/plain": [
       "<Axes: xlabel='Price', ylabel='Count'>"
      ]
     },
     "execution_count": 232,
     "metadata": {},
     "output_type": "execute_result"
    },
    {
     "data": {
      "image/png": "[encoded data removed]",
      "text/plain": [
       "<Figure size 640x480 with 1 Axes>"
      ]
     },
     "metadata": {},
     "output_type": "display_data"
    }
   ],
   "source": [
    "# TODO: Plot the distribution of prices from the dataset using a histogram with kernel density estimation enabled, specifying a palette and setting the number of bins to 100.\n",
    "sns.histplot(x=df['Price'], kde=True, bins=100)"
   ]
  },
  {
   "cell_type": "markdown",
   "id": "fad15328",
   "metadata": {
    "papermill": {
     "duration": 0.01897,
     "end_time": "2024-03-26T10:32:32.565372",
     "exception": false,
     "start_time": "2024-03-26T10:32:32.546402",
     "status": "completed"
    },
    "tags": []
   },
   "source": [
    "**Description**<br>\n",
    "\n",
    "* Most houses have roughly close price in one third of the first part\n",
    "* Outliers are obvious now(on the right side)"
   ]
  },
  {
   "cell_type": "code",
   "execution_count": 233,
   "id": "90e8773c",
   "metadata": {
    "ExecuteTime": {
     "end_time": "2024-05-08T18:16:15.625278Z",
     "start_time": "2024-05-08T18:16:15.476829Z"
    },
    "execution": {
     "iopub.execute_input": "2024-03-26T10:32:32.606333Z",
     "iopub.status.busy": "2024-03-26T10:32:32.605334Z",
     "iopub.status.idle": "2024-03-26T10:32:32.609571Z",
     "shell.execute_reply": "2024-03-26T10:32:32.608796Z"
    },
    "papermill": {
     "duration": 0.02682,
     "end_time": "2024-03-26T10:32:32.611437",
     "exception": false,
     "start_time": "2024-03-26T10:32:32.584617",
     "status": "completed"
    },
    "tags": []
   },
   "outputs": [
    {
     "data": {
      "image/png": "[encoded data removed]",
      "text/plain": [
       "<Figure size 640x480 with 1 Axes>"
      ]
     },
     "metadata": {},
     "output_type": "display_data"
    }
   ],
   "source": [
    "# TODO: Visualize the distribution of the number of rooms (Room) from the dataset using a histogram.\n",
    "plt.hist(df['Room'])\n",
    "plt.xlabel('Room')\n",
    "plt.ylabel('Frequency')\n",
    "plt.title('Histogram of Room')\n",
    "plt.show()"
   ]
  },
  {
   "cell_type": "markdown",
   "id": "4b58593c",
   "metadata": {
    "papermill": {
     "duration": 0.019582,
     "end_time": "2024-03-26T10:32:32.650523",
     "exception": false,
     "start_time": "2024-03-26T10:32:32.630941",
     "status": "completed"
    },
    "tags": []
   },
   "source": [
    "**Description**<br>\n",
    "\n",
    "* About 2000 houses have exactly 2 rooms (most houses) \n",
    "* Distribution of 1 and 3 rooms are roughly the same (a little more 3 rooms)\n",
    "* we have not many houses with 4 or 5 rooms (in total about 150 houses)\n",
    "* houses without room is rarely seen \n",
    "\n",
    "**Conclusion**\n",
    "* Mean of rooms is roughly 2."
   ]
  },
  {
   "cell_type": "code",
   "execution_count": 234,
   "id": "1fddea69",
   "metadata": {
    "ExecuteTime": {
     "end_time": "2024-05-08T18:16:16.157779Z",
     "start_time": "2024-05-08T18:16:15.627569Z"
    },
    "execution": {
     "iopub.execute_input": "2024-03-26T10:32:32.692818Z",
     "iopub.status.busy": "2024-03-26T10:32:32.692358Z",
     "iopub.status.idle": "2024-03-26T10:32:32.696386Z",
     "shell.execute_reply": "2024-03-26T10:32:32.695624Z"
    },
    "papermill": {
     "duration": 0.027867,
     "end_time": "2024-03-26T10:32:32.698361",
     "exception": false,
     "start_time": "2024-03-26T10:32:32.670494",
     "status": "completed"
    },
    "tags": []
   },
   "outputs": [
    {
     "data": {
      "image/png": "[encoded data removed]",
      "text/plain": [
       "<Figure size 800x1200 with 3 Axes>"
      ]
     },
     "metadata": {},
     "output_type": "display_data"
    }
   ],
   "source": [
    "# TODO: Create subplots to visualize the distribution of boolean columns ('Parking', 'Warehouse', 'Elevator') from the dataset using countplots.\n",
    "plt.figure(figsize=(8, 12))\n",
    "for index, column_name in enumerate(['Parking', 'Warehouse', 'Elevator']):\n",
    "    plt.subplot(3, 1, index + 1)\n",
    "    sns.countplot(x=column_name, data=df)\n",
    "    plt.title(f'{column_name} Distribution')\n",
    "    plt.tight_layout()"
   ]
  },
  {
   "cell_type": "markdown",
   "id": "d044f4c3",
   "metadata": {
    "papermill": {
     "duration": 0.027231,
     "end_time": "2024-03-26T10:32:32.753611",
     "exception": false,
     "start_time": "2024-03-26T10:32:32.726380",
     "status": "completed"
    },
    "tags": []
   },
   "source": [
    "**Description**<br>\n",
    "\n",
    "* Most houses have Parking , Warehouse and Elevator (all these three features )\n",
    "* Most houses have Warehouse.(houses without warehouse are very low)\n",
    "* Those houses without Parking and Elevator have the same distribution(less than 1000 more than 500)\n"
   ]
  },
  {
   "cell_type": "markdown",
   "id": "ac0e035f",
   "metadata": {
    "papermill": {
     "duration": 0.023864,
     "end_time": "2024-03-26T10:32:32.803511",
     "exception": false,
     "start_time": "2024-03-26T10:32:32.779647",
     "status": "completed"
    },
    "tags": []
   },
   "source": [
    "## Feature Engineering"
   ]
  },
  {
   "cell_type": "code",
   "execution_count": 235,
   "id": "0b612be5",
   "metadata": {
    "ExecuteTime": {
     "end_time": "2024-05-08T18:16:16.166340Z",
     "start_time": "2024-05-08T18:16:16.158875Z"
    },
    "execution": {
     "iopub.execute_input": "2024-03-26T10:32:32.848852Z",
     "iopub.status.busy": "2024-03-26T10:32:32.848320Z",
     "iopub.status.idle": "2024-03-26T10:32:32.853420Z",
     "shell.execute_reply": "2024-03-26T10:32:32.852315Z"
    },
    "papermill": {
     "duration": 0.030949,
     "end_time": "2024-03-26T10:32:32.855410",
     "exception": false,
     "start_time": "2024-03-26T10:32:32.824461",
     "status": "completed"
    },
    "tags": []
   },
   "outputs": [
    {
     "data": {
      "text/plain": [
       "Area           object\n",
       "Room            int64\n",
       "Parking          bool\n",
       "Warehouse        bool\n",
       "Elevator         bool\n",
       "Address        object\n",
       "Price         float64\n",
       "Price(USD)    float64\n",
       "dtype: object"
      ]
     },
     "execution_count": 235,
     "metadata": {},
     "output_type": "execute_result"
    }
   ],
   "source": [
    "# TODO: Display the data types of columns in the dataset.\n",
    "df.dtypes"
   ]
  },
  {
   "cell_type": "markdown",
   "id": "00e54d15",
   "metadata": {
    "papermill": {
     "duration": 0.021461,
     "end_time": "2024-03-26T10:32:32.897943",
     "exception": false,
     "start_time": "2024-03-26T10:32:32.876482",
     "status": "completed"
    },
    "tags": []
   },
   "source": [
    "**Description**<br>\n",
    "\n",
    "The type of Area must be changed if we want to show and do feature engineering .<br>\n",
    "\n",
    "To be possible to change its type we need to remove comma between numbers than we are capable changing its type.\n"
   ]
  },
  {
   "cell_type": "code",
   "execution_count": 236,
   "id": "3ee81a6b",
   "metadata": {
    "ExecuteTime": {
     "end_time": "2024-05-08T18:16:16.180288Z",
     "start_time": "2024-05-08T18:16:16.169465Z"
    },
    "execution": {
     "iopub.execute_input": "2024-03-26T10:32:32.944069Z",
     "iopub.status.busy": "2024-03-26T10:32:32.943090Z",
     "iopub.status.idle": "2024-03-26T10:32:32.947845Z",
     "shell.execute_reply": "2024-03-26T10:32:32.946847Z"
    },
    "papermill": {
     "duration": 0.028703,
     "end_time": "2024-03-26T10:32:32.949756",
     "exception": false,
     "start_time": "2024-03-26T10:32:32.921053",
     "status": "completed"
    },
    "tags": []
   },
   "outputs": [],
   "source": [
    "# TODO: Remove commas from the 'Area' column and convert it to numeric data type.\n",
    "df[\"Area\"] = df[\"Area\"].apply(lambda x: re.sub(',', '', x))\n",
    "df[\"Area\"] = pd.to_numeric(df[\"Area\"])"
   ]
  },
  {
   "cell_type": "code",
   "execution_count": 237,
   "id": "086689be",
   "metadata": {
    "ExecuteTime": {
     "end_time": "2024-05-08T18:16:16.193322Z",
     "start_time": "2024-05-08T18:16:16.182295Z"
    },
    "execution": {
     "iopub.execute_input": "2024-03-26T10:32:32.992970Z",
     "iopub.status.busy": "2024-03-26T10:32:32.992068Z",
     "iopub.status.idle": "2024-03-26T10:32:32.996851Z",
     "shell.execute_reply": "2024-03-26T10:32:32.995839Z"
    },
    "papermill": {
     "duration": 0.028389,
     "end_time": "2024-03-26T10:32:32.998898",
     "exception": false,
     "start_time": "2024-03-26T10:32:32.970509",
     "status": "completed"
    },
    "tags": []
   },
   "outputs": [
    {
     "data": {
      "text/plain": [
       "count    3.479000e+03\n",
       "mean     8.744000e+06\n",
       "std      3.167266e+08\n",
       "min      3.000000e+01\n",
       "25%      6.900000e+01\n",
       "50%      9.000000e+01\n",
       "75%      1.200000e+02\n",
       "max      1.616000e+10\n",
       "Name: Area, dtype: float64"
      ]
     },
     "execution_count": 237,
     "metadata": {},
     "output_type": "execute_result"
    }
   ],
   "source": [
    "# TODO: Generate descriptive statistics for the 'Area' column in the dataset.\n",
    "df['Area'].describe()"
   ]
  },
  {
   "cell_type": "markdown",
   "id": "c6d5bf58",
   "metadata": {
    "papermill": {
     "duration": 0.020353,
     "end_time": "2024-03-26T10:32:33.039876",
     "exception": false,
     "start_time": "2024-03-26T10:32:33.019523",
     "status": "completed"
    },
    "tags": []
   },
   "source": [
    "**Description**<br>\n",
    "\n",
    "We are going to divide Area feature to 4 category : Small(0-30) - AveUnderMean(30-90) - AveUpperMean(90-120)- High(120-...)\n",
    "\n",
    "except these features other will be replaced to nan values"
   ]
  },
  {
   "cell_type": "code",
   "execution_count": 238,
   "id": "f1d9af15",
   "metadata": {
    "ExecuteTime": {
     "end_time": "2024-05-08T18:16:16.205275Z",
     "start_time": "2024-05-08T18:16:16.195514Z"
    },
    "execution": {
     "iopub.execute_input": "2024-03-26T10:32:33.089175Z",
     "iopub.status.busy": "2024-03-26T10:32:33.088155Z",
     "iopub.status.idle": "2024-03-26T10:32:33.092924Z",
     "shell.execute_reply": "2024-03-26T10:32:33.092031Z"
    },
    "papermill": {
     "duration": 0.034668,
     "end_time": "2024-03-26T10:32:33.095013",
     "exception": false,
     "start_time": "2024-03-26T10:32:33.060345",
     "status": "completed"
    },
    "tags": []
   },
   "outputs": [],
   "source": [
    "# TODO: Create a new feature 'AreaSize' based on the 'Area' column values, categorizing them as 'Small', 'AveUnderMean', 'AveUpperMean', or 'High'.\n",
    "AreaSize = []\n",
    "for i in df['Area']:\n",
    "    if i <= 30:\n",
    "        AreaSize.append(\"Small\")\n",
    "\n",
    "    elif 30 < i <= 90:\n",
    "        AreaSize.append(\"AveUnderMean\")\n",
    "\n",
    "    elif 90 < i <= 120:\n",
    "        AreaSize.append(\"AveUpperMean\")\n",
    "\n",
    "    elif i > 120:\n",
    "        AreaSize.append(\"High\")\n",
    "    else:\n",
    "        AreaSize.append(np.nan)\n",
    "\n",
    "df[\"AreaSize\"] = AreaSize"
   ]
  },
  {
   "cell_type": "code",
   "execution_count": 239,
   "id": "b255e448",
   "metadata": {
    "ExecuteTime": {
     "end_time": "2024-05-08T18:16:16.374448Z",
     "start_time": "2024-05-08T18:16:16.206758Z"
    },
    "execution": {
     "iopub.execute_input": "2024-03-26T10:32:33.139870Z",
     "iopub.status.busy": "2024-03-26T10:32:33.138574Z",
     "iopub.status.idle": "2024-03-26T10:32:33.144319Z",
     "shell.execute_reply": "2024-03-26T10:32:33.143132Z"
    },
    "papermill": {
     "duration": 0.030729,
     "end_time": "2024-03-26T10:32:33.146435",
     "exception": false,
     "start_time": "2024-03-26T10:32:33.115706",
     "status": "completed"
    },
    "tags": []
   },
   "outputs": [
    {
     "data": {
      "text/plain": [
       "Text(0.5, 1.0, 'Area Distribution')"
      ]
     },
     "execution_count": 239,
     "metadata": {},
     "output_type": "execute_result"
    },
    {
     "data": {
      "image/png": "[encoded data removed]",
      "text/plain": [
       "<Figure size 800x400 with 1 Axes>"
      ]
     },
     "metadata": {},
     "output_type": "display_data"
    }
   ],
   "source": [
    "# TODO: Visualize the distribution of the 'AreaSize' feature using a count-plot.\n",
    "plt.figure(figsize=(8, 4))\n",
    "sns.countplot(x=\"AreaSize\", data=df)\n",
    "plt.title(\"Area Distribution\")"
   ]
  },
  {
   "cell_type": "markdown",
   "id": "6fc6304e",
   "metadata": {
    "papermill": {
     "duration": 0.020613,
     "end_time": "2024-03-26T10:32:33.189913",
     "exception": false,
     "start_time": "2024-03-26T10:32:33.169300",
     "status": "completed"
    },
    "tags": []
   },
   "source": [
    "**Description**<br>\n",
    "\n",
    "* As we can see  about half of houses have between 30-90 meters(m2)\n",
    "* Houses with 90-120 meters  have the same contribution with houses which have more than 120 meters\n",
    "* we can realize that right-skewed has happened.(outliers most are on the right part)\n",
    "* very low houeses are with less than 30 meters size.\n"
   ]
  },
  {
   "cell_type": "markdown",
   "id": "0f3c25d1",
   "metadata": {
    "papermill": {
     "duration": 0.020999,
     "end_time": "2024-03-26T10:32:33.231919",
     "exception": false,
     "start_time": "2024-03-26T10:32:33.210920",
     "status": "completed"
    },
    "tags": []
   },
   "source": [
    "We are going to determine 4 level for Price feature : Cheap , AveUnderMean , AveUpperMean , Expensive <br>\n",
    "\n",
    "- `cheap` : 0-25% \n",
    "- `AveUnderMean` : 25%-50%\n",
    "- `AveUpperMean` : 50%-75%\n",
    "- `Expensive` : upper 75%"
   ]
  },
  {
   "cell_type": "code",
   "execution_count": 264,
   "id": "adc0bcbb",
   "metadata": {
    "ExecuteTime": {
     "end_time": "2024-05-08T18:16:35.172485Z",
     "start_time": "2024-05-08T18:16:35.135939Z"
    },
    "execution": {
     "iopub.execute_input": "2024-03-26T10:32:33.276191Z",
     "iopub.status.busy": "2024-03-26T10:32:33.275141Z",
     "iopub.status.idle": "2024-03-26T10:32:33.280343Z",
     "shell.execute_reply": "2024-03-26T10:32:33.279306Z"
    },
    "papermill": {
     "duration": 0.03032,
     "end_time": "2024-03-26T10:32:33.282551",
     "exception": false,
     "start_time": "2024-03-26T10:32:33.252231",
     "status": "completed"
    },
    "tags": []
   },
   "outputs": [
    {
     "name": "stderr",
     "output_type": "stream",
     "text": [
      "C:\\Users\\moeei\\AppData\\Local\\Temp\\ipykernel_9244\\2288967117.py:4: FutureWarning: Series.__getitem__ treating keys as positions is deprecated. In a future version, integer keys will always be treated as labels (consistent with DataFrame behavior). To access a value by position, use `ser.iloc[pos]`\n",
      "  H25 = df['Price'].describe()[4]\n",
      "C:\\Users\\moeei\\AppData\\Local\\Temp\\ipykernel_9244\\2288967117.py:5: FutureWarning: Series.__getitem__ treating keys as positions is deprecated. In a future version, integer keys will always be treated as labels (consistent with DataFrame behavior). To access a value by position, use `ser.iloc[pos]`\n",
      "  H50 = df['Price'].describe()[5]\n",
      "C:\\Users\\moeei\\AppData\\Local\\Temp\\ipykernel_9244\\2288967117.py:6: FutureWarning: Series.__getitem__ treating keys as positions is deprecated. In a future version, integer keys will always be treated as labels (consistent with DataFrame behavior). To access a value by position, use `ser.iloc[pos]`\n",
      "  H75 = df['Price'].describe()[6]\n"
     ]
    },
    {
     "data": {
      "text/html": [
       "<div>\n",
       "<style scoped>\n",
       "    .dataframe tbody tr th:only-of-type {\n",
       "        vertical-align: middle;\n",
       "    }\n",
       "\n",
       "    .dataframe tbody tr th {\n",
       "        vertical-align: top;\n",
       "    }\n",
       "\n",
       "    .dataframe thead th {\n",
       "        text-align: right;\n",
       "    }\n",
       "</style>\n",
       "<table border=\"1\" class=\"dataframe\">\n",
       "  <thead>\n",
       "    <tr style=\"text-align: right;\">\n",
       "      <th></th>\n",
       "      <th>Area</th>\n",
       "      <th>Room</th>\n",
       "      <th>Parking</th>\n",
       "      <th>Warehouse</th>\n",
       "      <th>Elevator</th>\n",
       "      <th>Address</th>\n",
       "      <th>Price</th>\n",
       "      <th>Price(USD)</th>\n",
       "      <th>AreaSize</th>\n",
       "      <th>PriceLevel</th>\n",
       "    </tr>\n",
       "  </thead>\n",
       "  <tbody>\n",
       "    <tr>\n",
       "      <th>0</th>\n",
       "      <td>63</td>\n",
       "      <td>1</td>\n",
       "      <td>True</td>\n",
       "      <td>True</td>\n",
       "      <td>True</td>\n",
       "      <td>Shahran</td>\n",
       "      <td>1.850000e+09</td>\n",
       "      <td>61666.67</td>\n",
       "      <td>AveUnderMean</td>\n",
       "      <td>AveUnderMean</td>\n",
       "    </tr>\n",
       "    <tr>\n",
       "      <th>1</th>\n",
       "      <td>60</td>\n",
       "      <td>1</td>\n",
       "      <td>True</td>\n",
       "      <td>True</td>\n",
       "      <td>True</td>\n",
       "      <td>Shahran</td>\n",
       "      <td>1.850000e+09</td>\n",
       "      <td>61666.67</td>\n",
       "      <td>AveUnderMean</td>\n",
       "      <td>AveUnderMean</td>\n",
       "    </tr>\n",
       "    <tr>\n",
       "      <th>2</th>\n",
       "      <td>79</td>\n",
       "      <td>2</td>\n",
       "      <td>True</td>\n",
       "      <td>True</td>\n",
       "      <td>True</td>\n",
       "      <td>Pardis</td>\n",
       "      <td>5.500000e+08</td>\n",
       "      <td>18333.33</td>\n",
       "      <td>AveUnderMean</td>\n",
       "      <td>Cheap</td>\n",
       "    </tr>\n",
       "    <tr>\n",
       "      <th>3</th>\n",
       "      <td>95</td>\n",
       "      <td>2</td>\n",
       "      <td>True</td>\n",
       "      <td>True</td>\n",
       "      <td>True</td>\n",
       "      <td>Shahrake Qods</td>\n",
       "      <td>9.025000e+08</td>\n",
       "      <td>30083.33</td>\n",
       "      <td>AveUpperMean</td>\n",
       "      <td>Cheap</td>\n",
       "    </tr>\n",
       "    <tr>\n",
       "      <th>4</th>\n",
       "      <td>123</td>\n",
       "      <td>2</td>\n",
       "      <td>True</td>\n",
       "      <td>True</td>\n",
       "      <td>True</td>\n",
       "      <td>Shahrake Gharb</td>\n",
       "      <td>7.000000e+09</td>\n",
       "      <td>233333.33</td>\n",
       "      <td>High</td>\n",
       "      <td>Expensive</td>\n",
       "    </tr>\n",
       "    <tr>\n",
       "      <th>...</th>\n",
       "      <td>...</td>\n",
       "      <td>...</td>\n",
       "      <td>...</td>\n",
       "      <td>...</td>\n",
       "      <td>...</td>\n",
       "      <td>...</td>\n",
       "      <td>...</td>\n",
       "      <td>...</td>\n",
       "      <td>...</td>\n",
       "      <td>...</td>\n",
       "    </tr>\n",
       "    <tr>\n",
       "      <th>3474</th>\n",
       "      <td>86</td>\n",
       "      <td>2</td>\n",
       "      <td>True</td>\n",
       "      <td>True</td>\n",
       "      <td>True</td>\n",
       "      <td>Southern Janatabad</td>\n",
       "      <td>3.500000e+09</td>\n",
       "      <td>116666.67</td>\n",
       "      <td>AveUnderMean</td>\n",
       "      <td>AveUpperMean</td>\n",
       "    </tr>\n",
       "    <tr>\n",
       "      <th>3475</th>\n",
       "      <td>83</td>\n",
       "      <td>2</td>\n",
       "      <td>True</td>\n",
       "      <td>True</td>\n",
       "      <td>True</td>\n",
       "      <td>Niavaran</td>\n",
       "      <td>6.800000e+09</td>\n",
       "      <td>226666.67</td>\n",
       "      <td>AveUnderMean</td>\n",
       "      <td>Expensive</td>\n",
       "    </tr>\n",
       "    <tr>\n",
       "      <th>3476</th>\n",
       "      <td>75</td>\n",
       "      <td>2</td>\n",
       "      <td>False</td>\n",
       "      <td>False</td>\n",
       "      <td>False</td>\n",
       "      <td>Parand</td>\n",
       "      <td>3.650000e+08</td>\n",
       "      <td>12166.67</td>\n",
       "      <td>AveUnderMean</td>\n",
       "      <td>Cheap</td>\n",
       "    </tr>\n",
       "    <tr>\n",
       "      <th>3477</th>\n",
       "      <td>105</td>\n",
       "      <td>2</td>\n",
       "      <td>True</td>\n",
       "      <td>True</td>\n",
       "      <td>True</td>\n",
       "      <td>Dorous</td>\n",
       "      <td>5.600000e+09</td>\n",
       "      <td>186666.67</td>\n",
       "      <td>AveUpperMean</td>\n",
       "      <td>AveUpperMean</td>\n",
       "    </tr>\n",
       "    <tr>\n",
       "      <th>3478</th>\n",
       "      <td>82</td>\n",
       "      <td>2</td>\n",
       "      <td>False</td>\n",
       "      <td>True</td>\n",
       "      <td>True</td>\n",
       "      <td>Parand</td>\n",
       "      <td>3.600000e+08</td>\n",
       "      <td>12000.00</td>\n",
       "      <td>AveUnderMean</td>\n",
       "      <td>Cheap</td>\n",
       "    </tr>\n",
       "  </tbody>\n",
       "</table>\n",
       "<p>3479 rows × 10 columns</p>\n",
       "</div>"
      ],
      "text/plain": [
       "      Area  Room  Parking  Warehouse  Elevator             Address  \\\n",
       "0       63     1     True       True      True             Shahran   \n",
       "1       60     1     True       True      True             Shahran   \n",
       "2       79     2     True       True      True              Pardis   \n",
       "3       95     2     True       True      True       Shahrake Qods   \n",
       "4      123     2     True       True      True      Shahrake Gharb   \n",
       "...    ...   ...      ...        ...       ...                 ...   \n",
       "3474    86     2     True       True      True  Southern Janatabad   \n",
       "3475    83     2     True       True      True            Niavaran   \n",
       "3476    75     2    False      False     False              Parand   \n",
       "3477   105     2     True       True      True              Dorous   \n",
       "3478    82     2    False       True      True              Parand   \n",
       "\n",
       "             Price  Price(USD)      AreaSize    PriceLevel  \n",
       "0     1.850000e+09    61666.67  AveUnderMean  AveUnderMean  \n",
       "1     1.850000e+09    61666.67  AveUnderMean  AveUnderMean  \n",
       "2     5.500000e+08    18333.33  AveUnderMean         Cheap  \n",
       "3     9.025000e+08    30083.33  AveUpperMean         Cheap  \n",
       "4     7.000000e+09   233333.33          High     Expensive  \n",
       "...            ...         ...           ...           ...  \n",
       "3474  3.500000e+09   116666.67  AveUnderMean  AveUpperMean  \n",
       "3475  6.800000e+09   226666.67  AveUnderMean     Expensive  \n",
       "3476  3.650000e+08    12166.67  AveUnderMean         Cheap  \n",
       "3477  5.600000e+09   186666.67  AveUpperMean  AveUpperMean  \n",
       "3478  3.600000e+08    12000.00  AveUnderMean         Cheap  \n",
       "\n",
       "[3479 rows x 10 columns]"
      ]
     },
     "execution_count": 264,
     "metadata": {},
     "output_type": "execute_result"
    }
   ],
   "source": [
    "# TODO: Create a new feature 'PriceLevel' based on the 'Price' column values, categorizing them as 'Cheap', 'AveUnderMean', 'AveUpperMean', or 'Expensive'.\n",
    "PriceLevel = []\n",
    "\n",
    "H25 = df['Price'].describe()[4]\n",
    "H50 = df['Price'].describe()[5]\n",
    "H75 = df['Price'].describe()[6]\n",
    "\n",
    "for i in df['Price']:\n",
    "\n",
    "    if i <= H25:\n",
    "        PriceLevel.append(\"Cheap\")\n",
    "\n",
    "    elif H25 < i <= H50:\n",
    "        PriceLevel.append(\"AveUnderMean\")\n",
    "\n",
    "    elif H50 < i <= H75:\n",
    "        PriceLevel.append(\"AveUpperMean\")\n",
    "\n",
    "    elif i > H75:\n",
    "        PriceLevel.append(\"Expensive\")\n",
    "\n",
    "    else:\n",
    "        PriceLevel.append(np.nan)\n",
    "\n",
    "df[\"PriceLevel\"] = PriceLevel\n",
    "df"
   ]
  },
  {
   "cell_type": "code",
   "execution_count": 265,
   "id": "345c9438",
   "metadata": {
    "ExecuteTime": {
     "end_time": "2024-05-08T18:17:19.818874Z",
     "start_time": "2024-05-08T18:17:19.661946Z"
    },
    "execution": {
     "iopub.execute_input": "2024-03-26T10:32:33.329052Z",
     "iopub.status.busy": "2024-03-26T10:32:33.328127Z",
     "iopub.status.idle": "2024-03-26T10:32:33.332783Z",
     "shell.execute_reply": "2024-03-26T10:32:33.331832Z"
    },
    "papermill": {
     "duration": 0.031253,
     "end_time": "2024-03-26T10:32:33.334987",
     "exception": false,
     "start_time": "2024-03-26T10:32:33.303734",
     "status": "completed"
    },
    "tags": []
   },
   "outputs": [
    {
     "data": {
      "text/plain": [
       "Text(0.5, 1.0, 'Price Distribution')"
      ]
     },
     "execution_count": 265,
     "metadata": {},
     "output_type": "execute_result"
    },
    {
     "data": {
      "image/png": "[encoded data removed]",
      "text/plain": [
       "<Figure size 800x400 with 1 Axes>"
      ]
     },
     "metadata": {},
     "output_type": "display_data"
    }
   ],
   "source": [
    "# TODO: Visualize the distribution of the 'PriceLevel' feature using a countplot.\n",
    "plt.figure(figsize=(8, 4))\n",
    "sns.countplot(x=\"PriceLevel\", data=df)\n",
    "plt.title(\"Price Distribution\")"
   ]
  },
  {
   "cell_type": "markdown",
   "id": "3e2b968f",
   "metadata": {
    "papermill": {
     "duration": 0.023294,
     "end_time": "2024-03-26T10:32:33.380173",
     "exception": false,
     "start_time": "2024-03-26T10:32:33.356879",
     "status": "completed"
    },
    "tags": []
   },
   "source": [
    "**Description**<br>\n",
    "\n",
    "We have very balanced distribution in 4 parts"
   ]
  },
  {
   "cell_type": "markdown",
   "id": "179e178d",
   "metadata": {
    "papermill": {
     "duration": 0.020769,
     "end_time": "2024-03-26T10:32:33.422957",
     "exception": false,
     "start_time": "2024-03-26T10:32:33.402188",
     "status": "completed"
    },
    "tags": []
   },
   "source": [
    "## Data Pre-Processing"
   ]
  },
  {
   "cell_type": "code",
   "execution_count": 267,
   "id": "64feb1a6",
   "metadata": {
    "ExecuteTime": {
     "end_time": "2024-05-08T18:18:19.420114Z",
     "start_time": "2024-05-08T18:18:19.403221Z"
    },
    "execution": {
     "iopub.execute_input": "2024-03-26T10:32:33.469367Z",
     "iopub.status.busy": "2024-03-26T10:32:33.468300Z",
     "iopub.status.idle": "2024-03-26T10:32:33.473243Z",
     "shell.execute_reply": "2024-03-26T10:32:33.472288Z"
    },
    "papermill": {
     "duration": 0.030769,
     "end_time": "2024-03-26T10:32:33.475399",
     "exception": false,
     "start_time": "2024-03-26T10:32:33.444630",
     "status": "completed"
    },
    "tags": []
   },
   "outputs": [
    {
     "data": {
      "text/html": [
       "<div>\n",
       "<style scoped>\n",
       "    .dataframe tbody tr th:only-of-type {\n",
       "        vertical-align: middle;\n",
       "    }\n",
       "\n",
       "    .dataframe tbody tr th {\n",
       "        vertical-align: top;\n",
       "    }\n",
       "\n",
       "    .dataframe thead th {\n",
       "        text-align: right;\n",
       "    }\n",
       "</style>\n",
       "<table border=\"1\" class=\"dataframe\">\n",
       "  <thead>\n",
       "    <tr style=\"text-align: right;\">\n",
       "      <th></th>\n",
       "      <th>Area</th>\n",
       "      <th>Room</th>\n",
       "      <th>Parking</th>\n",
       "      <th>Warehouse</th>\n",
       "      <th>Elevator</th>\n",
       "      <th>Address</th>\n",
       "      <th>Price</th>\n",
       "      <th>Price(USD)</th>\n",
       "      <th>AreaSize</th>\n",
       "      <th>PriceLevel</th>\n",
       "    </tr>\n",
       "  </thead>\n",
       "  <tbody>\n",
       "    <tr>\n",
       "      <th>1890</th>\n",
       "      <td>123</td>\n",
       "      <td>3</td>\n",
       "      <td>True</td>\n",
       "      <td>True</td>\n",
       "      <td>True</td>\n",
       "      <td>Gheitarieh</td>\n",
       "      <td>7.400000e+09</td>\n",
       "      <td>246666.67</td>\n",
       "      <td>High</td>\n",
       "      <td>Expensive</td>\n",
       "    </tr>\n",
       "    <tr>\n",
       "      <th>2219</th>\n",
       "      <td>37</td>\n",
       "      <td>1</td>\n",
       "      <td>False</td>\n",
       "      <td>True</td>\n",
       "      <td>True</td>\n",
       "      <td>Ostad Moein</td>\n",
       "      <td>9.990000e+08</td>\n",
       "      <td>33300.00</td>\n",
       "      <td>AveUnderMean</td>\n",
       "      <td>Cheap</td>\n",
       "    </tr>\n",
       "    <tr>\n",
       "      <th>1077</th>\n",
       "      <td>121</td>\n",
       "      <td>3</td>\n",
       "      <td>True</td>\n",
       "      <td>True</td>\n",
       "      <td>True</td>\n",
       "      <td>Pardis</td>\n",
       "      <td>6.100000e+08</td>\n",
       "      <td>20333.33</td>\n",
       "      <td>High</td>\n",
       "      <td>Cheap</td>\n",
       "    </tr>\n",
       "    <tr>\n",
       "      <th>640</th>\n",
       "      <td>61</td>\n",
       "      <td>1</td>\n",
       "      <td>True</td>\n",
       "      <td>True</td>\n",
       "      <td>False</td>\n",
       "      <td>Central Janatabad</td>\n",
       "      <td>2.180000e+09</td>\n",
       "      <td>72666.67</td>\n",
       "      <td>AveUnderMean</td>\n",
       "      <td>AveUnderMean</td>\n",
       "    </tr>\n",
       "    <tr>\n",
       "      <th>1409</th>\n",
       "      <td>120</td>\n",
       "      <td>2</td>\n",
       "      <td>True</td>\n",
       "      <td>True</td>\n",
       "      <td>True</td>\n",
       "      <td>Saadat Abad</td>\n",
       "      <td>7.300000e+09</td>\n",
       "      <td>243333.33</td>\n",
       "      <td>AveUpperMean</td>\n",
       "      <td>Expensive</td>\n",
       "    </tr>\n",
       "    <tr>\n",
       "      <th>439</th>\n",
       "      <td>75</td>\n",
       "      <td>2</td>\n",
       "      <td>True</td>\n",
       "      <td>True</td>\n",
       "      <td>False</td>\n",
       "      <td>Shahr-e-Ziba</td>\n",
       "      <td>1.890000e+09</td>\n",
       "      <td>63000.00</td>\n",
       "      <td>AveUnderMean</td>\n",
       "      <td>AveUnderMean</td>\n",
       "    </tr>\n",
       "    <tr>\n",
       "      <th>2270</th>\n",
       "      <td>113</td>\n",
       "      <td>2</td>\n",
       "      <td>True</td>\n",
       "      <td>True</td>\n",
       "      <td>True</td>\n",
       "      <td>Niavaran</td>\n",
       "      <td>9.000000e+09</td>\n",
       "      <td>300000.00</td>\n",
       "      <td>AveUpperMean</td>\n",
       "      <td>Expensive</td>\n",
       "    </tr>\n",
       "    <tr>\n",
       "      <th>2502</th>\n",
       "      <td>250</td>\n",
       "      <td>4</td>\n",
       "      <td>True</td>\n",
       "      <td>True</td>\n",
       "      <td>True</td>\n",
       "      <td>Zaferanieh</td>\n",
       "      <td>1.875000e+10</td>\n",
       "      <td>625000.00</td>\n",
       "      <td>High</td>\n",
       "      <td>Expensive</td>\n",
       "    </tr>\n",
       "    <tr>\n",
       "      <th>1365</th>\n",
       "      <td>149</td>\n",
       "      <td>3</td>\n",
       "      <td>True</td>\n",
       "      <td>True</td>\n",
       "      <td>True</td>\n",
       "      <td>West Ferdows Boulevard</td>\n",
       "      <td>8.642000e+09</td>\n",
       "      <td>288066.67</td>\n",
       "      <td>High</td>\n",
       "      <td>Expensive</td>\n",
       "    </tr>\n",
       "    <tr>\n",
       "      <th>388</th>\n",
       "      <td>75</td>\n",
       "      <td>2</td>\n",
       "      <td>True</td>\n",
       "      <td>True</td>\n",
       "      <td>False</td>\n",
       "      <td>Shahr-e-Ziba</td>\n",
       "      <td>1.890000e+09</td>\n",
       "      <td>63000.00</td>\n",
       "      <td>AveUnderMean</td>\n",
       "      <td>AveUnderMean</td>\n",
       "    </tr>\n",
       "  </tbody>\n",
       "</table>\n",
       "</div>"
      ],
      "text/plain": [
       "      Area  Room  Parking  Warehouse  Elevator                 Address  \\\n",
       "1890   123     3     True       True      True              Gheitarieh   \n",
       "2219    37     1    False       True      True             Ostad Moein   \n",
       "1077   121     3     True       True      True                  Pardis   \n",
       "640     61     1     True       True     False       Central Janatabad   \n",
       "1409   120     2     True       True      True             Saadat Abad   \n",
       "439     75     2     True       True     False            Shahr-e-Ziba   \n",
       "2270   113     2     True       True      True                Niavaran   \n",
       "2502   250     4     True       True      True              Zaferanieh   \n",
       "1365   149     3     True       True      True  West Ferdows Boulevard   \n",
       "388     75     2     True       True     False            Shahr-e-Ziba   \n",
       "\n",
       "             Price  Price(USD)      AreaSize    PriceLevel  \n",
       "1890  7.400000e+09   246666.67          High     Expensive  \n",
       "2219  9.990000e+08    33300.00  AveUnderMean         Cheap  \n",
       "1077  6.100000e+08    20333.33          High         Cheap  \n",
       "640   2.180000e+09    72666.67  AveUnderMean  AveUnderMean  \n",
       "1409  7.300000e+09   243333.33  AveUpperMean     Expensive  \n",
       "439   1.890000e+09    63000.00  AveUnderMean  AveUnderMean  \n",
       "2270  9.000000e+09   300000.00  AveUpperMean     Expensive  \n",
       "2502  1.875000e+10   625000.00          High     Expensive  \n",
       "1365  8.642000e+09   288066.67          High     Expensive  \n",
       "388   1.890000e+09    63000.00  AveUnderMean  AveUnderMean  "
      ]
     },
     "execution_count": 267,
     "metadata": {},
     "output_type": "execute_result"
    }
   ],
   "source": [
    "# TODO: Display a random sample of 10 rows from the dataset.\n",
    "df.sample(10)"
   ]
  },
  {
   "cell_type": "code",
   "execution_count": 277,
   "id": "b70a3934",
   "metadata": {
    "ExecuteTime": {
     "end_time": "2024-05-08T18:21:48.182960Z",
     "start_time": "2024-05-08T18:21:48.171146Z"
    },
    "execution": {
     "iopub.execute_input": "2024-03-26T10:32:33.520626Z",
     "iopub.status.busy": "2024-03-26T10:32:33.519662Z",
     "iopub.status.idle": "2024-03-26T10:32:33.524558Z",
     "shell.execute_reply": "2024-03-26T10:32:33.523626Z"
    },
    "papermill": {
     "duration": 0.03,
     "end_time": "2024-03-26T10:32:33.526482",
     "exception": false,
     "start_time": "2024-03-26T10:32:33.496482",
     "status": "completed"
    },
    "tags": []
   },
   "outputs": [
    {
     "name": "stdout",
     "output_type": "stream",
     "text": [
      "Missing Values and Percentages:\n",
      "            Missing Values  Percentage\n",
      "Address                 23     0.66111\n",
      "Area                     0     0.00000\n",
      "Room                     0     0.00000\n",
      "Parking                  0     0.00000\n",
      "Warehouse                0     0.00000\n",
      "Elevator                 0     0.00000\n",
      "Price                    0     0.00000\n",
      "Price(USD)               0     0.00000\n",
      "AreaSize                 0     0.00000\n",
      "PriceLevel               0     0.00000\n"
     ]
    }
   ],
   "source": [
    "# TODO: Calculate the number and percentage of missing values for each column in the dataset and display the results. Highlight the column with the maximum percentage of missing values in red.\n",
    "\n",
    "missing_values = df.isnull().sum()\n",
    "missing_percentages = (missing_values / len(df)) * 100\n",
    "missing_info = pd.concat([missing_values, missing_percentages], axis=1)\n",
    "missing_info.columns = ['Missing Values', 'Percentage']\n",
    "missing_info = missing_info.sort_values(by='Percentage', ascending=False)\n",
    "print(\"Missing Values and Percentages:\")\n",
    "print(missing_info)"
   ]
  },
  {
   "cell_type": "markdown",
   "id": "bb14b716",
   "metadata": {
    "papermill": {
     "duration": 0.024926,
     "end_time": "2024-03-26T10:32:33.573328",
     "exception": false,
     "start_time": "2024-03-26T10:32:33.548402",
     "status": "completed"
    },
    "tags": []
   },
   "source": [
    "    \n",
    "**Description**<br>\n",
    "\n",
    "Address (location of house) is crucial , wa cant replace missing values with like(most frequent)\n",
    "(if we do that our model doesnt have good prediction) <br>\n",
    "So , we easily drop those missing values"
   ]
  },
  {
   "cell_type": "code",
   "execution_count": 283,
   "id": "68e26a90",
   "metadata": {
    "ExecuteTime": {
     "end_time": "2024-05-08T18:23:20.986046Z",
     "start_time": "2024-05-08T18:23:20.978025Z"
    },
    "execution": {
     "iopub.execute_input": "2024-03-26T10:32:33.623652Z",
     "iopub.status.busy": "2024-03-26T10:32:33.622711Z",
     "iopub.status.idle": "2024-03-26T10:32:33.627350Z",
     "shell.execute_reply": "2024-03-26T10:32:33.626409Z"
    },
    "papermill": {
     "duration": 0.029662,
     "end_time": "2024-03-26T10:32:33.629445",
     "exception": false,
     "start_time": "2024-03-26T10:32:33.599783",
     "status": "completed"
    },
    "tags": []
   },
   "outputs": [],
   "source": [
    "# TODO: Remove rows with missing values from the dataset.\n",
    "df.dropna(inplace=True)"
   ]
  },
  {
   "cell_type": "code",
   "execution_count": 284,
   "id": "01add77e",
   "metadata": {
    "ExecuteTime": {
     "end_time": "2024-05-08T18:23:23.187111Z",
     "start_time": "2024-05-08T18:23:23.179806Z"
    },
    "execution": {
     "iopub.execute_input": "2024-03-26T10:32:33.680636Z",
     "iopub.status.busy": "2024-03-26T10:32:33.680176Z",
     "iopub.status.idle": "2024-03-26T10:32:33.684280Z",
     "shell.execute_reply": "2024-03-26T10:32:33.683300Z"
    },
    "papermill": {
     "duration": 0.028892,
     "end_time": "2024-03-26T10:32:33.686342",
     "exception": false,
     "start_time": "2024-03-26T10:32:33.657450",
     "status": "completed"
    },
    "tags": []
   },
   "outputs": [
    {
     "data": {
      "text/plain": [
       "Area          0\n",
       "Room          0\n",
       "Parking       0\n",
       "Warehouse     0\n",
       "Elevator      0\n",
       "Address       0\n",
       "Price         0\n",
       "Price(USD)    0\n",
       "AreaSize      0\n",
       "PriceLevel    0\n",
       "dtype: int64"
      ]
     },
     "execution_count": 284,
     "metadata": {},
     "output_type": "execute_result"
    }
   ],
   "source": [
    "# TODO: Confirm that there are no missing values remaining in the dataset after removing them.\n",
    "df.isnull().sum()"
   ]
  },
  {
   "cell_type": "code",
   "execution_count": 285,
   "id": "c1af5778",
   "metadata": {
    "ExecuteTime": {
     "end_time": "2024-05-08T18:23:46.506729Z",
     "start_time": "2024-05-08T18:23:46.497507Z"
    },
    "execution": {
     "iopub.execute_input": "2024-03-26T10:32:33.730247Z",
     "iopub.status.busy": "2024-03-26T10:32:33.729376Z",
     "iopub.status.idle": "2024-03-26T10:32:33.733905Z",
     "shell.execute_reply": "2024-03-26T10:32:33.733035Z"
    },
    "papermill": {
     "duration": 0.028948,
     "end_time": "2024-03-26T10:32:33.736065",
     "exception": false,
     "start_time": "2024-03-26T10:32:33.707117",
     "status": "completed"
    },
    "tags": []
   },
   "outputs": [
    {
     "name": "stdout",
     "output_type": "stream",
     "text": [
      "The Number of Duplicated values : 208\n",
      "The Percentage of Duplicated values : 6%\n"
     ]
    }
   ],
   "source": [
    "# TODO: Identify and count duplicated values in the dataset. Calculate and print the percentage of duplicated values.\n",
    "duplicated_values = df[df.duplicated()]\n",
    "print(f'The Number of Duplicated values : {len(duplicated_values)}')\n",
    "print(f'The Percentage of Duplicated values : {round(len(duplicated_values) / len(df) * 100)}%')"
   ]
  },
  {
   "cell_type": "markdown",
   "id": "8020b2bf",
   "metadata": {
    "papermill": {
     "duration": 0.021486,
     "end_time": "2024-03-26T10:32:33.778793",
     "exception": false,
     "start_time": "2024-03-26T10:32:33.757307",
     "status": "completed"
    },
    "tags": []
   },
   "source": [
    "**Description**<br>\n",
    "\n",
    "We have 208 duplicated values .\n",
    "We can easily drop them"
   ]
  },
  {
   "cell_type": "code",
   "execution_count": 286,
   "id": "33f4c1a2",
   "metadata": {
    "ExecuteTime": {
     "end_time": "2024-05-08T18:24:32.833381Z",
     "start_time": "2024-05-08T18:24:32.823871Z"
    },
    "execution": {
     "iopub.execute_input": "2024-03-26T10:32:33.824951Z",
     "iopub.status.busy": "2024-03-26T10:32:33.823942Z",
     "iopub.status.idle": "2024-03-26T10:32:33.828875Z",
     "shell.execute_reply": "2024-03-26T10:32:33.827910Z"
    },
    "papermill": {
     "duration": 0.030462,
     "end_time": "2024-03-26T10:32:33.830901",
     "exception": false,
     "start_time": "2024-03-26T10:32:33.800439",
     "status": "completed"
    },
    "tags": []
   },
   "outputs": [],
   "source": [
    "# TODO: Remove duplicated rows from the dataset, reset the index, and drop the old index column.\n",
    "df.drop_duplicates(inplace=True)\n",
    "df.reset_index(inplace=True)\n",
    "df.drop('index', axis=1, inplace=True)"
   ]
  },
  {
   "cell_type": "code",
   "execution_count": 287,
   "id": "958f4c2f",
   "metadata": {
    "ExecuteTime": {
     "end_time": "2024-05-08T18:24:38.777231Z",
     "start_time": "2024-05-08T18:24:38.770971Z"
    },
    "execution": {
     "iopub.execute_input": "2024-03-26T10:32:33.877972Z",
     "iopub.status.busy": "2024-03-26T10:32:33.877516Z",
     "iopub.status.idle": "2024-03-26T10:32:33.882145Z",
     "shell.execute_reply": "2024-03-26T10:32:33.881163Z"
    },
    "papermill": {
     "duration": 0.031878,
     "end_time": "2024-03-26T10:32:33.884337",
     "exception": false,
     "start_time": "2024-03-26T10:32:33.852459",
     "status": "completed"
    },
    "tags": []
   },
   "outputs": [
    {
     "data": {
      "text/plain": [
       "(3248, 10)"
      ]
     },
     "execution_count": 287,
     "metadata": {},
     "output_type": "execute_result"
    }
   ],
   "source": [
    "# TODO: Print the new shape of the dataset after removing duplicated rows and resetting the index.\n",
    "df.shape"
   ]
  },
  {
   "cell_type": "code",
   "execution_count": 288,
   "id": "0af32d15",
   "metadata": {
    "ExecuteTime": {
     "end_time": "2024-05-08T18:24:51.455602Z",
     "start_time": "2024-05-08T18:24:51.446959Z"
    },
    "execution": {
     "iopub.execute_input": "2024-03-26T10:32:33.928381Z",
     "iopub.status.busy": "2024-03-26T10:32:33.927539Z",
     "iopub.status.idle": "2024-03-26T10:32:33.932221Z",
     "shell.execute_reply": "2024-03-26T10:32:33.931516Z"
    },
    "papermill": {
     "duration": 0.029109,
     "end_time": "2024-03-26T10:32:33.934488",
     "exception": false,
     "start_time": "2024-03-26T10:32:33.905379",
     "status": "completed"
    },
    "tags": []
   },
   "outputs": [
    {
     "data": {
      "text/plain": [
       "Area            int64\n",
       "Room            int64\n",
       "Parking          bool\n",
       "Warehouse        bool\n",
       "Elevator         bool\n",
       "Address        object\n",
       "Price         float64\n",
       "Price(USD)    float64\n",
       "AreaSize       object\n",
       "PriceLevel     object\n",
       "dtype: object"
      ]
     },
     "execution_count": 288,
     "metadata": {},
     "output_type": "execute_result"
    }
   ],
   "source": [
    "# TODO: Display the data types of columns in the dataset after any transformations or modifications.\n",
    "df.dtypes"
   ]
  },
  {
   "cell_type": "markdown",
   "id": "8416dda6",
   "metadata": {
    "papermill": {
     "duration": 0.020658,
     "end_time": "2024-03-26T10:32:33.975868",
     "exception": false,
     "start_time": "2024-03-26T10:32:33.955210",
     "status": "completed"
    },
    "tags": []
   },
   "source": [
    "**Description**<br>\n",
    "* About dtypes every thing is fine . <br>\n",
    "* We are going to check and discover each feature ."
   ]
  },
  {
   "cell_type": "code",
   "execution_count": 324,
   "id": "abc01159",
   "metadata": {
    "ExecuteTime": {
     "end_time": "2024-05-08T18:33:16.604764Z",
     "start_time": "2024-05-08T18:33:16.592227Z"
    },
    "execution": {
     "iopub.execute_input": "2024-03-26T10:32:34.020471Z",
     "iopub.status.busy": "2024-03-26T10:32:34.019597Z",
     "iopub.status.idle": "2024-03-26T10:32:34.024168Z",
     "shell.execute_reply": "2024-03-26T10:32:34.023513Z"
    },
    "papermill": {
     "duration": 0.029992,
     "end_time": "2024-03-26T10:32:34.026393",
     "exception": false,
     "start_time": "2024-03-26T10:32:33.996401",
     "status": "completed"
    },
    "tags": []
   },
   "outputs": [
    {
     "data": {
      "text/html": [
       "<div>\n",
       "<style scoped>\n",
       "    .dataframe tbody tr th:only-of-type {\n",
       "        vertical-align: middle;\n",
       "    }\n",
       "\n",
       "    .dataframe tbody tr th {\n",
       "        vertical-align: top;\n",
       "    }\n",
       "\n",
       "    .dataframe thead th {\n",
       "        text-align: right;\n",
       "    }\n",
       "</style>\n",
       "<table border=\"1\" class=\"dataframe\">\n",
       "  <thead>\n",
       "    <tr style=\"text-align: right;\">\n",
       "      <th></th>\n",
       "      <th>count</th>\n",
       "      <th>AreaSizeMean</th>\n",
       "    </tr>\n",
       "    <tr>\n",
       "      <th>AreaSize</th>\n",
       "      <th></th>\n",
       "      <th></th>\n",
       "    </tr>\n",
       "  </thead>\n",
       "  <tbody>\n",
       "    <tr>\n",
       "      <th>Small</th>\n",
       "      <td>1</td>\n",
       "      <td>5.000000e+08</td>\n",
       "    </tr>\n",
       "    <tr>\n",
       "      <th>High</th>\n",
       "      <td>823</td>\n",
       "      <td>1.356967e+10</td>\n",
       "    </tr>\n",
       "    <tr>\n",
       "      <th>AveUpperMean</th>\n",
       "      <td>780</td>\n",
       "      <td>4.218686e+09</td>\n",
       "    </tr>\n",
       "    <tr>\n",
       "      <th>AveUnderMean</th>\n",
       "      <td>1644</td>\n",
       "      <td>2.027991e+09</td>\n",
       "    </tr>\n",
       "  </tbody>\n",
       "</table>\n",
       "</div>"
      ],
      "text/plain": [
       "              count  AreaSizeMean\n",
       "AreaSize                         \n",
       "Small             1  5.000000e+08\n",
       "High            823  1.356967e+10\n",
       "AveUpperMean    780  4.218686e+09\n",
       "AveUnderMean   1644  2.027991e+09"
      ]
     },
     "execution_count": 324,
     "metadata": {},
     "output_type": "execute_result"
    }
   ],
   "source": [
    "# TODO: Calculate the count and mean price for each category of the 'AreaSize' feature and display the results, sorted by 'AreaSize' in descending order.\n",
    "AreaSize_feature = df[\"AreaSize\"].value_counts().to_frame()\n",
    "AreaSize_feature[\"AreaSizeMean\"] = df.groupby('AreaSize')[\"Price\"].mean()\n",
    "AreaSize_feature.sort_values('AreaSize', ascending=False)"
   ]
  },
  {
   "cell_type": "markdown",
   "id": "355adee9",
   "metadata": {
    "papermill": {
     "duration": 0.022327,
     "end_time": "2024-03-26T10:32:34.070558",
     "exception": false,
     "start_time": "2024-03-26T10:32:34.048231",
     "status": "completed"
    },
    "tags": []
   },
   "source": [
    "**Description**<br>\n",
    "\n",
    "* Obviously with increasing the meter of a house the price will raise and Mean will be raised too . <br>\n",
    "\n",
    "* Distribution of houses according to Meter is : AveUnderMean - High - AveUpperMean - Small \n",
    "\n",
    "* There is just a house with a small size.(it's an outlier)"
   ]
  },
  {
   "cell_type": "code",
   "execution_count": 326,
   "id": "686638f1",
   "metadata": {
    "ExecuteTime": {
     "end_time": "2024-05-08T18:33:25.835237Z",
     "start_time": "2024-05-08T18:33:25.821373Z"
    },
    "execution": {
     "iopub.execute_input": "2024-03-26T10:32:34.115432Z",
     "iopub.status.busy": "2024-03-26T10:32:34.114929Z",
     "iopub.status.idle": "2024-03-26T10:32:34.120265Z",
     "shell.execute_reply": "2024-03-26T10:32:34.119012Z"
    },
    "papermill": {
     "duration": 0.029838,
     "end_time": "2024-03-26T10:32:34.122520",
     "exception": false,
     "start_time": "2024-03-26T10:32:34.092682",
     "status": "completed"
    },
    "tags": []
   },
   "outputs": [
    {
     "data": {
      "text/html": [
       "<div>\n",
       "<style scoped>\n",
       "    .dataframe tbody tr th:only-of-type {\n",
       "        vertical-align: middle;\n",
       "    }\n",
       "\n",
       "    .dataframe tbody tr th {\n",
       "        vertical-align: top;\n",
       "    }\n",
       "\n",
       "    .dataframe thead th {\n",
       "        text-align: right;\n",
       "    }\n",
       "</style>\n",
       "<table border=\"1\" class=\"dataframe\">\n",
       "  <thead>\n",
       "    <tr style=\"text-align: right;\">\n",
       "      <th></th>\n",
       "      <th>proportion</th>\n",
       "      <th>MeanPrice</th>\n",
       "    </tr>\n",
       "    <tr>\n",
       "      <th>Room</th>\n",
       "      <th></th>\n",
       "      <th></th>\n",
       "    </tr>\n",
       "  </thead>\n",
       "  <tbody>\n",
       "    <tr>\n",
       "      <th>2</th>\n",
       "      <td>56.003695</td>\n",
       "      <td>3.363038e+09</td>\n",
       "    </tr>\n",
       "    <tr>\n",
       "      <th>3</th>\n",
       "      <td>21.366995</td>\n",
       "      <td>1.104311e+10</td>\n",
       "    </tr>\n",
       "    <tr>\n",
       "      <th>1</th>\n",
       "      <td>19.242611</td>\n",
       "      <td>1.717832e+09</td>\n",
       "    </tr>\n",
       "    <tr>\n",
       "      <th>4</th>\n",
       "      <td>2.093596</td>\n",
       "      <td>2.568122e+10</td>\n",
       "    </tr>\n",
       "    <tr>\n",
       "      <th>5</th>\n",
       "      <td>1.016010</td>\n",
       "      <td>3.373439e+10</td>\n",
       "    </tr>\n",
       "    <tr>\n",
       "      <th>0</th>\n",
       "      <td>0.277094</td>\n",
       "      <td>8.715556e+09</td>\n",
       "    </tr>\n",
       "  </tbody>\n",
       "</table>\n",
       "</div>"
      ],
      "text/plain": [
       "      proportion     MeanPrice\n",
       "Room                          \n",
       "2      56.003695  3.363038e+09\n",
       "3      21.366995  1.104311e+10\n",
       "1      19.242611  1.717832e+09\n",
       "4       2.093596  2.568122e+10\n",
       "5       1.016010  3.373439e+10\n",
       "0       0.277094  8.715556e+09"
      ]
     },
     "execution_count": 326,
     "metadata": {},
     "output_type": "execute_result"
    }
   ],
   "source": [
    "# TODO: Calculate the percentage distribution and mean price for each category of the 'Room' feature and display the results, sorted by room number.\n",
    "room_feature = (df[\"Room\"].value_counts(normalize=True) * 100).to_frame()\n",
    "room_feature[\"MeanPrice\"] = df.groupby('Room')[\"Price\"].mean()\n",
    "room_feature.sort_index()\n",
    "room_feature"
   ]
  },
  {
   "cell_type": "markdown",
   "id": "3f970bac",
   "metadata": {
    "papermill": {
     "duration": 0.02054,
     "end_time": "2024-03-26T10:32:34.165176",
     "exception": false,
     "start_time": "2024-03-26T10:32:34.144636",
     "status": "completed"
    },
    "tags": []
   },
   "source": [
    "    \n",
    "**Description**<br>\n",
    "\n",
    "We can see the distribution of houses with :   <br>\n",
    "In row 2 , 3 , 1 , 4 , 5   and 0 rooms have the highest distribution. <br>\n",
    "\n",
    "Mean price for each has been shown. <br>\n",
    "Obviously, with raising the number of rooms the cost will be increased.<br>\n",
    "(Duplicate the cost for each 1 room  (except 4rooms to 5rooms)"
   ]
  },
  {
   "cell_type": "code",
   "execution_count": 322,
   "id": "b2b041c9",
   "metadata": {
    "ExecuteTime": {
     "end_time": "2024-05-08T18:33:05.329003Z",
     "start_time": "2024-05-08T18:33:05.317646Z"
    },
    "execution": {
     "iopub.execute_input": "2024-03-26T10:32:34.209262Z",
     "iopub.status.busy": "2024-03-26T10:32:34.208800Z",
     "iopub.status.idle": "2024-03-26T10:32:34.213221Z",
     "shell.execute_reply": "2024-03-26T10:32:34.212280Z"
    },
    "papermill": {
     "duration": 0.029374,
     "end_time": "2024-03-26T10:32:34.215559",
     "exception": false,
     "start_time": "2024-03-26T10:32:34.186185",
     "status": "completed"
    },
    "tags": []
   },
   "outputs": [
    {
     "data": {
      "text/plain": [
       "Parking\n",
       "True                                                        2745\n",
       "False                                                        503\n",
       "ParkingMean    Parking\n",
       "False    1.745254e+09\n",
       "True     6.16213...\n",
       "Name: count, dtype: object"
      ]
     },
     "execution_count": 322,
     "metadata": {},
     "output_type": "execute_result"
    }
   ],
   "source": [
    "# TODO: Calculate the count and mean price for each category of the 'Parking' feature and display the results.\n",
    "Parking_feature = df[\"Parking\"].value_counts()\n",
    "Parking_feature[\"ParkingMean\"] = df.groupby(\"Parking\")[\"Price\"].mean()\n",
    "Parking_feature"
   ]
  },
  {
   "cell_type": "markdown",
   "id": "fb03657a",
   "metadata": {
    "papermill": {
     "duration": 0.021484,
     "end_time": "2024-03-26T10:32:34.258275",
     "exception": false,
     "start_time": "2024-03-26T10:32:34.236791",
     "status": "completed"
    },
    "tags": []
   },
   "source": [
    "**Description**<br>\n",
    "\n",
    "* As we can see , most houses have parking (about 5.5x versus those without parking)<br>\n",
    "\n",
    "* Those houses with parking have higher costs.(about fourfold)(transparently Parking is an important feature for price) "
   ]
  },
  {
   "cell_type": "code",
   "execution_count": 327,
   "id": "8179c07b",
   "metadata": {
    "ExecuteTime": {
     "end_time": "2024-05-08T18:33:32.096745Z",
     "start_time": "2024-05-08T18:33:32.087290Z"
    },
    "execution": {
     "iopub.execute_input": "2024-03-26T10:32:34.304751Z",
     "iopub.status.busy": "2024-03-26T10:32:34.304244Z",
     "iopub.status.idle": "2024-03-26T10:32:34.309047Z",
     "shell.execute_reply": "2024-03-26T10:32:34.308017Z"
    },
    "papermill": {
     "duration": 0.030441,
     "end_time": "2024-03-26T10:32:34.311231",
     "exception": false,
     "start_time": "2024-03-26T10:32:34.280790",
     "status": "completed"
    },
    "tags": []
   },
   "outputs": [
    {
     "data": {
      "text/plain": [
       "Warehouse\n",
       "True                                                          2969\n",
       "False                                                          279\n",
       "WarehouseMean    Warehouse\n",
       "False    2.545552e+09\n",
       "True     5.753...\n",
       "Name: count, dtype: object"
      ]
     },
     "execution_count": 327,
     "metadata": {},
     "output_type": "execute_result"
    }
   ],
   "source": [
    "# TODO: Calculate the count and mean price for each category of the 'Warehouse' feature and display the results.\n",
    "Warehouse_feature = df[\"Warehouse\"].value_counts()\n",
    "Warehouse_feature[\"WarehouseMean\"] = df.groupby(\"Warehouse\")[\"Price\"].mean()\n",
    "Warehouse_feature"
   ]
  },
  {
   "cell_type": "markdown",
   "id": "695afcc8",
   "metadata": {
    "papermill": {
     "duration": 0.021367,
     "end_time": "2024-03-26T10:32:34.354162",
     "exception": false,
     "start_time": "2024-03-26T10:32:34.332795",
     "status": "completed"
    },
    "tags": []
   },
   "source": [
    "    \n",
    "**Description**<br>\n",
    "\n",
    "* Most houses have Warehouse (about 10x versus those without Warehouse)\n",
    "\n",
    "* Houses with warehouse have higher costs . more than duoble"
   ]
  },
  {
   "cell_type": "code",
   "execution_count": 328,
   "id": "a442845d",
   "metadata": {
    "ExecuteTime": {
     "end_time": "2024-05-08T18:33:37.775284Z",
     "start_time": "2024-05-08T18:33:37.764853Z"
    },
    "execution": {
     "iopub.execute_input": "2024-03-26T10:32:34.400136Z",
     "iopub.status.busy": "2024-03-26T10:32:34.399396Z",
     "iopub.status.idle": "2024-03-26T10:32:34.403342Z",
     "shell.execute_reply": "2024-03-26T10:32:34.402607Z"
    },
    "papermill": {
     "duration": 0.029822,
     "end_time": "2024-03-26T10:32:34.405355",
     "exception": false,
     "start_time": "2024-03-26T10:32:34.375533",
     "status": "completed"
    },
    "tags": []
   },
   "outputs": [
    {
     "data": {
      "text/plain": [
       "Elevator\n",
       "True                                                         2551\n",
       "False                                                         697\n",
       "ElevatorMean    Elevator\n",
       "False    3.740239e+09\n",
       "True     5.9529...\n",
       "Name: count, dtype: object"
      ]
     },
     "execution_count": 328,
     "metadata": {},
     "output_type": "execute_result"
    }
   ],
   "source": [
    "# TODO: Calculate the count and mean price for each category of the 'Elevator' feature and display the results.\n",
    "Elevator_feature = df[\"Elevator\"].value_counts()\n",
    "Elevator_feature[\"ElevatorMean\"] = df.groupby(\"Elevator\")[\"Price\"].mean()\n",
    "Elevator_feature"
   ]
  },
  {
   "cell_type": "markdown",
   "id": "4ed10aad",
   "metadata": {
    "papermill": {
     "duration": 0.021843,
     "end_time": "2024-03-26T10:32:34.449483",
     "exception": false,
     "start_time": "2024-03-26T10:32:34.427640",
     "status": "completed"
    },
    "tags": []
   },
   "source": [
    "**Description**<br>\n",
    "\n",
    "* Most houses have Elevator (about 4x versus those without Elevator)\n",
    "\n",
    "* Houses with Elevator have higher costs .about 1.5X \n",
    "\n",
    "* Versus Parking and Warehouse  , Elevator has less influence on price\n"
   ]
  },
  {
   "cell_type": "code",
   "execution_count": 311,
   "id": "d4730d9d",
   "metadata": {
    "ExecuteTime": {
     "end_time": "2024-05-08T18:31:00.510401Z",
     "start_time": "2024-05-08T18:31:00.486026Z"
    },
    "execution": {
     "iopub.execute_input": "2024-03-26T10:32:34.496422Z",
     "iopub.status.busy": "2024-03-26T10:32:34.495597Z",
     "iopub.status.idle": "2024-03-26T10:32:34.499855Z",
     "shell.execute_reply": "2024-03-26T10:32:34.498861Z"
    },
    "papermill": {
     "duration": 0.030491,
     "end_time": "2024-03-26T10:32:34.502169",
     "exception": false,
     "start_time": "2024-03-26T10:32:34.471678",
     "status": "completed"
    },
    "tags": []
   },
   "outputs": [
    {
     "data": {
      "text/html": [
       "<div>\n",
       "<style scoped>\n",
       "    .dataframe tbody tr th:only-of-type {\n",
       "        vertical-align: middle;\n",
       "    }\n",
       "\n",
       "    .dataframe tbody tr th {\n",
       "        vertical-align: top;\n",
       "    }\n",
       "\n",
       "    .dataframe thead th {\n",
       "        text-align: right;\n",
       "    }\n",
       "</style>\n",
       "<table border=\"1\" class=\"dataframe\">\n",
       "  <thead>\n",
       "    <tr style=\"text-align: right;\">\n",
       "      <th>Room</th>\n",
       "      <th>0</th>\n",
       "      <th>1</th>\n",
       "      <th>2</th>\n",
       "      <th>3</th>\n",
       "      <th>4</th>\n",
       "      <th>5</th>\n",
       "    </tr>\n",
       "    <tr>\n",
       "      <th>Parking</th>\n",
       "      <th></th>\n",
       "      <th></th>\n",
       "      <th></th>\n",
       "      <th></th>\n",
       "      <th></th>\n",
       "      <th></th>\n",
       "    </tr>\n",
       "  </thead>\n",
       "  <tbody>\n",
       "    <tr>\n",
       "      <th>False</th>\n",
       "      <td>7</td>\n",
       "      <td>233</td>\n",
       "      <td>233</td>\n",
       "      <td>24</td>\n",
       "      <td>1</td>\n",
       "      <td>5</td>\n",
       "    </tr>\n",
       "    <tr>\n",
       "      <th>True</th>\n",
       "      <td>2</td>\n",
       "      <td>392</td>\n",
       "      <td>1586</td>\n",
       "      <td>670</td>\n",
       "      <td>67</td>\n",
       "      <td>28</td>\n",
       "    </tr>\n",
       "  </tbody>\n",
       "</table>\n",
       "</div>"
      ],
      "text/plain": [
       "Room     0    1     2    3   4   5\n",
       "Parking                           \n",
       "False    7  233   233   24   1   5\n",
       "True     2  392  1586  670  67  28"
      ]
     },
     "execution_count": 311,
     "metadata": {},
     "output_type": "execute_result"
    }
   ],
   "source": [
    "# TODO: Create a cross-tabulation between the 'Parking' and 'Room' features in the dataset.\n",
    "pd.crosstab(df[\"Parking\"], df[\"Room\"])"
   ]
  },
  {
   "cell_type": "markdown",
   "id": "6ba289cb",
   "metadata": {
    "papermill": {
     "duration": 0.021467,
     "end_time": "2024-03-26T10:32:34.545371",
     "exception": false,
     "start_time": "2024-03-26T10:32:34.523904",
     "status": "completed"
    },
    "tags": []
   },
   "source": [
    "**Description**<br>\n",
    "\n",
    "* Most houses with 1 room or more have Parking.\n",
    "* With raising the number of rooms , houses with Parking have increasingly raised.\n",
    "\n"
   ]
  },
  {
   "cell_type": "code",
   "execution_count": 315,
   "id": "e426e742",
   "metadata": {
    "ExecuteTime": {
     "end_time": "2024-05-08T18:31:55.088720Z",
     "start_time": "2024-05-08T18:31:55.078277Z"
    },
    "execution": {
     "iopub.execute_input": "2024-03-26T10:32:34.592755Z",
     "iopub.status.busy": "2024-03-26T10:32:34.591415Z",
     "iopub.status.idle": "2024-03-26T10:32:34.596768Z",
     "shell.execute_reply": "2024-03-26T10:32:34.596006Z"
    },
    "papermill": {
     "duration": 0.03104,
     "end_time": "2024-03-26T10:32:34.599094",
     "exception": false,
     "start_time": "2024-03-26T10:32:34.568054",
     "status": "completed"
    },
    "tags": []
   },
   "outputs": [
    {
     "data": {
      "text/plain": [
       "Warehouse  Parking\n",
       "False      False      2.488763e+09\n",
       "           True       2.657319e+09\n",
       "True       False      1.312709e+09\n",
       "           True       6.286411e+09\n",
       "Name: Price, dtype: float64"
      ]
     },
     "execution_count": 315,
     "metadata": {},
     "output_type": "execute_result"
    }
   ],
   "source": [
    "# TODO: Calculate the mean price for each combination of 'Parking' and 'Warehouse' features in the dataset and round the results.\n",
    "df.groupby([\"Warehouse\", \"Parking\"])[\"Price\"].mean()"
   ]
  },
  {
   "cell_type": "markdown",
   "id": "554e8a89",
   "metadata": {
    "papermill": {
     "duration": 0.021479,
     "end_time": "2024-03-26T10:32:34.641823",
     "exception": false,
     "start_time": "2024-03-26T10:32:34.620344",
     "status": "completed"
    },
    "tags": []
   },
   "source": [
    "**Description**\n",
    "\n",
    "* It can be seen that houses with Warehouse and without Parking have less cost versus those houses with Parking.\n",
    "* If both features exist in a house , the cost of the house will be high.\n"
   ]
  },
  {
   "cell_type": "code",
   "execution_count": 314,
   "id": "e959d72c",
   "metadata": {
    "ExecuteTime": {
     "end_time": "2024-05-08T18:31:51.417990Z",
     "start_time": "2024-05-08T18:31:51.407871Z"
    },
    "execution": {
     "iopub.execute_input": "2024-03-26T10:32:34.687789Z",
     "iopub.status.busy": "2024-03-26T10:32:34.687035Z",
     "iopub.status.idle": "2024-03-26T10:32:34.691702Z",
     "shell.execute_reply": "2024-03-26T10:32:34.690624Z"
    },
    "papermill": {
     "duration": 0.030467,
     "end_time": "2024-03-26T10:32:34.693890",
     "exception": false,
     "start_time": "2024-03-26T10:32:34.663423",
     "status": "completed"
    },
    "tags": []
   },
   "outputs": [
    {
     "data": {
      "text/plain": [
       "Warehouse  Room\n",
       "False      0       1.912075e+10\n",
       "           1       1.376320e+09\n",
       "           2       1.811028e+09\n",
       "           3       7.692475e+09\n",
       "           4       3.673333e+09\n",
       "           5       9.927857e+09\n",
       "True       0       3.914000e+08\n",
       "           1       1.784436e+09\n",
       "           2       3.495459e+09\n",
       "           3       1.114253e+10\n",
       "           4       2.669697e+10\n",
       "           5       4.014385e+10\n",
       "Name: Price, dtype: float64"
      ]
     },
     "execution_count": 314,
     "metadata": {},
     "output_type": "execute_result"
    }
   ],
   "source": [
    "# TODO: Calculate the mean price for each combination of 'Room' and 'Warehouse' features in the dataset and round the results.\n",
    "df.groupby([\"Warehouse\", \"Room\"])[\"Price\"].mean()"
   ]
  },
  {
   "cell_type": "markdown",
   "id": "a46e8eaa",
   "metadata": {
    "papermill": {
     "duration": 0.02239,
     "end_time": "2024-03-26T10:32:34.737843",
     "exception": false,
     "start_time": "2024-03-26T10:32:34.715453",
     "status": "completed"
    },
    "tags": []
   },
   "source": [
    "**Description**<br>\n",
    "* Except houses without room , with increasing the number of Rooms and Warehouse existance the cost will be increasingly raised.\n"
   ]
  },
  {
   "cell_type": "code",
   "execution_count": 316,
   "id": "4d086cbf",
   "metadata": {
    "ExecuteTime": {
     "end_time": "2024-05-08T18:32:06.137357Z",
     "start_time": "2024-05-08T18:32:06.129735Z"
    },
    "execution": {
     "iopub.execute_input": "2024-03-26T10:32:34.784141Z",
     "iopub.status.busy": "2024-03-26T10:32:34.783687Z",
     "iopub.status.idle": "2024-03-26T10:32:34.788188Z",
     "shell.execute_reply": "2024-03-26T10:32:34.787174Z"
    },
    "papermill": {
     "duration": 0.03012,
     "end_time": "2024-03-26T10:32:34.790210",
     "exception": false,
     "start_time": "2024-03-26T10:32:34.760090",
     "status": "completed"
    },
    "tags": []
   },
   "outputs": [
    {
     "data": {
      "text/plain": [
       "array(['Shahran', 'Pardis', 'Shahrake Qods', 'Shahrake Gharb',\n",
       "       'North Program Organization', 'Andisheh', 'West Ferdows Boulevard',\n",
       "       'Narmak', 'Saadat Abad', 'Zafar', 'Islamshahr', 'Pirouzi',\n",
       "       'Shahrake Shahid Bagheri', 'Moniriyeh', 'Velenjak', 'Amirieh',\n",
       "       'Southern Janatabad', 'Salsabil', 'Zargandeh', 'Feiz Garden',\n",
       "       'Water Organization', 'ShahrAra', 'Gisha', 'Ray', 'Abbasabad',\n",
       "       'Ostad Moein', 'Farmanieh', 'Parand', 'Punak', 'Qasr-od-Dasht',\n",
       "       'Aqdasieh', 'Pakdasht', 'Railway', 'Central Janatabad',\n",
       "       'East Ferdows Boulevard', 'Pakdasht KhatunAbad', 'Sattarkhan',\n",
       "       'Baghestan', 'Shahryar', 'Northern Janatabad', 'Daryan No',\n",
       "       'Southern Program Organization', 'Rudhen', 'West Pars', 'Afsarieh',\n",
       "       'Marzdaran', 'Dorous', 'Sadeghieh', 'Chahardangeh', 'Baqershahr',\n",
       "       'Jeyhoon', 'Lavizan', 'Shams Abad', 'Fatemi',\n",
       "       'Keshavarz Boulevard', 'Kahrizak', 'Qarchak',\n",
       "       'Northren Jamalzadeh', 'Azarbaijan', 'Bahar',\n",
       "       'Persian Gulf Martyrs Lake', 'Beryanak', 'Heshmatieh',\n",
       "       'Elm-o-Sanat', 'Golestan', 'Shahr-e-Ziba', 'Pasdaran',\n",
       "       'Chardivari', 'Gheitarieh', 'Kamranieh', 'Gholhak', 'Heravi',\n",
       "       'Hashemi', 'Dehkade Olampic', 'Damavand', 'Republic', 'Zaferanieh',\n",
       "       'Qazvin Imamzadeh Hassan', 'Niavaran', 'Valiasr', 'Qalandari',\n",
       "       'Amir Bahador', 'Ekhtiarieh', 'Ekbatan', 'Absard', 'Haft Tir',\n",
       "       'Mahallati', 'Ozgol', 'Tajrish', 'Abazar', 'Koohsar', 'Hekmat',\n",
       "       'Parastar', 'Lavasan', 'Majidieh', 'Southern Chitgar', 'Karimkhan',\n",
       "       'Si Metri Ji', 'Karoon', 'Northern Chitgar', 'East Pars', 'Kook',\n",
       "       'Air force', 'Sohanak', 'Komeil', 'Azadshahr', 'Zibadasht',\n",
       "       'Amirabad', 'Dezashib', 'Elahieh', 'Mirdamad', 'Razi', 'Jordan',\n",
       "       'Mahmoudieh', 'Shahedshahr', 'Yaftabad', 'Mehran', 'Nasim Shahr',\n",
       "       'Tenant', 'Chardangeh', 'Fallah', 'Eskandari', 'Shahrakeh Naft',\n",
       "       'Ajudaniye', 'Tehransar', 'Nawab', 'Yousef Abad',\n",
       "       'Northern Suhrawardi', 'Villa', 'Hakimiyeh', 'Nezamabad',\n",
       "       'Garden of Saba', 'Tarasht', 'Azari', 'Shahrake Apadana', 'Araj',\n",
       "       'Vahidieh', 'Malard', 'Shahrake Azadi', 'Darband', 'Vanak',\n",
       "       'Tehran Now', 'Darabad', 'Eram', 'Atabak', 'Sabalan', 'SabaShahr',\n",
       "       'Shahrake Madaen', 'Waterfall', 'Ahang', 'Salehabad', 'Pishva',\n",
       "       'Enghelab', 'Islamshahr Elahieh', 'Ray - Montazeri',\n",
       "       'Firoozkooh Kuhsar', 'Ghoba', 'Mehrabad', 'Southern Suhrawardi',\n",
       "       'Abuzar', 'Dolatabad', 'Hor Square', 'Taslihat', 'Kazemabad',\n",
       "       'Robat Karim', 'Ray - Pilgosh', 'Ghiyamdasht', 'Telecommunication',\n",
       "       'Mirza Shirazi', 'Gandhi', 'Argentina', 'Seyed Khandan',\n",
       "       'Shahrake Quds', 'Safadasht', 'Khademabad Garden', 'Hassan Abad',\n",
       "       'Chidz', 'Khavaran', 'Boloorsazi', 'Mehrabad River River',\n",
       "       'Varamin - Beheshti', 'Shoosh', 'Thirteen November', 'Darakeh',\n",
       "       'Aliabad South', 'Alborz Complex', 'Firoozkooh', 'Vahidiyeh',\n",
       "       'Shadabad', 'Naziabad', 'Javadiyeh', 'Yakhchiabad'], dtype=object)"
      ]
     },
     "execution_count": 316,
     "metadata": {},
     "output_type": "execute_result"
    }
   ],
   "source": [
    "# TODO: Display the unique values of the 'Address' column in the dataset.\n",
    "df[\"Address\"].unique()"
   ]
  },
  {
   "cell_type": "code",
   "execution_count": 319,
   "id": "c5355c73",
   "metadata": {
    "ExecuteTime": {
     "end_time": "2024-05-08T18:32:36.413946Z",
     "start_time": "2024-05-08T18:32:36.406983Z"
    },
    "execution": {
     "iopub.execute_input": "2024-03-26T10:32:34.836375Z",
     "iopub.status.busy": "2024-03-26T10:32:34.835870Z",
     "iopub.status.idle": "2024-03-26T10:32:34.840723Z",
     "shell.execute_reply": "2024-03-26T10:32:34.839698Z"
    },
    "papermill": {
     "duration": 0.030344,
     "end_time": "2024-03-26T10:32:34.842836",
     "exception": false,
     "start_time": "2024-03-26T10:32:34.812492",
     "status": "completed"
    },
    "tags": []
   },
   "outputs": [
    {
     "data": {
      "text/plain": [
       "192"
      ]
     },
     "execution_count": 319,
     "metadata": {},
     "output_type": "execute_result"
    }
   ],
   "source": [
    "# TODO: Calculate and print the number of unique values in the 'Address' column of the dataset.\n",
    "df[\"Address\"].nunique()"
   ]
  },
  {
   "cell_type": "markdown",
   "id": "a4586abd",
   "metadata": {
    "papermill": {
     "duration": 0.021637,
     "end_time": "2024-03-26T10:32:34.886607",
     "exception": false,
     "start_time": "2024-03-26T10:32:34.864970",
     "status": "completed"
    },
    "tags": []
   },
   "source": [
    "**Description**<br>\n",
    "\n",
    "Because we dont know that all names of addresses  have correct writing or human mistake has happened or not, we are going to \n",
    "remove any probable  problem in case of existance."
   ]
  },
  {
   "cell_type": "code",
   "execution_count": 246,
   "id": "f7045d94",
   "metadata": {
    "ExecuteTime": {
     "end_time": "2024-05-08T18:16:17.267264Z",
     "start_time": "2024-05-08T18:16:17.262811Z"
    },
    "execution": {
     "iopub.execute_input": "2024-03-26T10:32:34.931111Z",
     "iopub.status.busy": "2024-03-26T10:32:34.930673Z",
     "iopub.status.idle": "2024-03-26T10:32:34.935286Z",
     "shell.execute_reply": "2024-03-26T10:32:34.934287Z"
    },
    "papermill": {
     "duration": 0.029244,
     "end_time": "2024-03-26T10:32:34.937367",
     "exception": false,
     "start_time": "2024-03-26T10:32:34.908123",
     "status": "completed"
    },
    "tags": []
   },
   "outputs": [],
   "source": [
    "# TODO: Remove non-alphabetic characters from the 'Address' column in the dataset and display the first five rows.\n",
    "df[\"Address\"] = df[\"Address\"].apply(lambda x: re.sub('[^a-zA-Z]', '', x))\n",
    "df[\"Address\"].head()"
   ]
  },
  {
   "cell_type": "code",
   "execution_count": 330,
   "id": "d3654c42",
   "metadata": {
    "ExecuteTime": {
     "end_time": "2024-05-08T18:34:16.309485Z",
     "start_time": "2024-05-08T18:34:16.303543Z"
    },
    "execution": {
     "iopub.execute_input": "2024-03-26T10:32:34.982191Z",
     "iopub.status.busy": "2024-03-26T10:32:34.981756Z",
     "iopub.status.idle": "2024-03-26T10:32:34.986115Z",
     "shell.execute_reply": "2024-03-26T10:32:34.985122Z"
    },
    "papermill": {
     "duration": 0.029555,
     "end_time": "2024-03-26T10:32:34.988333",
     "exception": false,
     "start_time": "2024-03-26T10:32:34.958778",
     "status": "completed"
    },
    "tags": []
   },
   "outputs": [
    {
     "data": {
      "text/plain": [
       "192"
      ]
     },
     "execution_count": 330,
     "metadata": {},
     "output_type": "execute_result"
    }
   ],
   "source": [
    "# TODO: Calculate and print the number of unique values in the 'Address' column of the dataset after removing non-alphabetic characters.\n",
    "df[\"Address\"].nunique()"
   ]
  },
  {
   "cell_type": "code",
   "execution_count": 334,
   "id": "19412d83",
   "metadata": {
    "ExecuteTime": {
     "end_time": "2024-05-08T18:35:07.237774Z",
     "start_time": "2024-05-08T18:35:07.229533Z"
    },
    "execution": {
     "iopub.execute_input": "2024-03-26T10:32:35.035037Z",
     "iopub.status.busy": "2024-03-26T10:32:35.034570Z",
     "iopub.status.idle": "2024-03-26T10:32:35.038545Z",
     "shell.execute_reply": "2024-03-26T10:32:35.037733Z"
    },
    "papermill": {
     "duration": 0.02973,
     "end_time": "2024-03-26T10:32:35.040560",
     "exception": false,
     "start_time": "2024-03-26T10:32:35.010830",
     "status": "completed"
    },
    "tags": []
   },
   "outputs": [
    {
     "data": {
      "text/plain": [
       "Address\n",
       "Punak                     148\n",
       "West Ferdows Boulevard    133\n",
       "Gheitarieh                133\n",
       "Shahran                   123\n",
       "Pardis                    123\n",
       "Saadat Abad               120\n",
       "Parand                    119\n",
       "Shahr-e-Ziba               91\n",
       "Jeyhoon                    88\n",
       "Southern Janatabad         86\n",
       "Name: count, dtype: int64"
      ]
     },
     "execution_count": 334,
     "metadata": {},
     "output_type": "execute_result"
    }
   ],
   "source": [
    "# TODO: Find and store the top 10 most frequently occurring values in the 'Address' column.\n",
    "Address_most = df[\"Address\"].value_counts().head(10)\n",
    "Address_most"
   ]
  },
  {
   "cell_type": "code",
   "execution_count": 341,
   "id": "bc9c9608",
   "metadata": {
    "ExecuteTime": {
     "end_time": "2024-05-08T18:38:00.836331Z",
     "start_time": "2024-05-08T18:38:00.623576Z"
    },
    "execution": {
     "iopub.execute_input": "2024-03-26T10:32:35.087934Z",
     "iopub.status.busy": "2024-03-26T10:32:35.087053Z",
     "iopub.status.idle": "2024-03-26T10:32:35.091592Z",
     "shell.execute_reply": "2024-03-26T10:32:35.090726Z"
    },
    "papermill": {
     "duration": 0.030301,
     "end_time": "2024-03-26T10:32:35.093521",
     "exception": false,
     "start_time": "2024-03-26T10:32:35.063220",
     "status": "completed"
    },
    "tags": []
   },
   "outputs": [
    {
     "data": {
      "text/plain": [
       "Text(0, 0.5, 'Address')"
      ]
     },
     "execution_count": 341,
     "metadata": {},
     "output_type": "execute_result"
    },
    {
     "data": {
      "image/png": "[encoded data removed]",
      "text/plain": [
       "<Figure size 1600x400 with 1 Axes>"
      ]
     },
     "metadata": {},
     "output_type": "display_data"
    }
   ],
   "source": [
    "# TODO: Visualize the top 10 most frequently occurring values in the 'Address' column using a bar plot.\n",
    "plt.figure(figsize=(16, 4))\n",
    "sns.barplot(x=Address_most.values, y=Address_most.index)\n",
    "plt.xlabel('Count')\n",
    "plt.ylabel(\"Address\")"
   ]
  },
  {
   "cell_type": "code",
   "execution_count": 348,
   "id": "33efe259",
   "metadata": {
    "ExecuteTime": {
     "end_time": "2024-05-08T18:40:20.477103Z",
     "start_time": "2024-05-08T18:40:20.464765Z"
    },
    "execution": {
     "iopub.execute_input": "2024-03-26T10:32:35.140126Z",
     "iopub.status.busy": "2024-03-26T10:32:35.139673Z",
     "iopub.status.idle": "2024-03-26T10:32:35.144453Z",
     "shell.execute_reply": "2024-03-26T10:32:35.143420Z"
    },
    "papermill": {
     "duration": 0.030939,
     "end_time": "2024-03-26T10:32:35.146734",
     "exception": false,
     "start_time": "2024-03-26T10:32:35.115795",
     "status": "completed"
    },
    "tags": []
   },
   "outputs": [
    {
     "data": {
      "text/html": [
       "<div>\n",
       "<style scoped>\n",
       "    .dataframe tbody tr th:only-of-type {\n",
       "        vertical-align: middle;\n",
       "    }\n",
       "\n",
       "    .dataframe tbody tr th {\n",
       "        vertical-align: top;\n",
       "    }\n",
       "\n",
       "    .dataframe thead th {\n",
       "        text-align: right;\n",
       "    }\n",
       "</style>\n",
       "<table border=\"1\" class=\"dataframe\">\n",
       "  <thead>\n",
       "    <tr style=\"text-align: right;\">\n",
       "      <th></th>\n",
       "      <th>Price</th>\n",
       "    </tr>\n",
       "    <tr>\n",
       "      <th>Address</th>\n",
       "      <th></th>\n",
       "    </tr>\n",
       "  </thead>\n",
       "  <tbody>\n",
       "    <tr>\n",
       "      <th>Gandhi</th>\n",
       "      <td>7.000000e+10</td>\n",
       "    </tr>\n",
       "    <tr>\n",
       "      <th>Lavasan</th>\n",
       "      <td>4.800000e+10</td>\n",
       "    </tr>\n",
       "    <tr>\n",
       "      <th>Mahmoudieh</th>\n",
       "      <td>3.346667e+10</td>\n",
       "    </tr>\n",
       "    <tr>\n",
       "      <th>Vanak</th>\n",
       "      <td>3.270000e+10</td>\n",
       "    </tr>\n",
       "    <tr>\n",
       "      <th>Elahieh</th>\n",
       "      <td>2.678635e+10</td>\n",
       "    </tr>\n",
       "    <tr>\n",
       "      <th>Argentina</th>\n",
       "      <td>2.516500e+10</td>\n",
       "    </tr>\n",
       "    <tr>\n",
       "      <th>Zaferanieh</th>\n",
       "      <td>2.357515e+10</td>\n",
       "    </tr>\n",
       "    <tr>\n",
       "      <th>Velenjak</th>\n",
       "      <td>2.138136e+10</td>\n",
       "    </tr>\n",
       "    <tr>\n",
       "      <th>Farmanieh</th>\n",
       "      <td>2.066580e+10</td>\n",
       "    </tr>\n",
       "    <tr>\n",
       "      <th>Niavaran</th>\n",
       "      <td>1.986027e+10</td>\n",
       "    </tr>\n",
       "  </tbody>\n",
       "</table>\n",
       "</div>"
      ],
      "text/plain": [
       "                   Price\n",
       "Address                 \n",
       "Gandhi      7.000000e+10\n",
       "Lavasan     4.800000e+10\n",
       "Mahmoudieh  3.346667e+10\n",
       "Vanak       3.270000e+10\n",
       "Elahieh     2.678635e+10\n",
       "Argentina   2.516500e+10\n",
       "Zaferanieh  2.357515e+10\n",
       "Velenjak    2.138136e+10\n",
       "Farmanieh   2.066580e+10\n",
       "Niavaran    1.986027e+10"
      ]
     },
     "execution_count": 348,
     "metadata": {},
     "output_type": "execute_result"
    }
   ],
   "source": [
    "# TODO: Calculate the mean price for each unique address in the dataset and store the results. Identify and store the top 10 addresses with the highest mean price.\n",
    "Address_feature = df.groupby('Address')[\"Price\"].mean().to_frame()\n",
    "Address_Top_Ten_Expensive = Address_feature.sort_values(\"Price\", ascending=False).head(10)\n",
    "Address_Top_Ten_Expensive"
   ]
  },
  {
   "cell_type": "code",
   "execution_count": 349,
   "id": "b08004ff",
   "metadata": {
    "ExecuteTime": {
     "end_time": "2024-05-08T18:40:32.759308Z",
     "start_time": "2024-05-08T18:40:32.750610Z"
    },
    "execution": {
     "iopub.execute_input": "2024-03-26T10:32:35.191171Z",
     "iopub.status.busy": "2024-03-26T10:32:35.190769Z",
     "iopub.status.idle": "2024-03-26T10:32:35.195260Z",
     "shell.execute_reply": "2024-03-26T10:32:35.194225Z"
    },
    "papermill": {
     "duration": 0.029327,
     "end_time": "2024-03-26T10:32:35.197478",
     "exception": false,
     "start_time": "2024-03-26T10:32:35.168151",
     "status": "completed"
    },
    "tags": []
   },
   "outputs": [
    {
     "data": {
      "text/plain": [
       "count    3.248000e+03\n",
       "mean     5.478118e+09\n",
       "std      8.267916e+09\n",
       "min      3.600000e+06\n",
       "25%      1.420000e+09\n",
       "50%      2.977500e+09\n",
       "75%      6.200000e+09\n",
       "max      9.240000e+10\n",
       "Name: Price, dtype: float64"
      ]
     },
     "execution_count": 349,
     "metadata": {},
     "output_type": "execute_result"
    }
   ],
   "source": [
    "# TODO: Calculate and round descriptive statistics for the 'Price' column in the dataset.\n",
    "df[\"Price\"].describe()"
   ]
  },
  {
   "cell_type": "code",
   "execution_count": 354,
   "id": "6eef1a26",
   "metadata": {
    "ExecuteTime": {
     "end_time": "2024-05-08T18:42:11.388770Z",
     "start_time": "2024-05-08T18:42:11.355480Z"
    },
    "execution": {
     "iopub.execute_input": "2024-03-26T10:32:35.241684Z",
     "iopub.status.busy": "2024-03-26T10:32:35.241260Z",
     "iopub.status.idle": "2024-03-26T10:32:35.246390Z",
     "shell.execute_reply": "2024-03-26T10:32:35.245286Z"
    },
    "papermill": {
     "duration": 0.030016,
     "end_time": "2024-03-26T10:32:35.248550",
     "exception": false,
     "start_time": "2024-03-26T10:32:35.218534",
     "status": "completed"
    },
    "tags": []
   },
   "outputs": [
    {
     "data": {
      "text/html": [
       "<div>\n",
       "<style scoped>\n",
       "    .dataframe tbody tr th:only-of-type {\n",
       "        vertical-align: middle;\n",
       "    }\n",
       "\n",
       "    .dataframe tbody tr th {\n",
       "        vertical-align: top;\n",
       "    }\n",
       "\n",
       "    .dataframe thead th {\n",
       "        text-align: right;\n",
       "    }\n",
       "</style>\n",
       "<table border=\"1\" class=\"dataframe\">\n",
       "  <thead>\n",
       "    <tr style=\"text-align: right;\">\n",
       "      <th></th>\n",
       "      <th>Area</th>\n",
       "      <th>Room</th>\n",
       "      <th>Parking</th>\n",
       "      <th>Warehouse</th>\n",
       "      <th>Elevator</th>\n",
       "      <th>Address</th>\n",
       "      <th>Price</th>\n",
       "      <th>Price(USD)</th>\n",
       "      <th>AreaSize</th>\n",
       "      <th>PriceLevel</th>\n",
       "    </tr>\n",
       "  </thead>\n",
       "  <tbody>\n",
       "    <tr>\n",
       "      <th>0</th>\n",
       "      <td>63</td>\n",
       "      <td>1</td>\n",
       "      <td>True</td>\n",
       "      <td>True</td>\n",
       "      <td>True</td>\n",
       "      <td>Shahran</td>\n",
       "      <td>1,850,000,000</td>\n",
       "      <td>61,667</td>\n",
       "      <td>AveUnderMean</td>\n",
       "      <td>AveUnderMean</td>\n",
       "    </tr>\n",
       "    <tr>\n",
       "      <th>1</th>\n",
       "      <td>60</td>\n",
       "      <td>1</td>\n",
       "      <td>True</td>\n",
       "      <td>True</td>\n",
       "      <td>True</td>\n",
       "      <td>Shahran</td>\n",
       "      <td>1,850,000,000</td>\n",
       "      <td>61,667</td>\n",
       "      <td>AveUnderMean</td>\n",
       "      <td>AveUnderMean</td>\n",
       "    </tr>\n",
       "    <tr>\n",
       "      <th>2</th>\n",
       "      <td>79</td>\n",
       "      <td>2</td>\n",
       "      <td>True</td>\n",
       "      <td>True</td>\n",
       "      <td>True</td>\n",
       "      <td>Pardis</td>\n",
       "      <td>550,000,000</td>\n",
       "      <td>18,333</td>\n",
       "      <td>AveUnderMean</td>\n",
       "      <td>Cheap</td>\n",
       "    </tr>\n",
       "    <tr>\n",
       "      <th>3</th>\n",
       "      <td>95</td>\n",
       "      <td>2</td>\n",
       "      <td>True</td>\n",
       "      <td>True</td>\n",
       "      <td>True</td>\n",
       "      <td>Shahrake Qods</td>\n",
       "      <td>902,500,000</td>\n",
       "      <td>30,083</td>\n",
       "      <td>AveUpperMean</td>\n",
       "      <td>Cheap</td>\n",
       "    </tr>\n",
       "    <tr>\n",
       "      <th>4</th>\n",
       "      <td>123</td>\n",
       "      <td>2</td>\n",
       "      <td>True</td>\n",
       "      <td>True</td>\n",
       "      <td>True</td>\n",
       "      <td>Shahrake Gharb</td>\n",
       "      <td>7,000,000,000</td>\n",
       "      <td>233,333</td>\n",
       "      <td>High</td>\n",
       "      <td>Expensive</td>\n",
       "    </tr>\n",
       "    <tr>\n",
       "      <th>...</th>\n",
       "      <td>...</td>\n",
       "      <td>...</td>\n",
       "      <td>...</td>\n",
       "      <td>...</td>\n",
       "      <td>...</td>\n",
       "      <td>...</td>\n",
       "      <td>...</td>\n",
       "      <td>...</td>\n",
       "      <td>...</td>\n",
       "      <td>...</td>\n",
       "    </tr>\n",
       "    <tr>\n",
       "      <th>3243</th>\n",
       "      <td>63</td>\n",
       "      <td>1</td>\n",
       "      <td>True</td>\n",
       "      <td>True</td>\n",
       "      <td>False</td>\n",
       "      <td>Feiz Garden</td>\n",
       "      <td>1,890,000,000</td>\n",
       "      <td>63,000</td>\n",
       "      <td>AveUnderMean</td>\n",
       "      <td>AveUnderMean</td>\n",
       "    </tr>\n",
       "    <tr>\n",
       "      <th>3244</th>\n",
       "      <td>86</td>\n",
       "      <td>2</td>\n",
       "      <td>True</td>\n",
       "      <td>True</td>\n",
       "      <td>True</td>\n",
       "      <td>Southern Janatabad</td>\n",
       "      <td>3,500,000,000</td>\n",
       "      <td>116,667</td>\n",
       "      <td>AveUnderMean</td>\n",
       "      <td>AveUpperMean</td>\n",
       "    </tr>\n",
       "    <tr>\n",
       "      <th>3245</th>\n",
       "      <td>83</td>\n",
       "      <td>2</td>\n",
       "      <td>True</td>\n",
       "      <td>True</td>\n",
       "      <td>True</td>\n",
       "      <td>Niavaran</td>\n",
       "      <td>6,800,000,000</td>\n",
       "      <td>226,667</td>\n",
       "      <td>AveUnderMean</td>\n",
       "      <td>Expensive</td>\n",
       "    </tr>\n",
       "    <tr>\n",
       "      <th>3246</th>\n",
       "      <td>105</td>\n",
       "      <td>2</td>\n",
       "      <td>True</td>\n",
       "      <td>True</td>\n",
       "      <td>True</td>\n",
       "      <td>Dorous</td>\n",
       "      <td>5,600,000,000</td>\n",
       "      <td>186,667</td>\n",
       "      <td>AveUpperMean</td>\n",
       "      <td>AveUpperMean</td>\n",
       "    </tr>\n",
       "    <tr>\n",
       "      <th>3247</th>\n",
       "      <td>82</td>\n",
       "      <td>2</td>\n",
       "      <td>False</td>\n",
       "      <td>True</td>\n",
       "      <td>True</td>\n",
       "      <td>Parand</td>\n",
       "      <td>360,000,000</td>\n",
       "      <td>12,000</td>\n",
       "      <td>AveUnderMean</td>\n",
       "      <td>Cheap</td>\n",
       "    </tr>\n",
       "  </tbody>\n",
       "</table>\n",
       "<p>3248 rows × 10 columns</p>\n",
       "</div>"
      ],
      "text/plain": [
       "      Area  Room  Parking  Warehouse  Elevator             Address  \\\n",
       "0       63     1     True       True      True             Shahran   \n",
       "1       60     1     True       True      True             Shahran   \n",
       "2       79     2     True       True      True              Pardis   \n",
       "3       95     2     True       True      True       Shahrake Qods   \n",
       "4      123     2     True       True      True      Shahrake Gharb   \n",
       "...    ...   ...      ...        ...       ...                 ...   \n",
       "3243    63     1     True       True     False         Feiz Garden   \n",
       "3244    86     2     True       True      True  Southern Janatabad   \n",
       "3245    83     2     True       True      True            Niavaran   \n",
       "3246   105     2     True       True      True              Dorous   \n",
       "3247    82     2    False       True      True              Parand   \n",
       "\n",
       "              Price Price(USD)      AreaSize    PriceLevel  \n",
       "0     1,850,000,000     61,667  AveUnderMean  AveUnderMean  \n",
       "1     1,850,000,000     61,667  AveUnderMean  AveUnderMean  \n",
       "2       550,000,000     18,333  AveUnderMean         Cheap  \n",
       "3       902,500,000     30,083  AveUpperMean         Cheap  \n",
       "4     7,000,000,000    233,333          High     Expensive  \n",
       "...             ...        ...           ...           ...  \n",
       "3243  1,890,000,000     63,000  AveUnderMean  AveUnderMean  \n",
       "3244  3,500,000,000    116,667  AveUnderMean  AveUpperMean  \n",
       "3245  6,800,000,000    226,667  AveUnderMean     Expensive  \n",
       "3246  5,600,000,000    186,667  AveUpperMean  AveUpperMean  \n",
       "3247    360,000,000     12,000  AveUnderMean         Cheap  \n",
       "\n",
       "[3248 rows x 10 columns]"
      ]
     },
     "execution_count": 354,
     "metadata": {},
     "output_type": "execute_result"
    }
   ],
   "source": [
    "# TODO: Create a copy of the dataset and format the 'Price' and 'Price(USD)' columns to display values with comma separators and no decimal places.\n",
    "dataset_regular = df.copy()\n",
    "dataset_regular[\"Price\"] = dataset_regular[\"Price\"].map('{:,.0f}'.format)\n",
    "dataset_regular[\"Price(USD)\"] = dataset_regular[\"Price(USD)\"].map('{:,.0f}'.format)\n",
    "dataset_regular"
   ]
  },
  {
   "cell_type": "markdown",
   "id": "f2064eea",
   "metadata": {
    "papermill": {
     "duration": 0.022409,
     "end_time": "2024-03-26T10:32:35.293451",
     "exception": false,
     "start_time": "2024-03-26T10:32:35.271042",
     "status": "completed"
    },
    "tags": []
   },
   "source": [
    "**Description**<br>\n",
    "* we create new variable to avoid changing the type of Price from numeric to object .\n",
    "* Price and Price(USD) are easily readable now . "
   ]
  },
  {
   "cell_type": "code",
   "execution_count": 363,
   "id": "5eaee62c",
   "metadata": {
    "ExecuteTime": {
     "end_time": "2024-05-08T18:49:35.018551Z",
     "start_time": "2024-05-08T18:49:34.745022Z"
    },
    "execution": {
     "iopub.execute_input": "2024-03-26T10:32:35.341473Z",
     "iopub.status.busy": "2024-03-26T10:32:35.341016Z",
     "iopub.status.idle": "2024-03-26T10:32:35.345877Z",
     "shell.execute_reply": "2024-03-26T10:32:35.344916Z"
    },
    "papermill": {
     "duration": 0.031106,
     "end_time": "2024-03-26T10:32:35.348013",
     "exception": false,
     "start_time": "2024-03-26T10:32:35.316907",
     "status": "completed"
    },
    "tags": []
   },
   "outputs": [
    {
     "data": {
      "text/plain": [
       "<Axes: >"
      ]
     },
     "execution_count": 363,
     "metadata": {},
     "output_type": "execute_result"
    },
    {
     "data": {
      "image/png": "[encoded data removed]",
      "text/plain": [
       "<Figure size 640x480 with 2 Axes>"
      ]
     },
     "metadata": {},
     "output_type": "display_data"
    }
   ],
   "source": [
    "# TODO: Create a heatmap to visualize the correlation matrix of numerical columns in the dataset, including annotations, using the 'summer' colormap and setting the format of annotations to one decimal place.\n",
    "numeric_df = df.select_dtypes(include=['float64', 'int64', 'bool'])\n",
    "corr_matrix = numeric_df.corr()\n",
    "sns.heatmap(corr_matrix, annot=True, cmap=\"summer\", fmt='.1f', linewidths=.5)"
   ]
  },
  {
   "cell_type": "code",
   "execution_count": 373,
   "id": "8e6ad150",
   "metadata": {
    "ExecuteTime": {
     "end_time": "2024-05-08T18:52:32.762242Z",
     "start_time": "2024-05-08T18:52:32.665021Z"
    },
    "execution": {
     "iopub.execute_input": "2024-03-26T10:32:35.396239Z",
     "iopub.status.busy": "2024-03-26T10:32:35.395738Z",
     "iopub.status.idle": "2024-03-26T10:32:35.400765Z",
     "shell.execute_reply": "2024-03-26T10:32:35.399682Z"
    },
    "papermill": {
     "duration": 0.03233,
     "end_time": "2024-03-26T10:32:35.403014",
     "exception": false,
     "start_time": "2024-03-26T10:32:35.370684",
     "status": "completed"
    },
    "tags": []
   },
   "outputs": [
    {
     "data": {
      "text/plain": [
       "Text(0, 0.5, 'IQR')"
      ]
     },
     "execution_count": 373,
     "metadata": {},
     "output_type": "execute_result"
    },
    {
     "data": {
      "image/png": "[encoded data removed]",
      "text/plain": [
       "<Figure size 640x480 with 1 Axes>"
      ]
     },
     "metadata": {},
     "output_type": "display_data"
    }
   ],
   "source": [
    "# TODO: Visualize the distribution of prices from the dataset using a boxplot.\n",
    "sns.boxplot(x=df[\"Price\"])\n",
    "plt.ylabel(\"IQR\")"
   ]
  },
  {
   "cell_type": "code",
   "execution_count": 386,
   "id": "55a4c7de",
   "metadata": {
    "ExecuteTime": {
     "end_time": "2024-05-08T18:55:02.068181Z",
     "start_time": "2024-05-08T18:55:02.055031Z"
    },
    "execution": {
     "iopub.execute_input": "2024-03-26T10:32:35.451140Z",
     "iopub.status.busy": "2024-03-26T10:32:35.450744Z",
     "iopub.status.idle": "2024-03-26T10:32:35.455068Z",
     "shell.execute_reply": "2024-03-26T10:32:35.453863Z"
    },
    "papermill": {
     "duration": 0.031164,
     "end_time": "2024-03-26T10:32:35.457299",
     "exception": false,
     "start_time": "2024-03-26T10:32:35.426135",
     "status": "completed"
    },
    "tags": []
   },
   "outputs": [
    {
     "data": {
      "text/plain": [
       "<bound method DataFrame.skew of       Area  Room  Parking  Warehouse  Elevator             Address  \\\n",
       "0       63     1     True       True      True             Shahran   \n",
       "1       60     1     True       True      True             Shahran   \n",
       "2       79     2     True       True      True              Pardis   \n",
       "3       95     2     True       True      True       Shahrake Qods   \n",
       "4      123     2     True       True      True      Shahrake Gharb   \n",
       "...    ...   ...      ...        ...       ...                 ...   \n",
       "3243    63     1     True       True     False         Feiz Garden   \n",
       "3244    86     2     True       True      True  Southern Janatabad   \n",
       "3245    83     2     True       True      True            Niavaran   \n",
       "3246   105     2     True       True      True              Dorous   \n",
       "3247    82     2    False       True      True              Parand   \n",
       "\n",
       "             Price  Price(USD)      AreaSize    PriceLevel  \n",
       "0     1.850000e+09    61666.67  AveUnderMean  AveUnderMean  \n",
       "1     1.850000e+09    61666.67  AveUnderMean  AveUnderMean  \n",
       "2     5.500000e+08    18333.33  AveUnderMean         Cheap  \n",
       "3     9.025000e+08    30083.33  AveUpperMean         Cheap  \n",
       "4     7.000000e+09   233333.33          High     Expensive  \n",
       "...            ...         ...           ...           ...  \n",
       "3243  1.890000e+09    63000.00  AveUnderMean  AveUnderMean  \n",
       "3244  3.500000e+09   116666.67  AveUnderMean  AveUpperMean  \n",
       "3245  6.800000e+09   226666.67  AveUnderMean     Expensive  \n",
       "3246  5.600000e+09   186666.67  AveUpperMean  AveUpperMean  \n",
       "3247  3.600000e+08    12000.00  AveUnderMean         Cheap  \n",
       "\n",
       "[3248 rows x 10 columns]>"
      ]
     },
     "execution_count": 386,
     "metadata": {},
     "output_type": "execute_result"
    }
   ],
   "source": [
    "# TODO: Calculate the skewness of each numerical column in the dataset.\n",
    "df.skew"
   ]
  },
  {
   "cell_type": "markdown",
   "id": "122a30c1",
   "metadata": {
    "papermill": {
     "duration": 0.021894,
     "end_time": "2024-03-26T10:32:35.501602",
     "exception": false,
     "start_time": "2024-03-26T10:32:35.479708",
     "status": "completed"
    },
    "tags": []
   },
   "source": [
    "**Description**<br>\n",
    "\n",
    "What are outliers in dataset ?\n",
    "\n",
    "Answer : Outliers are values at the extreme ends of a dataset.\n",
    "\n",
    "One of the best method to find out outliers : **Interquartile range method** \n",
    "\n",
    "Interquartile range method:\n",
    "\n",
    "1: Sort your data from low to high<br>\n",
    "2: Identify the `first quartile` (Q1), the `median`, and the `third quartile` (Q3).<br>\n",
    "3: Calculate your `IQR = Q3 – Q1`<br>\n",
    "4: Calculate your upper fence = `Q3 + (1.5 * IQR)`<br>\n",
    "5: Calculate your lower fence = `Q1 – (1.5 * IQR)`<br>\n",
    "6: Use your fences to highlight any outliers, all values that fall outside your fences.<br>\n",
    "7: Your outliers are any values **greater than your upper fence or less than your lower fence**.<br>\n"
   ]
  },
  {
   "cell_type": "code",
   "execution_count": 394,
   "id": "61c18b0f",
   "metadata": {
    "ExecuteTime": {
     "end_time": "2024-05-08T18:57:12.619268Z",
     "start_time": "2024-05-08T18:57:12.613165Z"
    },
    "execution": {
     "iopub.execute_input": "2024-03-26T10:32:35.548679Z",
     "iopub.status.busy": "2024-03-26T10:32:35.548165Z",
     "iopub.status.idle": "2024-03-26T10:32:35.552681Z",
     "shell.execute_reply": "2024-03-26T10:32:35.551587Z"
    },
    "papermill": {
     "duration": 0.031539,
     "end_time": "2024-03-26T10:32:35.554905",
     "exception": false,
     "start_time": "2024-03-26T10:32:35.523366",
     "status": "completed"
    },
    "tags": []
   },
   "outputs": [],
   "source": [
    "# TODO: Define a function named \"Interquartile_Range\" that calculates the interquartile range (IQR) and fences for outlier detection for a given dataframe and target column.\n",
    "def Interquartile_Range(df, target):\n",
    "    Q1 = np.percentile(df[target], 25)\n",
    "    Q3 = np.percentile(df[target], 75)\n",
    "\n",
    "    IQR = Q3 - Q1\n",
    "\n",
    "    Upper_Fence = Q3 + (1.5 * IQR)\n",
    "    Lower_Fence = Q1 - (1.5 * IQR)\n",
    "\n",
    "    print(f'The Upper_Fence for {target} is : {Upper_Fence}')\n",
    "    print(f'The Lower_Fence for {target} is : {Lower_Fence}')\n"
   ]
  },
  {
   "cell_type": "code",
   "execution_count": 395,
   "id": "ef8fa6b5",
   "metadata": {
    "ExecuteTime": {
     "end_time": "2024-05-08T18:57:13.849438Z",
     "start_time": "2024-05-08T18:57:13.842428Z"
    },
    "execution": {
     "iopub.execute_input": "2024-03-26T10:32:35.601535Z",
     "iopub.status.busy": "2024-03-26T10:32:35.601131Z",
     "iopub.status.idle": "2024-03-26T10:32:35.605352Z",
     "shell.execute_reply": "2024-03-26T10:32:35.604291Z"
    },
    "papermill": {
     "duration": 0.030086,
     "end_time": "2024-03-26T10:32:35.607301",
     "exception": false,
     "start_time": "2024-03-26T10:32:35.577215",
     "status": "completed"
    },
    "tags": []
   },
   "outputs": [
    {
     "name": "stdout",
     "output_type": "stream",
     "text": [
      "The Upper_Fence for Price is : 13370000000.0\n",
      "The Lower_Fence for Price is : -5750000000.0\n",
      "\n",
      "The Upper_Fence for Area is : 200.0\n",
      "The Lower_Fence for Area is : -8.0\n"
     ]
    }
   ],
   "source": [
    "# TODO: Use the \"Interquartile_Range\" function to calculate the interquartile range (IQR) and fences for the 'Price' and 'Area' columns in the dataset.\n",
    "Interquartile_Range(df, target=\"Price\")\n",
    "print()\n",
    "Interquartile_Range(df, target='Area')"
   ]
  },
  {
   "cell_type": "markdown",
   "id": "3de78a1c",
   "metadata": {
    "papermill": {
     "duration": 0.022416,
     "end_time": "2024-03-26T10:32:35.652142",
     "exception": false,
     "start_time": "2024-03-26T10:32:35.629726",
     "status": "completed"
    },
    "tags": []
   },
   "source": [
    "**Description**<br>\n",
    "* It must be considered that most outliers are on the right side dut to **Right_skewed** <br>\n",
    "so , we need to remove outliers on the right(Upper_Fence)\n",
    "\n",
    "* Among all the features , two of them have noticeable effect : **Area** and **Price** <br>\n",
    "We cant find out outliers from  (Room , Parking , Warehouse ,Elevator) features.<br>\n",
    "It's better to find out outliers first from Price , second Area"
   ]
  },
  {
   "cell_type": "code",
   "execution_count": 397,
   "id": "b87ce681",
   "metadata": {
    "ExecuteTime": {
     "end_time": "2024-05-08T18:59:04.220087Z",
     "start_time": "2024-05-08T18:59:04.214197Z"
    },
    "execution": {
     "iopub.execute_input": "2024-03-26T10:32:35.699234Z",
     "iopub.status.busy": "2024-03-26T10:32:35.698802Z",
     "iopub.status.idle": "2024-03-26T10:32:35.703061Z",
     "shell.execute_reply": "2024-03-26T10:32:35.702120Z"
    },
    "papermill": {
     "duration": 0.030397,
     "end_time": "2024-03-26T10:32:35.705035",
     "exception": false,
     "start_time": "2024-03-26T10:32:35.674638",
     "status": "completed"
    },
    "tags": []
   },
   "outputs": [],
   "source": [
    "# TODO: Define upper fence values for the 'Price' and 'Area' columns. Identify and store the indices of data points exceeding these upper fences.\n",
    "PriceUpperFence = 10 - 000 - 000 - 000\n",
    "AreaUpperFence = 200\n",
    "Price_UpperFence_Data = np.where(df[\"Price\"] > PriceUpperFence)\n",
    "Area_UpperFence_Data = np.where(df[\"Area\"] > AreaUpperFence)"
   ]
  },
  {
   "cell_type": "markdown",
   "id": "a1950396",
   "metadata": {
    "papermill": {
     "duration": 0.022457,
     "end_time": "2024-03-26T10:32:35.749423",
     "exception": false,
     "start_time": "2024-03-26T10:32:35.726966",
     "status": "completed"
    },
    "tags": []
   },
   "source": [
    "**Description**<br>\n",
    "\n",
    "* We can use of a method and add all the Outliers which are greater than UpperFence for both Price and Area and then <br>\n",
    "eliminate them from our Dataset(but in a new variable)"
   ]
  },
  {
   "cell_type": "code",
   "execution_count": 420,
   "id": "571fd470",
   "metadata": {
    "ExecuteTime": {
     "end_time": "2024-05-08T19:20:29.472843Z",
     "start_time": "2024-05-08T19:20:29.459558Z"
    },
    "execution": {
     "iopub.execute_input": "2024-03-26T10:32:35.797820Z",
     "iopub.status.busy": "2024-03-26T10:32:35.797359Z",
     "iopub.status.idle": "2024-03-26T10:32:35.801888Z",
     "shell.execute_reply": "2024-03-26T10:32:35.800794Z"
    },
    "papermill": {
     "duration": 0.031734,
     "end_time": "2024-03-26T10:32:35.804128",
     "exception": false,
     "start_time": "2024-03-26T10:32:35.772394",
     "status": "completed"
    },
    "tags": []
   },
   "outputs": [
    {
     "name": "stdout",
     "output_type": "stream",
     "text": [
      "The length of Outliers is : 3248 \n",
      "The percentage of Outliers is : 100%\n"
     ]
    },
    {
     "data": {
      "text/html": [
       "<div>\n",
       "<style scoped>\n",
       "    .dataframe tbody tr th:only-of-type {\n",
       "        vertical-align: middle;\n",
       "    }\n",
       "\n",
       "    .dataframe tbody tr th {\n",
       "        vertical-align: top;\n",
       "    }\n",
       "\n",
       "    .dataframe thead th {\n",
       "        text-align: right;\n",
       "    }\n",
       "</style>\n",
       "<table border=\"1\" class=\"dataframe\">\n",
       "  <thead>\n",
       "    <tr style=\"text-align: right;\">\n",
       "      <th></th>\n",
       "      <th>Area</th>\n",
       "      <th>Room</th>\n",
       "      <th>Parking</th>\n",
       "      <th>Warehouse</th>\n",
       "      <th>Elevator</th>\n",
       "      <th>Address</th>\n",
       "      <th>Price</th>\n",
       "      <th>Price(USD)</th>\n",
       "      <th>AreaSize</th>\n",
       "      <th>PriceLevel</th>\n",
       "    </tr>\n",
       "  </thead>\n",
       "  <tbody>\n",
       "    <tr>\n",
       "      <th>0</th>\n",
       "      <td>63</td>\n",
       "      <td>1</td>\n",
       "      <td>True</td>\n",
       "      <td>True</td>\n",
       "      <td>True</td>\n",
       "      <td>Shahran</td>\n",
       "      <td>1,850,000,000</td>\n",
       "      <td>61,667</td>\n",
       "      <td>AveUnderMean</td>\n",
       "      <td>AveUnderMean</td>\n",
       "    </tr>\n",
       "    <tr>\n",
       "      <th>1</th>\n",
       "      <td>60</td>\n",
       "      <td>1</td>\n",
       "      <td>True</td>\n",
       "      <td>True</td>\n",
       "      <td>True</td>\n",
       "      <td>Shahran</td>\n",
       "      <td>1,850,000,000</td>\n",
       "      <td>61,667</td>\n",
       "      <td>AveUnderMean</td>\n",
       "      <td>AveUnderMean</td>\n",
       "    </tr>\n",
       "    <tr>\n",
       "      <th>2</th>\n",
       "      <td>79</td>\n",
       "      <td>2</td>\n",
       "      <td>True</td>\n",
       "      <td>True</td>\n",
       "      <td>True</td>\n",
       "      <td>Pardis</td>\n",
       "      <td>550,000,000</td>\n",
       "      <td>18,333</td>\n",
       "      <td>AveUnderMean</td>\n",
       "      <td>Cheap</td>\n",
       "    </tr>\n",
       "    <tr>\n",
       "      <th>3</th>\n",
       "      <td>95</td>\n",
       "      <td>2</td>\n",
       "      <td>True</td>\n",
       "      <td>True</td>\n",
       "      <td>True</td>\n",
       "      <td>Shahrake Qods</td>\n",
       "      <td>902,500,000</td>\n",
       "      <td>30,083</td>\n",
       "      <td>AveUpperMean</td>\n",
       "      <td>Cheap</td>\n",
       "    </tr>\n",
       "    <tr>\n",
       "      <th>4</th>\n",
       "      <td>123</td>\n",
       "      <td>2</td>\n",
       "      <td>True</td>\n",
       "      <td>True</td>\n",
       "      <td>True</td>\n",
       "      <td>Shahrake Gharb</td>\n",
       "      <td>7,000,000,000</td>\n",
       "      <td>233,333</td>\n",
       "      <td>High</td>\n",
       "      <td>Expensive</td>\n",
       "    </tr>\n",
       "  </tbody>\n",
       "</table>\n",
       "</div>"
      ],
      "text/plain": [
       "   Area  Room  Parking  Warehouse  Elevator         Address          Price  \\\n",
       "0    63     1     True       True      True         Shahran  1,850,000,000   \n",
       "1    60     1     True       True      True         Shahran  1,850,000,000   \n",
       "2    79     2     True       True      True          Pardis    550,000,000   \n",
       "3    95     2     True       True      True   Shahrake Qods    902,500,000   \n",
       "4   123     2     True       True      True  Shahrake Gharb  7,000,000,000   \n",
       "\n",
       "  Price(USD)      AreaSize    PriceLevel  \n",
       "0     61,667  AveUnderMean  AveUnderMean  \n",
       "1     61,667  AveUnderMean  AveUnderMean  \n",
       "2     18,333  AveUnderMean         Cheap  \n",
       "3     30,083  AveUpperMean         Cheap  \n",
       "4    233,333          High     Expensive  "
      ]
     },
     "execution_count": 420,
     "metadata": {},
     "output_type": "execute_result"
    }
   ],
   "source": [
    "# TODO: Combine the indices of outliers identified for both 'Price' and 'Area' columns. Print the total number and percentage of outliers. Display the first five rows of the dataset for these outliers.\n",
    "Price_Area_Outliers = np.union1d(Price_UpperFence_Data, Area_UpperFence_Data)\n",
    "print(f'The length of Outliers is : {len(Price_Area_Outliers)} ')\n",
    "print(f'The percentage of Outliers is : {round(len(Price_Area_Outliers) / len(df) * 100)}%')\n",
    "dataset_regular.iloc[Price_Area_Outliers].head()"
   ]
  }
 ],
 "metadata": {
  "colab": {
   "provenance": []
  },
  "kaggle": {
   "accelerator": "none",
   "dataSources": [
    {
     "datasetId": 4671874,
     "sourceId": 7945470,
     "sourceType": "datasetVersion"
    }
   ],
   "dockerImageVersionId": 30673,
   "isGpuEnabled": false,
   "isInternetEnabled": true,
   "language": "python",
   "sourceType": "notebook"
  },
  "kernelspec": {
   "display_name": "Python 3",
   "language": "python",
   "name": "python3"
  },
  "language_info": {
   "codemirror_mode": {
    "name": "ipython",
    "version": 3
   },
   "file_extension": ".py",
   "mimetype": "text/x-python",
   "name": "python",
   "nbconvert_exporter": "python",
   "pygments_lexer": "ipython3",
   "version": "3.12.3"
  },
  "papermill": {
   "default_parameters": {},
   "duration": 7.748713,
   "end_time": "2024-03-26T10:32:36.350149",
   "environment_variables": {},
   "exception": null,
   "input_path": "__notebook__.ipynb",
   "output_path": "__notebook__.ipynb",
   "parameters": {},
   "start_time": "2024-03-26T10:32:28.601436",
   "version": "2.5.0"
  }
 },
 "nbformat": 4,
 "nbformat_minor": 5
}
