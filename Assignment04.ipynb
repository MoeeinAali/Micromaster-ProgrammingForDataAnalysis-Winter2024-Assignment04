{
 "cells": [
  {
   "cell_type": "markdown",
   "id": "0a3cd9b0",
   "metadata": {
    "papermill": {
     "duration": 0.021584,
     "end_time": "2024-03-26T09:12:11.824775",
     "exception": false,
     "start_time": "2024-03-26T09:12:11.803191",
     "status": "completed"
    },
    "tags": []
   },
   "source": [
    "<html lang=\"en\">\n",
    "<head>\n",
    "<meta charset=\"UTF-8\">\n",
    "<meta name=\"viewport\" content=\"width=device-width, initial-scale=1.0\">\n",
    "</head>\n",
    "<body>\n",
    "\n",
    "<div style=\"text-align: center;\">\n",
    "    <img src=\"https://github.com/MoeeinAali/Micromaster-ProgrammingForDataAnalysis-Winter2024-Assignment04/blob/97fdfd106cd557f3ea3e4354354f1c6357f9ff45/micromaster.png?raw=true\" width=170 alt=\"micromaster_logo\">\n",
    "    <br>\n",
    "<font face=\"Times New Roman\">\n",
    "<div dir=ltr align=center>\n",
    "<font color=0F5298 size=6>\n",
    "    <b>Sharif Micromaster</b>\n",
    "     <br>\n",
    "<font color=0F5298 size=6>\n",
    "   Programming For Data Analysis ~ Winter 2024\n",
    "  <br>\n",
    "<font color=606060 size=5>\n",
    "    Assignment 4: Introduction to Pandas, Matplotlib, Seaborn \n",
    "</div>\n",
    "</body>\n",
    "</html>\n",
    "<hr>"
   ]
  },
  {
   "cell_type": "markdown",
   "id": "dda36640",
   "metadata": {
    "papermill": {
     "duration": 0.019993,
     "end_time": "2024-03-26T09:12:11.866051",
     "exception": false,
     "start_time": "2024-03-26T09:12:11.846058",
     "status": "completed"
    },
    "tags": []
   },
   "source": [
    "<div><font face=\"Times New Roman\" size=6><div dir=ltr align=left><font color=686880 size=4>\n",
    "    Name:\n",
    "    <br>\n",
    "    No.: "
   ]
  },
  {
   "cell_type": "markdown",
   "id": "86022849",
   "metadata": {
    "id": "n36HI7Oa3_4M",
    "jp-MarkdownHeadingCollapsed": true,
    "papermill": {
     "duration": 0.020258,
     "end_time": "2024-03-26T09:12:11.908261",
     "exception": false,
     "start_time": "2024-03-26T09:12:11.888003",
     "status": "completed"
    },
    "tags": []
   },
   "source": [
    "## Notebook Content\n",
    "0. [Introduction](#Introduction)\n",
    "1. [Importing Libraries](#importing-libraries)\n",
    "2. [Loading Dataset](#loading-dataset)\n",
    "3. [Basic Understanding of Dataset](#basic-understanding-of-dataset)\n",
    "4. [Exploratory Data Analysis](#exploratory-data-analysis)\n",
    "5. [Feature Engineering](#feature-engineering)\n",
    "6. [Data Pre-Processing](#data-pre-processing)"
   ]
  },
  {
   "cell_type": "markdown",
   "id": "5e76e801",
   "metadata": {
    "papermill": {
     "duration": 0.020092,
     "end_time": "2024-03-26T09:12:11.949634",
     "exception": false,
     "start_time": "2024-03-26T09:12:11.929542",
     "status": "completed"
    },
    "tags": []
   },
   "source": [
    "# Introduction\n",
    "This project aims to perform data preparation and initial analysis on a real estate dataset. The dataset includes information about properties from both sales and rental listings, sourced from various sources. The goal is to gain insights into the characteristics of the real estate market and prepare the data for further analysis or modeling.\n",
    "\n",
    "### **Project Steps**\n",
    "\n",
    "1. Data Loading and Inspection\n",
    "   - **Data Collection**: Real estate data is collected from multiple sources, including online listings and databases.\n",
    "   - **Initial Inspection**: The structure and basic characteristics of the dataset are examined, including the number of records, columns, and data types.\n",
    "\n",
    "\n",
    "2. Data Preprocessing\n",
    "   - **Duplicate Data Removal**: Any duplicate records in the dataset are identified and removed to ensure data integrity.\n",
    "   - **Data Type Identification**: The data types of columns are determined, and appropriate conversions are made if necessary.\n",
    "   - **Missing Data Handling**: Missing values in the dataset are addressed through imputation or removal, depending on the context.\n",
    "   - **Outlier Detection**: Outliers in the data, which may skew analysis results, are identified and processed using statistical methods.\n",
    "   - **Feature Engineering**: New features are created based on existing ones to enhance the predictive power of the dataset.\n",
    "\n",
    "\n",
    "3. Data Analysis and Exploration\n",
    "   - **Correlation Analysis**: Relationships between different variables in the dataset are explored using correlation matrices and visualizations.\n",
    "   - **Distribution Analysis**: The distribution of key variables, such as price and area, is examined to understand their patterns and characteristics.\n",
    "   - **Visualization**: Various plots and charts are created to visualize the data and gain insights into underlying trends and patterns.\n",
    "\n",
    "\n",
    "4. Data Modeling Preparation\n",
    "   - **Feature Selection**: Relevant features for modeling are selected based on their importance and contribution to the target variable.\n",
    "   - **Data Splitting**: The dataset is divided into training and testing sets to facilitate model training and evaluation.\n",
    "\n",
    "\n",
    "5. Conclusion\n",
    "   - This project serves as a foundational step in the analysis of real estate data. By preparing the dataset and performing initial exploratory analysis, it sets the stage for further analysis or modeling tasks. The insights gained from this project can be used by stakeholders in the real estate industry for decision-making and strategic planning.\n"
   ]
  },
  {
   "cell_type": "markdown",
   "id": "2603096e",
   "metadata": {
    "papermill": {
     "duration": 0.020706,
     "end_time": "2024-03-26T09:12:11.990696",
     "exception": false,
     "start_time": "2024-03-26T09:12:11.969990",
     "status": "completed"
    },
    "tags": []
   },
   "source": [
    "### Importing Libraries\n"
   ]
  },
  {
   "cell_type": "code",
   "execution_count": 1,
   "id": "92afd893",
   "metadata": {
    "execution": {
     "iopub.execute_input": "2024-03-26T09:12:12.033586Z",
     "iopub.status.busy": "2024-03-26T09:12:12.033092Z",
     "iopub.status.idle": "2024-03-26T09:12:12.038708Z",
     "shell.execute_reply": "2024-03-26T09:12:12.037852Z"
    },
    "papermill": {
     "duration": 0.029853,
     "end_time": "2024-03-26T09:12:12.041107",
     "exception": false,
     "start_time": "2024-03-26T09:12:12.011254",
     "status": "completed"
    },
    "tags": []
   },
   "outputs": [],
   "source": [
    "# TODO: Import Required libraries\n",
    "# Codes"
   ]
  },
  {
   "cell_type": "markdown",
   "id": "0a64e8c0",
   "metadata": {
    "papermill": {
     "duration": 0.020265,
     "end_time": "2024-03-26T09:12:12.081955",
     "exception": false,
     "start_time": "2024-03-26T09:12:12.061690",
     "status": "completed"
    },
    "tags": []
   },
   "source": [
    "### Loading Dataset"
   ]
  },
  {
   "cell_type": "code",
   "execution_count": 2,
   "id": "ef2163b1",
   "metadata": {
    "execution": {
     "iopub.execute_input": "2024-03-26T09:12:12.125103Z",
     "iopub.status.busy": "2024-03-26T09:12:12.124285Z",
     "iopub.status.idle": "2024-03-26T09:12:12.128751Z",
     "shell.execute_reply": "2024-03-26T09:12:12.127944Z"
    },
    "papermill": {
     "duration": 0.028883,
     "end_time": "2024-03-26T09:12:12.131177",
     "exception": false,
     "start_time": "2024-03-26T09:12:12.102294",
     "status": "completed"
    },
    "tags": []
   },
   "outputs": [],
   "source": [
    "# TODO: Load dataset.csv \n",
    "# Codes"
   ]
  },
  {
   "cell_type": "markdown",
   "id": "c1bcc266",
   "metadata": {
    "papermill": {
     "duration": 0.020172,
     "end_time": "2024-03-26T09:12:12.172059",
     "exception": false,
     "start_time": "2024-03-26T09:12:12.151887",
     "status": "completed"
    },
    "tags": []
   },
   "source": [
    "## Basic Understanding of Dataset"
   ]
  },
  {
   "cell_type": "code",
   "execution_count": 3,
   "id": "e8ca5232",
   "metadata": {
    "execution": {
     "iopub.execute_input": "2024-03-26T09:12:12.215216Z",
     "iopub.status.busy": "2024-03-26T09:12:12.214398Z",
     "iopub.status.idle": "2024-03-26T09:12:12.218814Z",
     "shell.execute_reply": "2024-03-26T09:12:12.218029Z"
    },
    "papermill": {
     "duration": 0.028638,
     "end_time": "2024-03-26T09:12:12.221263",
     "exception": false,
     "start_time": "2024-03-26T09:12:12.192625",
     "status": "completed"
    },
    "tags": []
   },
   "outputs": [],
   "source": [
    "# TODO: Print Shape of our Dataset\n",
    "# Codes"
   ]
  },
  {
   "cell_type": "code",
   "execution_count": 4,
   "id": "21de381b",
   "metadata": {
    "execution": {
     "iopub.execute_input": "2024-03-26T09:12:12.264357Z",
     "iopub.status.busy": "2024-03-26T09:12:12.263602Z",
     "iopub.status.idle": "2024-03-26T09:12:12.268393Z",
     "shell.execute_reply": "2024-03-26T09:12:12.267368Z"
    },
    "papermill": {
     "duration": 0.029237,
     "end_time": "2024-03-26T09:12:12.270831",
     "exception": false,
     "start_time": "2024-03-26T09:12:12.241594",
     "status": "completed"
    },
    "tags": []
   },
   "outputs": [],
   "source": [
    "# TODO: Print Columns of Dataset\n",
    "# Codes"
   ]
  },
  {
   "cell_type": "code",
   "execution_count": 5,
   "id": "73deda39",
   "metadata": {
    "execution": {
     "iopub.execute_input": "2024-03-26T09:12:12.315791Z",
     "iopub.status.busy": "2024-03-26T09:12:12.315044Z",
     "iopub.status.idle": "2024-03-26T09:12:12.318779Z",
     "shell.execute_reply": "2024-03-26T09:12:12.317975Z"
    },
    "papermill": {
     "duration": 0.029193,
     "end_time": "2024-03-26T09:12:12.320869",
     "exception": false,
     "start_time": "2024-03-26T09:12:12.291676",
     "status": "completed"
    },
    "tags": []
   },
   "outputs": [],
   "source": [
    "# TODO: Print first 5 rows of the dataset\n",
    "# Codes"
   ]
  },
  {
   "cell_type": "code",
   "execution_count": 6,
   "id": "9291c5fd",
   "metadata": {
    "execution": {
     "iopub.execute_input": "2024-03-26T09:12:12.364435Z",
     "iopub.status.busy": "2024-03-26T09:12:12.363658Z",
     "iopub.status.idle": "2024-03-26T09:12:12.367956Z",
     "shell.execute_reply": "2024-03-26T09:12:12.366796Z"
    },
    "papermill": {
     "duration": 0.028919,
     "end_time": "2024-03-26T09:12:12.370494",
     "exception": false,
     "start_time": "2024-03-26T09:12:12.341575",
     "status": "completed"
    },
    "tags": []
   },
   "outputs": [],
   "source": [
    "# TODO: Print last 5 rows of the dataset\n",
    "# Codes"
   ]
  },
  {
   "cell_type": "code",
   "execution_count": 7,
   "id": "537d97be",
   "metadata": {
    "execution": {
     "iopub.execute_input": "2024-03-26T09:12:12.414158Z",
     "iopub.status.busy": "2024-03-26T09:12:12.413451Z",
     "iopub.status.idle": "2024-03-26T09:12:12.417374Z",
     "shell.execute_reply": "2024-03-26T09:12:12.416511Z"
    },
    "papermill": {
     "duration": 0.028264,
     "end_time": "2024-03-26T09:12:12.419580",
     "exception": false,
     "start_time": "2024-03-26T09:12:12.391316",
     "status": "completed"
    },
    "tags": []
   },
   "outputs": [],
   "source": [
    "# TODO: Number of Duplicated in our dataset\n",
    "# Codes\n",
    "# TODO: The percentage of Duplicated in our dataset\n",
    "# Codes"
   ]
  },
  {
   "cell_type": "code",
   "execution_count": 8,
   "id": "ef9a49ca",
   "metadata": {
    "execution": {
     "iopub.execute_input": "2024-03-26T09:12:12.465023Z",
     "iopub.status.busy": "2024-03-26T09:12:12.464283Z",
     "iopub.status.idle": "2024-03-26T09:12:12.468985Z",
     "shell.execute_reply": "2024-03-26T09:12:12.467676Z"
    },
    "papermill": {
     "duration": 0.031323,
     "end_time": "2024-03-26T09:12:12.471812",
     "exception": false,
     "start_time": "2024-03-26T09:12:12.440489",
     "status": "completed"
    },
    "tags": []
   },
   "outputs": [],
   "source": [
    "# TODO: Types of our Columns in Dataset\n",
    "# Codes"
   ]
  },
  {
   "cell_type": "markdown",
   "id": "3a154e5e",
   "metadata": {
    "papermill": {
     "duration": 0.02135,
     "end_time": "2024-03-26T09:12:12.514515",
     "exception": false,
     "start_time": "2024-03-26T09:12:12.493165",
     "status": "completed"
    },
    "tags": []
   },
   "source": [
    "**Description**<br>\n",
    "\n",
    "* Except Area feature , all of them have right type . we have to change its type later .<br>\n"
   ]
  },
  {
   "cell_type": "code",
   "execution_count": 9,
   "id": "47a9fcc9",
   "metadata": {
    "execution": {
     "iopub.execute_input": "2024-03-26T09:12:12.558003Z",
     "iopub.status.busy": "2024-03-26T09:12:12.557586Z",
     "iopub.status.idle": "2024-03-26T09:12:12.562403Z",
     "shell.execute_reply": "2024-03-26T09:12:12.561414Z"
    },
    "papermill": {
     "duration": 0.02919,
     "end_time": "2024-03-26T09:12:12.564513",
     "exception": false,
     "start_time": "2024-03-26T09:12:12.535323",
     "status": "completed"
    },
    "tags": []
   },
   "outputs": [],
   "source": [
    "# TODO: Print the number of missing values in our Dataset for each Column\n",
    "# Codes\n",
    "# TODO: The percentage of missing values in our Dataset for each Column\n",
    "# Codes"
   ]
  },
  {
   "cell_type": "markdown",
   "id": "c03626ab",
   "metadata": {
    "papermill": {
     "duration": 0.020501,
     "end_time": "2024-03-26T09:12:12.605985",
     "exception": false,
     "start_time": "2024-03-26T09:12:12.585484",
     "status": "completed"
    },
    "tags": []
   },
   "source": [
    "**Description**<br>\n",
    "\n",
    "* Due to Address feature plays an important role and it must be exact, we can't replace missing values with anything.\n",
    "* Consequently, we will drop those missing values later."
   ]
  },
  {
   "cell_type": "code",
   "execution_count": 10,
   "id": "76ee6155",
   "metadata": {
    "execution": {
     "iopub.execute_input": "2024-03-26T09:12:12.649737Z",
     "iopub.status.busy": "2024-03-26T09:12:12.649312Z",
     "iopub.status.idle": "2024-03-26T09:12:12.653465Z",
     "shell.execute_reply": "2024-03-26T09:12:12.652618Z"
    },
    "papermill": {
     "duration": 0.02893,
     "end_time": "2024-03-26T09:12:12.655756",
     "exception": false,
     "start_time": "2024-03-26T09:12:12.626826",
     "status": "completed"
    },
    "tags": []
   },
   "outputs": [],
   "source": [
    "# TODO: Print the cardinality of our Columns"
   ]
  },
  {
   "cell_type": "markdown",
   "id": "9c0863a3",
   "metadata": {
    "papermill": {
     "duration": 0.022162,
     "end_time": "2024-03-26T09:12:12.700835",
     "exception": false,
     "start_time": "2024-03-26T09:12:12.678673",
     "status": "completed"
    },
    "tags": []
   },
   "source": [
    "## Exploratory Data Analysis"
   ]
  },
  {
   "cell_type": "code",
   "execution_count": 11,
   "id": "7e391f62",
   "metadata": {
    "execution": {
     "iopub.execute_input": "2024-03-26T09:12:12.809285Z",
     "iopub.status.busy": "2024-03-26T09:12:12.808678Z",
     "iopub.status.idle": "2024-03-26T09:12:12.812301Z",
     "shell.execute_reply": "2024-03-26T09:12:12.811525Z"
    },
    "papermill": {
     "duration": 0.09204,
     "end_time": "2024-03-26T09:12:12.814519",
     "exception": false,
     "start_time": "2024-03-26T09:12:12.722479",
     "status": "completed"
    },
    "tags": []
   },
   "outputs": [],
   "source": [
    "# TODO: Plot the distribution of prices from the dataset using a histogram with kernel density estimation enabled, specifying a palette and setting the number of bins to 100.\n",
    "# Codes"
   ]
  },
  {
   "cell_type": "markdown",
   "id": "6f4d6689",
   "metadata": {
    "papermill": {
     "duration": 0.021027,
     "end_time": "2024-03-26T09:12:12.857322",
     "exception": false,
     "start_time": "2024-03-26T09:12:12.836295",
     "status": "completed"
    },
    "tags": []
   },
   "source": [
    "**Description**<br>\n",
    "\n",
    "* Most houses have roughly close price in one third of the first part\n",
    "* Outliers are obvious now(on the right side)"
   ]
  },
  {
   "cell_type": "code",
   "execution_count": 12,
   "id": "54057c59",
   "metadata": {
    "execution": {
     "iopub.execute_input": "2024-03-26T09:12:12.901652Z",
     "iopub.status.busy": "2024-03-26T09:12:12.901246Z",
     "iopub.status.idle": "2024-03-26T09:12:12.905587Z",
     "shell.execute_reply": "2024-03-26T09:12:12.904707Z"
    },
    "papermill": {
     "duration": 0.029446,
     "end_time": "2024-03-26T09:12:12.908050",
     "exception": false,
     "start_time": "2024-03-26T09:12:12.878604",
     "status": "completed"
    },
    "tags": []
   },
   "outputs": [],
   "source": [
    "# TODO: Visualize the distribution of the number of rooms (Room) from the dataset using a histogram.\n",
    "# Codes"
   ]
  },
  {
   "cell_type": "markdown",
   "id": "531ea76a",
   "metadata": {
    "papermill": {
     "duration": 0.021331,
     "end_time": "2024-03-26T09:12:12.951870",
     "exception": false,
     "start_time": "2024-03-26T09:12:12.930539",
     "status": "completed"
    },
    "tags": []
   },
   "source": [
    "**Description**<br>\n",
    "\n",
    "* About 2000 houses have exactly 2 rooms (most houses) \n",
    "* Distribution of 1 and 3 rooms are roughly the same (a little more 3 rooms)\n",
    "* we have not many houses with 4 or 5 rooms (in total about 150 houses)\n",
    "* houses without room is rarely seen \n",
    "\n",
    "**Conclusion**\n",
    "* Mean of rooms is roughly 2."
   ]
  },
  {
   "cell_type": "code",
   "execution_count": 13,
   "id": "c2d47555",
   "metadata": {
    "execution": {
     "iopub.execute_input": "2024-03-26T09:12:12.996499Z",
     "iopub.status.busy": "2024-03-26T09:12:12.995759Z",
     "iopub.status.idle": "2024-03-26T09:12:12.999895Z",
     "shell.execute_reply": "2024-03-26T09:12:12.998834Z"
    },
    "papermill": {
     "duration": 0.029409,
     "end_time": "2024-03-26T09:12:13.002535",
     "exception": false,
     "start_time": "2024-03-26T09:12:12.973126",
     "status": "completed"
    },
    "tags": []
   },
   "outputs": [],
   "source": [
    "# TODO: Create subplots to visualize the distribution of boolean columns ('Parking', 'Warehouse', 'Elevator') from the dataset using countplots.\n",
    "# Codes"
   ]
  },
  {
   "cell_type": "markdown",
   "id": "f6dfede1",
   "metadata": {
    "papermill": {
     "duration": 0.021752,
     "end_time": "2024-03-26T09:12:13.046612",
     "exception": false,
     "start_time": "2024-03-26T09:12:13.024860",
     "status": "completed"
    },
    "tags": []
   },
   "source": [
    "**Description**<br>\n",
    "\n",
    "* Most houses have Parking , Warehouse and Elevator (all these three features )\n",
    "* Most houses have Warehouse.(houses without warehouse are very low)\n",
    "* Those houses without Parking and Elevator have the same distribution(less than 1000 more than 500)\n"
   ]
  },
  {
   "cell_type": "markdown",
   "id": "fa293695",
   "metadata": {
    "papermill": {
     "duration": 0.020979,
     "end_time": "2024-03-26T09:12:13.088894",
     "exception": false,
     "start_time": "2024-03-26T09:12:13.067915",
     "status": "completed"
    },
    "tags": []
   },
   "source": [
    "## Feature Engineering"
   ]
  },
  {
   "cell_type": "code",
   "execution_count": 14,
   "id": "f66b6238",
   "metadata": {
    "execution": {
     "iopub.execute_input": "2024-03-26T09:12:13.133681Z",
     "iopub.status.busy": "2024-03-26T09:12:13.132872Z",
     "iopub.status.idle": "2024-03-26T09:12:13.137800Z",
     "shell.execute_reply": "2024-03-26T09:12:13.136698Z"
    },
    "papermill": {
     "duration": 0.029987,
     "end_time": "2024-03-26T09:12:13.140296",
     "exception": false,
     "start_time": "2024-03-26T09:12:13.110309",
     "status": "completed"
    },
    "tags": []
   },
   "outputs": [],
   "source": [
    "# TODO: Display the data types of columns in the dataset.\n",
    "# Codes"
   ]
  },
  {
   "cell_type": "markdown",
   "id": "6f020e56",
   "metadata": {
    "papermill": {
     "duration": 0.021525,
     "end_time": "2024-03-26T09:12:13.183241",
     "exception": false,
     "start_time": "2024-03-26T09:12:13.161716",
     "status": "completed"
    },
    "tags": []
   },
   "source": [
    "**Description**<br>\n",
    "\n",
    "The type of Area must be changed if we want to show and do feature engineering .<br>\n",
    "\n",
    "To be possible to change its type we need to remove comma between numbers than we are capable changing its type.\n"
   ]
  },
  {
   "cell_type": "code",
   "execution_count": 15,
   "id": "afe53961",
   "metadata": {
    "execution": {
     "iopub.execute_input": "2024-03-26T09:12:13.227992Z",
     "iopub.status.busy": "2024-03-26T09:12:13.227183Z",
     "iopub.status.idle": "2024-03-26T09:12:13.231862Z",
     "shell.execute_reply": "2024-03-26T09:12:13.231056Z"
    },
    "papermill": {
     "duration": 0.029668,
     "end_time": "2024-03-26T09:12:13.234261",
     "exception": false,
     "start_time": "2024-03-26T09:12:13.204593",
     "status": "completed"
    },
    "tags": []
   },
   "outputs": [],
   "source": [
    "# TODO: Remove commas from the 'Area' column and convert it to numeric data type.\n",
    "# Codes"
   ]
  },
  {
   "cell_type": "code",
   "execution_count": 16,
   "id": "51499112",
   "metadata": {
    "execution": {
     "iopub.execute_input": "2024-03-26T09:12:13.281157Z",
     "iopub.status.busy": "2024-03-26T09:12:13.280124Z",
     "iopub.status.idle": "2024-03-26T09:12:13.284805Z",
     "shell.execute_reply": "2024-03-26T09:12:13.283677Z"
    },
    "papermill": {
     "duration": 0.030147,
     "end_time": "2024-03-26T09:12:13.287122",
     "exception": false,
     "start_time": "2024-03-26T09:12:13.256975",
     "status": "completed"
    },
    "tags": []
   },
   "outputs": [],
   "source": [
    "# TODO: Generate descriptive statistics for the 'Area' column in the dataset.\n",
    "# Codes"
   ]
  },
  {
   "cell_type": "markdown",
   "id": "3bfcd08a",
   "metadata": {
    "papermill": {
     "duration": 0.021334,
     "end_time": "2024-03-26T09:12:13.329987",
     "exception": false,
     "start_time": "2024-03-26T09:12:13.308653",
     "status": "completed"
    },
    "tags": []
   },
   "source": [
    "**Description**<br>\n",
    "\n",
    "We are going to divide Area feature to 4 category : Small(0-30) - AveUnderMean(30-90) - AveUpperMean(90-120)- High(120-...)\n",
    "\n",
    "except these features other will be replaced to nan values"
   ]
  },
  {
   "cell_type": "code",
   "execution_count": 17,
   "id": "fac61df5",
   "metadata": {
    "execution": {
     "iopub.execute_input": "2024-03-26T09:12:13.375616Z",
     "iopub.status.busy": "2024-03-26T09:12:13.375104Z",
     "iopub.status.idle": "2024-03-26T09:12:13.380031Z",
     "shell.execute_reply": "2024-03-26T09:12:13.378873Z"
    },
    "papermill": {
     "duration": 0.030507,
     "end_time": "2024-03-26T09:12:13.382501",
     "exception": false,
     "start_time": "2024-03-26T09:12:13.351994",
     "status": "completed"
    },
    "tags": []
   },
   "outputs": [],
   "source": [
    "# TODO: Create a new feature 'AreaSize' based on the 'Area' column values, categorizing them as 'Small', 'AveUnderMean', 'AveUpperMean', or 'High'.\n",
    "# Codes"
   ]
  },
  {
   "cell_type": "code",
   "execution_count": 18,
   "id": "ab69be15",
   "metadata": {
    "execution": {
     "iopub.execute_input": "2024-03-26T09:12:13.427739Z",
     "iopub.status.busy": "2024-03-26T09:12:13.427328Z",
     "iopub.status.idle": "2024-03-26T09:12:13.432120Z",
     "shell.execute_reply": "2024-03-26T09:12:13.431015Z"
    },
    "papermill": {
     "duration": 0.030412,
     "end_time": "2024-03-26T09:12:13.434499",
     "exception": false,
     "start_time": "2024-03-26T09:12:13.404087",
     "status": "completed"
    },
    "tags": []
   },
   "outputs": [],
   "source": [
    "# TODO: Visualize the distribution of the 'AreaSize' feature using a countplot.\n",
    "# Codes"
   ]
  },
  {
   "cell_type": "markdown",
   "id": "3327288c",
   "metadata": {
    "papermill": {
     "duration": 0.022546,
     "end_time": "2024-03-26T09:12:13.478905",
     "exception": false,
     "start_time": "2024-03-26T09:12:13.456359",
     "status": "completed"
    },
    "tags": []
   },
   "source": [
    "**Description**<br>\n",
    "\n",
    "* As we can see  about half of houses have between 30-90 meters(m2)\n",
    "* Houses with 90-120 meters  have the same contribution with houses which have more than 120 meters\n",
    "* we can realize that right-skewed has happened.(outliers most are on the right part)\n",
    "* very low houeses are with less than 30 meters size.\n"
   ]
  },
  {
   "cell_type": "markdown",
   "id": "ec0cc816",
   "metadata": {
    "papermill": {
     "duration": 0.021875,
     "end_time": "2024-03-26T09:12:13.522776",
     "exception": false,
     "start_time": "2024-03-26T09:12:13.500901",
     "status": "completed"
    },
    "tags": []
   },
   "source": [
    "We are going to determine 4 level for Price feature : Cheap , AveUnderMean , AveUpperMean , Expensive <br>\n",
    "\n",
    "- `cheap` : 0-25% \n",
    "- `AveUnderMean` : 25%-50%\n",
    "- `AveUpperMean` : 50%-75%\n",
    "- `Expensive` : upper 75%"
   ]
  },
  {
   "cell_type": "code",
   "execution_count": 19,
   "id": "9839cdbc",
   "metadata": {
    "execution": {
     "iopub.execute_input": "2024-03-26T09:12:13.567966Z",
     "iopub.status.busy": "2024-03-26T09:12:13.567548Z",
     "iopub.status.idle": "2024-03-26T09:12:13.572211Z",
     "shell.execute_reply": "2024-03-26T09:12:13.570779Z"
    },
    "papermill": {
     "duration": 0.030357,
     "end_time": "2024-03-26T09:12:13.574686",
     "exception": false,
     "start_time": "2024-03-26T09:12:13.544329",
     "status": "completed"
    },
    "tags": []
   },
   "outputs": [],
   "source": [
    "# TODO: Create a new feature 'PriceLevel' based on the 'Price' column values, categorizing them as 'Cheap', 'AveUnderMean', 'AveUpperMean', or 'Expensive'.\n",
    "# Codes"
   ]
  },
  {
   "cell_type": "code",
   "execution_count": 20,
   "id": "0c8f8dc7",
   "metadata": {
    "execution": {
     "iopub.execute_input": "2024-03-26T09:12:13.619847Z",
     "iopub.status.busy": "2024-03-26T09:12:13.619441Z",
     "iopub.status.idle": "2024-03-26T09:12:13.623631Z",
     "shell.execute_reply": "2024-03-26T09:12:13.622812Z"
    },
    "papermill": {
     "duration": 0.029618,
     "end_time": "2024-03-26T09:12:13.625957",
     "exception": false,
     "start_time": "2024-03-26T09:12:13.596339",
     "status": "completed"
    },
    "tags": []
   },
   "outputs": [],
   "source": [
    "# TODO: Visualize the distribution of the 'PriceLevel' feature using a countplot.\n",
    "# Codes"
   ]
  },
  {
   "cell_type": "markdown",
   "id": "36ef0607",
   "metadata": {
    "papermill": {
     "duration": 0.021695,
     "end_time": "2024-03-26T09:12:13.669915",
     "exception": false,
     "start_time": "2024-03-26T09:12:13.648220",
     "status": "completed"
    },
    "tags": []
   },
   "source": [
    "**Description**<br>\n",
    "\n",
    "We have very balanced distribution in 4 parts"
   ]
  },
  {
   "cell_type": "markdown",
   "id": "25010f50",
   "metadata": {
    "papermill": {
     "duration": 0.021487,
     "end_time": "2024-03-26T09:12:13.713165",
     "exception": false,
     "start_time": "2024-03-26T09:12:13.691678",
     "status": "completed"
    },
    "tags": []
   },
   "source": [
    "## Data Pre-Processing"
   ]
  },
  {
   "cell_type": "code",
   "execution_count": 21,
   "id": "13f2492e",
   "metadata": {
    "execution": {
     "iopub.execute_input": "2024-03-26T09:12:13.758326Z",
     "iopub.status.busy": "2024-03-26T09:12:13.757956Z",
     "iopub.status.idle": "2024-03-26T09:12:13.762776Z",
     "shell.execute_reply": "2024-03-26T09:12:13.761710Z"
    },
    "papermill": {
     "duration": 0.030332,
     "end_time": "2024-03-26T09:12:13.765203",
     "exception": false,
     "start_time": "2024-03-26T09:12:13.734871",
     "status": "completed"
    },
    "tags": []
   },
   "outputs": [],
   "source": [
    "# TODO: Display a random sample of 10 rows from the dataset.\n",
    "# Codes"
   ]
  },
  {
   "cell_type": "code",
   "execution_count": 22,
   "id": "5f6bbab2",
   "metadata": {
    "execution": {
     "iopub.execute_input": "2024-03-26T09:12:13.810732Z",
     "iopub.status.busy": "2024-03-26T09:12:13.810326Z",
     "iopub.status.idle": "2024-03-26T09:12:13.814662Z",
     "shell.execute_reply": "2024-03-26T09:12:13.813580Z"
    },
    "papermill": {
     "duration": 0.030227,
     "end_time": "2024-03-26T09:12:13.817062",
     "exception": false,
     "start_time": "2024-03-26T09:12:13.786835",
     "status": "completed"
    },
    "tags": []
   },
   "outputs": [],
   "source": [
    "# TODO: Calculate the number and percentage of missing values for each column in the dataset and display the results. Highlight the column with the maximum percentage of missing values in red.\n",
    "# Codes"
   ]
  },
  {
   "cell_type": "markdown",
   "id": "164167fa",
   "metadata": {
    "papermill": {
     "duration": 0.021477,
     "end_time": "2024-03-26T09:12:13.860354",
     "exception": false,
     "start_time": "2024-03-26T09:12:13.838877",
     "status": "completed"
    },
    "tags": []
   },
   "source": [
    "    \n",
    "**Description**<br>\n",
    "\n",
    "Address (location of house) is crucial , wa cant replace missing values with like(most frequent)\n",
    "(if we do that our model doesnt have good prediction) <br>\n",
    "So , we easily drop those missing values"
   ]
  },
  {
   "cell_type": "code",
   "execution_count": 23,
   "id": "a4dccb28",
   "metadata": {
    "execution": {
     "iopub.execute_input": "2024-03-26T09:12:13.905808Z",
     "iopub.status.busy": "2024-03-26T09:12:13.905400Z",
     "iopub.status.idle": "2024-03-26T09:12:13.909875Z",
     "shell.execute_reply": "2024-03-26T09:12:13.908512Z"
    },
    "papermill": {
     "duration": 0.029965,
     "end_time": "2024-03-26T09:12:13.912140",
     "exception": false,
     "start_time": "2024-03-26T09:12:13.882175",
     "status": "completed"
    },
    "tags": []
   },
   "outputs": [],
   "source": [
    "# TODO: Remove rows with missing values from the dataset.\n",
    "# Codes"
   ]
  },
  {
   "cell_type": "code",
   "execution_count": 24,
   "id": "4ec23f1b",
   "metadata": {
    "execution": {
     "iopub.execute_input": "2024-03-26T09:12:13.957890Z",
     "iopub.status.busy": "2024-03-26T09:12:13.957517Z",
     "iopub.status.idle": "2024-03-26T09:12:13.961601Z",
     "shell.execute_reply": "2024-03-26T09:12:13.960491Z"
    },
    "papermill": {
     "duration": 0.029906,
     "end_time": "2024-03-26T09:12:13.963918",
     "exception": false,
     "start_time": "2024-03-26T09:12:13.934012",
     "status": "completed"
    },
    "tags": []
   },
   "outputs": [],
   "source": [
    "# TODO: Confirm that there are no missing values remaining in the dataset after removing them.\n",
    "# Codes"
   ]
  },
  {
   "cell_type": "code",
   "execution_count": 25,
   "id": "7c70c598",
   "metadata": {
    "execution": {
     "iopub.execute_input": "2024-03-26T09:12:14.011387Z",
     "iopub.status.busy": "2024-03-26T09:12:14.010960Z",
     "iopub.status.idle": "2024-03-26T09:12:14.016120Z",
     "shell.execute_reply": "2024-03-26T09:12:14.014846Z"
    },
    "papermill": {
     "duration": 0.031657,
     "end_time": "2024-03-26T09:12:14.018767",
     "exception": false,
     "start_time": "2024-03-26T09:12:13.987110",
     "status": "completed"
    },
    "tags": []
   },
   "outputs": [],
   "source": [
    "# TODO: Identify and count duplicated values in the dataset. Calculate and print the percentage of duplicated values.\n",
    "# Codes"
   ]
  },
  {
   "cell_type": "markdown",
   "id": "afe8bee1",
   "metadata": {
    "papermill": {
     "duration": 0.021501,
     "end_time": "2024-03-26T09:12:14.062393",
     "exception": false,
     "start_time": "2024-03-26T09:12:14.040892",
     "status": "completed"
    },
    "tags": []
   },
   "source": [
    "**Description**<br>\n",
    "\n",
    "We have 208 duplicated values .\n",
    "We can easily drop them"
   ]
  },
  {
   "cell_type": "code",
   "execution_count": 26,
   "id": "26f19dd5",
   "metadata": {
    "execution": {
     "iopub.execute_input": "2024-03-26T09:12:14.107606Z",
     "iopub.status.busy": "2024-03-26T09:12:14.107172Z",
     "iopub.status.idle": "2024-03-26T09:12:14.111584Z",
     "shell.execute_reply": "2024-03-26T09:12:14.110557Z"
    },
    "papermill": {
     "duration": 0.029489,
     "end_time": "2024-03-26T09:12:14.113719",
     "exception": false,
     "start_time": "2024-03-26T09:12:14.084230",
     "status": "completed"
    },
    "tags": []
   },
   "outputs": [],
   "source": [
    "# TODO: Remove duplicated rows from the dataset, reset the index, and drop the old index column.\n",
    "# Codes"
   ]
  },
  {
   "cell_type": "code",
   "execution_count": 27,
   "id": "0a754887",
   "metadata": {
    "execution": {
     "iopub.execute_input": "2024-03-26T09:12:14.159559Z",
     "iopub.status.busy": "2024-03-26T09:12:14.159107Z",
     "iopub.status.idle": "2024-03-26T09:12:14.163510Z",
     "shell.execute_reply": "2024-03-26T09:12:14.162580Z"
    },
    "papermill": {
     "duration": 0.029866,
     "end_time": "2024-03-26T09:12:14.165696",
     "exception": false,
     "start_time": "2024-03-26T09:12:14.135830",
     "status": "completed"
    },
    "tags": []
   },
   "outputs": [],
   "source": [
    "# TODO: Print the new shape of the dataset after removing duplicated rows and resetting the index.\n",
    "# Codes"
   ]
  },
  {
   "cell_type": "code",
   "execution_count": 28,
   "id": "c306cce9",
   "metadata": {
    "execution": {
     "iopub.execute_input": "2024-03-26T09:12:14.211690Z",
     "iopub.status.busy": "2024-03-26T09:12:14.211291Z",
     "iopub.status.idle": "2024-03-26T09:12:14.215487Z",
     "shell.execute_reply": "2024-03-26T09:12:14.214503Z"
    },
    "papermill": {
     "duration": 0.030023,
     "end_time": "2024-03-26T09:12:14.217696",
     "exception": false,
     "start_time": "2024-03-26T09:12:14.187673",
     "status": "completed"
    },
    "tags": []
   },
   "outputs": [],
   "source": [
    "# TODO: Display the data types of columns in the dataset after any transformations or modifications.\n",
    "# Codes"
   ]
  },
  {
   "cell_type": "markdown",
   "id": "4082e185",
   "metadata": {
    "papermill": {
     "duration": 0.021896,
     "end_time": "2024-03-26T09:12:14.261796",
     "exception": false,
     "start_time": "2024-03-26T09:12:14.239900",
     "status": "completed"
    },
    "tags": []
   },
   "source": [
    "**Description**<br>\n",
    "* About dtypes every thing is fine . <br>\n",
    "* We are going to check and discover each feature ."
   ]
  },
  {
   "cell_type": "code",
   "execution_count": 29,
   "id": "e4eff469",
   "metadata": {
    "execution": {
     "iopub.execute_input": "2024-03-26T09:12:14.308037Z",
     "iopub.status.busy": "2024-03-26T09:12:14.307663Z",
     "iopub.status.idle": "2024-03-26T09:12:14.311280Z",
     "shell.execute_reply": "2024-03-26T09:12:14.310506Z"
    },
    "papermill": {
     "duration": 0.029265,
     "end_time": "2024-03-26T09:12:14.313280",
     "exception": false,
     "start_time": "2024-03-26T09:12:14.284015",
     "status": "completed"
    },
    "tags": []
   },
   "outputs": [],
   "source": [
    "# TODO: Calculate the count and mean price for each category of the 'AreaSize' feature and display the results, sorted by 'AreaSize' in descending order.\n",
    "# Codes"
   ]
  },
  {
   "cell_type": "markdown",
   "id": "c6f901be",
   "metadata": {
    "papermill": {
     "duration": 0.022067,
     "end_time": "2024-03-26T09:12:14.357593",
     "exception": false,
     "start_time": "2024-03-26T09:12:14.335526",
     "status": "completed"
    },
    "tags": []
   },
   "source": [
    "**Description**<br>\n",
    "\n",
    "* Obviously with increasing the meter of a house the price will raise and Mean will be raised too . <br>\n",
    "\n",
    "* Distribution of houses according to Meter is : AveUnderMean - High - AveUpperMean - Small \n",
    "\n",
    "* There is just a house with a small size.(it's an outlier)"
   ]
  },
  {
   "cell_type": "code",
   "execution_count": 30,
   "id": "b82fe640",
   "metadata": {
    "execution": {
     "iopub.execute_input": "2024-03-26T09:12:14.403705Z",
     "iopub.status.busy": "2024-03-26T09:12:14.403275Z",
     "iopub.status.idle": "2024-03-26T09:12:14.407545Z",
     "shell.execute_reply": "2024-03-26T09:12:14.406683Z"
    },
    "papermill": {
     "duration": 0.030195,
     "end_time": "2024-03-26T09:12:14.409990",
     "exception": false,
     "start_time": "2024-03-26T09:12:14.379795",
     "status": "completed"
    },
    "tags": []
   },
   "outputs": [],
   "source": [
    "# TODO: Calculate the percentage distribution and mean price for each category of the 'Room' feature and display the results, sorted by room number.\n",
    "# Codes"
   ]
  },
  {
   "cell_type": "markdown",
   "id": "934e3583",
   "metadata": {
    "papermill": {
     "duration": 0.021883,
     "end_time": "2024-03-26T09:12:14.454383",
     "exception": false,
     "start_time": "2024-03-26T09:12:14.432500",
     "status": "completed"
    },
    "tags": []
   },
   "source": [
    "    \n",
    "**Description**<br>\n",
    "\n",
    "We can see the distribution of houses with :   <br>\n",
    "In row 2 , 3 , 1 , 4 , 5   and 0 rooms have the highest distribution. <br>\n",
    "\n",
    "Mean price for each has been shown. <br>\n",
    "Obviously, with raising the number of rooms the cost will be increased.<br>\n",
    "(Duplicate the cost for each 1 room  (except 4rooms to 5rooms)"
   ]
  },
  {
   "cell_type": "code",
   "execution_count": 31,
   "id": "9923dc47",
   "metadata": {
    "execution": {
     "iopub.execute_input": "2024-03-26T09:12:14.502160Z",
     "iopub.status.busy": "2024-03-26T09:12:14.501740Z",
     "iopub.status.idle": "2024-03-26T09:12:14.506358Z",
     "shell.execute_reply": "2024-03-26T09:12:14.505215Z"
    },
    "papermill": {
     "duration": 0.030354,
     "end_time": "2024-03-26T09:12:14.508486",
     "exception": false,
     "start_time": "2024-03-26T09:12:14.478132",
     "status": "completed"
    },
    "tags": []
   },
   "outputs": [],
   "source": [
    "# TODO: Calculate the count and mean price for each category of the 'Parking' feature and display the results.\n",
    "# Codes"
   ]
  },
  {
   "cell_type": "markdown",
   "id": "c7ddb7b4",
   "metadata": {
    "papermill": {
     "duration": 0.022092,
     "end_time": "2024-03-26T09:12:14.553025",
     "exception": false,
     "start_time": "2024-03-26T09:12:14.530933",
     "status": "completed"
    },
    "tags": []
   },
   "source": [
    "**Description**<br>\n",
    "\n",
    "* As we can see , most houses have parking (about 5.5x versus those without parking)<br>\n",
    "\n",
    "* Those houses with parking have higher costs.(about fourfold)(transparently Parking is an important feature for price) "
   ]
  },
  {
   "cell_type": "code",
   "execution_count": 32,
   "id": "851a9077",
   "metadata": {
    "execution": {
     "iopub.execute_input": "2024-03-26T09:12:14.599672Z",
     "iopub.status.busy": "2024-03-26T09:12:14.598894Z",
     "iopub.status.idle": "2024-03-26T09:12:14.604125Z",
     "shell.execute_reply": "2024-03-26T09:12:14.602998Z"
    },
    "papermill": {
     "duration": 0.031058,
     "end_time": "2024-03-26T09:12:14.606402",
     "exception": false,
     "start_time": "2024-03-26T09:12:14.575344",
     "status": "completed"
    },
    "tags": []
   },
   "outputs": [],
   "source": [
    "# TODO: Calculate the count and mean price for each category of the 'Warehouse' feature and display the results.\n",
    "# Codes"
   ]
  },
  {
   "cell_type": "markdown",
   "id": "44c08ee8",
   "metadata": {
    "papermill": {
     "duration": 0.022492,
     "end_time": "2024-03-26T09:12:14.651556",
     "exception": false,
     "start_time": "2024-03-26T09:12:14.629064",
     "status": "completed"
    },
    "tags": []
   },
   "source": [
    "    \n",
    "**Description**<br>\n",
    "\n",
    "* Most houses have Warehouse (about 10x versus those without Warehouse)\n",
    "\n",
    "* Houses with warehouse have higher costs . more than duoble"
   ]
  },
  {
   "cell_type": "code",
   "execution_count": 33,
   "id": "c9b36d16",
   "metadata": {
    "execution": {
     "iopub.execute_input": "2024-03-26T09:12:14.702387Z",
     "iopub.status.busy": "2024-03-26T09:12:14.700020Z",
     "iopub.status.idle": "2024-03-26T09:12:14.706163Z",
     "shell.execute_reply": "2024-03-26T09:12:14.705333Z"
    },
    "papermill": {
     "duration": 0.033368,
     "end_time": "2024-03-26T09:12:14.708575",
     "exception": false,
     "start_time": "2024-03-26T09:12:14.675207",
     "status": "completed"
    },
    "tags": []
   },
   "outputs": [],
   "source": [
    "# TODO: Calculate the count and mean price for each category of the 'Elevator' feature and display the results.\n",
    "# Codes"
   ]
  },
  {
   "cell_type": "markdown",
   "id": "7e2e7f39",
   "metadata": {
    "papermill": {
     "duration": 0.023379,
     "end_time": "2024-03-26T09:12:14.754615",
     "exception": false,
     "start_time": "2024-03-26T09:12:14.731236",
     "status": "completed"
    },
    "tags": []
   },
   "source": [
    "**Description**<br>\n",
    "\n",
    "* Most houses have Elevator (about 4x versus those without Elevator)\n",
    "\n",
    "* Houses with Elevator have higher costs .about 1.5X \n",
    "\n",
    "* Versus Parking and Warehouse  , Elevator has less influence on price\n"
   ]
  },
  {
   "cell_type": "code",
   "execution_count": 34,
   "id": "bf41dbc9",
   "metadata": {
    "execution": {
     "iopub.execute_input": "2024-03-26T09:12:14.802616Z",
     "iopub.status.busy": "2024-03-26T09:12:14.801627Z",
     "iopub.status.idle": "2024-03-26T09:12:14.808992Z",
     "shell.execute_reply": "2024-03-26T09:12:14.807838Z"
    },
    "papermill": {
     "duration": 0.034426,
     "end_time": "2024-03-26T09:12:14.811762",
     "exception": false,
     "start_time": "2024-03-26T09:12:14.777336",
     "status": "completed"
    },
    "tags": []
   },
   "outputs": [],
   "source": [
    "# TODO: Create a cross-tabulation between the 'Parking' and 'Room' features in the dataset.\n",
    "# Codes"
   ]
  },
  {
   "cell_type": "markdown",
   "id": "3a904a0c",
   "metadata": {
    "papermill": {
     "duration": 0.022612,
     "end_time": "2024-03-26T09:12:14.858009",
     "exception": false,
     "start_time": "2024-03-26T09:12:14.835397",
     "status": "completed"
    },
    "tags": []
   },
   "source": [
    "**Description**<br>\n",
    "\n",
    "* Most houses with 1 room or more have Parking.\n",
    "* With raising the number of rooms , houses with Parking have increasingly raised.\n",
    "\n"
   ]
  },
  {
   "cell_type": "code",
   "execution_count": 35,
   "id": "216806c8",
   "metadata": {
    "execution": {
     "iopub.execute_input": "2024-03-26T09:12:14.905936Z",
     "iopub.status.busy": "2024-03-26T09:12:14.905161Z",
     "iopub.status.idle": "2024-03-26T09:12:14.910332Z",
     "shell.execute_reply": "2024-03-26T09:12:14.908856Z"
    },
    "papermill": {
     "duration": 0.032211,
     "end_time": "2024-03-26T09:12:14.912947",
     "exception": false,
     "start_time": "2024-03-26T09:12:14.880736",
     "status": "completed"
    },
    "tags": []
   },
   "outputs": [],
   "source": [
    "# TODO: Calculate the mean price for each combination of 'Parking' and 'Warehouse' features in the dataset and round the results.\n",
    "# Codes"
   ]
  },
  {
   "cell_type": "markdown",
   "id": "2cd15ff0",
   "metadata": {
    "papermill": {
     "duration": 0.023206,
     "end_time": "2024-03-26T09:12:14.960376",
     "exception": false,
     "start_time": "2024-03-26T09:12:14.937170",
     "status": "completed"
    },
    "tags": []
   },
   "source": [
    "**Description**\n",
    "\n",
    "* It can be seen that houses with Warehouse and without Parking have less cost versus those houses with Parking.\n",
    "* If both features exist in a house , the cost of the house will be high.\n"
   ]
  },
  {
   "cell_type": "code",
   "execution_count": 36,
   "id": "491fd4d0",
   "metadata": {
    "execution": {
     "iopub.execute_input": "2024-03-26T09:12:15.008890Z",
     "iopub.status.busy": "2024-03-26T09:12:15.008459Z",
     "iopub.status.idle": "2024-03-26T09:12:15.013350Z",
     "shell.execute_reply": "2024-03-26T09:12:15.012240Z"
    },
    "papermill": {
     "duration": 0.032487,
     "end_time": "2024-03-26T09:12:15.015805",
     "exception": false,
     "start_time": "2024-03-26T09:12:14.983318",
     "status": "completed"
    },
    "tags": []
   },
   "outputs": [],
   "source": [
    "# TODO: Calculate the mean price for each combination of 'Room' and 'Warehouse' features in the dataset and round the results.\n",
    "# Codes"
   ]
  },
  {
   "cell_type": "markdown",
   "id": "3cfede16",
   "metadata": {
    "papermill": {
     "duration": 0.022581,
     "end_time": "2024-03-26T09:12:15.061877",
     "exception": false,
     "start_time": "2024-03-26T09:12:15.039296",
     "status": "completed"
    },
    "tags": []
   },
   "source": [
    "**Description**<br>\n",
    "* Except houses without room , with increasing the number of Rooms and Warehouse existance the cost will be increasingly raised.\n"
   ]
  },
  {
   "cell_type": "code",
   "execution_count": 37,
   "id": "a4ebc5f1",
   "metadata": {
    "execution": {
     "iopub.execute_input": "2024-03-26T09:12:15.110158Z",
     "iopub.status.busy": "2024-03-26T09:12:15.109749Z",
     "iopub.status.idle": "2024-03-26T09:12:15.114014Z",
     "shell.execute_reply": "2024-03-26T09:12:15.113061Z"
    },
    "papermill": {
     "duration": 0.031228,
     "end_time": "2024-03-26T09:12:15.116211",
     "exception": false,
     "start_time": "2024-03-26T09:12:15.084983",
     "status": "completed"
    },
    "tags": []
   },
   "outputs": [],
   "source": [
    "# TODO: Display the unique values of the 'Address' column in the dataset.\n",
    "# Codes"
   ]
  },
  {
   "cell_type": "code",
   "execution_count": 38,
   "id": "9a1c6b78",
   "metadata": {
    "execution": {
     "iopub.execute_input": "2024-03-26T09:12:15.164091Z",
     "iopub.status.busy": "2024-03-26T09:12:15.163405Z",
     "iopub.status.idle": "2024-03-26T09:12:15.167248Z",
     "shell.execute_reply": "2024-03-26T09:12:15.166432Z"
    },
    "papermill": {
     "duration": 0.030534,
     "end_time": "2024-03-26T09:12:15.169575",
     "exception": false,
     "start_time": "2024-03-26T09:12:15.139041",
     "status": "completed"
    },
    "tags": []
   },
   "outputs": [],
   "source": [
    "# TODO: Calculate and print the number of unique values in the 'Address' column of the dataset.\n",
    "# Codes"
   ]
  },
  {
   "cell_type": "markdown",
   "id": "62798183",
   "metadata": {
    "papermill": {
     "duration": 0.022927,
     "end_time": "2024-03-26T09:12:15.216099",
     "exception": false,
     "start_time": "2024-03-26T09:12:15.193172",
     "status": "completed"
    },
    "tags": []
   },
   "source": [
    "**Description**<br>\n",
    "\n",
    "Because we dont know that all names of addresses  have correct writing or human mistake has happened or not, we are going to \n",
    "remove any probable  problem in case of existance."
   ]
  },
  {
   "cell_type": "code",
   "execution_count": 39,
   "id": "c0f8df4c",
   "metadata": {
    "execution": {
     "iopub.execute_input": "2024-03-26T09:12:15.264218Z",
     "iopub.status.busy": "2024-03-26T09:12:15.263808Z",
     "iopub.status.idle": "2024-03-26T09:12:15.268385Z",
     "shell.execute_reply": "2024-03-26T09:12:15.267492Z"
    },
    "papermill": {
     "duration": 0.031789,
     "end_time": "2024-03-26T09:12:15.270835",
     "exception": false,
     "start_time": "2024-03-26T09:12:15.239046",
     "status": "completed"
    },
    "tags": []
   },
   "outputs": [],
   "source": [
    "# TODO: Remove non-alphabetic characters from the 'Address' column in the dataset and display the first five rows.\n",
    "# Codes"
   ]
  },
  {
   "cell_type": "code",
   "execution_count": 40,
   "id": "1b7a9396",
   "metadata": {
    "execution": {
     "iopub.execute_input": "2024-03-26T09:12:15.319223Z",
     "iopub.status.busy": "2024-03-26T09:12:15.318096Z",
     "iopub.status.idle": "2024-03-26T09:12:15.322483Z",
     "shell.execute_reply": "2024-03-26T09:12:15.321700Z"
    },
    "papermill": {
     "duration": 0.030847,
     "end_time": "2024-03-26T09:12:15.324722",
     "exception": false,
     "start_time": "2024-03-26T09:12:15.293875",
     "status": "completed"
    },
    "tags": []
   },
   "outputs": [],
   "source": [
    "# TODO: Calculate and print the number of unique values in the 'Address' column of the dataset after removing non-alphabetic characters.\n",
    "# Codes"
   ]
  },
  {
   "cell_type": "code",
   "execution_count": 41,
   "id": "686b5331",
   "metadata": {
    "execution": {
     "iopub.execute_input": "2024-03-26T09:12:15.373038Z",
     "iopub.status.busy": "2024-03-26T09:12:15.372386Z",
     "iopub.status.idle": "2024-03-26T09:12:15.377517Z",
     "shell.execute_reply": "2024-03-26T09:12:15.376527Z"
    },
    "papermill": {
     "duration": 0.032237,
     "end_time": "2024-03-26T09:12:15.380195",
     "exception": false,
     "start_time": "2024-03-26T09:12:15.347958",
     "status": "completed"
    },
    "tags": []
   },
   "outputs": [],
   "source": [
    "# TODO: Find and store the top 10 most frequently occurring values in the 'Address' column.\n",
    "# Codes"
   ]
  },
  {
   "cell_type": "code",
   "execution_count": 42,
   "id": "2c631b46",
   "metadata": {
    "execution": {
     "iopub.execute_input": "2024-03-26T09:12:15.428144Z",
     "iopub.status.busy": "2024-03-26T09:12:15.427742Z",
     "iopub.status.idle": "2024-03-26T09:12:15.432513Z",
     "shell.execute_reply": "2024-03-26T09:12:15.431226Z"
    },
    "papermill": {
     "duration": 0.031252,
     "end_time": "2024-03-26T09:12:15.434752",
     "exception": false,
     "start_time": "2024-03-26T09:12:15.403500",
     "status": "completed"
    },
    "tags": []
   },
   "outputs": [],
   "source": [
    "# TODO: Visualize the top 10 most frequently occurring values in the 'Address' column using a bar plot.\n",
    "# Codes"
   ]
  },
  {
   "cell_type": "code",
   "execution_count": 43,
   "id": "bfef850d",
   "metadata": {
    "execution": {
     "iopub.execute_input": "2024-03-26T09:12:15.484953Z",
     "iopub.status.busy": "2024-03-26T09:12:15.484251Z",
     "iopub.status.idle": "2024-03-26T09:12:15.488561Z",
     "shell.execute_reply": "2024-03-26T09:12:15.487479Z"
    },
    "papermill": {
     "duration": 0.032379,
     "end_time": "2024-03-26T09:12:15.491013",
     "exception": false,
     "start_time": "2024-03-26T09:12:15.458634",
     "status": "completed"
    },
    "tags": []
   },
   "outputs": [],
   "source": [
    "# TODO: Calculate the mean price for each unique address in the dataset and store the results. Identify and store the top 10 addresses with the highest mean price.\n",
    "# Codes"
   ]
  },
  {
   "cell_type": "code",
   "execution_count": 44,
   "id": "f7f8a088",
   "metadata": {
    "execution": {
     "iopub.execute_input": "2024-03-26T09:12:15.539743Z",
     "iopub.status.busy": "2024-03-26T09:12:15.538636Z",
     "iopub.status.idle": "2024-03-26T09:12:15.543068Z",
     "shell.execute_reply": "2024-03-26T09:12:15.542037Z"
    },
    "papermill": {
     "duration": 0.031008,
     "end_time": "2024-03-26T09:12:15.545258",
     "exception": false,
     "start_time": "2024-03-26T09:12:15.514250",
     "status": "completed"
    },
    "tags": []
   },
   "outputs": [],
   "source": [
    "# TODO: Calculate and round descriptive statistics for the 'Price' column in the dataset.\n",
    "# Codes"
   ]
  },
  {
   "cell_type": "code",
   "execution_count": 45,
   "id": "16aacd27",
   "metadata": {
    "execution": {
     "iopub.execute_input": "2024-03-26T09:12:15.593696Z",
     "iopub.status.busy": "2024-03-26T09:12:15.593033Z",
     "iopub.status.idle": "2024-03-26T09:12:15.597261Z",
     "shell.execute_reply": "2024-03-26T09:12:15.596492Z"
    },
    "papermill": {
     "duration": 0.030936,
     "end_time": "2024-03-26T09:12:15.599456",
     "exception": false,
     "start_time": "2024-03-26T09:12:15.568520",
     "status": "completed"
    },
    "tags": []
   },
   "outputs": [],
   "source": [
    "# TODO: Create a copy of the dataset and format the 'Price' and 'Price(USD)' columns to display values with comma separators and no decimal places.\n",
    "# Codes"
   ]
  },
  {
   "cell_type": "markdown",
   "id": "85f1bc45",
   "metadata": {
    "papermill": {
     "duration": 0.022864,
     "end_time": "2024-03-26T09:12:15.645604",
     "exception": false,
     "start_time": "2024-03-26T09:12:15.622740",
     "status": "completed"
    },
    "tags": []
   },
   "source": [
    "**Description**<br>\n",
    "* we create new variable to avoid changing the type of Price from numeric to object .\n",
    "* Price and Price(USD) are easily readable now . "
   ]
  },
  {
   "cell_type": "code",
   "execution_count": 46,
   "id": "e2faa6e7",
   "metadata": {
    "execution": {
     "iopub.execute_input": "2024-03-26T09:12:15.694098Z",
     "iopub.status.busy": "2024-03-26T09:12:15.693395Z",
     "iopub.status.idle": "2024-03-26T09:12:15.697173Z",
     "shell.execute_reply": "2024-03-26T09:12:15.696447Z"
    },
    "papermill": {
     "duration": 0.030783,
     "end_time": "2024-03-26T09:12:15.699556",
     "exception": false,
     "start_time": "2024-03-26T09:12:15.668773",
     "status": "completed"
    },
    "tags": []
   },
   "outputs": [],
   "source": [
    "# TODO: Create a heatmap to visualize the correlation matrix of numerical columns in the dataset, including annotations, using the 'summer' colormap and setting the format of annotations to one decimal place.\n",
    "# Codes"
   ]
  },
  {
   "cell_type": "code",
   "execution_count": 47,
   "id": "ac60e32a",
   "metadata": {
    "execution": {
     "iopub.execute_input": "2024-03-26T09:12:15.749228Z",
     "iopub.status.busy": "2024-03-26T09:12:15.748836Z",
     "iopub.status.idle": "2024-03-26T09:12:15.753692Z",
     "shell.execute_reply": "2024-03-26T09:12:15.752521Z"
    },
    "papermill": {
     "duration": 0.032485,
     "end_time": "2024-03-26T09:12:15.756376",
     "exception": false,
     "start_time": "2024-03-26T09:12:15.723891",
     "status": "completed"
    },
    "tags": []
   },
   "outputs": [],
   "source": [
    "# TODO: Visualize the distribution of prices from the dataset using a boxplot.\n",
    "# Codes"
   ]
  },
  {
   "cell_type": "code",
   "execution_count": 48,
   "id": "87f0468f",
   "metadata": {
    "execution": {
     "iopub.execute_input": "2024-03-26T09:12:15.806844Z",
     "iopub.status.busy": "2024-03-26T09:12:15.806463Z",
     "iopub.status.idle": "2024-03-26T09:12:15.811516Z",
     "shell.execute_reply": "2024-03-26T09:12:15.810381Z"
    },
    "papermill": {
     "duration": 0.033802,
     "end_time": "2024-03-26T09:12:15.814028",
     "exception": false,
     "start_time": "2024-03-26T09:12:15.780226",
     "status": "completed"
    },
    "tags": []
   },
   "outputs": [],
   "source": [
    "# TODO: Calculate the skewness of each numerical column in the dataset.\n",
    "# Codes"
   ]
  },
  {
   "cell_type": "markdown",
   "id": "f382a6b3",
   "metadata": {
    "papermill": {
     "duration": 0.023444,
     "end_time": "2024-03-26T09:12:15.861685",
     "exception": false,
     "start_time": "2024-03-26T09:12:15.838241",
     "status": "completed"
    },
    "tags": []
   },
   "source": [
    "**Description**<br>\n",
    "\n",
    "What are outliers in dataset ?\n",
    "\n",
    "Answer : Outliers are values at the extreme ends of a dataset.\n",
    "\n",
    "One of the best method to find out outliers : **Interquartile range method** \n",
    "\n",
    "Interquartile range method:\n",
    "\n",
    "1: Sort your data from low to high<br>\n",
    "2: Identify the `first quartile` (Q1), the `median`, and the `third quartile` (Q3).<br>\n",
    "3: Calculate your `IQR = Q3 – Q1`<br>\n",
    "4: Calculate your upper fence = `Q3 + (1.5 * IQR)`<br>\n",
    "5: Calculate your lower fence = `Q1 – (1.5 * IQR)`<br>\n",
    "6: Use your fences to highlight any outliers, all values that fall outside your fences.<br>\n",
    "7: Your outliers are any values **greater than your upper fence or less than your lower fence**.<br>\n"
   ]
  },
  {
   "cell_type": "code",
   "execution_count": 49,
   "id": "efc30fd3",
   "metadata": {
    "execution": {
     "iopub.execute_input": "2024-03-26T09:12:15.911976Z",
     "iopub.status.busy": "2024-03-26T09:12:15.911591Z",
     "iopub.status.idle": "2024-03-26T09:12:15.916840Z",
     "shell.execute_reply": "2024-03-26T09:12:15.915905Z"
    },
    "papermill": {
     "duration": 0.033534,
     "end_time": "2024-03-26T09:12:15.919051",
     "exception": false,
     "start_time": "2024-03-26T09:12:15.885517",
     "status": "completed"
    },
    "tags": []
   },
   "outputs": [],
   "source": [
    "# TODO: Define a function named \"Interquartile_Range\" that calculates the interquartile range (IQR) and fences for outlier detection for a given dataframe and target column.\n",
    "# Codes"
   ]
  },
  {
   "cell_type": "code",
   "execution_count": 50,
   "id": "abdc9f47",
   "metadata": {
    "execution": {
     "iopub.execute_input": "2024-03-26T09:12:15.971233Z",
     "iopub.status.busy": "2024-03-26T09:12:15.970056Z",
     "iopub.status.idle": "2024-03-26T09:12:15.974478Z",
     "shell.execute_reply": "2024-03-26T09:12:15.973689Z"
    },
    "papermill": {
     "duration": 0.032384,
     "end_time": "2024-03-26T09:12:15.976559",
     "exception": false,
     "start_time": "2024-03-26T09:12:15.944175",
     "status": "completed"
    },
    "tags": []
   },
   "outputs": [],
   "source": [
    "# TODO: Use the \"Interquartile_Range\" function to calculate the interquartile range (IQR) and fences for the 'Price' and 'Area' columns in the dataset.\n",
    "# Codes"
   ]
  },
  {
   "cell_type": "markdown",
   "id": "0b8704ac",
   "metadata": {
    "papermill": {
     "duration": 0.023904,
     "end_time": "2024-03-26T09:12:16.024169",
     "exception": false,
     "start_time": "2024-03-26T09:12:16.000265",
     "status": "completed"
    },
    "tags": []
   },
   "source": [
    "**Description**<br>\n",
    "* It must be considered that most outliers are on the right side dut to **Right_skewed** <br>\n",
    "so , we need to remove outliers on the right(Upper_Fence)\n",
    "\n",
    "* Among all the features , two of them have noticeable effect : **Area** and **Price** <br>\n",
    "We cant find out outliers from  (Room , Parking , Warehouse ,Elevator) features.<br>\n",
    "It's better to find out outliers first from Price , second Area"
   ]
  },
  {
   "cell_type": "code",
   "execution_count": 51,
   "id": "de685609",
   "metadata": {
    "execution": {
     "iopub.execute_input": "2024-03-26T09:12:16.075974Z",
     "iopub.status.busy": "2024-03-26T09:12:16.075542Z",
     "iopub.status.idle": "2024-03-26T09:12:16.080608Z",
     "shell.execute_reply": "2024-03-26T09:12:16.079500Z"
    },
    "papermill": {
     "duration": 0.033429,
     "end_time": "2024-03-26T09:12:16.083156",
     "exception": false,
     "start_time": "2024-03-26T09:12:16.049727",
     "status": "completed"
    },
    "tags": []
   },
   "outputs": [],
   "source": [
    "# TODO: Define upper fence values for the 'Price' and 'Area' columns. Identify and store the indices of data points exceeding these upper fences.\n",
    "# Codes"
   ]
  },
  {
   "cell_type": "markdown",
   "id": "bcb05370",
   "metadata": {
    "papermill": {
     "duration": 0.023482,
     "end_time": "2024-03-26T09:12:16.130492",
     "exception": false,
     "start_time": "2024-03-26T09:12:16.107010",
     "status": "completed"
    },
    "tags": []
   },
   "source": [
    "**Description**<br>\n",
    "\n",
    "* We can use of a method and add all the Outliers which are greater than UpperFence for both Price and Area and then <br>\n",
    "eliminate them from our Dataset(but in a new variable)"
   ]
  },
  {
   "cell_type": "code",
   "execution_count": 52,
   "id": "96c2df24",
   "metadata": {
    "execution": {
     "iopub.execute_input": "2024-03-26T09:12:16.180978Z",
     "iopub.status.busy": "2024-03-26T09:12:16.180079Z",
     "iopub.status.idle": "2024-03-26T09:12:16.184222Z",
     "shell.execute_reply": "2024-03-26T09:12:16.183480Z"
    },
    "papermill": {
     "duration": 0.031672,
     "end_time": "2024-03-26T09:12:16.186475",
     "exception": false,
     "start_time": "2024-03-26T09:12:16.154803",
     "status": "completed"
    },
    "tags": []
   },
   "outputs": [],
   "source": [
    "# TODO: Combine the indices of outliers identified for both 'Price' and 'Area' columns. Print the total number and percentage of outliers. Display the first five rows of the dataset for these outliers.\n",
    "# Codes"
   ]
  },
  {
   "cell_type": "code",
   "execution_count": 53,
   "id": "78708ebe",
   "metadata": {
    "execution": {
     "iopub.execute_input": "2024-03-26T09:12:16.237311Z",
     "iopub.status.busy": "2024-03-26T09:12:16.236514Z",
     "iopub.status.idle": "2024-03-26T09:12:16.240291Z",
     "shell.execute_reply": "2024-03-26T09:12:16.239562Z"
    },
    "papermill": {
     "duration": 0.03235,
     "end_time": "2024-03-26T09:12:16.242874",
     "exception": false,
     "start_time": "2024-03-26T09:12:16.210524",
     "status": "completed"
    },
    "tags": []
   },
   "outputs": [],
   "source": [
    "# TODO: Remove rows identified as outliers from the dataset and print the shape of the prepared dataset. Display the first five rows of the prepared dataset.\n",
    "# Codes"
   ]
  },
  {
   "cell_type": "code",
   "execution_count": 54,
   "id": "acb61a3b",
   "metadata": {
    "execution": {
     "iopub.execute_input": "2024-03-26T09:12:16.293445Z",
     "iopub.status.busy": "2024-03-26T09:12:16.293023Z",
     "iopub.status.idle": "2024-03-26T09:12:16.297705Z",
     "shell.execute_reply": "2024-03-26T09:12:16.296665Z"
    },
    "papermill": {
     "duration": 0.032794,
     "end_time": "2024-03-26T09:12:16.300192",
     "exception": false,
     "start_time": "2024-03-26T09:12:16.267398",
     "status": "completed"
    },
    "tags": []
   },
   "outputs": [],
   "source": [
    "# TODO: Visualize the distribution of prices from the prepared dataset without outliers using a boxplot.\n",
    "# Codes"
   ]
  },
  {
   "cell_type": "code",
   "execution_count": 55,
   "id": "4fe8a98e",
   "metadata": {
    "execution": {
     "iopub.execute_input": "2024-03-26T09:12:16.352520Z",
     "iopub.status.busy": "2024-03-26T09:12:16.352041Z",
     "iopub.status.idle": "2024-03-26T09:12:16.356935Z",
     "shell.execute_reply": "2024-03-26T09:12:16.355720Z"
    },
    "papermill": {
     "duration": 0.032995,
     "end_time": "2024-03-26T09:12:16.359286",
     "exception": false,
     "start_time": "2024-03-26T09:12:16.326291",
     "status": "completed"
    },
    "tags": []
   },
   "outputs": [],
   "source": [
    "# TODO: Calculate the skewness of each numerical column in the prepared dataset without outliers.\n",
    "# Codes"
   ]
  },
  {
   "cell_type": "markdown",
   "id": "7c4e010e",
   "metadata": {
    "papermill": {
     "duration": 0.024966,
     "end_time": "2024-03-26T09:12:16.408342",
     "exception": false,
     "start_time": "2024-03-26T09:12:16.383376",
     "status": "completed"
    },
    "tags": []
   },
   "source": [
    "**Description**<br>\n",
    "\n",
    "* Now we have more balanced data and its ready to be used for fitting.\n",
    "* Due to we have dropped lots of data from dataset we can use of both(with outliers and without) to check the \n",
    "accuracy for each one ."
   ]
  }
 ],
 "metadata": {
  "colab": {
   "provenance": []
  },
  "kaggle": {
   "accelerator": "none",
   "dataSources": [],
   "dockerImageVersionId": 30673,
   "isGpuEnabled": false,
   "isInternetEnabled": true,
   "language": "python",
   "sourceType": "notebook"
  },
  "kernelspec": {
   "display_name": "Python 3",
   "language": "python",
   "name": "python3"
  },
  "language_info": {
   "codemirror_mode": {
    "name": "ipython",
    "version": 3
   },
   "file_extension": ".py",
   "mimetype": "text/x-python",
   "name": "python",
   "nbconvert_exporter": "python",
   "pygments_lexer": "ipython3",
   "version": "3.10.13"
  },
  "papermill": {
   "default_parameters": {},
   "duration": 8.373128,
   "end_time": "2024-03-26T09:12:16.854255",
   "environment_variables": {},
   "exception": null,
   "input_path": "__notebook__.ipynb",
   "output_path": "__notebook__.ipynb",
   "parameters": {},
   "start_time": "2024-03-26T09:12:08.481127",
   "version": "2.5.0"
  }
 },
 "nbformat": 4,
 "nbformat_minor": 5
}
