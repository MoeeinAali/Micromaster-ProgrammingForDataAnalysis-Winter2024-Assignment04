{
 "cells": [
  {
   "cell_type": "markdown",
   "id": "2ef6021e",
   "metadata": {
    "papermill": {
     "duration": 0.015699,
     "end_time": "2024-03-26T09:09:46.112253",
     "exception": false,
     "start_time": "2024-03-26T09:09:46.096554",
     "status": "completed"
    },
    "tags": []
   },
   "source": [
    "<!DOCTYPE html>\n",
    "<html lang=\"en\">\n",
    "<head>\n",
    "<meta charset=\"UTF-8\">\n",
    "<meta name=\"viewport\" content=\"width=device-width, initial-scale=1.0\">\n",
    "</head>\n",
    "<body>\n",
    "\n",
    "<div style=\"text-align: center;\">\n",
    "    <img src=\"https://github.com/MoeeinAali/Micromaster-ProgrammingForDataAnalysis-Winter2024-Assignment04/blob/97fdfd106cd557f3ea3e4354354f1c6357f9ff45/micromaster.png\" width=170 alt=\"micromaster_logo\">\n",
    "    <br>\n",
    "<font face=\"Times New Roman\">\n",
    "<div dir=ltr align=center>\n",
    "<font color=0F5298 size=6>\n",
    "    <b>Sharif Micromaster</b>\n",
    "     <br>\n",
    "<font color=0F5298 size=6>\n",
    "   Programming For Data Analysis ~ Winter 2024\n",
    "  <br>\n",
    "<font color=606060 size=5>\n",
    "    Assignment 4: Introduction to Pandas, Matplotlib, Seaborn \n",
    "</div>\n",
    "</body>\n",
    "</html>\n",
    "<hr>"
   ]
  },
  {
   "cell_type": "markdown",
   "id": "e6f2995f",
   "metadata": {
    "papermill": {
     "duration": 0.014108,
     "end_time": "2024-03-26T09:09:46.140963",
     "exception": false,
     "start_time": "2024-03-26T09:09:46.126855",
     "status": "completed"
    },
    "tags": []
   },
   "source": [
    "<div><font face=\"Times New Roman\" size=6><div dir=ltr align=left><font color=686880 size=4>\n",
    "    Name:\n",
    "    <br>\n",
    "    No.: "
   ]
  },
  {
   "cell_type": "markdown",
   "id": "8bf9dcb1",
   "metadata": {
    "id": "n36HI7Oa3_4M",
    "jp-MarkdownHeadingCollapsed": true,
    "papermill": {
     "duration": 0.013965,
     "end_time": "2024-03-26T09:09:46.173735",
     "exception": false,
     "start_time": "2024-03-26T09:09:46.159770",
     "status": "completed"
    },
    "tags": []
   },
   "source": [
    "## Notebook Content\n",
    "0. [Introduction](#Introduction)\n",
    "1. [Importing Libraries](#importing-libraries)\n",
    "2. [Loading Dataset](#loading-dataset)\n",
    "3. [Basic Understanding of Dataset](#basic-understanding-of-dataset)\n",
    "4. [Exploratory Data Analysis](#exploratory-data-analysis)\n",
    "5. [Feature Engineering](#feature-engineering)\n",
    "6. [Data Pre-Processing](#data-pre-processing)"
   ]
  },
  {
   "cell_type": "markdown",
   "id": "bc40f939",
   "metadata": {
    "papermill": {
     "duration": 0.013863,
     "end_time": "2024-03-26T09:09:46.201700",
     "exception": false,
     "start_time": "2024-03-26T09:09:46.187837",
     "status": "completed"
    },
    "tags": []
   },
   "source": [
    "# Introduction\n",
    "This project aims to perform data preparation and initial analysis on a real estate dataset. The dataset includes information about properties from both sales and rental listings, sourced from various sources. The goal is to gain insights into the characteristics of the real estate market and prepare the data for further analysis or modeling.\n",
    "\n",
    "### **Project Steps**\n",
    "\n",
    "1. Data Loading and Inspection\n",
    "   - **Data Collection**: Real estate data is collected from multiple sources, including online listings and databases.\n",
    "   - **Initial Inspection**: The structure and basic characteristics of the dataset are examined, including the number of records, columns, and data types.\n",
    "\n",
    "\n",
    "2. Data Preprocessing\n",
    "   - **Duplicate Data Removal**: Any duplicate records in the dataset are identified and removed to ensure data integrity.\n",
    "   - **Data Type Identification**: The data types of columns are determined, and appropriate conversions are made if necessary.\n",
    "   - **Missing Data Handling**: Missing values in the dataset are addressed through imputation or removal, depending on the context.\n",
    "   - **Outlier Detection**: Outliers in the data, which may skew analysis results, are identified and processed using statistical methods.\n",
    "   - **Feature Engineering**: New features are created based on existing ones to enhance the predictive power of the dataset.\n",
    "\n",
    "\n",
    "3. Data Analysis and Exploration\n",
    "   - **Correlation Analysis**: Relationships between different variables in the dataset are explored using correlation matrices and visualizations.\n",
    "   - **Distribution Analysis**: The distribution of key variables, such as price and area, is examined to understand their patterns and characteristics.\n",
    "   - **Visualization**: Various plots and charts are created to visualize the data and gain insights into underlying trends and patterns.\n",
    "\n",
    "\n",
    "4. Data Modeling Preparation\n",
    "   - **Feature Selection**: Relevant features for modeling are selected based on their importance and contribution to the target variable.\n",
    "   - **Data Splitting**: The dataset is divided into training and testing sets to facilitate model training and evaluation.\n",
    "\n",
    "\n",
    "5. Conclusion\n",
    "   - This project serves as a foundational step in the analysis of real estate data. By preparing the dataset and performing initial exploratory analysis, it sets the stage for further analysis or modeling tasks. The insights gained from this project can be used by stakeholders in the real estate industry for decision-making and strategic planning.\n"
   ]
  },
  {
   "cell_type": "markdown",
   "id": "9e292838",
   "metadata": {
    "papermill": {
     "duration": 0.0148,
     "end_time": "2024-03-26T09:09:46.230788",
     "exception": false,
     "start_time": "2024-03-26T09:09:46.215988",
     "status": "completed"
    },
    "tags": []
   },
   "source": [
    "### Importing Libraries\n"
   ]
  },
  {
   "cell_type": "code",
   "execution_count": 1,
   "id": "776277ad",
   "metadata": {
    "execution": {
     "iopub.execute_input": "2024-03-26T09:09:46.262391Z",
     "iopub.status.busy": "2024-03-26T09:09:46.261821Z",
     "iopub.status.idle": "2024-03-26T09:09:46.267947Z",
     "shell.execute_reply": "2024-03-26T09:09:46.266793Z"
    },
    "papermill": {
     "duration": 0.024982,
     "end_time": "2024-03-26T09:09:46.270272",
     "exception": false,
     "start_time": "2024-03-26T09:09:46.245290",
     "status": "completed"
    },
    "tags": []
   },
   "outputs": [],
   "source": [
    "# TODO: Import Required libraries\n",
    "# Codes"
   ]
  },
  {
   "cell_type": "markdown",
   "id": "56547b5c",
   "metadata": {
    "papermill": {
     "duration": 0.014704,
     "end_time": "2024-03-26T09:09:46.300219",
     "exception": false,
     "start_time": "2024-03-26T09:09:46.285515",
     "status": "completed"
    },
    "tags": []
   },
   "source": [
    "### Loading Dataset"
   ]
  },
  {
   "cell_type": "code",
   "execution_count": 2,
   "id": "bd8f8726",
   "metadata": {
    "execution": {
     "iopub.execute_input": "2024-03-26T09:09:46.331032Z",
     "iopub.status.busy": "2024-03-26T09:09:46.330573Z",
     "iopub.status.idle": "2024-03-26T09:09:46.335834Z",
     "shell.execute_reply": "2024-03-26T09:09:46.334530Z"
    },
    "papermill": {
     "duration": 0.0235,
     "end_time": "2024-03-26T09:09:46.338213",
     "exception": false,
     "start_time": "2024-03-26T09:09:46.314713",
     "status": "completed"
    },
    "tags": []
   },
   "outputs": [],
   "source": [
    "# TODO: Load dataset.csv \n",
    "# Codes"
   ]
  },
  {
   "cell_type": "markdown",
   "id": "1efa20cf",
   "metadata": {
    "papermill": {
     "duration": 0.014013,
     "end_time": "2024-03-26T09:09:46.366618",
     "exception": false,
     "start_time": "2024-03-26T09:09:46.352605",
     "status": "completed"
    },
    "tags": []
   },
   "source": [
    "## Basic Understanding of Dataset"
   ]
  },
  {
   "cell_type": "code",
   "execution_count": 3,
   "id": "1c99b6b8",
   "metadata": {
    "execution": {
     "iopub.execute_input": "2024-03-26T09:09:46.397256Z",
     "iopub.status.busy": "2024-03-26T09:09:46.396806Z",
     "iopub.status.idle": "2024-03-26T09:09:46.402039Z",
     "shell.execute_reply": "2024-03-26T09:09:46.400916Z"
    },
    "papermill": {
     "duration": 0.023385,
     "end_time": "2024-03-26T09:09:46.404294",
     "exception": false,
     "start_time": "2024-03-26T09:09:46.380909",
     "status": "completed"
    },
    "tags": []
   },
   "outputs": [],
   "source": [
    "# TODO: Print Shape of our Dataset\n",
    "# Codes"
   ]
  },
  {
   "cell_type": "code",
   "execution_count": 4,
   "id": "b6744344",
   "metadata": {
    "execution": {
     "iopub.execute_input": "2024-03-26T09:09:46.435513Z",
     "iopub.status.busy": "2024-03-26T09:09:46.435075Z",
     "iopub.status.idle": "2024-03-26T09:09:46.440040Z",
     "shell.execute_reply": "2024-03-26T09:09:46.438978Z"
    },
    "papermill": {
     "duration": 0.023534,
     "end_time": "2024-03-26T09:09:46.442345",
     "exception": false,
     "start_time": "2024-03-26T09:09:46.418811",
     "status": "completed"
    },
    "tags": []
   },
   "outputs": [],
   "source": [
    "# TODO: Print Columns of Dataset\n",
    "# Codes"
   ]
  },
  {
   "cell_type": "code",
   "execution_count": 5,
   "id": "0de47697",
   "metadata": {
    "execution": {
     "iopub.execute_input": "2024-03-26T09:09:46.473552Z",
     "iopub.status.busy": "2024-03-26T09:09:46.473126Z",
     "iopub.status.idle": "2024-03-26T09:09:46.477934Z",
     "shell.execute_reply": "2024-03-26T09:09:46.476716Z"
    },
    "papermill": {
     "duration": 0.023294,
     "end_time": "2024-03-26T09:09:46.480299",
     "exception": false,
     "start_time": "2024-03-26T09:09:46.457005",
     "status": "completed"
    },
    "tags": []
   },
   "outputs": [],
   "source": [
    "# TODO: Print first 5 rows of the dataset\n",
    "# Codes"
   ]
  },
  {
   "cell_type": "code",
   "execution_count": 6,
   "id": "0a5529dc",
   "metadata": {
    "execution": {
     "iopub.execute_input": "2024-03-26T09:09:46.511272Z",
     "iopub.status.busy": "2024-03-26T09:09:46.510795Z",
     "iopub.status.idle": "2024-03-26T09:09:46.515345Z",
     "shell.execute_reply": "2024-03-26T09:09:46.514196Z"
    },
    "papermill": {
     "duration": 0.022778,
     "end_time": "2024-03-26T09:09:46.517560",
     "exception": false,
     "start_time": "2024-03-26T09:09:46.494782",
     "status": "completed"
    },
    "tags": []
   },
   "outputs": [],
   "source": [
    "# TODO: Print last 5 rows of the dataset\n",
    "# Codes"
   ]
  },
  {
   "cell_type": "code",
   "execution_count": 7,
   "id": "c37082ef",
   "metadata": {
    "execution": {
     "iopub.execute_input": "2024-03-26T09:09:46.549397Z",
     "iopub.status.busy": "2024-03-26T09:09:46.548641Z",
     "iopub.status.idle": "2024-03-26T09:09:46.553508Z",
     "shell.execute_reply": "2024-03-26T09:09:46.552456Z"
    },
    "papermill": {
     "duration": 0.023387,
     "end_time": "2024-03-26T09:09:46.555760",
     "exception": false,
     "start_time": "2024-03-26T09:09:46.532373",
     "status": "completed"
    },
    "tags": []
   },
   "outputs": [],
   "source": [
    "# TODO: Number of Duplicated in our dataset\n",
    "# Codes\n",
    "# TODO: The percentage of Duplicated in our dataset\n",
    "# Codes"
   ]
  },
  {
   "cell_type": "code",
   "execution_count": 8,
   "id": "95785f12",
   "metadata": {
    "execution": {
     "iopub.execute_input": "2024-03-26T09:09:46.587017Z",
     "iopub.status.busy": "2024-03-26T09:09:46.586555Z",
     "iopub.status.idle": "2024-03-26T09:09:46.591827Z",
     "shell.execute_reply": "2024-03-26T09:09:46.590395Z"
    },
    "papermill": {
     "duration": 0.0243,
     "end_time": "2024-03-26T09:09:46.594700",
     "exception": false,
     "start_time": "2024-03-26T09:09:46.570400",
     "status": "completed"
    },
    "tags": []
   },
   "outputs": [],
   "source": [
    "# TODO: Types of our Columns in Dataset\n",
    "# Codes"
   ]
  },
  {
   "cell_type": "markdown",
   "id": "9ab724e4",
   "metadata": {
    "papermill": {
     "duration": 0.014433,
     "end_time": "2024-03-26T09:09:46.624207",
     "exception": false,
     "start_time": "2024-03-26T09:09:46.609774",
     "status": "completed"
    },
    "tags": []
   },
   "source": [
    "**Description**<br>\n",
    "\n",
    "* Except Area feature , all of them have right type . we have to change its type later .<br>\n"
   ]
  },
  {
   "cell_type": "code",
   "execution_count": 9,
   "id": "73a1ea6e",
   "metadata": {
    "execution": {
     "iopub.execute_input": "2024-03-26T09:09:46.656321Z",
     "iopub.status.busy": "2024-03-26T09:09:46.655866Z",
     "iopub.status.idle": "2024-03-26T09:09:46.661204Z",
     "shell.execute_reply": "2024-03-26T09:09:46.659952Z"
    },
    "papermill": {
     "duration": 0.024071,
     "end_time": "2024-03-26T09:09:46.663665",
     "exception": false,
     "start_time": "2024-03-26T09:09:46.639594",
     "status": "completed"
    },
    "tags": []
   },
   "outputs": [],
   "source": [
    "# TODO: Print the number of missing values in our Dataset for each Column\n",
    "# Codes\n",
    "# TODO: The percentage of missing values in our Dataset for each Column\n",
    "# Codes"
   ]
  },
  {
   "cell_type": "markdown",
   "id": "14d8e480",
   "metadata": {
    "papermill": {
     "duration": 0.014506,
     "end_time": "2024-03-26T09:09:46.693092",
     "exception": false,
     "start_time": "2024-03-26T09:09:46.678586",
     "status": "completed"
    },
    "tags": []
   },
   "source": [
    "**Description**<br>\n",
    "\n",
    "* Due to Address feature plays an important role and it must be exact, we can't replace missing values with anything.\n",
    "* Consequently, we will drop those missing values later."
   ]
  },
  {
   "cell_type": "code",
   "execution_count": 10,
   "id": "dba23541",
   "metadata": {
    "execution": {
     "iopub.execute_input": "2024-03-26T09:09:46.725857Z",
     "iopub.status.busy": "2024-03-26T09:09:46.725448Z",
     "iopub.status.idle": "2024-03-26T09:09:46.729975Z",
     "shell.execute_reply": "2024-03-26T09:09:46.728808Z"
    },
    "papermill": {
     "duration": 0.023467,
     "end_time": "2024-03-26T09:09:46.732292",
     "exception": false,
     "start_time": "2024-03-26T09:09:46.708825",
     "status": "completed"
    },
    "tags": []
   },
   "outputs": [],
   "source": [
    "# TODO: Print the cardinality of our Columns"
   ]
  },
  {
   "cell_type": "markdown",
   "id": "7a007cea",
   "metadata": {
    "papermill": {
     "duration": 0.014427,
     "end_time": "2024-03-26T09:09:46.761692",
     "exception": false,
     "start_time": "2024-03-26T09:09:46.747265",
     "status": "completed"
    },
    "tags": []
   },
   "source": [
    "## Exploratory Data Analysis"
   ]
  },
  {
   "cell_type": "code",
   "execution_count": 11,
   "id": "e8ae6963",
   "metadata": {
    "execution": {
     "iopub.execute_input": "2024-03-26T09:09:46.879208Z",
     "iopub.status.busy": "2024-03-26T09:09:46.878766Z",
     "iopub.status.idle": "2024-03-26T09:09:46.883152Z",
     "shell.execute_reply": "2024-03-26T09:09:46.881983Z"
    },
    "papermill": {
     "duration": 0.108965,
     "end_time": "2024-03-26T09:09:46.885432",
     "exception": false,
     "start_time": "2024-03-26T09:09:46.776467",
     "status": "completed"
    },
    "tags": []
   },
   "outputs": [],
   "source": [
    "# TODO: Plot the distribution of prices from the dataset using a histogram with kernel density estimation enabled, specifying a palette and setting the number of bins to 100.\n",
    "# Codes"
   ]
  },
  {
   "cell_type": "markdown",
   "id": "0a8ac9ab",
   "metadata": {
    "papermill": {
     "duration": 0.014776,
     "end_time": "2024-03-26T09:09:46.915335",
     "exception": false,
     "start_time": "2024-03-26T09:09:46.900559",
     "status": "completed"
    },
    "tags": []
   },
   "source": [
    "**Description**<br>\n",
    "\n",
    "* Most houses have roughly close price in one third of the first part\n",
    "* Outliers are obvious now(on the right side)"
   ]
  },
  {
   "cell_type": "code",
   "execution_count": 12,
   "id": "150ea30c",
   "metadata": {
    "execution": {
     "iopub.execute_input": "2024-03-26T09:09:46.948316Z",
     "iopub.status.busy": "2024-03-26T09:09:46.947845Z",
     "iopub.status.idle": "2024-03-26T09:09:46.952292Z",
     "shell.execute_reply": "2024-03-26T09:09:46.951077Z"
    },
    "papermill": {
     "duration": 0.024204,
     "end_time": "2024-03-26T09:09:46.954679",
     "exception": false,
     "start_time": "2024-03-26T09:09:46.930475",
     "status": "completed"
    },
    "tags": []
   },
   "outputs": [],
   "source": [
    "# TODO: Visualize the distribution of the number of rooms (Room) from the dataset using a histogram.\n",
    "# Codes"
   ]
  },
  {
   "cell_type": "markdown",
   "id": "6a7af257",
   "metadata": {
    "papermill": {
     "duration": 0.014667,
     "end_time": "2024-03-26T09:09:46.984344",
     "exception": false,
     "start_time": "2024-03-26T09:09:46.969677",
     "status": "completed"
    },
    "tags": []
   },
   "source": [
    "**Description**<br>\n",
    "\n",
    "* About 2000 houses have exactly 2 rooms (most houses) \n",
    "* Distribution of 1 and 3 rooms are roughly the same (a little more 3 rooms)\n",
    "* we have not many houses with 4 or 5 rooms (in total about 150 houses)\n",
    "* houses without room is rarely seen \n",
    "\n",
    "**Conclusion**\n",
    "* Mean of rooms is roughly 2."
   ]
  },
  {
   "cell_type": "code",
   "execution_count": 13,
   "id": "5772bb3e",
   "metadata": {
    "execution": {
     "iopub.execute_input": "2024-03-26T09:09:47.016919Z",
     "iopub.status.busy": "2024-03-26T09:09:47.016487Z",
     "iopub.status.idle": "2024-03-26T09:09:47.021079Z",
     "shell.execute_reply": "2024-03-26T09:09:47.019809Z"
    },
    "papermill": {
     "duration": 0.0238,
     "end_time": "2024-03-26T09:09:47.023358",
     "exception": false,
     "start_time": "2024-03-26T09:09:46.999558",
     "status": "completed"
    },
    "tags": []
   },
   "outputs": [],
   "source": [
    "# TODO: Create subplots to visualize the distribution of boolean columns ('Parking', 'Warehouse', 'Elevator') from the dataset using countplots.\n",
    "# Codes"
   ]
  },
  {
   "cell_type": "markdown",
   "id": "a550aaf9",
   "metadata": {
    "papermill": {
     "duration": 0.014816,
     "end_time": "2024-03-26T09:09:47.053312",
     "exception": false,
     "start_time": "2024-03-26T09:09:47.038496",
     "status": "completed"
    },
    "tags": []
   },
   "source": [
    "**Description**<br>\n",
    "\n",
    "* Most houses have Parking , Warehouse and Elevator (all these three features )\n",
    "* Most houses have Warehouse.(houses without warehouse are very low)\n",
    "* Those houses without Parking and Elevator have the same distribution(less than 1000 more than 500)\n"
   ]
  },
  {
   "cell_type": "markdown",
   "id": "5208e70c",
   "metadata": {
    "papermill": {
     "duration": 0.01469,
     "end_time": "2024-03-26T09:09:47.083175",
     "exception": false,
     "start_time": "2024-03-26T09:09:47.068485",
     "status": "completed"
    },
    "tags": []
   },
   "source": [
    "## Feature Engineering"
   ]
  },
  {
   "cell_type": "code",
   "execution_count": 14,
   "id": "aa6cd424",
   "metadata": {
    "execution": {
     "iopub.execute_input": "2024-03-26T09:09:47.115243Z",
     "iopub.status.busy": "2024-03-26T09:09:47.114796Z",
     "iopub.status.idle": "2024-03-26T09:09:47.119339Z",
     "shell.execute_reply": "2024-03-26T09:09:47.118206Z"
    },
    "papermill": {
     "duration": 0.023437,
     "end_time": "2024-03-26T09:09:47.121641",
     "exception": false,
     "start_time": "2024-03-26T09:09:47.098204",
     "status": "completed"
    },
    "tags": []
   },
   "outputs": [],
   "source": [
    "# TODO: Display the data types of columns in the dataset.\n",
    "# Codes"
   ]
  },
  {
   "cell_type": "markdown",
   "id": "2fd2019b",
   "metadata": {
    "papermill": {
     "duration": 0.014715,
     "end_time": "2024-03-26T09:09:47.151545",
     "exception": false,
     "start_time": "2024-03-26T09:09:47.136830",
     "status": "completed"
    },
    "tags": []
   },
   "source": [
    "**Description**<br>\n",
    "\n",
    "The type of Area must be changed if we want to show and do feature engineering .<br>\n",
    "\n",
    "To be possible to change its type we need to remove comma between numbers than we are capable changing its type.\n"
   ]
  },
  {
   "cell_type": "code",
   "execution_count": 15,
   "id": "348bdbb2",
   "metadata": {
    "execution": {
     "iopub.execute_input": "2024-03-26T09:09:47.184125Z",
     "iopub.status.busy": "2024-03-26T09:09:47.183653Z",
     "iopub.status.idle": "2024-03-26T09:09:47.188776Z",
     "shell.execute_reply": "2024-03-26T09:09:47.187489Z"
    },
    "papermill": {
     "duration": 0.024203,
     "end_time": "2024-03-26T09:09:47.190980",
     "exception": false,
     "start_time": "2024-03-26T09:09:47.166777",
     "status": "completed"
    },
    "tags": []
   },
   "outputs": [],
   "source": [
    "# TODO: Remove commas from the 'Area' column and convert it to numeric data type.\n",
    "# Codes"
   ]
  },
  {
   "cell_type": "code",
   "execution_count": 16,
   "id": "7def9070",
   "metadata": {
    "execution": {
     "iopub.execute_input": "2024-03-26T09:09:47.224422Z",
     "iopub.status.busy": "2024-03-26T09:09:47.223963Z",
     "iopub.status.idle": "2024-03-26T09:09:47.229038Z",
     "shell.execute_reply": "2024-03-26T09:09:47.227739Z"
    },
    "papermill": {
     "duration": 0.025116,
     "end_time": "2024-03-26T09:09:47.231636",
     "exception": false,
     "start_time": "2024-03-26T09:09:47.206520",
     "status": "completed"
    },
    "tags": []
   },
   "outputs": [],
   "source": [
    "# TODO: Generate descriptive statistics for the 'Area' column in the dataset.\n",
    "# Codes"
   ]
  },
  {
   "cell_type": "markdown",
   "id": "f0538269",
   "metadata": {
    "papermill": {
     "duration": 0.015221,
     "end_time": "2024-03-26T09:09:47.262158",
     "exception": false,
     "start_time": "2024-03-26T09:09:47.246937",
     "status": "completed"
    },
    "tags": []
   },
   "source": [
    "**Description**<br>\n",
    "\n",
    "We are going to divide Area feature to 4 category : Small(0-30) - AveUnderMean(30-90) - AveUpperMean(90-120)- High(120-...)\n",
    "\n",
    "except these features other will be replaced to nan values"
   ]
  },
  {
   "cell_type": "code",
   "execution_count": 17,
   "id": "324e8189",
   "metadata": {
    "execution": {
     "iopub.execute_input": "2024-03-26T09:09:47.294920Z",
     "iopub.status.busy": "2024-03-26T09:09:47.294440Z",
     "iopub.status.idle": "2024-03-26T09:09:47.299856Z",
     "shell.execute_reply": "2024-03-26T09:09:47.298711Z"
    },
    "papermill": {
     "duration": 0.024964,
     "end_time": "2024-03-26T09:09:47.302597",
     "exception": false,
     "start_time": "2024-03-26T09:09:47.277633",
     "status": "completed"
    },
    "tags": []
   },
   "outputs": [],
   "source": [
    "# TODO: Create a new feature 'AreaSize' based on the 'Area' column values, categorizing them as 'Small', 'AveUnderMean', 'AveUpperMean', or 'High'.\n",
    "# Codes"
   ]
  },
  {
   "cell_type": "code",
   "execution_count": 18,
   "id": "8c8b73eb",
   "metadata": {
    "execution": {
     "iopub.execute_input": "2024-03-26T09:09:47.335247Z",
     "iopub.status.busy": "2024-03-26T09:09:47.334666Z",
     "iopub.status.idle": "2024-03-26T09:09:47.339195Z",
     "shell.execute_reply": "2024-03-26T09:09:47.338247Z"
    },
    "papermill": {
     "duration": 0.023125,
     "end_time": "2024-03-26T09:09:47.341191",
     "exception": false,
     "start_time": "2024-03-26T09:09:47.318066",
     "status": "completed"
    },
    "tags": []
   },
   "outputs": [],
   "source": [
    "# TODO: Visualize the distribution of the 'AreaSize' feature using a countplot.\n",
    "# Codes"
   ]
  },
  {
   "cell_type": "markdown",
   "id": "ab0e3ded",
   "metadata": {
    "papermill": {
     "duration": 0.015481,
     "end_time": "2024-03-26T09:09:47.372180",
     "exception": false,
     "start_time": "2024-03-26T09:09:47.356699",
     "status": "completed"
    },
    "tags": []
   },
   "source": [
    "**Description**<br>\n",
    "\n",
    "* As we can see  about half of houses have between 30-90 meters(m2)\n",
    "* Houses with 90-120 meters  have the same contribution with houses which have more than 120 meters\n",
    "* we can realize that right-skewed has happened.(outliers most are on the right part)\n",
    "* very low houeses are with less than 30 meters size.\n"
   ]
  },
  {
   "cell_type": "markdown",
   "id": "5b8379f1",
   "metadata": {
    "papermill": {
     "duration": 0.015076,
     "end_time": "2024-03-26T09:09:47.402850",
     "exception": false,
     "start_time": "2024-03-26T09:09:47.387774",
     "status": "completed"
    },
    "tags": []
   },
   "source": [
    "We are going to determine 4 level for Price feature : Cheap , AveUnderMean , AveUpperMean , Expensive <br>\n",
    "\n",
    "- `cheap` : 0-25% \n",
    "- `AveUnderMean` : 25%-50%\n",
    "- `AveUpperMean` : 50%-75%\n",
    "- `Expensive` : upper 75%"
   ]
  },
  {
   "cell_type": "code",
   "execution_count": 19,
   "id": "4fac84ab",
   "metadata": {
    "execution": {
     "iopub.execute_input": "2024-03-26T09:09:47.436654Z",
     "iopub.status.busy": "2024-03-26T09:09:47.436216Z",
     "iopub.status.idle": "2024-03-26T09:09:47.440428Z",
     "shell.execute_reply": "2024-03-26T09:09:47.439437Z"
    },
    "papermill": {
     "duration": 0.023623,
     "end_time": "2024-03-26T09:09:47.442618",
     "exception": false,
     "start_time": "2024-03-26T09:09:47.418995",
     "status": "completed"
    },
    "tags": []
   },
   "outputs": [],
   "source": [
    "# TODO: Create a new feature 'PriceLevel' based on the 'Price' column values, categorizing them as 'Cheap', 'AveUnderMean', 'AveUpperMean', or 'Expensive'.\n",
    "# Codes"
   ]
  },
  {
   "cell_type": "code",
   "execution_count": 20,
   "id": "d5995c07",
   "metadata": {
    "execution": {
     "iopub.execute_input": "2024-03-26T09:09:47.476812Z",
     "iopub.status.busy": "2024-03-26T09:09:47.475946Z",
     "iopub.status.idle": "2024-03-26T09:09:47.480073Z",
     "shell.execute_reply": "2024-03-26T09:09:47.479263Z"
    },
    "papermill": {
     "duration": 0.023562,
     "end_time": "2024-03-26T09:09:47.482226",
     "exception": false,
     "start_time": "2024-03-26T09:09:47.458664",
     "status": "completed"
    },
    "tags": []
   },
   "outputs": [],
   "source": [
    "# TODO: Visualize the distribution of the 'PriceLevel' feature using a countplot.\n",
    "# Codes"
   ]
  },
  {
   "cell_type": "markdown",
   "id": "de43a1cc",
   "metadata": {
    "papermill": {
     "duration": 0.015646,
     "end_time": "2024-03-26T09:09:47.514483",
     "exception": false,
     "start_time": "2024-03-26T09:09:47.498837",
     "status": "completed"
    },
    "tags": []
   },
   "source": [
    "**Description**<br>\n",
    "\n",
    "We have very balanced distribution in 4 parts"
   ]
  },
  {
   "cell_type": "markdown",
   "id": "bdee76b0",
   "metadata": {
    "papermill": {
     "duration": 0.015186,
     "end_time": "2024-03-26T09:09:47.545247",
     "exception": false,
     "start_time": "2024-03-26T09:09:47.530061",
     "status": "completed"
    },
    "tags": []
   },
   "source": [
    "## Data Pre-Processing"
   ]
  },
  {
   "cell_type": "code",
   "execution_count": 21,
   "id": "cd42c16a",
   "metadata": {
    "execution": {
     "iopub.execute_input": "2024-03-26T09:09:47.579793Z",
     "iopub.status.busy": "2024-03-26T09:09:47.578946Z",
     "iopub.status.idle": "2024-03-26T09:09:47.583394Z",
     "shell.execute_reply": "2024-03-26T09:09:47.582262Z"
    },
    "papermill": {
     "duration": 0.024217,
     "end_time": "2024-03-26T09:09:47.585890",
     "exception": false,
     "start_time": "2024-03-26T09:09:47.561673",
     "status": "completed"
    },
    "tags": []
   },
   "outputs": [],
   "source": [
    "# TODO: Display a random sample of 10 rows from the dataset.\n",
    "# Codes"
   ]
  },
  {
   "cell_type": "code",
   "execution_count": 22,
   "id": "e0d1e529",
   "metadata": {
    "execution": {
     "iopub.execute_input": "2024-03-26T09:09:47.624230Z",
     "iopub.status.busy": "2024-03-26T09:09:47.623738Z",
     "iopub.status.idle": "2024-03-26T09:09:47.628520Z",
     "shell.execute_reply": "2024-03-26T09:09:47.627325Z"
    },
    "papermill": {
     "duration": 0.025269,
     "end_time": "2024-03-26T09:09:47.631042",
     "exception": false,
     "start_time": "2024-03-26T09:09:47.605773",
     "status": "completed"
    },
    "tags": []
   },
   "outputs": [],
   "source": [
    "# TODO: Calculate the number and percentage of missing values for each column in the dataset and display the results. Highlight the column with the maximum percentage of missing values in red.\n",
    "# Codes"
   ]
  },
  {
   "cell_type": "markdown",
   "id": "2c092bbc",
   "metadata": {
    "papermill": {
     "duration": 0.016297,
     "end_time": "2024-03-26T09:09:47.663572",
     "exception": false,
     "start_time": "2024-03-26T09:09:47.647275",
     "status": "completed"
    },
    "tags": []
   },
   "source": [
    "    \n",
    "**Description**<br>\n",
    "\n",
    "Address (location of house) is crucial , wa cant replace missing values with like(most frequent)\n",
    "(if we do that our model doesnt have good prediction) <br>\n",
    "So , we easily drop those missing values"
   ]
  },
  {
   "cell_type": "code",
   "execution_count": 23,
   "id": "83dd184f",
   "metadata": {
    "execution": {
     "iopub.execute_input": "2024-03-26T09:09:47.698324Z",
     "iopub.status.busy": "2024-03-26T09:09:47.697550Z",
     "iopub.status.idle": "2024-03-26T09:09:47.701557Z",
     "shell.execute_reply": "2024-03-26T09:09:47.700747Z"
    },
    "papermill": {
     "duration": 0.024146,
     "end_time": "2024-03-26T09:09:47.704094",
     "exception": false,
     "start_time": "2024-03-26T09:09:47.679948",
     "status": "completed"
    },
    "tags": []
   },
   "outputs": [],
   "source": [
    "# TODO: Remove rows with missing values from the dataset.\n",
    "# Codes"
   ]
  },
  {
   "cell_type": "code",
   "execution_count": 24,
   "id": "cfef6882",
   "metadata": {
    "execution": {
     "iopub.execute_input": "2024-03-26T09:09:47.738766Z",
     "iopub.status.busy": "2024-03-26T09:09:47.737991Z",
     "iopub.status.idle": "2024-03-26T09:09:47.741997Z",
     "shell.execute_reply": "2024-03-26T09:09:47.741165Z"
    },
    "papermill": {
     "duration": 0.024201,
     "end_time": "2024-03-26T09:09:47.744060",
     "exception": false,
     "start_time": "2024-03-26T09:09:47.719859",
     "status": "completed"
    },
    "tags": []
   },
   "outputs": [],
   "source": [
    "# TODO: Confirm that there are no missing values remaining in the dataset after removing them.\n",
    "# Codes"
   ]
  },
  {
   "cell_type": "code",
   "execution_count": 25,
   "id": "58b846aa",
   "metadata": {
    "execution": {
     "iopub.execute_input": "2024-03-26T09:09:47.778330Z",
     "iopub.status.busy": "2024-03-26T09:09:47.777548Z",
     "iopub.status.idle": "2024-03-26T09:09:47.781566Z",
     "shell.execute_reply": "2024-03-26T09:09:47.780775Z"
    },
    "papermill": {
     "duration": 0.023694,
     "end_time": "2024-03-26T09:09:47.783672",
     "exception": false,
     "start_time": "2024-03-26T09:09:47.759978",
     "status": "completed"
    },
    "tags": []
   },
   "outputs": [],
   "source": [
    "# TODO: Identify and count duplicated values in the dataset. Calculate and print the percentage of duplicated values.\n",
    "# Codes"
   ]
  },
  {
   "cell_type": "markdown",
   "id": "58c09cfa",
   "metadata": {
    "papermill": {
     "duration": 0.015483,
     "end_time": "2024-03-26T09:09:47.814912",
     "exception": false,
     "start_time": "2024-03-26T09:09:47.799429",
     "status": "completed"
    },
    "tags": []
   },
   "source": [
    "**Description**<br>\n",
    "\n",
    "We have 208 duplicated values .\n",
    "We can easily drop them"
   ]
  },
  {
   "cell_type": "code",
   "execution_count": 26,
   "id": "34e0b807",
   "metadata": {
    "execution": {
     "iopub.execute_input": "2024-03-26T09:09:47.850082Z",
     "iopub.status.busy": "2024-03-26T09:09:47.849256Z",
     "iopub.status.idle": "2024-03-26T09:09:47.854814Z",
     "shell.execute_reply": "2024-03-26T09:09:47.853474Z"
    },
    "papermill": {
     "duration": 0.026436,
     "end_time": "2024-03-26T09:09:47.857501",
     "exception": false,
     "start_time": "2024-03-26T09:09:47.831065",
     "status": "completed"
    },
    "tags": []
   },
   "outputs": [],
   "source": [
    "# TODO: Remove duplicated rows from the dataset, reset the index, and drop the old index column.\n",
    "# Codes"
   ]
  },
  {
   "cell_type": "code",
   "execution_count": 27,
   "id": "32f35d5f",
   "metadata": {
    "execution": {
     "iopub.execute_input": "2024-03-26T09:09:47.893239Z",
     "iopub.status.busy": "2024-03-26T09:09:47.892732Z",
     "iopub.status.idle": "2024-03-26T09:09:47.897606Z",
     "shell.execute_reply": "2024-03-26T09:09:47.896426Z"
    },
    "papermill": {
     "duration": 0.025457,
     "end_time": "2024-03-26T09:09:47.899842",
     "exception": false,
     "start_time": "2024-03-26T09:09:47.874385",
     "status": "completed"
    },
    "tags": []
   },
   "outputs": [],
   "source": [
    "# TODO: Print the new shape of the dataset after removing duplicated rows and resetting the index.\n",
    "# Codes"
   ]
  },
  {
   "cell_type": "code",
   "execution_count": 28,
   "id": "6180a687",
   "metadata": {
    "execution": {
     "iopub.execute_input": "2024-03-26T09:09:47.934950Z",
     "iopub.status.busy": "2024-03-26T09:09:47.933589Z",
     "iopub.status.idle": "2024-03-26T09:09:47.939344Z",
     "shell.execute_reply": "2024-03-26T09:09:47.938388Z"
    },
    "papermill": {
     "duration": 0.02589,
     "end_time": "2024-03-26T09:09:47.941792",
     "exception": false,
     "start_time": "2024-03-26T09:09:47.915902",
     "status": "completed"
    },
    "tags": []
   },
   "outputs": [],
   "source": [
    "# TODO: Display the data types of columns in the dataset after any transformations or modifications.\n",
    "# Codes"
   ]
  },
  {
   "cell_type": "markdown",
   "id": "7425f960",
   "metadata": {
    "papermill": {
     "duration": 0.017005,
     "end_time": "2024-03-26T09:09:47.976214",
     "exception": false,
     "start_time": "2024-03-26T09:09:47.959209",
     "status": "completed"
    },
    "tags": []
   },
   "source": [
    "**Description**<br>\n",
    "* About dtypes every thing is fine . <br>\n",
    "* We are going to check and discover each feature ."
   ]
  },
  {
   "cell_type": "code",
   "execution_count": 29,
   "id": "52a05967",
   "metadata": {
    "execution": {
     "iopub.execute_input": "2024-03-26T09:09:48.012155Z",
     "iopub.status.busy": "2024-03-26T09:09:48.011688Z",
     "iopub.status.idle": "2024-03-26T09:09:48.017565Z",
     "shell.execute_reply": "2024-03-26T09:09:48.016330Z"
    },
    "papermill": {
     "duration": 0.026846,
     "end_time": "2024-03-26T09:09:48.019969",
     "exception": false,
     "start_time": "2024-03-26T09:09:47.993123",
     "status": "completed"
    },
    "tags": []
   },
   "outputs": [],
   "source": [
    "# TODO: Calculate the count and mean price for each category of the 'AreaSize' feature and display the results, sorted by 'AreaSize' in descending order.\n",
    "# Codes"
   ]
  },
  {
   "cell_type": "markdown",
   "id": "5a3caf45",
   "metadata": {
    "papermill": {
     "duration": 0.016208,
     "end_time": "2024-03-26T09:09:48.052731",
     "exception": false,
     "start_time": "2024-03-26T09:09:48.036523",
     "status": "completed"
    },
    "tags": []
   },
   "source": [
    "**Description**<br>\n",
    "\n",
    "* Obviously with increasing the meter of a house the price will raise and Mean will be raised too . <br>\n",
    "\n",
    "* Distribution of houses according to Meter is : AveUnderMean - High - AveUpperMean - Small \n",
    "\n",
    "* There is just a house with a small size.(it's an outlier)"
   ]
  },
  {
   "cell_type": "code",
   "execution_count": 30,
   "id": "cb2acc27",
   "metadata": {
    "execution": {
     "iopub.execute_input": "2024-03-26T09:09:48.087166Z",
     "iopub.status.busy": "2024-03-26T09:09:48.086178Z",
     "iopub.status.idle": "2024-03-26T09:09:48.091579Z",
     "shell.execute_reply": "2024-03-26T09:09:48.090221Z"
    },
    "papermill": {
     "duration": 0.025631,
     "end_time": "2024-03-26T09:09:48.094259",
     "exception": false,
     "start_time": "2024-03-26T09:09:48.068628",
     "status": "completed"
    },
    "tags": []
   },
   "outputs": [],
   "source": [
    "# TODO: Calculate the percentage distribution and mean price for each category of the 'Room' feature and display the results, sorted by room number.\n",
    "# Codes"
   ]
  },
  {
   "cell_type": "markdown",
   "id": "ea821f0b",
   "metadata": {
    "papermill": {
     "duration": 0.016515,
     "end_time": "2024-03-26T09:09:48.127429",
     "exception": false,
     "start_time": "2024-03-26T09:09:48.110914",
     "status": "completed"
    },
    "tags": []
   },
   "source": [
    "    \n",
    "**Description**<br>\n",
    "\n",
    "We can see the distribution of houses with :   <br>\n",
    "In row 2 , 3 , 1 , 4 , 5   and 0 rooms have the highest distribution. <br>\n",
    "\n",
    "Mean price for each has been shown. <br>\n",
    "Obviously, with raising the number of rooms the cost will be increased.<br>\n",
    "(Duplicate the cost for each 1 room  (except 4rooms to 5rooms)"
   ]
  },
  {
   "cell_type": "code",
   "execution_count": 31,
   "id": "f0c9c2c9",
   "metadata": {
    "execution": {
     "iopub.execute_input": "2024-03-26T09:09:48.161315Z",
     "iopub.status.busy": "2024-03-26T09:09:48.160853Z",
     "iopub.status.idle": "2024-03-26T09:09:48.165394Z",
     "shell.execute_reply": "2024-03-26T09:09:48.164186Z"
    },
    "papermill": {
     "duration": 0.024559,
     "end_time": "2024-03-26T09:09:48.167838",
     "exception": false,
     "start_time": "2024-03-26T09:09:48.143279",
     "status": "completed"
    },
    "tags": []
   },
   "outputs": [],
   "source": [
    "# TODO: Calculate the count and mean price for each category of the 'Parking' feature and display the results.\n",
    "# Codes"
   ]
  },
  {
   "cell_type": "markdown",
   "id": "f303b5f9",
   "metadata": {
    "papermill": {
     "duration": 0.015867,
     "end_time": "2024-03-26T09:09:48.200291",
     "exception": false,
     "start_time": "2024-03-26T09:09:48.184424",
     "status": "completed"
    },
    "tags": []
   },
   "source": [
    "**Description**<br>\n",
    "\n",
    "* As we can see , most houses have parking (about 5.5x versus those without parking)<br>\n",
    "\n",
    "* Those houses with parking have higher costs.(about fourfold)(transparently Parking is an important feature for price) "
   ]
  },
  {
   "cell_type": "code",
   "execution_count": 32,
   "id": "851636cf",
   "metadata": {
    "execution": {
     "iopub.execute_input": "2024-03-26T09:09:48.237948Z",
     "iopub.status.busy": "2024-03-26T09:09:48.236305Z",
     "iopub.status.idle": "2024-03-26T09:09:48.242097Z",
     "shell.execute_reply": "2024-03-26T09:09:48.241132Z"
    },
    "papermill": {
     "duration": 0.027469,
     "end_time": "2024-03-26T09:09:48.244514",
     "exception": false,
     "start_time": "2024-03-26T09:09:48.217045",
     "status": "completed"
    },
    "tags": []
   },
   "outputs": [],
   "source": [
    "# TODO: Calculate the count and mean price for each category of the 'Warehouse' feature and display the results.\n",
    "# Codes"
   ]
  },
  {
   "cell_type": "markdown",
   "id": "c4b21d67",
   "metadata": {
    "papermill": {
     "duration": 0.015972,
     "end_time": "2024-03-26T09:09:48.277794",
     "exception": false,
     "start_time": "2024-03-26T09:09:48.261822",
     "status": "completed"
    },
    "tags": []
   },
   "source": [
    "    \n",
    "**Description**<br>\n",
    "\n",
    "* Most houses have Warehouse (about 10x versus those without Warehouse)\n",
    "\n",
    "* Houses with warehouse have higher costs . more than duoble"
   ]
  },
  {
   "cell_type": "code",
   "execution_count": 33,
   "id": "1b5a2951",
   "metadata": {
    "execution": {
     "iopub.execute_input": "2024-03-26T09:09:48.315042Z",
     "iopub.status.busy": "2024-03-26T09:09:48.314104Z",
     "iopub.status.idle": "2024-03-26T09:09:48.319233Z",
     "shell.execute_reply": "2024-03-26T09:09:48.318265Z"
    },
    "papermill": {
     "duration": 0.027658,
     "end_time": "2024-03-26T09:09:48.321676",
     "exception": false,
     "start_time": "2024-03-26T09:09:48.294018",
     "status": "completed"
    },
    "tags": []
   },
   "outputs": [],
   "source": [
    "# TODO: Calculate the count and mean price for each category of the 'Elevator' feature and display the results.\n",
    "# Codes"
   ]
  },
  {
   "cell_type": "markdown",
   "id": "0b24c530",
   "metadata": {
    "papermill": {
     "duration": 0.01627,
     "end_time": "2024-03-26T09:09:48.355016",
     "exception": false,
     "start_time": "2024-03-26T09:09:48.338746",
     "status": "completed"
    },
    "tags": []
   },
   "source": [
    "**Description**<br>\n",
    "\n",
    "* Most houses have Elevator (about 4x versus those without Elevator)\n",
    "\n",
    "* Houses with Elevator have higher costs .about 1.5X \n",
    "\n",
    "* Versus Parking and Warehouse  , Elevator has less influence on price\n"
   ]
  },
  {
   "cell_type": "code",
   "execution_count": 34,
   "id": "fa16c453",
   "metadata": {
    "execution": {
     "iopub.execute_input": "2024-03-26T09:09:48.390141Z",
     "iopub.status.busy": "2024-03-26T09:09:48.389388Z",
     "iopub.status.idle": "2024-03-26T09:09:48.394317Z",
     "shell.execute_reply": "2024-03-26T09:09:48.393311Z"
    },
    "papermill": {
     "duration": 0.025464,
     "end_time": "2024-03-26T09:09:48.396677",
     "exception": false,
     "start_time": "2024-03-26T09:09:48.371213",
     "status": "completed"
    },
    "tags": []
   },
   "outputs": [],
   "source": [
    "# TODO: Create a cross-tabulation between the 'Parking' and 'Room' features in the dataset.\n",
    "# Codes"
   ]
  },
  {
   "cell_type": "markdown",
   "id": "797cca65",
   "metadata": {
    "papermill": {
     "duration": 0.016276,
     "end_time": "2024-03-26T09:09:48.429082",
     "exception": false,
     "start_time": "2024-03-26T09:09:48.412806",
     "status": "completed"
    },
    "tags": []
   },
   "source": [
    "**Description**<br>\n",
    "\n",
    "* Most houses with 1 room or more have Parking.\n",
    "* With raising the number of rooms , houses with Parking have increasingly raised.\n",
    "\n"
   ]
  },
  {
   "cell_type": "code",
   "execution_count": 35,
   "id": "adfb777d",
   "metadata": {
    "execution": {
     "iopub.execute_input": "2024-03-26T09:09:48.464252Z",
     "iopub.status.busy": "2024-03-26T09:09:48.463394Z",
     "iopub.status.idle": "2024-03-26T09:09:48.468328Z",
     "shell.execute_reply": "2024-03-26T09:09:48.467517Z"
    },
    "papermill": {
     "duration": 0.025265,
     "end_time": "2024-03-26T09:09:48.470589",
     "exception": false,
     "start_time": "2024-03-26T09:09:48.445324",
     "status": "completed"
    },
    "tags": []
   },
   "outputs": [],
   "source": [
    "# TODO: Calculate the mean price for each combination of 'Parking' and 'Warehouse' features in the dataset and round the results.\n",
    "# Codes"
   ]
  },
  {
   "cell_type": "markdown",
   "id": "ab264ebd",
   "metadata": {
    "papermill": {
     "duration": 0.01594,
     "end_time": "2024-03-26T09:09:48.503269",
     "exception": false,
     "start_time": "2024-03-26T09:09:48.487329",
     "status": "completed"
    },
    "tags": []
   },
   "source": [
    "**Description**\n",
    "\n",
    "* It can be seen that houses with Warehouse and without Parking have less cost versus those houses with Parking.\n",
    "* If both features exist in a house , the cost of the house will be high.\n"
   ]
  },
  {
   "cell_type": "code",
   "execution_count": 36,
   "id": "32be2c20",
   "metadata": {
    "execution": {
     "iopub.execute_input": "2024-03-26T09:09:48.537742Z",
     "iopub.status.busy": "2024-03-26T09:09:48.537316Z",
     "iopub.status.idle": "2024-03-26T09:09:48.542202Z",
     "shell.execute_reply": "2024-03-26T09:09:48.541083Z"
    },
    "papermill": {
     "duration": 0.024862,
     "end_time": "2024-03-26T09:09:48.544466",
     "exception": false,
     "start_time": "2024-03-26T09:09:48.519604",
     "status": "completed"
    },
    "tags": []
   },
   "outputs": [],
   "source": [
    "# TODO: Calculate the mean price for each combination of 'Room' and 'Warehouse' features in the dataset and round the results.\n",
    "# Codes"
   ]
  },
  {
   "cell_type": "markdown",
   "id": "cf06c396",
   "metadata": {
    "papermill": {
     "duration": 0.01626,
     "end_time": "2024-03-26T09:09:48.578086",
     "exception": false,
     "start_time": "2024-03-26T09:09:48.561826",
     "status": "completed"
    },
    "tags": []
   },
   "source": [
    "**Description**<br>\n",
    "* Except houses without room , with increasing the number of Rooms and Warehouse existance the cost will be increasingly raised.\n"
   ]
  },
  {
   "cell_type": "code",
   "execution_count": 37,
   "id": "11986c89",
   "metadata": {
    "execution": {
     "iopub.execute_input": "2024-03-26T09:09:48.617930Z",
     "iopub.status.busy": "2024-03-26T09:09:48.617086Z",
     "iopub.status.idle": "2024-03-26T09:09:48.621276Z",
     "shell.execute_reply": "2024-03-26T09:09:48.620353Z"
    },
    "papermill": {
     "duration": 0.027998,
     "end_time": "2024-03-26T09:09:48.623446",
     "exception": false,
     "start_time": "2024-03-26T09:09:48.595448",
     "status": "completed"
    },
    "tags": []
   },
   "outputs": [],
   "source": [
    "# TODO: Display the unique values of the 'Address' column in the dataset.\n",
    "# Codes"
   ]
  },
  {
   "cell_type": "code",
   "execution_count": 38,
   "id": "104af3e1",
   "metadata": {
    "execution": {
     "iopub.execute_input": "2024-03-26T09:09:48.660278Z",
     "iopub.status.busy": "2024-03-26T09:09:48.659485Z",
     "iopub.status.idle": "2024-03-26T09:09:48.663484Z",
     "shell.execute_reply": "2024-03-26T09:09:48.662713Z"
    },
    "papermill": {
     "duration": 0.025495,
     "end_time": "2024-03-26T09:09:48.665614",
     "exception": false,
     "start_time": "2024-03-26T09:09:48.640119",
     "status": "completed"
    },
    "tags": []
   },
   "outputs": [],
   "source": [
    "# TODO: Calculate and print the number of unique values in the 'Address' column of the dataset.\n",
    "# Codes"
   ]
  },
  {
   "cell_type": "markdown",
   "id": "b92f162b",
   "metadata": {
    "papermill": {
     "duration": 0.016016,
     "end_time": "2024-03-26T09:09:48.698195",
     "exception": false,
     "start_time": "2024-03-26T09:09:48.682179",
     "status": "completed"
    },
    "tags": []
   },
   "source": [
    "**Description**<br>\n",
    "\n",
    "Because we dont know that all names of addresses  have correct writing or human mistake has happened or not, we are going to \n",
    "remove any probable  problem in case of existance."
   ]
  },
  {
   "cell_type": "code",
   "execution_count": 39,
   "id": "0bc32f37",
   "metadata": {
    "execution": {
     "iopub.execute_input": "2024-03-26T09:09:48.735121Z",
     "iopub.status.busy": "2024-03-26T09:09:48.734098Z",
     "iopub.status.idle": "2024-03-26T09:09:48.739940Z",
     "shell.execute_reply": "2024-03-26T09:09:48.738363Z"
    },
    "papermill": {
     "duration": 0.02803,
     "end_time": "2024-03-26T09:09:48.742644",
     "exception": false,
     "start_time": "2024-03-26T09:09:48.714614",
     "status": "completed"
    },
    "tags": []
   },
   "outputs": [],
   "source": [
    "# TODO: Remove non-alphabetic characters from the 'Address' column in the dataset and display the first five rows.\n",
    "# Codes"
   ]
  },
  {
   "cell_type": "code",
   "execution_count": 40,
   "id": "3f46a515",
   "metadata": {
    "execution": {
     "iopub.execute_input": "2024-03-26T09:09:48.777348Z",
     "iopub.status.busy": "2024-03-26T09:09:48.776890Z",
     "iopub.status.idle": "2024-03-26T09:09:48.781812Z",
     "shell.execute_reply": "2024-03-26T09:09:48.780678Z"
    },
    "papermill": {
     "duration": 0.025128,
     "end_time": "2024-03-26T09:09:48.784216",
     "exception": false,
     "start_time": "2024-03-26T09:09:48.759088",
     "status": "completed"
    },
    "tags": []
   },
   "outputs": [],
   "source": [
    "# TODO: Calculate and print the number of unique values in the 'Address' column of the dataset after removing non-alphabetic characters.\n",
    "# Codes"
   ]
  },
  {
   "cell_type": "code",
   "execution_count": 41,
   "id": "8cfb6d8b",
   "metadata": {
    "execution": {
     "iopub.execute_input": "2024-03-26T09:09:48.819286Z",
     "iopub.status.busy": "2024-03-26T09:09:48.818694Z",
     "iopub.status.idle": "2024-03-26T09:09:48.823817Z",
     "shell.execute_reply": "2024-03-26T09:09:48.822954Z"
    },
    "papermill": {
     "duration": 0.025093,
     "end_time": "2024-03-26T09:09:48.825785",
     "exception": false,
     "start_time": "2024-03-26T09:09:48.800692",
     "status": "completed"
    },
    "tags": []
   },
   "outputs": [],
   "source": [
    "# TODO: Find and store the top 10 most frequently occurring values in the 'Address' column.\n",
    "# Codes"
   ]
  },
  {
   "cell_type": "code",
   "execution_count": 42,
   "id": "aff59f45",
   "metadata": {
    "execution": {
     "iopub.execute_input": "2024-03-26T09:09:48.861006Z",
     "iopub.status.busy": "2024-03-26T09:09:48.859825Z",
     "iopub.status.idle": "2024-03-26T09:09:48.864638Z",
     "shell.execute_reply": "2024-03-26T09:09:48.863781Z"
    },
    "papermill": {
     "duration": 0.02484,
     "end_time": "2024-03-26T09:09:48.866989",
     "exception": false,
     "start_time": "2024-03-26T09:09:48.842149",
     "status": "completed"
    },
    "tags": []
   },
   "outputs": [],
   "source": [
    "# TODO: Visualize the top 10 most frequently occurring values in the 'Address' column using a bar plot.\n",
    "# Codes"
   ]
  },
  {
   "cell_type": "code",
   "execution_count": 43,
   "id": "d9df2cb6",
   "metadata": {
    "execution": {
     "iopub.execute_input": "2024-03-26T09:09:48.903274Z",
     "iopub.status.busy": "2024-03-26T09:09:48.902812Z",
     "iopub.status.idle": "2024-03-26T09:09:48.907521Z",
     "shell.execute_reply": "2024-03-26T09:09:48.906323Z"
    },
    "papermill": {
     "duration": 0.025285,
     "end_time": "2024-03-26T09:09:48.909789",
     "exception": false,
     "start_time": "2024-03-26T09:09:48.884504",
     "status": "completed"
    },
    "tags": []
   },
   "outputs": [],
   "source": [
    "# TODO: Calculate the mean price for each unique address in the dataset and store the results. Identify and store the top 10 addresses with the highest mean price.\n",
    "# Codes"
   ]
  },
  {
   "cell_type": "code",
   "execution_count": 44,
   "id": "8cdb1403",
   "metadata": {
    "execution": {
     "iopub.execute_input": "2024-03-26T09:09:48.945063Z",
     "iopub.status.busy": "2024-03-26T09:09:48.944604Z",
     "iopub.status.idle": "2024-03-26T09:09:48.949467Z",
     "shell.execute_reply": "2024-03-26T09:09:48.948193Z"
    },
    "papermill": {
     "duration": 0.025376,
     "end_time": "2024-03-26T09:09:48.951625",
     "exception": false,
     "start_time": "2024-03-26T09:09:48.926249",
     "status": "completed"
    },
    "tags": []
   },
   "outputs": [],
   "source": [
    "# TODO: Calculate and round descriptive statistics for the 'Price' column in the dataset.\n",
    "# Codes"
   ]
  },
  {
   "cell_type": "code",
   "execution_count": 45,
   "id": "5c22dd43",
   "metadata": {
    "execution": {
     "iopub.execute_input": "2024-03-26T09:09:48.987716Z",
     "iopub.status.busy": "2024-03-26T09:09:48.986975Z",
     "iopub.status.idle": "2024-03-26T09:09:48.991942Z",
     "shell.execute_reply": "2024-03-26T09:09:48.990885Z"
    },
    "papermill": {
     "duration": 0.025898,
     "end_time": "2024-03-26T09:09:48.994285",
     "exception": false,
     "start_time": "2024-03-26T09:09:48.968387",
     "status": "completed"
    },
    "tags": []
   },
   "outputs": [],
   "source": [
    "# TODO: Create a copy of the dataset and format the 'Price' and 'Price(USD)' columns to display values with comma separators and no decimal places.\n",
    "# Codes"
   ]
  },
  {
   "cell_type": "markdown",
   "id": "395fc1ff",
   "metadata": {
    "papermill": {
     "duration": 0.016429,
     "end_time": "2024-03-26T09:09:49.027943",
     "exception": false,
     "start_time": "2024-03-26T09:09:49.011514",
     "status": "completed"
    },
    "tags": []
   },
   "source": [
    "**Description**<br>\n",
    "* we create new variable to avoid changing the type of Price from numeric to object .\n",
    "* Price and Price(USD) are easily readable now . "
   ]
  },
  {
   "cell_type": "code",
   "execution_count": 46,
   "id": "7f82cb1f",
   "metadata": {
    "execution": {
     "iopub.execute_input": "2024-03-26T09:09:49.063665Z",
     "iopub.status.busy": "2024-03-26T09:09:49.062822Z",
     "iopub.status.idle": "2024-03-26T09:09:49.066998Z",
     "shell.execute_reply": "2024-03-26T09:09:49.066147Z"
    },
    "papermill": {
     "duration": 0.024614,
     "end_time": "2024-03-26T09:09:49.069070",
     "exception": false,
     "start_time": "2024-03-26T09:09:49.044456",
     "status": "completed"
    },
    "tags": []
   },
   "outputs": [],
   "source": [
    "# TODO: Create a heatmap to visualize the correlation matrix of numerical columns in the dataset, including annotations, using the 'summer' colormap and setting the format of annotations to one decimal place.\n",
    "# Codes"
   ]
  },
  {
   "cell_type": "code",
   "execution_count": 47,
   "id": "7fe541ec",
   "metadata": {
    "execution": {
     "iopub.execute_input": "2024-03-26T09:09:49.105060Z",
     "iopub.status.busy": "2024-03-26T09:09:49.104225Z",
     "iopub.status.idle": "2024-03-26T09:09:49.108491Z",
     "shell.execute_reply": "2024-03-26T09:09:49.107508Z"
    },
    "papermill": {
     "duration": 0.025029,
     "end_time": "2024-03-26T09:09:49.110862",
     "exception": false,
     "start_time": "2024-03-26T09:09:49.085833",
     "status": "completed"
    },
    "tags": []
   },
   "outputs": [],
   "source": [
    "# TODO: Visualize the distribution of prices from the dataset using a boxplot.\n",
    "# Codes"
   ]
  },
  {
   "cell_type": "code",
   "execution_count": 48,
   "id": "102e7e24",
   "metadata": {
    "execution": {
     "iopub.execute_input": "2024-03-26T09:09:49.147733Z",
     "iopub.status.busy": "2024-03-26T09:09:49.146431Z",
     "iopub.status.idle": "2024-03-26T09:09:49.151928Z",
     "shell.execute_reply": "2024-03-26T09:09:49.150938Z"
    },
    "papermill": {
     "duration": 0.02677,
     "end_time": "2024-03-26T09:09:49.154440",
     "exception": false,
     "start_time": "2024-03-26T09:09:49.127670",
     "status": "completed"
    },
    "tags": []
   },
   "outputs": [],
   "source": [
    "# TODO: Calculate the skewness of each numerical column in the dataset.\n",
    "# Codes"
   ]
  },
  {
   "cell_type": "markdown",
   "id": "1c3821b6",
   "metadata": {
    "papermill": {
     "duration": 0.01636,
     "end_time": "2024-03-26T09:09:49.187995",
     "exception": false,
     "start_time": "2024-03-26T09:09:49.171635",
     "status": "completed"
    },
    "tags": []
   },
   "source": [
    "**Description**<br>\n",
    "\n",
    "What are outliers in dataset ?\n",
    "\n",
    "Answer : Outliers are values at the extreme ends of a dataset.\n",
    "\n",
    "One of the best method to find out outliers : **Interquartile range method** \n",
    "\n",
    "Interquartile range method:\n",
    "\n",
    "1: Sort your data from low to high<br>\n",
    "2: Identify the `first quartile` (Q1), the `median`, and the `third quartile` (Q3).<br>\n",
    "3: Calculate your `IQR = Q3 – Q1`<br>\n",
    "4: Calculate your upper fence = `Q3 + (1.5 * IQR)`<br>\n",
    "5: Calculate your lower fence = `Q1 – (1.5 * IQR)`<br>\n",
    "6: Use your fences to highlight any outliers, all values that fall outside your fences.<br>\n",
    "7: Your outliers are any values **greater than your upper fence or less than your lower fence**.<br>\n"
   ]
  },
  {
   "cell_type": "code",
   "execution_count": 49,
   "id": "8699b8e2",
   "metadata": {
    "execution": {
     "iopub.execute_input": "2024-03-26T09:09:49.224361Z",
     "iopub.status.busy": "2024-03-26T09:09:49.223856Z",
     "iopub.status.idle": "2024-03-26T09:09:49.228537Z",
     "shell.execute_reply": "2024-03-26T09:09:49.227395Z"
    },
    "papermill": {
     "duration": 0.025741,
     "end_time": "2024-03-26T09:09:49.230995",
     "exception": false,
     "start_time": "2024-03-26T09:09:49.205254",
     "status": "completed"
    },
    "tags": []
   },
   "outputs": [],
   "source": [
    "# TODO: Define a function named \"Interquartile_Range\" that calculates the interquartile range (IQR) and fences for outlier detection for a given dataframe and target column.\n",
    "# Codes"
   ]
  },
  {
   "cell_type": "code",
   "execution_count": 50,
   "id": "683ca7a6",
   "metadata": {
    "execution": {
     "iopub.execute_input": "2024-03-26T09:09:49.269091Z",
     "iopub.status.busy": "2024-03-26T09:09:49.268616Z",
     "iopub.status.idle": "2024-03-26T09:09:49.273613Z",
     "shell.execute_reply": "2024-03-26T09:09:49.272184Z"
    },
    "papermill": {
     "duration": 0.026969,
     "end_time": "2024-03-26T09:09:49.275981",
     "exception": false,
     "start_time": "2024-03-26T09:09:49.249012",
     "status": "completed"
    },
    "tags": []
   },
   "outputs": [],
   "source": [
    "# TODO: Use the \"Interquartile_Range\" function to calculate the interquartile range (IQR) and fences for the 'Price' and 'Area' columns in the dataset.\n",
    "# Codes"
   ]
  },
  {
   "cell_type": "markdown",
   "id": "04dd1f37",
   "metadata": {
    "papermill": {
     "duration": 0.016507,
     "end_time": "2024-03-26T09:09:49.309712",
     "exception": false,
     "start_time": "2024-03-26T09:09:49.293205",
     "status": "completed"
    },
    "tags": []
   },
   "source": [
    "**Description**<br>\n",
    "* It must be considered that most outliers are on the right side dut to **Right_skewed** <br>\n",
    "so , we need to remove outliers on the right(Upper_Fence)\n",
    "\n",
    "* Among all the features , two of them have noticeable effect : **Area** and **Price** <br>\n",
    "We cant find out outliers from  (Room , Parking , Warehouse ,Elevator) features.<br>\n",
    "It's better to find out outliers first from Price , second Area"
   ]
  },
  {
   "cell_type": "code",
   "execution_count": 51,
   "id": "51bd73c6",
   "metadata": {
    "execution": {
     "iopub.execute_input": "2024-03-26T09:09:49.346395Z",
     "iopub.status.busy": "2024-03-26T09:09:49.345560Z",
     "iopub.status.idle": "2024-03-26T09:09:49.350079Z",
     "shell.execute_reply": "2024-03-26T09:09:49.349171Z"
    },
    "papermill": {
     "duration": 0.025045,
     "end_time": "2024-03-26T09:09:49.352180",
     "exception": false,
     "start_time": "2024-03-26T09:09:49.327135",
     "status": "completed"
    },
    "tags": []
   },
   "outputs": [],
   "source": [
    "# TODO: Define upper fence values for the 'Price' and 'Area' columns. Identify and store the indices of data points exceeding these upper fences.\n",
    "# Codes"
   ]
  },
  {
   "cell_type": "markdown",
   "id": "9886deb2",
   "metadata": {
    "papermill": {
     "duration": 0.017315,
     "end_time": "2024-03-26T09:09:49.386577",
     "exception": false,
     "start_time": "2024-03-26T09:09:49.369262",
     "status": "completed"
    },
    "tags": []
   },
   "source": [
    "**Description**<br>\n",
    "\n",
    "* We can use of a method and add all the Outliers which are greater than UpperFence for both Price and Area and then <br>\n",
    "eliminate them from our Dataset(but in a new variable)"
   ]
  },
  {
   "cell_type": "code",
   "execution_count": 52,
   "id": "7733417e",
   "metadata": {
    "execution": {
     "iopub.execute_input": "2024-03-26T09:09:49.424049Z",
     "iopub.status.busy": "2024-03-26T09:09:49.422591Z",
     "iopub.status.idle": "2024-03-26T09:09:49.428609Z",
     "shell.execute_reply": "2024-03-26T09:09:49.427196Z"
    },
    "papermill": {
     "duration": 0.027753,
     "end_time": "2024-03-26T09:09:49.431407",
     "exception": false,
     "start_time": "2024-03-26T09:09:49.403654",
     "status": "completed"
    },
    "tags": []
   },
   "outputs": [],
   "source": [
    "# TODO: Combine the indices of outliers identified for both 'Price' and 'Area' columns. Print the total number and percentage of outliers. Display the first five rows of the dataset for these outliers.\n",
    "# Codes"
   ]
  },
  {
   "cell_type": "code",
   "execution_count": 53,
   "id": "c20f00f7",
   "metadata": {
    "execution": {
     "iopub.execute_input": "2024-03-26T09:09:49.467584Z",
     "iopub.status.busy": "2024-03-26T09:09:49.467157Z",
     "iopub.status.idle": "2024-03-26T09:09:49.471364Z",
     "shell.execute_reply": "2024-03-26T09:09:49.470295Z"
    },
    "papermill": {
     "duration": 0.025152,
     "end_time": "2024-03-26T09:09:49.473628",
     "exception": false,
     "start_time": "2024-03-26T09:09:49.448476",
     "status": "completed"
    },
    "tags": []
   },
   "outputs": [],
   "source": [
    "# TODO: Remove rows identified as outliers from the dataset and print the shape of the prepared dataset. Display the first five rows of the prepared dataset.\n",
    "# Codes"
   ]
  },
  {
   "cell_type": "code",
   "execution_count": 54,
   "id": "ac33fdb0",
   "metadata": {
    "execution": {
     "iopub.execute_input": "2024-03-26T09:09:49.510678Z",
     "iopub.status.busy": "2024-03-26T09:09:49.509659Z",
     "iopub.status.idle": "2024-03-26T09:09:49.514121Z",
     "shell.execute_reply": "2024-03-26T09:09:49.513239Z"
    },
    "papermill": {
     "duration": 0.025188,
     "end_time": "2024-03-26T09:09:49.516288",
     "exception": false,
     "start_time": "2024-03-26T09:09:49.491100",
     "status": "completed"
    },
    "tags": []
   },
   "outputs": [],
   "source": [
    "# TODO: Visualize the distribution of prices from the prepared dataset without outliers using a boxplot.\n",
    "# Codes"
   ]
  },
  {
   "cell_type": "code",
   "execution_count": 55,
   "id": "70e911a1",
   "metadata": {
    "execution": {
     "iopub.execute_input": "2024-03-26T09:09:49.556197Z",
     "iopub.status.busy": "2024-03-26T09:09:49.555085Z",
     "iopub.status.idle": "2024-03-26T09:09:49.559380Z",
     "shell.execute_reply": "2024-03-26T09:09:49.558626Z"
    },
    "papermill": {
     "duration": 0.025154,
     "end_time": "2024-03-26T09:09:49.561519",
     "exception": false,
     "start_time": "2024-03-26T09:09:49.536365",
     "status": "completed"
    },
    "tags": []
   },
   "outputs": [],
   "source": [
    "# TODO: Calculate the skewness of each numerical column in the prepared dataset without outliers.\n",
    "# Codes"
   ]
  },
  {
   "cell_type": "markdown",
   "id": "12e9dd9c",
   "metadata": {
    "papermill": {
     "duration": 0.017586,
     "end_time": "2024-03-26T09:09:49.596503",
     "exception": false,
     "start_time": "2024-03-26T09:09:49.578917",
     "status": "completed"
    },
    "tags": []
   },
   "source": [
    "**Description**<br>\n",
    "\n",
    "* Now we have more balanced data and its ready to be used for fitting.\n",
    "* Due to we have dropped lots of data from dataset we can use of both(with outliers and without) to check the \n",
    "accuracy for each one ."
   ]
  }
 ],
 "metadata": {
  "colab": {
   "provenance": []
  },
  "kaggle": {
   "accelerator": "none",
   "dataSources": [],
   "dockerImageVersionId": 30673,
   "isGpuEnabled": false,
   "isInternetEnabled": true,
   "language": "python",
   "sourceType": "notebook"
  },
  "kernelspec": {
   "display_name": "Python 3",
   "language": "python",
   "name": "python3"
  },
  "language_info": {
   "codemirror_mode": {
    "name": "ipython",
    "version": 3
   },
   "file_extension": ".py",
   "mimetype": "text/x-python",
   "name": "python",
   "nbconvert_exporter": "python",
   "pygments_lexer": "ipython3",
   "version": "3.10.13"
  },
  "papermill": {
   "default_parameters": {},
   "duration": 7.063652,
   "end_time": "2024-03-26T09:09:50.139579",
   "environment_variables": {},
   "exception": null,
   "input_path": "__notebook__.ipynb",
   "output_path": "__notebook__.ipynb",
   "parameters": {},
   "start_time": "2024-03-26T09:09:43.075927",
   "version": "2.5.0"
  }
 },
 "nbformat": 4,
 "nbformat_minor": 5
}
