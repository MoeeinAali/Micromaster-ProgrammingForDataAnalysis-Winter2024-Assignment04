{
  "cells": [
    {
      "cell_type": "markdown",
      "metadata": {
        "id": "l5p2aItYy2dC"
      },
      "source": [
        "<div>\n",
        "<img src=\"./micromaster.png\"\n",
        "alt=\"SUT logo\" width=150 height=150 align=left class=\"saturate\">\n",
        "<br>\n",
        "<font face=\"Times New Roman\">\n",
        "<div dir=ltr align=center>\n",
        "<!-- <font color=0F5298 size=7> -->\n",
        "<font color=0F5298 size=6>\n",
        "   Programming For Data Analysis\n",
        "  <br> <br>\n",
        "<!-- <font color=2565AE size=5> -->\n",
        "<font size=5>\n",
        "    Sharif Micromaster <br>\n",
        "    Winter 2024 <br> <br>\n",
        "<font color=606060 size=5>\n",
        "    Assignment 4: Practical - Introduction to Pandas, Matplotlib, Seaborn <br> <br>\n",
        "<hr>"
      ]
    },
    {
      "cell_type": "markdown",
      "metadata": {},
      "source": [
        "<div>\n",
        "<font face=\"Times New Roman\">\n",
        "<div dir=ltr align=left>\n",
        "<font color=686880 size=4>\n",
        "    Name: \n",
        "    <br>\n",
        "    No.: "
      ]
    },
    {
      "cell_type": "markdown",
      "metadata": {
        "id": "n36HI7Oa3_4M"
      },
      "source": [
        "## Notebook Content\n",
        "1. [Importing Libraries](#importing-libraries)\n",
        "2. [Loading Dataset](#loading-dataset)\n",
        "3. [Basic Understanding of Dataset](#basic-understanding-of-dataset)\n",
        "4. [Exploratory Data Analysis](#exploratory-data-analysis)\n",
        "5. [Feature Engineering](#feature-engineering)\n",
        "6. [Data Pre-Processing](#data-pre-processing)\n",
        "7. [Model Building ](#model-building)\n"
      ]
    },
    {
      "cell_type": "markdown",
      "metadata": {},
      "source": [
        "### Importing Libraries\n"
      ]
    },
    {
      "cell_type": "code",
      "execution_count": null,
      "metadata": {},
      "outputs": [],
      "source": [
        "# TODO: Import Required libraries\n",
        "# Codes"
      ]
    },
    {
      "cell_type": "markdown",
      "metadata": {},
      "source": [
        "### Loading Dataset"
      ]
    },
    {
      "cell_type": "code",
      "execution_count": null,
      "metadata": {},
      "outputs": [],
      "source": [
        "# TODO: Load dataset.csv \n",
        "# Codes"
      ]
    },
    {
      "cell_type": "markdown",
      "metadata": {},
      "source": [
        "## Basic Understanding of Dataset"
      ]
    },
    {
      "cell_type": "code",
      "execution_count": null,
      "metadata": {},
      "outputs": [],
      "source": [
        "# TODO: Print Shape of our Dataset\n",
        "# Codes"
      ]
    },
    {
      "cell_type": "code",
      "execution_count": null,
      "metadata": {},
      "outputs": [],
      "source": [
        "# TODO: Print Columns of Dataset\n",
        "# Codes"
      ]
    },
    {
      "cell_type": "code",
      "execution_count": null,
      "metadata": {},
      "outputs": [],
      "source": [
        "# TODO: Print first 5 rows of the dataset\n",
        "# Codes"
      ]
    },
    {
      "cell_type": "code",
      "execution_count": null,
      "metadata": {},
      "outputs": [],
      "source": [
        "# TODO: Print last 5 rows of the dataset\n",
        "# Codes"
      ]
    },
    {
      "cell_type": "code",
      "execution_count": null,
      "metadata": {},
      "outputs": [],
      "source": [
        "# TODO: Number of Duplicated in our dataset\n",
        "# Codes\n",
        "# TODO: The percentage of Duplicated in our dataset\n",
        "# Codes"
      ]
    },
    {
      "cell_type": "code",
      "execution_count": null,
      "metadata": {},
      "outputs": [],
      "source": [
        "# TODO: Types of our Columns in Dataset\n",
        "# Codes"
      ]
    },
    {
      "cell_type": "markdown",
      "metadata": {},
      "source": [
        "**Description**<br>\n",
        "\n",
        "* Except Area feature , all of them have right type . we have to change its type later .<br>\n"
      ]
    },
    {
      "cell_type": "code",
      "execution_count": null,
      "metadata": {},
      "outputs": [],
      "source": [
        "# TODO: Print the number of missing values in our Dataset for each Column\n",
        "# Codes\n",
        "# TODO: The percentage of missing values in our Dataset for each Column\n",
        "# Codes"
      ]
    },
    {
      "cell_type": "markdown",
      "metadata": {},
      "source": [
        "**Description**<br>\n",
        "\n",
        "* Due to Address feature plays an important role and it must be exact, we can't replace missing values with anything.\n",
        "* Consequently, we will drop those missing values later."
      ]
    },
    {
      "cell_type": "code",
      "execution_count": null,
      "metadata": {},
      "outputs": [],
      "source": [
        "# TODO: Print the cardinality of our Columns"
      ]
    },
    {
      "cell_type": "markdown",
      "metadata": {},
      "source": [
        "## Exploratory Data Analysis"
      ]
    },
    {
      "cell_type": "code",
      "execution_count": null,
      "metadata": {},
      "outputs": [],
      "source": [
        "# TODO: Plot the distribution of prices from the dataset using a histogram with kernel density estimation enabled, specifying a palette and setting the number of bins to 100.\n",
        "# Codes"
      ]
    },
    {
      "cell_type": "markdown",
      "metadata": {},
      "source": [
        "**Description**<br>\n",
        "\n",
        "* Most houses have roughly close price in one third of the first part\n",
        "* Outliers are obvious now(on the right side)"
      ]
    },
    {
      "cell_type": "code",
      "execution_count": null,
      "metadata": {},
      "outputs": [],
      "source": [
        "# TODO: Visualize the distribution of the number of rooms (Room) from the dataset using a histogram.\n",
        "# Codes"
      ]
    },
    {
      "cell_type": "markdown",
      "metadata": {},
      "source": [
        "**Description**<br>\n",
        "\n",
        "* About 2000 houses have exactly 2 rooms (most houses) \n",
        "* Distribution of 1 and 3 rooms are roughly the same (a little more 3 rooms)\n",
        "* we have not many houses with 4 or 5 rooms (in total about 150 houses)\n",
        "* houses without room is rarely seen \n",
        "\n",
        "**Conclusion**\n",
        "* Mean of rooms is roughly 2."
      ]
    },
    {
      "cell_type": "code",
      "execution_count": null,
      "metadata": {},
      "outputs": [],
      "source": [
        "# TODO: Create subplots to visualize the distribution of boolean columns ('Parking', 'Warehouse', 'Elevator') from the dataset using countplots.\n",
        "# Codes"
      ]
    },
    {
      "cell_type": "markdown",
      "metadata": {},
      "source": [
        "**Description**<br>\n",
        "\n",
        "* Most houses have Parking , Warehouse and Elevator (all these three features )\n",
        "* Most houses have Warehouse.(houses without warehouse are very low)\n",
        "* Those houses without Parking and Elevator have the same distribution(less than 1000 more than 500)\n"
      ]
    },
    {
      "cell_type": "markdown",
      "metadata": {},
      "source": [
        "## Feature Engineering"
      ]
    },
    {
      "cell_type": "code",
      "execution_count": null,
      "metadata": {},
      "outputs": [],
      "source": [
        "# TODO: Display the data types of columns in the dataset.\n",
        "# Codes"
      ]
    },
    {
      "cell_type": "markdown",
      "metadata": {},
      "source": [
        "**Description**<br>\n",
        "\n",
        "The type of Area must be changed if we want to show and do feature engineering .<br>\n",
        "\n",
        "To be possible to change its type we need to remove comma between numbers than we are capable changing its type.\n"
      ]
    },
    {
      "cell_type": "code",
      "execution_count": null,
      "metadata": {},
      "outputs": [],
      "source": [
        "# TODO: Remove commas from the 'Area' column and convert it to numeric data type.\n",
        "# Codes"
      ]
    },
    {
      "cell_type": "code",
      "execution_count": null,
      "metadata": {},
      "outputs": [],
      "source": [
        "# TODO: Generate descriptive statistics for the 'Area' column in the dataset.\n",
        "# Codes"
      ]
    },
    {
      "cell_type": "markdown",
      "metadata": {},
      "source": [
        "**Description**<br>\n",
        "\n",
        "We are going to divide Area feature to 4 category : Small(0-30) - AveUnderMean(30-90) - AveUpperMean(90-120)- High(120-...)\n",
        "\n",
        "except these features other will be replaced to nan values"
      ]
    },
    {
      "cell_type": "code",
      "execution_count": null,
      "metadata": {},
      "outputs": [],
      "source": [
        "# TODO: Create a new feature 'AreaSize' based on the 'Area' column values, categorizing them as 'Small', 'AveUnderMean', 'AveUpperMean', or 'High'.\n",
        "# Codes"
      ]
    },
    {
      "cell_type": "code",
      "execution_count": null,
      "metadata": {},
      "outputs": [],
      "source": [
        "# TODO: Visualize the distribution of the 'AreaSize' feature using a countplot.\n",
        "# Codes"
      ]
    },
    {
      "cell_type": "markdown",
      "metadata": {},
      "source": [
        "**Description**<br>\n",
        "\n",
        "* As we can see  about half of houses have between 30-90 meters(m2)\n",
        "* Houses with 90-120 meters  have the same contribution with houses which have more than 120 meters\n",
        "* we can realize that right-skewed has happened.(outliers most are on the right part)\n",
        "* very low houeses are with less than 30 meters size.\n"
      ]
    },
    {
      "cell_type": "markdown",
      "metadata": {},
      "source": [
        "We are going to determine 4 level for Price feature : Cheap , AveUnderMean , AveUpperMean , Expensive <br>\n",
        "\n",
        "- `cheap` : 0-25% \n",
        "- `AveUnderMean` : 25%-50%\n",
        "- `AveUpperMean` : 50%-75%\n",
        "- `Expensive` : upper 75%"
      ]
    },
    {
      "cell_type": "code",
      "execution_count": null,
      "metadata": {},
      "outputs": [],
      "source": [
        "# TODO: Create a new feature 'PriceLevel' based on the 'Price' column values, categorizing them as 'Cheap', 'AveUnderMean', 'AveUpperMean', or 'Expensive'.\n",
        "# Codes"
      ]
    },
    {
      "cell_type": "code",
      "execution_count": null,
      "metadata": {},
      "outputs": [],
      "source": [
        "# TODO: Visualize the distribution of the 'PriceLevel' feature using a countplot.\n",
        "# Codes"
      ]
    },
    {
      "cell_type": "markdown",
      "metadata": {},
      "source": [
        "**Description**<br>\n",
        "\n",
        "We have very balanced distribution in 4 parts"
      ]
    },
    {
      "cell_type": "markdown",
      "metadata": {},
      "source": [
        "## Data Pre-Processing"
      ]
    },
    {
      "cell_type": "code",
      "execution_count": null,
      "metadata": {},
      "outputs": [],
      "source": [
        "# TODO: Display a random sample of 10 rows from the dataset.\n",
        "# Codes"
      ]
    },
    {
      "cell_type": "code",
      "execution_count": null,
      "metadata": {},
      "outputs": [],
      "source": [
        "# TODO: Calculate the number and percentage of missing values for each column in the dataset and display the results. Highlight the column with the maximum percentage of missing values in red.\n",
        "# Codes"
      ]
    },
    {
      "cell_type": "markdown",
      "metadata": {},
      "source": [
        "    \n",
        "**Description**<br>\n",
        "\n",
        "Address (location of house) is crucial , wa cant replace missing values with like(most frequent)\n",
        "(if we do that our model doesnt have good prediction) <br>\n",
        "So , we easily drop those missing values"
      ]
    },
    {
      "cell_type": "code",
      "execution_count": null,
      "metadata": {},
      "outputs": [],
      "source": [
        "# TODO: Remove rows with missing values from the dataset.\n",
        "# Codes"
      ]
    },
    {
      "cell_type": "code",
      "execution_count": null,
      "metadata": {},
      "outputs": [],
      "source": [
        "# TODO: Confirm that there are no missing values remaining in the dataset after removing them.\n",
        "# Codes"
      ]
    },
    {
      "cell_type": "code",
      "execution_count": null,
      "metadata": {},
      "outputs": [],
      "source": [
        "# TODO: Identify and count duplicated values in the dataset. Calculate and print the percentage of duplicated values.\n",
        "# Codes"
      ]
    },
    {
      "cell_type": "markdown",
      "metadata": {},
      "source": [
        "**Description**<br>\n",
        "\n",
        "We have 208 duplicated values .\n",
        "We can easily drop them"
      ]
    },
    {
      "cell_type": "code",
      "execution_count": null,
      "metadata": {},
      "outputs": [],
      "source": [
        "# TODO: Remove duplicated rows from the dataset, reset the index, and drop the old index column.\n",
        "# Codes"
      ]
    },
    {
      "cell_type": "code",
      "execution_count": null,
      "metadata": {},
      "outputs": [],
      "source": [
        "# TODO: Print the new shape of the dataset after removing duplicated rows and resetting the index.\n",
        "# Codes"
      ]
    },
    {
      "cell_type": "code",
      "execution_count": null,
      "metadata": {},
      "outputs": [],
      "source": [
        "# TODO: Display the data types of columns in the dataset after any transformations or modifications.\n",
        "# Codes"
      ]
    },
    {
      "cell_type": "markdown",
      "metadata": {},
      "source": [
        "**Description**<br>\n",
        "* About dtypes every thing is fine . <br>\n",
        "* We are going to check and discover each feature ."
      ]
    },
    {
      "cell_type": "code",
      "execution_count": null,
      "metadata": {},
      "outputs": [],
      "source": [
        "# TODO: Calculate the count and mean price for each category of the 'AreaSize' feature and display the results, sorted by 'AreaSize' in descending order.\n",
        "# Codes"
      ]
    },
    {
      "cell_type": "markdown",
      "metadata": {},
      "source": [
        "**Description**<br>\n",
        "\n",
        "* Obviously with increasing the meter of a house the price will raise and Mean will be raised too . <br>\n",
        "\n",
        "* Distribution of houses according to Meter is : AveUnderMean - High - AveUpperMean - Small \n",
        "\n",
        "* There is just a house with a small size.(it's an outlier)"
      ]
    },
    {
      "cell_type": "code",
      "execution_count": null,
      "metadata": {},
      "outputs": [],
      "source": [
        "# TODO: Calculate the percentage distribution and mean price for each category of the 'Room' feature and display the results, sorted by room number.\n",
        "# Codes"
      ]
    },
    {
      "cell_type": "markdown",
      "metadata": {},
      "source": [
        "    \n",
        "**Description**<br>\n",
        "\n",
        "We can see the distribution of houses with :   <br>\n",
        "In row 2 , 3 , 1 , 4 , 5   and 0 rooms have the highest distribution. <br>\n",
        "\n",
        "Mean price for each has been shown. <br>\n",
        "Obviously, with raising the number of rooms the cost will be increased.<br>\n",
        "(Duplicate the cost for each 1 room  (except 4rooms to 5rooms)"
      ]
    },
    {
      "cell_type": "code",
      "execution_count": null,
      "metadata": {},
      "outputs": [],
      "source": [
        "# TODO: Calculate the count and mean price for each category of the 'Parking' feature and display the results.\n",
        "# Codes"
      ]
    },
    {
      "cell_type": "markdown",
      "metadata": {},
      "source": [
        "**Description**<br>\n",
        "\n",
        "* As we can see , most houses have parking (about 5.5x versus those without parking)<br>\n",
        "\n",
        "* Those houses with parking have higher costs.(about fourfold)(transparently Parking is an important feature for price) "
      ]
    },
    {
      "cell_type": "code",
      "execution_count": null,
      "metadata": {},
      "outputs": [],
      "source": [
        "# TODO: Calculate the count and mean price for each category of the 'Warehouse' feature and display the results.\n",
        "# Codes"
      ]
    },
    {
      "cell_type": "markdown",
      "metadata": {},
      "source": [
        "    \n",
        "**Description**<br>\n",
        "\n",
        "* Most houses have Warehouse (about 10x versus those without Warehouse)\n",
        "\n",
        "* Houses with warehouse have higher costs . more than duoble"
      ]
    },
    {
      "cell_type": "code",
      "execution_count": null,
      "metadata": {},
      "outputs": [],
      "source": [
        "# TODO: Calculate the count and mean price for each category of the 'Elevator' feature and display the results.\n",
        "# Codes"
      ]
    },
    {
      "cell_type": "markdown",
      "metadata": {},
      "source": [
        "**Description**<br>\n",
        "\n",
        "* Most houses have Elevator (about 4x versus those without Elevator)\n",
        "\n",
        "* Houses with Elevator have higher costs .about 1.5X \n",
        "\n",
        "* Versus Parking and Warehouse  , Elevator has less influence on price\n"
      ]
    },
    {
      "cell_type": "code",
      "execution_count": null,
      "metadata": {},
      "outputs": [],
      "source": [
        "# TODO: Create a cross-tabulation between the 'Parking' and 'Room' features in the dataset.\n",
        "# Codes"
      ]
    },
    {
      "cell_type": "markdown",
      "metadata": {},
      "source": [
        "**Description**<br>\n",
        "\n",
        "* Most houses with 1 room or more have Parking.\n",
        "* With raising the number of rooms , houses with Parking have increasingly raised.\n",
        "\n"
      ]
    },
    {
      "cell_type": "code",
      "execution_count": null,
      "metadata": {},
      "outputs": [],
      "source": [
        "# TODO: Calculate the mean price for each combination of 'Parking' and 'Warehouse' features in the dataset and round the results.\n",
        "# Codes"
      ]
    },
    {
      "cell_type": "markdown",
      "metadata": {},
      "source": [
        "**Description**\n",
        "\n",
        "* It can be seen that houses with Warehouse and without Parking have less cost versus those houses with Parking.\n",
        "* If both features exist in a house , the cost of the house will be high.\n"
      ]
    },
    {
      "cell_type": "code",
      "execution_count": null,
      "metadata": {},
      "outputs": [],
      "source": [
        "# TODO: Calculate the mean price for each combination of 'Room' and 'Warehouse' features in the dataset and round the results.\n",
        "# Codes"
      ]
    },
    {
      "cell_type": "markdown",
      "metadata": {},
      "source": [
        "**Description**<br>\n",
        "* Except houses without room , with increasing the number of Rooms and Warehouse existance the cost will be increasingly raised.\n"
      ]
    },
    {
      "cell_type": "code",
      "execution_count": null,
      "metadata": {},
      "outputs": [],
      "source": [
        "# TODO: Display the unique values of the 'Address' column in the dataset.\n",
        "# Codes"
      ]
    },
    {
      "cell_type": "code",
      "execution_count": null,
      "metadata": {},
      "outputs": [],
      "source": [
        "# TODO: Calculate and print the number of unique values in the 'Address' column of the dataset.\n",
        "# Codes"
      ]
    },
    {
      "cell_type": "markdown",
      "metadata": {},
      "source": [
        "**Description**<br>\n",
        "\n",
        "Because we dont know that all names of addresses  have correct writing or human mistake has happened or not, we are going to \n",
        "remove any probable  problem in case of existance."
      ]
    },
    {
      "cell_type": "code",
      "execution_count": null,
      "metadata": {},
      "outputs": [],
      "source": [
        "# TODO: Remove non-alphabetic characters from the 'Address' column in the dataset and display the first five rows.\n",
        "# Codes"
      ]
    },
    {
      "cell_type": "code",
      "execution_count": null,
      "metadata": {},
      "outputs": [],
      "source": [
        "# TODO: Calculate and print the number of unique values in the 'Address' column of the dataset after removing non-alphabetic characters.\n",
        "# Codes"
      ]
    },
    {
      "cell_type": "code",
      "execution_count": null,
      "metadata": {},
      "outputs": [],
      "source": [
        "# TODO: Find and store the top 10 most frequently occurring values in the 'Address' column.\n",
        "# Codes"
      ]
    },
    {
      "cell_type": "code",
      "execution_count": null,
      "metadata": {},
      "outputs": [],
      "source": [
        "# TODO: Visualize the top 10 most frequently occurring values in the 'Address' column using a bar plot.\n",
        "# Codes"
      ]
    },
    {
      "cell_type": "code",
      "execution_count": null,
      "metadata": {},
      "outputs": [],
      "source": [
        "# TODO: Calculate the mean price for each unique address in the dataset and store the results. Identify and store the top 10 addresses with the highest mean price.\n",
        "# Codes"
      ]
    },
    {
      "cell_type": "code",
      "execution_count": null,
      "metadata": {},
      "outputs": [],
      "source": [
        "# TODO: Calculate and round descriptive statistics for the 'Price' column in the dataset.\n",
        "# Codes"
      ]
    },
    {
      "cell_type": "code",
      "execution_count": null,
      "metadata": {},
      "outputs": [],
      "source": [
        "# TODO: Create a copy of the dataset and format the 'Price' and 'Price(USD)' columns to display values with comma separators and no decimal places.\n",
        "# Codes"
      ]
    },
    {
      "cell_type": "markdown",
      "metadata": {},
      "source": [
        "**Description**<br>\n",
        "* we create new variable to avoid changing the type of Price from numeric to object .\n",
        "* Price and Price(USD) are easily readable now . "
      ]
    },
    {
      "cell_type": "code",
      "execution_count": null,
      "metadata": {},
      "outputs": [],
      "source": [
        "# TODO: Create a heatmap to visualize the correlation matrix of numerical columns in the dataset, including annotations, using the 'summer' colormap and setting the format of annotations to one decimal place.\n",
        "# Codes"
      ]
    },
    {
      "cell_type": "code",
      "execution_count": null,
      "metadata": {},
      "outputs": [],
      "source": [
        "# TODO: Visualize the distribution of prices from the dataset using a boxplot.\n",
        "# Codes"
      ]
    },
    {
      "cell_type": "code",
      "execution_count": null,
      "metadata": {},
      "outputs": [],
      "source": [
        "# TODO: Calculate the skewness of each numerical column in the dataset.\n",
        "# Codes"
      ]
    },
    {
      "cell_type": "markdown",
      "metadata": {},
      "source": [
        "**Description**<br>\n",
        "\n",
        "What are outliers in dataset ?\n",
        "\n",
        "Answer : Outliers are values at the extreme ends of a dataset.\n",
        "\n",
        "One of the best method to find out outliers : **Interquartile range method** \n",
        "\n",
        "Interquartile range method:\n",
        "\n",
        "1: Sort your data from low to high<br>\n",
        "2: Identify the `first quartile` (Q1), the `median`, and the `third quartile` (Q3).<br>\n",
        "3: Calculate your `IQR = Q3 – Q1`<br>\n",
        "4: Calculate your upper fence = `Q3 + (1.5 * IQR)`<br>\n",
        "5: Calculate your lower fence = `Q1 – (1.5 * IQR)`<br>\n",
        "6: Use your fences to highlight any outliers, all values that fall outside your fences.<br>\n",
        "7: Your outliers are any values **greater than your upper fence or less than your lower fence**.<br>\n"
      ]
    },
    {
      "cell_type": "code",
      "execution_count": null,
      "metadata": {},
      "outputs": [],
      "source": [
        "# TODO: Define a function named \"Interquartile_Range\" that calculates the interquartile range (IQR) and fences for outlier detection for a given dataframe and target column.\n",
        "# Codes"
      ]
    },
    {
      "cell_type": "code",
      "execution_count": null,
      "metadata": {},
      "outputs": [],
      "source": [
        "# TODO: Use the \"Interquartile_Range\" function to calculate the interquartile range (IQR) and fences for the 'Price' and 'Area' columns in the dataset.\n",
        "# Codes"
      ]
    },
    {
      "cell_type": "markdown",
      "metadata": {},
      "source": [
        "**Description**<br>\n",
        "* It must be considered that most outliers are on the right side dut to **Right_skewed** <br>\n",
        "so , we need to remove outliers on the right(Upper_Fence)\n",
        "\n",
        "* Among all the features , two of them have noticeable effect : **Area** and **Price** <br>\n",
        "We cant find out outliers from  (Room , Parking , Warehouse ,Elevator) features.<br>\n",
        "It's better to find out outliers first from Price , second Area"
      ]
    },
    {
      "cell_type": "code",
      "execution_count": null,
      "metadata": {},
      "outputs": [],
      "source": [
        "# TODO: Define upper fence values for the 'Price' and 'Area' columns. Identify and store the indices of data points exceeding these upper fences.\n",
        "# Codes"
      ]
    },
    {
      "cell_type": "markdown",
      "metadata": {},
      "source": [
        "**Description**<br>\n",
        "\n",
        "* We can use of a method and add all the Outliers which are greater than UpperFence for both Price and Area and then <br>\n",
        "eliminate them from our Dataset(but in a new variable)"
      ]
    },
    {
      "cell_type": "code",
      "execution_count": null,
      "metadata": {},
      "outputs": [],
      "source": [
        "# TODO: Combine the indices of outliers identified for both 'Price' and 'Area' columns. Print the total number and percentage of outliers. Display the first five rows of the dataset for these outliers.\n",
        "# Codes"
      ]
    },
    {
      "cell_type": "code",
      "execution_count": null,
      "metadata": {},
      "outputs": [],
      "source": [
        "# TODO: Remove rows identified as outliers from the dataset and print the shape of the prepared dataset. Display the first five rows of the prepared dataset.\n",
        "# Codes"
      ]
    },
    {
      "cell_type": "code",
      "execution_count": null,
      "metadata": {},
      "outputs": [],
      "source": [
        "# TODO: Visualize the distribution of prices from the prepared dataset without outliers using a boxplot.\n",
        "# Codes"
      ]
    },
    {
      "cell_type": "code",
      "execution_count": null,
      "metadata": {},
      "outputs": [],
      "source": [
        "# TODO: Calculate the skewness of each numerical column in the prepared dataset without outliers.\n",
        "# Codes"
      ]
    },
    {
      "cell_type": "markdown",
      "metadata": {},
      "source": [
        "**Description**<br>\n",
        "\n",
        "* Now we have more balanced data and its ready to be used for fitting.\n",
        "* Due to we have dropped lots of data from dataset we can use of both(with outliers and without) to check the \n",
        "accuracy for each one ."
      ]
    }
  ],
  "metadata": {
    "colab": {
      "provenance": []
    },
    "kernelspec": {
      "display_name": "Python 3",
      "name": "python3"
    },
    "language_info": {
      "codemirror_mode": {
        "name": "ipython",
        "version": 3
      },
      "file_extension": ".py",
      "mimetype": "text/x-python",
      "name": "python",
      "nbconvert_exporter": "python",
      "pygments_lexer": "ipython3",
      "version": "3.12.2"
    }
  },
  "nbformat": 4,
  "nbformat_minor": 0
}
