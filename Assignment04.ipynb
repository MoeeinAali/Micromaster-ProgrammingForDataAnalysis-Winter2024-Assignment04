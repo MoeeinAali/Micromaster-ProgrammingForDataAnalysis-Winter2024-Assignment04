{
  "cells": [
    {
      "cell_type": "markdown",
      "metadata": {
        "id": "l5p2aItYy2dC"
      },
      "source": [
        "<div>\n",
        "<img src=\"./micromaster.png\"\n",
        "alt=\"SUT logo\" width=150 height=150 align=left class=\"saturate\">\n",
        "<br>\n",
        "<font face=\"Times New Roman\">\n",
        "<div dir=ltr align=center>\n",
        "<!-- <font color=0F5298 size=7> -->\n",
        "<font color=0F5298 size=6>\n",
        "   Programming For Data Analysis\n",
        "  <br> <br>\n",
        "<!-- <font color=2565AE size=5> -->\n",
        "<font size=5>\n",
        "    Sharif Micromaster <br>\n",
        "    Winter 2024 <br> <br>\n",
        "<font color=606060 size=5>\n",
        "    Assignment 4: Practical - Introduction to Pandas, Matplotlib, Seaborn <br> <br>\n",
        "<hr>"
      ]
    },
    {
      "cell_type": "markdown",
      "metadata": {},
      "source": [
        "<div>\n",
        "<font face=\"Times New Roman\">\n",
        "<div dir=ltr align=left>\n",
        "<font color=686880 size=4>\n",
        "    Name: \n",
        "    <br>\n",
        "    No.: "
      ]
    },
    {
      "cell_type": "markdown",
      "metadata": {
        "id": "n36HI7Oa3_4M"
      },
      "source": [
        "## Notebook Content\n",
        "1. [Importing Libraries](#importing-libraries)\n",
        "2. [Loading Dataset](#loading-dataset)\n",
        "2. [Basic Understanding of Dataset](#basic-understanding-of-dataset)\n"
      ]
    },
    {
      "cell_type": "markdown",
      "metadata": {},
      "source": [
        "### Importing Libraries\n"
      ]
    },
    {
      "cell_type": "code",
      "execution_count": null,
      "metadata": {},
      "outputs": [],
      "source": [
        "# TODO: Import Required libraries\n",
        "# Codes"
      ]
    },
    {
      "cell_type": "markdown",
      "metadata": {},
      "source": [
        "### Loading Dataset"
      ]
    },
    {
      "cell_type": "code",
      "execution_count": null,
      "metadata": {},
      "outputs": [],
      "source": [
        "# TODO: Load dataset.csv \n",
        "# Codes"
      ]
    },
    {
      "cell_type": "markdown",
      "metadata": {},
      "source": [
        "## Basic Understanding of Dataset"
      ]
    },
    {
      "cell_type": "code",
      "execution_count": null,
      "metadata": {},
      "outputs": [],
      "source": [
        "# TODO: Print Shape of our Dataset\n",
        "# Codes"
      ]
    },
    {
      "cell_type": "code",
      "execution_count": null,
      "metadata": {},
      "outputs": [],
      "source": [
        "# TODO: Print Columns of Dataset\n",
        "# Codes"
      ]
    },
    {
      "cell_type": "code",
      "execution_count": null,
      "metadata": {},
      "outputs": [],
      "source": [
        "# TODO: Print first 5 rows of the dataset\n",
        "# Codes"
      ]
    },
    {
      "cell_type": "code",
      "execution_count": null,
      "metadata": {},
      "outputs": [],
      "source": [
        "# TODO: Print last 5 rows of the dataset\n",
        "# Codes"
      ]
    },
    {
      "cell_type": "code",
      "execution_count": null,
      "metadata": {},
      "outputs": [],
      "source": [
        "# TODO: Number of Duplicated in our dataset\n",
        "# Codes\n",
        "# TODO: The percentage of Duplicated in our dataset\n",
        "# Codes"
      ]
    },
    {
      "cell_type": "code",
      "execution_count": null,
      "metadata": {},
      "outputs": [],
      "source": [
        "# TODO: Types of our Columns in Dataset\n",
        "# Codes"
      ]
    },
    {
      "cell_type": "code",
      "execution_count": null,
      "metadata": {},
      "outputs": [],
      "source": [
        "# TODO: Print the number of missing values in our Dataset for each Column\n",
        "# Codes\n",
        "# TODO: The percentage of missing values in our Dataset for each Column\n",
        "# Codes"
      ]
    },
    {
      "cell_type": "code",
      "execution_count": null,
      "metadata": {},
      "outputs": [],
      "source": [
        "# TODO: Print the number of missing values in our Dataset for each Column"
      ]
    },
    {
      "cell_type": "code",
      "execution_count": null,
      "metadata": {},
      "outputs": [],
      "source": [
        "# TODO: Print the number of missing values in our Dataset for each Column"
      ]
    },
    {
      "cell_type": "code",
      "execution_count": null,
      "metadata": {},
      "outputs": [],
      "source": [
        "# TODO: Print the number of missing values in our Dataset for each Column"
      ]
    }
  ],
  "metadata": {
    "colab": {
      "provenance": []
    },
    "kernelspec": {
      "display_name": "Python 3",
      "name": "python3"
    },
    "language_info": {
      "codemirror_mode": {
        "name": "ipython",
        "version": 3
      },
      "file_extension": ".py",
      "mimetype": "text/x-python",
      "name": "python",
      "nbconvert_exporter": "python",
      "pygments_lexer": "ipython3",
      "version": "3.12.2"
    }
  },
  "nbformat": 4,
  "nbformat_minor": 0
}
