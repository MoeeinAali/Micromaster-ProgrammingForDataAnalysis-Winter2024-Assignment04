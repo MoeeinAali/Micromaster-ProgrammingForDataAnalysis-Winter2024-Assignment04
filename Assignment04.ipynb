{
 "cells": [
  {
   "cell_type": "markdown",
   "id": "94b06932",
   "metadata": {
    "papermill": {
     "duration": 0.020571,
     "end_time": "2024-03-26T10:32:31.584656",
     "exception": false,
     "start_time": "2024-03-26T10:32:31.564085",
     "status": "completed"
    },
    "tags": []
   },
   "source": [
    "<html lang=\"en\">\n",
    "<head>\n",
    "<meta charset=\"UTF-8\">\n",
    "<meta name=\"viewport\" content=\"width=device-width, initial-scale=1.0\">\n",
    "</head>\n",
    "<body>\n",
    "\n",
    "<div style=\"text-align: center;\">\n",
    "    <img src=\"https://github.com/MoeeinAali/Micromaster-ProgrammingForDataAnalysis-Winter2024-Assignment04/blob/97fdfd106cd557f3ea3e4354354f1c6357f9ff45/micromaster.png?raw=true\" width=170 alt=\"micromaster_logo\">\n",
    "    <br>\n",
    "<font face=\"Times New Roman\">\n",
    "<div dir=ltr align=center>\n",
    "<font color=0F5298 size=6>\n",
    "    <b>Sharif Micromaster</b>\n",
    "     <br>\n",
    "<font color=0F5298 size=6>\n",
    "   Programming For Data Analysis ~ Winter 2024\n",
    "  <br>\n",
    "<font color=606060 size=5>\n",
    "    Assignment 4: Introduction to Pandas, Matplotlib, Seaborn \n",
    "</div>\n",
    "</body>\n",
    "</html>\n",
    "<hr>"
   ]
  },
  {
   "cell_type": "markdown",
   "id": "483a6240",
   "metadata": {
    "papermill": {
     "duration": 0.021866,
     "end_time": "2024-03-26T10:32:31.626329",
     "exception": false,
     "start_time": "2024-03-26T10:32:31.604463",
     "status": "completed"
    },
    "tags": []
   },
   "source": [
    "<div><font face=\"Times New Roman\" size=6><div dir=ltr align=left><font color=686880 size=4>\n",
    "    Name:\n",
    "    <br>\n",
    "    No.: "
   ]
  },
  {
   "cell_type": "markdown",
   "id": "c1b95402",
   "metadata": {
    "id": "n36HI7Oa3_4M",
    "jp-MarkdownHeadingCollapsed": true,
    "papermill": {
     "duration": 0.019529,
     "end_time": "2024-03-26T10:32:31.666802",
     "exception": false,
     "start_time": "2024-03-26T10:32:31.647273",
     "status": "completed"
    },
    "tags": []
   },
   "source": [
    "## Notebook Content\n",
    "0. [Introduction](#Introduction)\n",
    "1. [Importing Libraries](#importing-libraries)\n",
    "2. [Loading Dataset](#loading-dataset)\n",
    "3. [Basic Understanding of Dataset](#basic-understanding-of-dataset)\n",
    "4. [Exploratory Data Analysis](#exploratory-data-analysis)\n",
    "5. [Feature Engineering](#feature-engineering)\n",
    "6. [Data Pre-Processing](#data-pre-processing)"
   ]
  },
  {
   "cell_type": "markdown",
   "id": "12830a7a",
   "metadata": {
    "papermill": {
     "duration": 0.020245,
     "end_time": "2024-03-26T10:32:31.706710",
     "exception": false,
     "start_time": "2024-03-26T10:32:31.686465",
     "status": "completed"
    },
    "tags": []
   },
   "source": [
    "# Introduction\n",
    "This project aims to perform data preparation and initial analysis on a real estate dataset. The dataset includes information about properties from both sales and rental listings, sourced from various sources. The goal is to gain insights into the characteristics of the real estate market and prepare the data for further analysis or modeling.\n",
    "\n",
    "### **Project Steps**\n",
    "\n",
    "1. Data Loading and Inspection\n",
    "   - **Data Collection**: Real estate data is collected from multiple sources, including online listings and databases.\n",
    "   - **Initial Inspection**: The structure and basic characteristics of the dataset are examined, including the number of records, columns, and data types.\n",
    "\n",
    "\n",
    "2. Data Preprocessing\n",
    "   - **Duplicate Data Removal**: Any duplicate records in the dataset are identified and removed to ensure data integrity.\n",
    "   - **Data Type Identification**: The data types of columns are determined, and appropriate conversions are made if necessary.\n",
    "   - **Missing Data Handling**: Missing values in the dataset are addressed through imputation or removal, depending on the context.\n",
    "   - **Outlier Detection**: Outliers in the data, which may skew analysis results, are identified and processed using statistical methods.\n",
    "   - **Feature Engineering**: New features are created based on existing ones to enhance the predictive power of the dataset.\n",
    "\n",
    "\n",
    "3. Data Analysis and Exploration\n",
    "   - **Correlation Analysis**: Relationships between different variables in the dataset are explored using correlation matrices and visualizations.\n",
    "   - **Distribution Analysis**: The distribution of key variables, such as price and area, is examined to understand their patterns and characteristics.\n",
    "   - **Visualization**: Various plots and charts are created to visualize the data and gain insights into underlying trends and patterns.\n",
    "\n",
    "\n",
    "4. Data Modeling Preparation\n",
    "   - **Feature Selection**: Relevant features for modeling are selected based on their importance and contribution to the target variable.\n",
    "   - **Data Splitting**: The dataset is divided into training and testing sets to facilitate model training and evaluation.\n",
    "\n",
    "\n",
    "5. Conclusion\n",
    "   - This project serves as a foundational step in the analysis of real estate data. By preparing the dataset and performing initial exploratory analysis, it sets the stage for further analysis or modeling tasks. The insights gained from this project can be used by stakeholders in the real estate industry for decision-making and strategic planning.\n"
   ]
  },
  {
   "cell_type": "markdown",
   "id": "7ef3b757",
   "metadata": {
    "papermill": {
     "duration": 0.019343,
     "end_time": "2024-03-26T10:32:31.744945",
     "exception": false,
     "start_time": "2024-03-26T10:32:31.725602",
     "status": "completed"
    },
    "tags": []
   },
   "source": [
    "### Importing Libraries\n"
   ]
  },
  {
   "cell_type": "code",
   "execution_count": 1,
   "id": "a22ded0c",
   "metadata": {
    "execution": {
     "iopub.execute_input": "2024-03-26T10:32:31.787207Z",
     "iopub.status.busy": "2024-03-26T10:32:31.786600Z",
     "iopub.status.idle": "2024-03-26T10:32:31.792703Z",
     "shell.execute_reply": "2024-03-26T10:32:31.791886Z"
    },
    "papermill": {
     "duration": 0.030288,
     "end_time": "2024-03-26T10:32:31.794897",
     "exception": false,
     "start_time": "2024-03-26T10:32:31.764609",
     "status": "completed"
    },
    "tags": []
   },
   "outputs": [],
   "source": [
    "# TODO: Import Required libraries\n",
    "# Codes"
   ]
  },
  {
   "cell_type": "markdown",
   "id": "8e7d6231",
   "metadata": {
    "papermill": {
     "duration": 0.019678,
     "end_time": "2024-03-26T10:32:31.834319",
     "exception": false,
     "start_time": "2024-03-26T10:32:31.814641",
     "status": "completed"
    },
    "tags": []
   },
   "source": [
    "### Loading Dataset"
   ]
  },
  {
   "cell_type": "code",
   "execution_count": 2,
   "id": "ce96b856",
   "metadata": {
    "execution": {
     "iopub.execute_input": "2024-03-26T10:32:31.875056Z",
     "iopub.status.busy": "2024-03-26T10:32:31.874231Z",
     "iopub.status.idle": "2024-03-26T10:32:31.878863Z",
     "shell.execute_reply": "2024-03-26T10:32:31.878102Z"
    },
    "papermill": {
     "duration": 0.027231,
     "end_time": "2024-03-26T10:32:31.880910",
     "exception": false,
     "start_time": "2024-03-26T10:32:31.853679",
     "status": "completed"
    },
    "tags": []
   },
   "outputs": [],
   "source": [
    "# TODO: Load dataset.csv \n",
    "# Codes"
   ]
  },
  {
   "cell_type": "markdown",
   "id": "a6183fa6",
   "metadata": {
    "papermill": {
     "duration": 0.018643,
     "end_time": "2024-03-26T10:32:31.919264",
     "exception": false,
     "start_time": "2024-03-26T10:32:31.900621",
     "status": "completed"
    },
    "tags": []
   },
   "source": [
    "## Basic Understanding of Dataset"
   ]
  },
  {
   "cell_type": "code",
   "execution_count": 3,
   "id": "fb2ec520",
   "metadata": {
    "execution": {
     "iopub.execute_input": "2024-03-26T10:32:31.958377Z",
     "iopub.status.busy": "2024-03-26T10:32:31.957590Z",
     "iopub.status.idle": "2024-03-26T10:32:31.962038Z",
     "shell.execute_reply": "2024-03-26T10:32:31.961230Z"
    },
    "papermill": {
     "duration": 0.026885,
     "end_time": "2024-03-26T10:32:31.964139",
     "exception": false,
     "start_time": "2024-03-26T10:32:31.937254",
     "status": "completed"
    },
    "tags": []
   },
   "outputs": [],
   "source": [
    "# TODO: Print Shape of our Dataset\n",
    "# Codes"
   ]
  },
  {
   "cell_type": "code",
   "execution_count": 4,
   "id": "d19c8baa",
   "metadata": {
    "execution": {
     "iopub.execute_input": "2024-03-26T10:32:32.004659Z",
     "iopub.status.busy": "2024-03-26T10:32:32.004232Z",
     "iopub.status.idle": "2024-03-26T10:32:32.008209Z",
     "shell.execute_reply": "2024-03-26T10:32:32.007232Z"
    },
    "papermill": {
     "duration": 0.027252,
     "end_time": "2024-03-26T10:32:32.010257",
     "exception": false,
     "start_time": "2024-03-26T10:32:31.983005",
     "status": "completed"
    },
    "tags": []
   },
   "outputs": [],
   "source": [
    "# TODO: Print Columns of Dataset\n",
    "# Codes"
   ]
  },
  {
   "cell_type": "code",
   "execution_count": 5,
   "id": "791d9366",
   "metadata": {
    "execution": {
     "iopub.execute_input": "2024-03-26T10:32:32.051475Z",
     "iopub.status.busy": "2024-03-26T10:32:32.051060Z",
     "iopub.status.idle": "2024-03-26T10:32:32.055140Z",
     "shell.execute_reply": "2024-03-26T10:32:32.054143Z"
    },
    "papermill": {
     "duration": 0.02792,
     "end_time": "2024-03-26T10:32:32.057565",
     "exception": false,
     "start_time": "2024-03-26T10:32:32.029645",
     "status": "completed"
    },
    "tags": []
   },
   "outputs": [],
   "source": [
    "# TODO: Print first 5 rows of the dataset\n",
    "# Codes"
   ]
  },
  {
   "cell_type": "code",
   "execution_count": 6,
   "id": "ca2d7c6d",
   "metadata": {
    "execution": {
     "iopub.execute_input": "2024-03-26T10:32:32.100962Z",
     "iopub.status.busy": "2024-03-26T10:32:32.100591Z",
     "iopub.status.idle": "2024-03-26T10:32:32.104618Z",
     "shell.execute_reply": "2024-03-26T10:32:32.103598Z"
    },
    "papermill": {
     "duration": 0.027624,
     "end_time": "2024-03-26T10:32:32.106662",
     "exception": false,
     "start_time": "2024-03-26T10:32:32.079038",
     "status": "completed"
    },
    "tags": []
   },
   "outputs": [],
   "source": [
    "# TODO: Print last 5 rows of the dataset\n",
    "# Codes"
   ]
  },
  {
   "cell_type": "code",
   "execution_count": 7,
   "id": "af45139e",
   "metadata": {
    "execution": {
     "iopub.execute_input": "2024-03-26T10:32:32.147130Z",
     "iopub.status.busy": "2024-03-26T10:32:32.146392Z",
     "iopub.status.idle": "2024-03-26T10:32:32.150393Z",
     "shell.execute_reply": "2024-03-26T10:32:32.149664Z"
    },
    "papermill": {
     "duration": 0.026337,
     "end_time": "2024-03-26T10:32:32.152357",
     "exception": false,
     "start_time": "2024-03-26T10:32:32.126020",
     "status": "completed"
    },
    "tags": []
   },
   "outputs": [],
   "source": [
    "# TODO: Number of Duplicated in our dataset\n",
    "# Codes\n",
    "# TODO: The percentage of Duplicated in our dataset\n",
    "# Codes"
   ]
  },
  {
   "cell_type": "code",
   "execution_count": 8,
   "id": "b128346f",
   "metadata": {
    "execution": {
     "iopub.execute_input": "2024-03-26T10:32:32.191926Z",
     "iopub.status.busy": "2024-03-26T10:32:32.191595Z",
     "iopub.status.idle": "2024-03-26T10:32:32.195655Z",
     "shell.execute_reply": "2024-03-26T10:32:32.194820Z"
    },
    "papermill": {
     "duration": 0.026104,
     "end_time": "2024-03-26T10:32:32.197645",
     "exception": false,
     "start_time": "2024-03-26T10:32:32.171541",
     "status": "completed"
    },
    "tags": []
   },
   "outputs": [],
   "source": [
    "# TODO: Types of our Columns in Dataset\n",
    "# Codes"
   ]
  },
  {
   "cell_type": "markdown",
   "id": "82f186d1",
   "metadata": {
    "papermill": {
     "duration": 0.018741,
     "end_time": "2024-03-26T10:32:32.235926",
     "exception": false,
     "start_time": "2024-03-26T10:32:32.217185",
     "status": "completed"
    },
    "tags": []
   },
   "source": [
    "**Description**<br>\n",
    "\n",
    "* Except Area feature , all of them have right type . we have to change its type later .<br>\n"
   ]
  },
  {
   "cell_type": "code",
   "execution_count": 9,
   "id": "97f9549f",
   "metadata": {
    "execution": {
     "iopub.execute_input": "2024-03-26T10:32:32.275581Z",
     "iopub.status.busy": "2024-03-26T10:32:32.274807Z",
     "iopub.status.idle": "2024-03-26T10:32:32.279742Z",
     "shell.execute_reply": "2024-03-26T10:32:32.278696Z"
    },
    "papermill": {
     "duration": 0.027186,
     "end_time": "2024-03-26T10:32:32.281852",
     "exception": false,
     "start_time": "2024-03-26T10:32:32.254666",
     "status": "completed"
    },
    "tags": []
   },
   "outputs": [],
   "source": [
    "# TODO: Print the number of missing values in our Dataset for each Column\n",
    "# Codes\n",
    "# TODO: The percentage of missing values in our Dataset for each Column\n",
    "# Codes"
   ]
  },
  {
   "cell_type": "markdown",
   "id": "e5a2bd00",
   "metadata": {
    "papermill": {
     "duration": 0.019255,
     "end_time": "2024-03-26T10:32:32.319827",
     "exception": false,
     "start_time": "2024-03-26T10:32:32.300572",
     "status": "completed"
    },
    "tags": []
   },
   "source": [
    "**Description**<br>\n",
    "\n",
    "* Due to Address feature plays an important role and it must be exact, we can't replace missing values with anything.\n",
    "* Consequently, we will drop those missing values later."
   ]
  },
  {
   "cell_type": "code",
   "execution_count": 10,
   "id": "a828432b",
   "metadata": {
    "execution": {
     "iopub.execute_input": "2024-03-26T10:32:32.360189Z",
     "iopub.status.busy": "2024-03-26T10:32:32.359772Z",
     "iopub.status.idle": "2024-03-26T10:32:32.363752Z",
     "shell.execute_reply": "2024-03-26T10:32:32.362993Z"
    },
    "papermill": {
     "duration": 0.026322,
     "end_time": "2024-03-26T10:32:32.365533",
     "exception": false,
     "start_time": "2024-03-26T10:32:32.339211",
     "status": "completed"
    },
    "tags": []
   },
   "outputs": [],
   "source": [
    "# TODO: Print the cardinality of our Columns"
   ]
  },
  {
   "cell_type": "markdown",
   "id": "99cab12d",
   "metadata": {
    "papermill": {
     "duration": 0.019098,
     "end_time": "2024-03-26T10:32:32.403912",
     "exception": false,
     "start_time": "2024-03-26T10:32:32.384814",
     "status": "completed"
    },
    "tags": []
   },
   "source": [
    "## Exploratory Data Analysis"
   ]
  },
  {
   "cell_type": "code",
   "execution_count": 11,
   "id": "b8330498",
   "metadata": {
    "execution": {
     "iopub.execute_input": "2024-03-26T10:32:32.520560Z",
     "iopub.status.busy": "2024-03-26T10:32:32.519862Z",
     "iopub.status.idle": "2024-03-26T10:32:32.524476Z",
     "shell.execute_reply": "2024-03-26T10:32:32.523495Z"
    },
    "papermill": {
     "duration": 0.10311,
     "end_time": "2024-03-26T10:32:32.526581",
     "exception": false,
     "start_time": "2024-03-26T10:32:32.423471",
     "status": "completed"
    },
    "tags": []
   },
   "outputs": [],
   "source": [
    "# TODO: Plot the distribution of prices from the dataset using a histogram with kernel density estimation enabled, specifying a palette and setting the number of bins to 100.\n",
    "# Codes"
   ]
  },
  {
   "cell_type": "markdown",
   "id": "fad15328",
   "metadata": {
    "papermill": {
     "duration": 0.01897,
     "end_time": "2024-03-26T10:32:32.565372",
     "exception": false,
     "start_time": "2024-03-26T10:32:32.546402",
     "status": "completed"
    },
    "tags": []
   },
   "source": [
    "**Description**<br>\n",
    "\n",
    "* Most houses have roughly close price in one third of the first part\n",
    "* Outliers are obvious now(on the right side)"
   ]
  },
  {
   "cell_type": "code",
   "execution_count": 12,
   "id": "90e8773c",
   "metadata": {
    "execution": {
     "iopub.execute_input": "2024-03-26T10:32:32.606333Z",
     "iopub.status.busy": "2024-03-26T10:32:32.605334Z",
     "iopub.status.idle": "2024-03-26T10:32:32.609571Z",
     "shell.execute_reply": "2024-03-26T10:32:32.608796Z"
    },
    "papermill": {
     "duration": 0.02682,
     "end_time": "2024-03-26T10:32:32.611437",
     "exception": false,
     "start_time": "2024-03-26T10:32:32.584617",
     "status": "completed"
    },
    "tags": []
   },
   "outputs": [],
   "source": [
    "# TODO: Visualize the distribution of the number of rooms (Room) from the dataset using a histogram.\n",
    "# Codes"
   ]
  },
  {
   "cell_type": "markdown",
   "id": "4b58593c",
   "metadata": {
    "papermill": {
     "duration": 0.019582,
     "end_time": "2024-03-26T10:32:32.650523",
     "exception": false,
     "start_time": "2024-03-26T10:32:32.630941",
     "status": "completed"
    },
    "tags": []
   },
   "source": [
    "**Description**<br>\n",
    "\n",
    "* About 2000 houses have exactly 2 rooms (most houses) \n",
    "* Distribution of 1 and 3 rooms are roughly the same (a little more 3 rooms)\n",
    "* we have not many houses with 4 or 5 rooms (in total about 150 houses)\n",
    "* houses without room is rarely seen \n",
    "\n",
    "**Conclusion**\n",
    "* Mean of rooms is roughly 2."
   ]
  },
  {
   "cell_type": "code",
   "execution_count": 13,
   "id": "1fddea69",
   "metadata": {
    "execution": {
     "iopub.execute_input": "2024-03-26T10:32:32.692818Z",
     "iopub.status.busy": "2024-03-26T10:32:32.692358Z",
     "iopub.status.idle": "2024-03-26T10:32:32.696386Z",
     "shell.execute_reply": "2024-03-26T10:32:32.695624Z"
    },
    "papermill": {
     "duration": 0.027867,
     "end_time": "2024-03-26T10:32:32.698361",
     "exception": false,
     "start_time": "2024-03-26T10:32:32.670494",
     "status": "completed"
    },
    "tags": []
   },
   "outputs": [],
   "source": [
    "# TODO: Create subplots to visualize the distribution of boolean columns ('Parking', 'Warehouse', 'Elevator') from the dataset using countplots.\n",
    "# Codes"
   ]
  },
  {
   "cell_type": "markdown",
   "id": "d044f4c3",
   "metadata": {
    "papermill": {
     "duration": 0.027231,
     "end_time": "2024-03-26T10:32:32.753611",
     "exception": false,
     "start_time": "2024-03-26T10:32:32.726380",
     "status": "completed"
    },
    "tags": []
   },
   "source": [
    "**Description**<br>\n",
    "\n",
    "* Most houses have Parking , Warehouse and Elevator (all these three features )\n",
    "* Most houses have Warehouse.(houses without warehouse are very low)\n",
    "* Those houses without Parking and Elevator have the same distribution(less than 1000 more than 500)\n"
   ]
  },
  {
   "cell_type": "markdown",
   "id": "ac0e035f",
   "metadata": {
    "papermill": {
     "duration": 0.023864,
     "end_time": "2024-03-26T10:32:32.803511",
     "exception": false,
     "start_time": "2024-03-26T10:32:32.779647",
     "status": "completed"
    },
    "tags": []
   },
   "source": [
    "## Feature Engineering"
   ]
  },
  {
   "cell_type": "code",
   "execution_count": 14,
   "id": "0b612be5",
   "metadata": {
    "execution": {
     "iopub.execute_input": "2024-03-26T10:32:32.848852Z",
     "iopub.status.busy": "2024-03-26T10:32:32.848320Z",
     "iopub.status.idle": "2024-03-26T10:32:32.853420Z",
     "shell.execute_reply": "2024-03-26T10:32:32.852315Z"
    },
    "papermill": {
     "duration": 0.030949,
     "end_time": "2024-03-26T10:32:32.855410",
     "exception": false,
     "start_time": "2024-03-26T10:32:32.824461",
     "status": "completed"
    },
    "tags": []
   },
   "outputs": [],
   "source": [
    "# TODO: Display the data types of columns in the dataset.\n",
    "# Codes"
   ]
  },
  {
   "cell_type": "markdown",
   "id": "00e54d15",
   "metadata": {
    "papermill": {
     "duration": 0.021461,
     "end_time": "2024-03-26T10:32:32.897943",
     "exception": false,
     "start_time": "2024-03-26T10:32:32.876482",
     "status": "completed"
    },
    "tags": []
   },
   "source": [
    "**Description**<br>\n",
    "\n",
    "The type of Area must be changed if we want to show and do feature engineering .<br>\n",
    "\n",
    "To be possible to change its type we need to remove comma between numbers than we are capable changing its type.\n"
   ]
  },
  {
   "cell_type": "code",
   "execution_count": 15,
   "id": "3ee81a6b",
   "metadata": {
    "execution": {
     "iopub.execute_input": "2024-03-26T10:32:32.944069Z",
     "iopub.status.busy": "2024-03-26T10:32:32.943090Z",
     "iopub.status.idle": "2024-03-26T10:32:32.947845Z",
     "shell.execute_reply": "2024-03-26T10:32:32.946847Z"
    },
    "papermill": {
     "duration": 0.028703,
     "end_time": "2024-03-26T10:32:32.949756",
     "exception": false,
     "start_time": "2024-03-26T10:32:32.921053",
     "status": "completed"
    },
    "tags": []
   },
   "outputs": [],
   "source": [
    "# TODO: Remove commas from the 'Area' column and convert it to numeric data type.\n",
    "# Codes"
   ]
  },
  {
   "cell_type": "code",
   "execution_count": 16,
   "id": "086689be",
   "metadata": {
    "execution": {
     "iopub.execute_input": "2024-03-26T10:32:32.992970Z",
     "iopub.status.busy": "2024-03-26T10:32:32.992068Z",
     "iopub.status.idle": "2024-03-26T10:32:32.996851Z",
     "shell.execute_reply": "2024-03-26T10:32:32.995839Z"
    },
    "papermill": {
     "duration": 0.028389,
     "end_time": "2024-03-26T10:32:32.998898",
     "exception": false,
     "start_time": "2024-03-26T10:32:32.970509",
     "status": "completed"
    },
    "tags": []
   },
   "outputs": [],
   "source": [
    "# TODO: Generate descriptive statistics for the 'Area' column in the dataset.\n",
    "# Codes"
   ]
  },
  {
   "cell_type": "markdown",
   "id": "c6d5bf58",
   "metadata": {
    "papermill": {
     "duration": 0.020353,
     "end_time": "2024-03-26T10:32:33.039876",
     "exception": false,
     "start_time": "2024-03-26T10:32:33.019523",
     "status": "completed"
    },
    "tags": []
   },
   "source": [
    "**Description**<br>\n",
    "\n",
    "We are going to divide Area feature to 4 category : Small(0-30) - AveUnderMean(30-90) - AveUpperMean(90-120)- High(120-...)\n",
    "\n",
    "except these features other will be replaced to nan values"
   ]
  },
  {
   "cell_type": "code",
   "execution_count": 17,
   "id": "f1d9af15",
   "metadata": {
    "execution": {
     "iopub.execute_input": "2024-03-26T10:32:33.089175Z",
     "iopub.status.busy": "2024-03-26T10:32:33.088155Z",
     "iopub.status.idle": "2024-03-26T10:32:33.092924Z",
     "shell.execute_reply": "2024-03-26T10:32:33.092031Z"
    },
    "papermill": {
     "duration": 0.034668,
     "end_time": "2024-03-26T10:32:33.095013",
     "exception": false,
     "start_time": "2024-03-26T10:32:33.060345",
     "status": "completed"
    },
    "tags": []
   },
   "outputs": [],
   "source": [
    "# TODO: Create a new feature 'AreaSize' based on the 'Area' column values, categorizing them as 'Small', 'AveUnderMean', 'AveUpperMean', or 'High'.\n",
    "# Codes"
   ]
  },
  {
   "cell_type": "code",
   "execution_count": 18,
   "id": "b255e448",
   "metadata": {
    "execution": {
     "iopub.execute_input": "2024-03-26T10:32:33.139870Z",
     "iopub.status.busy": "2024-03-26T10:32:33.138574Z",
     "iopub.status.idle": "2024-03-26T10:32:33.144319Z",
     "shell.execute_reply": "2024-03-26T10:32:33.143132Z"
    },
    "papermill": {
     "duration": 0.030729,
     "end_time": "2024-03-26T10:32:33.146435",
     "exception": false,
     "start_time": "2024-03-26T10:32:33.115706",
     "status": "completed"
    },
    "tags": []
   },
   "outputs": [],
   "source": [
    "# TODO: Visualize the distribution of the 'AreaSize' feature using a countplot.\n",
    "# Codes"
   ]
  },
  {
   "cell_type": "markdown",
   "id": "6fc6304e",
   "metadata": {
    "papermill": {
     "duration": 0.020613,
     "end_time": "2024-03-26T10:32:33.189913",
     "exception": false,
     "start_time": "2024-03-26T10:32:33.169300",
     "status": "completed"
    },
    "tags": []
   },
   "source": [
    "**Description**<br>\n",
    "\n",
    "* As we can see  about half of houses have between 30-90 meters(m2)\n",
    "* Houses with 90-120 meters  have the same contribution with houses which have more than 120 meters\n",
    "* we can realize that right-skewed has happened.(outliers most are on the right part)\n",
    "* very low houeses are with less than 30 meters size.\n"
   ]
  },
  {
   "cell_type": "markdown",
   "id": "0f3c25d1",
   "metadata": {
    "papermill": {
     "duration": 0.020999,
     "end_time": "2024-03-26T10:32:33.231919",
     "exception": false,
     "start_time": "2024-03-26T10:32:33.210920",
     "status": "completed"
    },
    "tags": []
   },
   "source": [
    "We are going to determine 4 level for Price feature : Cheap , AveUnderMean , AveUpperMean , Expensive <br>\n",
    "\n",
    "- `cheap` : 0-25% \n",
    "- `AveUnderMean` : 25%-50%\n",
    "- `AveUpperMean` : 50%-75%\n",
    "- `Expensive` : upper 75%"
   ]
  },
  {
   "cell_type": "code",
   "execution_count": 19,
   "id": "adc0bcbb",
   "metadata": {
    "execution": {
     "iopub.execute_input": "2024-03-26T10:32:33.276191Z",
     "iopub.status.busy": "2024-03-26T10:32:33.275141Z",
     "iopub.status.idle": "2024-03-26T10:32:33.280343Z",
     "shell.execute_reply": "2024-03-26T10:32:33.279306Z"
    },
    "papermill": {
     "duration": 0.03032,
     "end_time": "2024-03-26T10:32:33.282551",
     "exception": false,
     "start_time": "2024-03-26T10:32:33.252231",
     "status": "completed"
    },
    "tags": []
   },
   "outputs": [],
   "source": [
    "# TODO: Create a new feature 'PriceLevel' based on the 'Price' column values, categorizing them as 'Cheap', 'AveUnderMean', 'AveUpperMean', or 'Expensive'.\n",
    "# Codes"
   ]
  },
  {
   "cell_type": "code",
   "execution_count": 20,
   "id": "345c9438",
   "metadata": {
    "execution": {
     "iopub.execute_input": "2024-03-26T10:32:33.329052Z",
     "iopub.status.busy": "2024-03-26T10:32:33.328127Z",
     "iopub.status.idle": "2024-03-26T10:32:33.332783Z",
     "shell.execute_reply": "2024-03-26T10:32:33.331832Z"
    },
    "papermill": {
     "duration": 0.031253,
     "end_time": "2024-03-26T10:32:33.334987",
     "exception": false,
     "start_time": "2024-03-26T10:32:33.303734",
     "status": "completed"
    },
    "tags": []
   },
   "outputs": [],
   "source": [
    "# TODO: Visualize the distribution of the 'PriceLevel' feature using a countplot.\n",
    "# Codes"
   ]
  },
  {
   "cell_type": "markdown",
   "id": "3e2b968f",
   "metadata": {
    "papermill": {
     "duration": 0.023294,
     "end_time": "2024-03-26T10:32:33.380173",
     "exception": false,
     "start_time": "2024-03-26T10:32:33.356879",
     "status": "completed"
    },
    "tags": []
   },
   "source": [
    "**Description**<br>\n",
    "\n",
    "We have very balanced distribution in 4 parts"
   ]
  },
  {
   "cell_type": "markdown",
   "id": "179e178d",
   "metadata": {
    "papermill": {
     "duration": 0.020769,
     "end_time": "2024-03-26T10:32:33.422957",
     "exception": false,
     "start_time": "2024-03-26T10:32:33.402188",
     "status": "completed"
    },
    "tags": []
   },
   "source": [
    "## Data Pre-Processing"
   ]
  },
  {
   "cell_type": "code",
   "execution_count": 21,
   "id": "64feb1a6",
   "metadata": {
    "execution": {
     "iopub.execute_input": "2024-03-26T10:32:33.469367Z",
     "iopub.status.busy": "2024-03-26T10:32:33.468300Z",
     "iopub.status.idle": "2024-03-26T10:32:33.473243Z",
     "shell.execute_reply": "2024-03-26T10:32:33.472288Z"
    },
    "papermill": {
     "duration": 0.030769,
     "end_time": "2024-03-26T10:32:33.475399",
     "exception": false,
     "start_time": "2024-03-26T10:32:33.444630",
     "status": "completed"
    },
    "tags": []
   },
   "outputs": [],
   "source": [
    "# TODO: Display a random sample of 10 rows from the dataset.\n",
    "# Codes"
   ]
  },
  {
   "cell_type": "code",
   "execution_count": 22,
   "id": "b70a3934",
   "metadata": {
    "execution": {
     "iopub.execute_input": "2024-03-26T10:32:33.520626Z",
     "iopub.status.busy": "2024-03-26T10:32:33.519662Z",
     "iopub.status.idle": "2024-03-26T10:32:33.524558Z",
     "shell.execute_reply": "2024-03-26T10:32:33.523626Z"
    },
    "papermill": {
     "duration": 0.03,
     "end_time": "2024-03-26T10:32:33.526482",
     "exception": false,
     "start_time": "2024-03-26T10:32:33.496482",
     "status": "completed"
    },
    "tags": []
   },
   "outputs": [],
   "source": [
    "# TODO: Calculate the number and percentage of missing values for each column in the dataset and display the results. Highlight the column with the maximum percentage of missing values in red.\n",
    "# Codes"
   ]
  },
  {
   "cell_type": "markdown",
   "id": "bb14b716",
   "metadata": {
    "papermill": {
     "duration": 0.024926,
     "end_time": "2024-03-26T10:32:33.573328",
     "exception": false,
     "start_time": "2024-03-26T10:32:33.548402",
     "status": "completed"
    },
    "tags": []
   },
   "source": [
    "    \n",
    "**Description**<br>\n",
    "\n",
    "Address (location of house) is crucial , wa cant replace missing values with like(most frequent)\n",
    "(if we do that our model doesnt have good prediction) <br>\n",
    "So , we easily drop those missing values"
   ]
  },
  {
   "cell_type": "code",
   "execution_count": 23,
   "id": "68e26a90",
   "metadata": {
    "execution": {
     "iopub.execute_input": "2024-03-26T10:32:33.623652Z",
     "iopub.status.busy": "2024-03-26T10:32:33.622711Z",
     "iopub.status.idle": "2024-03-26T10:32:33.627350Z",
     "shell.execute_reply": "2024-03-26T10:32:33.626409Z"
    },
    "papermill": {
     "duration": 0.029662,
     "end_time": "2024-03-26T10:32:33.629445",
     "exception": false,
     "start_time": "2024-03-26T10:32:33.599783",
     "status": "completed"
    },
    "tags": []
   },
   "outputs": [],
   "source": [
    "# TODO: Remove rows with missing values from the dataset.\n",
    "# Codes"
   ]
  },
  {
   "cell_type": "code",
   "execution_count": 24,
   "id": "01add77e",
   "metadata": {
    "execution": {
     "iopub.execute_input": "2024-03-26T10:32:33.680636Z",
     "iopub.status.busy": "2024-03-26T10:32:33.680176Z",
     "iopub.status.idle": "2024-03-26T10:32:33.684280Z",
     "shell.execute_reply": "2024-03-26T10:32:33.683300Z"
    },
    "papermill": {
     "duration": 0.028892,
     "end_time": "2024-03-26T10:32:33.686342",
     "exception": false,
     "start_time": "2024-03-26T10:32:33.657450",
     "status": "completed"
    },
    "tags": []
   },
   "outputs": [],
   "source": [
    "# TODO: Confirm that there are no missing values remaining in the dataset after removing them.\n",
    "# Codes"
   ]
  },
  {
   "cell_type": "code",
   "execution_count": 25,
   "id": "c1af5778",
   "metadata": {
    "execution": {
     "iopub.execute_input": "2024-03-26T10:32:33.730247Z",
     "iopub.status.busy": "2024-03-26T10:32:33.729376Z",
     "iopub.status.idle": "2024-03-26T10:32:33.733905Z",
     "shell.execute_reply": "2024-03-26T10:32:33.733035Z"
    },
    "papermill": {
     "duration": 0.028948,
     "end_time": "2024-03-26T10:32:33.736065",
     "exception": false,
     "start_time": "2024-03-26T10:32:33.707117",
     "status": "completed"
    },
    "tags": []
   },
   "outputs": [],
   "source": [
    "# TODO: Identify and count duplicated values in the dataset. Calculate and print the percentage of duplicated values.\n",
    "# Codes"
   ]
  },
  {
   "cell_type": "markdown",
   "id": "8020b2bf",
   "metadata": {
    "papermill": {
     "duration": 0.021486,
     "end_time": "2024-03-26T10:32:33.778793",
     "exception": false,
     "start_time": "2024-03-26T10:32:33.757307",
     "status": "completed"
    },
    "tags": []
   },
   "source": [
    "**Description**<br>\n",
    "\n",
    "We have 208 duplicated values .\n",
    "We can easily drop them"
   ]
  },
  {
   "cell_type": "code",
   "execution_count": 26,
   "id": "33f4c1a2",
   "metadata": {
    "execution": {
     "iopub.execute_input": "2024-03-26T10:32:33.824951Z",
     "iopub.status.busy": "2024-03-26T10:32:33.823942Z",
     "iopub.status.idle": "2024-03-26T10:32:33.828875Z",
     "shell.execute_reply": "2024-03-26T10:32:33.827910Z"
    },
    "papermill": {
     "duration": 0.030462,
     "end_time": "2024-03-26T10:32:33.830901",
     "exception": false,
     "start_time": "2024-03-26T10:32:33.800439",
     "status": "completed"
    },
    "tags": []
   },
   "outputs": [],
   "source": [
    "# TODO: Remove duplicated rows from the dataset, reset the index, and drop the old index column.\n",
    "# Codes"
   ]
  },
  {
   "cell_type": "code",
   "execution_count": 27,
   "id": "958f4c2f",
   "metadata": {
    "execution": {
     "iopub.execute_input": "2024-03-26T10:32:33.877972Z",
     "iopub.status.busy": "2024-03-26T10:32:33.877516Z",
     "iopub.status.idle": "2024-03-26T10:32:33.882145Z",
     "shell.execute_reply": "2024-03-26T10:32:33.881163Z"
    },
    "papermill": {
     "duration": 0.031878,
     "end_time": "2024-03-26T10:32:33.884337",
     "exception": false,
     "start_time": "2024-03-26T10:32:33.852459",
     "status": "completed"
    },
    "tags": []
   },
   "outputs": [],
   "source": [
    "# TODO: Print the new shape of the dataset after removing duplicated rows and resetting the index.\n",
    "# Codes"
   ]
  },
  {
   "cell_type": "code",
   "execution_count": 28,
   "id": "0af32d15",
   "metadata": {
    "execution": {
     "iopub.execute_input": "2024-03-26T10:32:33.928381Z",
     "iopub.status.busy": "2024-03-26T10:32:33.927539Z",
     "iopub.status.idle": "2024-03-26T10:32:33.932221Z",
     "shell.execute_reply": "2024-03-26T10:32:33.931516Z"
    },
    "papermill": {
     "duration": 0.029109,
     "end_time": "2024-03-26T10:32:33.934488",
     "exception": false,
     "start_time": "2024-03-26T10:32:33.905379",
     "status": "completed"
    },
    "tags": []
   },
   "outputs": [],
   "source": [
    "# TODO: Display the data types of columns in the dataset after any transformations or modifications.\n",
    "# Codes"
   ]
  },
  {
   "cell_type": "markdown",
   "id": "8416dda6",
   "metadata": {
    "papermill": {
     "duration": 0.020658,
     "end_time": "2024-03-26T10:32:33.975868",
     "exception": false,
     "start_time": "2024-03-26T10:32:33.955210",
     "status": "completed"
    },
    "tags": []
   },
   "source": [
    "**Description**<br>\n",
    "* About dtypes every thing is fine . <br>\n",
    "* We are going to check and discover each feature ."
   ]
  },
  {
   "cell_type": "code",
   "execution_count": 29,
   "id": "abc01159",
   "metadata": {
    "execution": {
     "iopub.execute_input": "2024-03-26T10:32:34.020471Z",
     "iopub.status.busy": "2024-03-26T10:32:34.019597Z",
     "iopub.status.idle": "2024-03-26T10:32:34.024168Z",
     "shell.execute_reply": "2024-03-26T10:32:34.023513Z"
    },
    "papermill": {
     "duration": 0.029992,
     "end_time": "2024-03-26T10:32:34.026393",
     "exception": false,
     "start_time": "2024-03-26T10:32:33.996401",
     "status": "completed"
    },
    "tags": []
   },
   "outputs": [],
   "source": [
    "# TODO: Calculate the count and mean price for each category of the 'AreaSize' feature and display the results, sorted by 'AreaSize' in descending order.\n",
    "# Codes"
   ]
  },
  {
   "cell_type": "markdown",
   "id": "355adee9",
   "metadata": {
    "papermill": {
     "duration": 0.022327,
     "end_time": "2024-03-26T10:32:34.070558",
     "exception": false,
     "start_time": "2024-03-26T10:32:34.048231",
     "status": "completed"
    },
    "tags": []
   },
   "source": [
    "**Description**<br>\n",
    "\n",
    "* Obviously with increasing the meter of a house the price will raise and Mean will be raised too . <br>\n",
    "\n",
    "* Distribution of houses according to Meter is : AveUnderMean - High - AveUpperMean - Small \n",
    "\n",
    "* There is just a house with a small size.(it's an outlier)"
   ]
  },
  {
   "cell_type": "code",
   "execution_count": 30,
   "id": "686638f1",
   "metadata": {
    "execution": {
     "iopub.execute_input": "2024-03-26T10:32:34.115432Z",
     "iopub.status.busy": "2024-03-26T10:32:34.114929Z",
     "iopub.status.idle": "2024-03-26T10:32:34.120265Z",
     "shell.execute_reply": "2024-03-26T10:32:34.119012Z"
    },
    "papermill": {
     "duration": 0.029838,
     "end_time": "2024-03-26T10:32:34.122520",
     "exception": false,
     "start_time": "2024-03-26T10:32:34.092682",
     "status": "completed"
    },
    "tags": []
   },
   "outputs": [],
   "source": [
    "# TODO: Calculate the percentage distribution and mean price for each category of the 'Room' feature and display the results, sorted by room number.\n",
    "# Codes"
   ]
  },
  {
   "cell_type": "markdown",
   "id": "3f970bac",
   "metadata": {
    "papermill": {
     "duration": 0.02054,
     "end_time": "2024-03-26T10:32:34.165176",
     "exception": false,
     "start_time": "2024-03-26T10:32:34.144636",
     "status": "completed"
    },
    "tags": []
   },
   "source": [
    "    \n",
    "**Description**<br>\n",
    "\n",
    "We can see the distribution of houses with :   <br>\n",
    "In row 2 , 3 , 1 , 4 , 5   and 0 rooms have the highest distribution. <br>\n",
    "\n",
    "Mean price for each has been shown. <br>\n",
    "Obviously, with raising the number of rooms the cost will be increased.<br>\n",
    "(Duplicate the cost for each 1 room  (except 4rooms to 5rooms)"
   ]
  },
  {
   "cell_type": "code",
   "execution_count": 31,
   "id": "b2b041c9",
   "metadata": {
    "execution": {
     "iopub.execute_input": "2024-03-26T10:32:34.209262Z",
     "iopub.status.busy": "2024-03-26T10:32:34.208800Z",
     "iopub.status.idle": "2024-03-26T10:32:34.213221Z",
     "shell.execute_reply": "2024-03-26T10:32:34.212280Z"
    },
    "papermill": {
     "duration": 0.029374,
     "end_time": "2024-03-26T10:32:34.215559",
     "exception": false,
     "start_time": "2024-03-26T10:32:34.186185",
     "status": "completed"
    },
    "tags": []
   },
   "outputs": [],
   "source": [
    "# TODO: Calculate the count and mean price for each category of the 'Parking' feature and display the results.\n",
    "# Codes"
   ]
  },
  {
   "cell_type": "markdown",
   "id": "fb03657a",
   "metadata": {
    "papermill": {
     "duration": 0.021484,
     "end_time": "2024-03-26T10:32:34.258275",
     "exception": false,
     "start_time": "2024-03-26T10:32:34.236791",
     "status": "completed"
    },
    "tags": []
   },
   "source": [
    "**Description**<br>\n",
    "\n",
    "* As we can see , most houses have parking (about 5.5x versus those without parking)<br>\n",
    "\n",
    "* Those houses with parking have higher costs.(about fourfold)(transparently Parking is an important feature for price) "
   ]
  },
  {
   "cell_type": "code",
   "execution_count": 32,
   "id": "8179c07b",
   "metadata": {
    "execution": {
     "iopub.execute_input": "2024-03-26T10:32:34.304751Z",
     "iopub.status.busy": "2024-03-26T10:32:34.304244Z",
     "iopub.status.idle": "2024-03-26T10:32:34.309047Z",
     "shell.execute_reply": "2024-03-26T10:32:34.308017Z"
    },
    "papermill": {
     "duration": 0.030441,
     "end_time": "2024-03-26T10:32:34.311231",
     "exception": false,
     "start_time": "2024-03-26T10:32:34.280790",
     "status": "completed"
    },
    "tags": []
   },
   "outputs": [],
   "source": [
    "# TODO: Calculate the count and mean price for each category of the 'Warehouse' feature and display the results.\n",
    "# Codes"
   ]
  },
  {
   "cell_type": "markdown",
   "id": "695afcc8",
   "metadata": {
    "papermill": {
     "duration": 0.021367,
     "end_time": "2024-03-26T10:32:34.354162",
     "exception": false,
     "start_time": "2024-03-26T10:32:34.332795",
     "status": "completed"
    },
    "tags": []
   },
   "source": [
    "    \n",
    "**Description**<br>\n",
    "\n",
    "* Most houses have Warehouse (about 10x versus those without Warehouse)\n",
    "\n",
    "* Houses with warehouse have higher costs . more than duoble"
   ]
  },
  {
   "cell_type": "code",
   "execution_count": 33,
   "id": "a442845d",
   "metadata": {
    "execution": {
     "iopub.execute_input": "2024-03-26T10:32:34.400136Z",
     "iopub.status.busy": "2024-03-26T10:32:34.399396Z",
     "iopub.status.idle": "2024-03-26T10:32:34.403342Z",
     "shell.execute_reply": "2024-03-26T10:32:34.402607Z"
    },
    "papermill": {
     "duration": 0.029822,
     "end_time": "2024-03-26T10:32:34.405355",
     "exception": false,
     "start_time": "2024-03-26T10:32:34.375533",
     "status": "completed"
    },
    "tags": []
   },
   "outputs": [],
   "source": [
    "# TODO: Calculate the count and mean price for each category of the 'Elevator' feature and display the results.\n",
    "# Codes"
   ]
  },
  {
   "cell_type": "markdown",
   "id": "4ed10aad",
   "metadata": {
    "papermill": {
     "duration": 0.021843,
     "end_time": "2024-03-26T10:32:34.449483",
     "exception": false,
     "start_time": "2024-03-26T10:32:34.427640",
     "status": "completed"
    },
    "tags": []
   },
   "source": [
    "**Description**<br>\n",
    "\n",
    "* Most houses have Elevator (about 4x versus those without Elevator)\n",
    "\n",
    "* Houses with Elevator have higher costs .about 1.5X \n",
    "\n",
    "* Versus Parking and Warehouse  , Elevator has less influence on price\n"
   ]
  },
  {
   "cell_type": "code",
   "execution_count": 34,
   "id": "d4730d9d",
   "metadata": {
    "execution": {
     "iopub.execute_input": "2024-03-26T10:32:34.496422Z",
     "iopub.status.busy": "2024-03-26T10:32:34.495597Z",
     "iopub.status.idle": "2024-03-26T10:32:34.499855Z",
     "shell.execute_reply": "2024-03-26T10:32:34.498861Z"
    },
    "papermill": {
     "duration": 0.030491,
     "end_time": "2024-03-26T10:32:34.502169",
     "exception": false,
     "start_time": "2024-03-26T10:32:34.471678",
     "status": "completed"
    },
    "tags": []
   },
   "outputs": [],
   "source": [
    "# TODO: Create a cross-tabulation between the 'Parking' and 'Room' features in the dataset.\n",
    "# Codes"
   ]
  },
  {
   "cell_type": "markdown",
   "id": "6ba289cb",
   "metadata": {
    "papermill": {
     "duration": 0.021467,
     "end_time": "2024-03-26T10:32:34.545371",
     "exception": false,
     "start_time": "2024-03-26T10:32:34.523904",
     "status": "completed"
    },
    "tags": []
   },
   "source": [
    "**Description**<br>\n",
    "\n",
    "* Most houses with 1 room or more have Parking.\n",
    "* With raising the number of rooms , houses with Parking have increasingly raised.\n",
    "\n"
   ]
  },
  {
   "cell_type": "code",
   "execution_count": 35,
   "id": "e426e742",
   "metadata": {
    "execution": {
     "iopub.execute_input": "2024-03-26T10:32:34.592755Z",
     "iopub.status.busy": "2024-03-26T10:32:34.591415Z",
     "iopub.status.idle": "2024-03-26T10:32:34.596768Z",
     "shell.execute_reply": "2024-03-26T10:32:34.596006Z"
    },
    "papermill": {
     "duration": 0.03104,
     "end_time": "2024-03-26T10:32:34.599094",
     "exception": false,
     "start_time": "2024-03-26T10:32:34.568054",
     "status": "completed"
    },
    "tags": []
   },
   "outputs": [],
   "source": [
    "# TODO: Calculate the mean price for each combination of 'Parking' and 'Warehouse' features in the dataset and round the results.\n",
    "# Codes"
   ]
  },
  {
   "cell_type": "markdown",
   "id": "554e8a89",
   "metadata": {
    "papermill": {
     "duration": 0.021479,
     "end_time": "2024-03-26T10:32:34.641823",
     "exception": false,
     "start_time": "2024-03-26T10:32:34.620344",
     "status": "completed"
    },
    "tags": []
   },
   "source": [
    "**Description**\n",
    "\n",
    "* It can be seen that houses with Warehouse and without Parking have less cost versus those houses with Parking.\n",
    "* If both features exist in a house , the cost of the house will be high.\n"
   ]
  },
  {
   "cell_type": "code",
   "execution_count": 36,
   "id": "e959d72c",
   "metadata": {
    "execution": {
     "iopub.execute_input": "2024-03-26T10:32:34.687789Z",
     "iopub.status.busy": "2024-03-26T10:32:34.687035Z",
     "iopub.status.idle": "2024-03-26T10:32:34.691702Z",
     "shell.execute_reply": "2024-03-26T10:32:34.690624Z"
    },
    "papermill": {
     "duration": 0.030467,
     "end_time": "2024-03-26T10:32:34.693890",
     "exception": false,
     "start_time": "2024-03-26T10:32:34.663423",
     "status": "completed"
    },
    "tags": []
   },
   "outputs": [],
   "source": [
    "# TODO: Calculate the mean price for each combination of 'Room' and 'Warehouse' features in the dataset and round the results.\n",
    "# Codes"
   ]
  },
  {
   "cell_type": "markdown",
   "id": "a46e8eaa",
   "metadata": {
    "papermill": {
     "duration": 0.02239,
     "end_time": "2024-03-26T10:32:34.737843",
     "exception": false,
     "start_time": "2024-03-26T10:32:34.715453",
     "status": "completed"
    },
    "tags": []
   },
   "source": [
    "**Description**<br>\n",
    "* Except houses without room , with increasing the number of Rooms and Warehouse existance the cost will be increasingly raised.\n"
   ]
  },
  {
   "cell_type": "code",
   "execution_count": 37,
   "id": "4d086cbf",
   "metadata": {
    "execution": {
     "iopub.execute_input": "2024-03-26T10:32:34.784141Z",
     "iopub.status.busy": "2024-03-26T10:32:34.783687Z",
     "iopub.status.idle": "2024-03-26T10:32:34.788188Z",
     "shell.execute_reply": "2024-03-26T10:32:34.787174Z"
    },
    "papermill": {
     "duration": 0.03012,
     "end_time": "2024-03-26T10:32:34.790210",
     "exception": false,
     "start_time": "2024-03-26T10:32:34.760090",
     "status": "completed"
    },
    "tags": []
   },
   "outputs": [],
   "source": [
    "# TODO: Display the unique values of the 'Address' column in the dataset.\n",
    "# Codes"
   ]
  },
  {
   "cell_type": "code",
   "execution_count": 38,
   "id": "c5355c73",
   "metadata": {
    "execution": {
     "iopub.execute_input": "2024-03-26T10:32:34.836375Z",
     "iopub.status.busy": "2024-03-26T10:32:34.835870Z",
     "iopub.status.idle": "2024-03-26T10:32:34.840723Z",
     "shell.execute_reply": "2024-03-26T10:32:34.839698Z"
    },
    "papermill": {
     "duration": 0.030344,
     "end_time": "2024-03-26T10:32:34.842836",
     "exception": false,
     "start_time": "2024-03-26T10:32:34.812492",
     "status": "completed"
    },
    "tags": []
   },
   "outputs": [],
   "source": [
    "# TODO: Calculate and print the number of unique values in the 'Address' column of the dataset.\n",
    "# Codes"
   ]
  },
  {
   "cell_type": "markdown",
   "id": "a4586abd",
   "metadata": {
    "papermill": {
     "duration": 0.021637,
     "end_time": "2024-03-26T10:32:34.886607",
     "exception": false,
     "start_time": "2024-03-26T10:32:34.864970",
     "status": "completed"
    },
    "tags": []
   },
   "source": [
    "**Description**<br>\n",
    "\n",
    "Because we dont know that all names of addresses  have correct writing or human mistake has happened or not, we are going to \n",
    "remove any probable  problem in case of existance."
   ]
  },
  {
   "cell_type": "code",
   "execution_count": 39,
   "id": "f7045d94",
   "metadata": {
    "execution": {
     "iopub.execute_input": "2024-03-26T10:32:34.931111Z",
     "iopub.status.busy": "2024-03-26T10:32:34.930673Z",
     "iopub.status.idle": "2024-03-26T10:32:34.935286Z",
     "shell.execute_reply": "2024-03-26T10:32:34.934287Z"
    },
    "papermill": {
     "duration": 0.029244,
     "end_time": "2024-03-26T10:32:34.937367",
     "exception": false,
     "start_time": "2024-03-26T10:32:34.908123",
     "status": "completed"
    },
    "tags": []
   },
   "outputs": [],
   "source": [
    "# TODO: Remove non-alphabetic characters from the 'Address' column in the dataset and display the first five rows.\n",
    "# Codes"
   ]
  },
  {
   "cell_type": "code",
   "execution_count": 40,
   "id": "d3654c42",
   "metadata": {
    "execution": {
     "iopub.execute_input": "2024-03-26T10:32:34.982191Z",
     "iopub.status.busy": "2024-03-26T10:32:34.981756Z",
     "iopub.status.idle": "2024-03-26T10:32:34.986115Z",
     "shell.execute_reply": "2024-03-26T10:32:34.985122Z"
    },
    "papermill": {
     "duration": 0.029555,
     "end_time": "2024-03-26T10:32:34.988333",
     "exception": false,
     "start_time": "2024-03-26T10:32:34.958778",
     "status": "completed"
    },
    "tags": []
   },
   "outputs": [],
   "source": [
    "# TODO: Calculate and print the number of unique values in the 'Address' column of the dataset after removing non-alphabetic characters.\n",
    "# Codes"
   ]
  },
  {
   "cell_type": "code",
   "execution_count": 41,
   "id": "19412d83",
   "metadata": {
    "execution": {
     "iopub.execute_input": "2024-03-26T10:32:35.035037Z",
     "iopub.status.busy": "2024-03-26T10:32:35.034570Z",
     "iopub.status.idle": "2024-03-26T10:32:35.038545Z",
     "shell.execute_reply": "2024-03-26T10:32:35.037733Z"
    },
    "papermill": {
     "duration": 0.02973,
     "end_time": "2024-03-26T10:32:35.040560",
     "exception": false,
     "start_time": "2024-03-26T10:32:35.010830",
     "status": "completed"
    },
    "tags": []
   },
   "outputs": [],
   "source": [
    "# TODO: Find and store the top 10 most frequently occurring values in the 'Address' column.\n",
    "# Codes"
   ]
  },
  {
   "cell_type": "code",
   "execution_count": 42,
   "id": "bc9c9608",
   "metadata": {
    "execution": {
     "iopub.execute_input": "2024-03-26T10:32:35.087934Z",
     "iopub.status.busy": "2024-03-26T10:32:35.087053Z",
     "iopub.status.idle": "2024-03-26T10:32:35.091592Z",
     "shell.execute_reply": "2024-03-26T10:32:35.090726Z"
    },
    "papermill": {
     "duration": 0.030301,
     "end_time": "2024-03-26T10:32:35.093521",
     "exception": false,
     "start_time": "2024-03-26T10:32:35.063220",
     "status": "completed"
    },
    "tags": []
   },
   "outputs": [],
   "source": [
    "# TODO: Visualize the top 10 most frequently occurring values in the 'Address' column using a bar plot.\n",
    "# Codes"
   ]
  },
  {
   "cell_type": "code",
   "execution_count": 43,
   "id": "33efe259",
   "metadata": {
    "execution": {
     "iopub.execute_input": "2024-03-26T10:32:35.140126Z",
     "iopub.status.busy": "2024-03-26T10:32:35.139673Z",
     "iopub.status.idle": "2024-03-26T10:32:35.144453Z",
     "shell.execute_reply": "2024-03-26T10:32:35.143420Z"
    },
    "papermill": {
     "duration": 0.030939,
     "end_time": "2024-03-26T10:32:35.146734",
     "exception": false,
     "start_time": "2024-03-26T10:32:35.115795",
     "status": "completed"
    },
    "tags": []
   },
   "outputs": [],
   "source": [
    "# TODO: Calculate the mean price for each unique address in the dataset and store the results. Identify and store the top 10 addresses with the highest mean price.\n",
    "# Codes"
   ]
  },
  {
   "cell_type": "code",
   "execution_count": 44,
   "id": "b08004ff",
   "metadata": {
    "execution": {
     "iopub.execute_input": "2024-03-26T10:32:35.191171Z",
     "iopub.status.busy": "2024-03-26T10:32:35.190769Z",
     "iopub.status.idle": "2024-03-26T10:32:35.195260Z",
     "shell.execute_reply": "2024-03-26T10:32:35.194225Z"
    },
    "papermill": {
     "duration": 0.029327,
     "end_time": "2024-03-26T10:32:35.197478",
     "exception": false,
     "start_time": "2024-03-26T10:32:35.168151",
     "status": "completed"
    },
    "tags": []
   },
   "outputs": [],
   "source": [
    "# TODO: Calculate and round descriptive statistics for the 'Price' column in the dataset.\n",
    "# Codes"
   ]
  },
  {
   "cell_type": "code",
   "execution_count": 45,
   "id": "6eef1a26",
   "metadata": {
    "execution": {
     "iopub.execute_input": "2024-03-26T10:32:35.241684Z",
     "iopub.status.busy": "2024-03-26T10:32:35.241260Z",
     "iopub.status.idle": "2024-03-26T10:32:35.246390Z",
     "shell.execute_reply": "2024-03-26T10:32:35.245286Z"
    },
    "papermill": {
     "duration": 0.030016,
     "end_time": "2024-03-26T10:32:35.248550",
     "exception": false,
     "start_time": "2024-03-26T10:32:35.218534",
     "status": "completed"
    },
    "tags": []
   },
   "outputs": [],
   "source": [
    "# TODO: Create a copy of the dataset and format the 'Price' and 'Price(USD)' columns to display values with comma separators and no decimal places.\n",
    "# Codes"
   ]
  },
  {
   "cell_type": "markdown",
   "id": "f2064eea",
   "metadata": {
    "papermill": {
     "duration": 0.022409,
     "end_time": "2024-03-26T10:32:35.293451",
     "exception": false,
     "start_time": "2024-03-26T10:32:35.271042",
     "status": "completed"
    },
    "tags": []
   },
   "source": [
    "**Description**<br>\n",
    "* we create new variable to avoid changing the type of Price from numeric to object .\n",
    "* Price and Price(USD) are easily readable now . "
   ]
  },
  {
   "cell_type": "code",
   "execution_count": 46,
   "id": "5eaee62c",
   "metadata": {
    "execution": {
     "iopub.execute_input": "2024-03-26T10:32:35.341473Z",
     "iopub.status.busy": "2024-03-26T10:32:35.341016Z",
     "iopub.status.idle": "2024-03-26T10:32:35.345877Z",
     "shell.execute_reply": "2024-03-26T10:32:35.344916Z"
    },
    "papermill": {
     "duration": 0.031106,
     "end_time": "2024-03-26T10:32:35.348013",
     "exception": false,
     "start_time": "2024-03-26T10:32:35.316907",
     "status": "completed"
    },
    "tags": []
   },
   "outputs": [],
   "source": [
    "# TODO: Create a heatmap to visualize the correlation matrix of numerical columns in the dataset, including annotations, using the 'summer' colormap and setting the format of annotations to one decimal place.\n",
    "# Codes"
   ]
  },
  {
   "cell_type": "code",
   "execution_count": 47,
   "id": "8e6ad150",
   "metadata": {
    "execution": {
     "iopub.execute_input": "2024-03-26T10:32:35.396239Z",
     "iopub.status.busy": "2024-03-26T10:32:35.395738Z",
     "iopub.status.idle": "2024-03-26T10:32:35.400765Z",
     "shell.execute_reply": "2024-03-26T10:32:35.399682Z"
    },
    "papermill": {
     "duration": 0.03233,
     "end_time": "2024-03-26T10:32:35.403014",
     "exception": false,
     "start_time": "2024-03-26T10:32:35.370684",
     "status": "completed"
    },
    "tags": []
   },
   "outputs": [],
   "source": [
    "# TODO: Visualize the distribution of prices from the dataset using a boxplot.\n",
    "# Codes"
   ]
  },
  {
   "cell_type": "code",
   "execution_count": 48,
   "id": "55a4c7de",
   "metadata": {
    "execution": {
     "iopub.execute_input": "2024-03-26T10:32:35.451140Z",
     "iopub.status.busy": "2024-03-26T10:32:35.450744Z",
     "iopub.status.idle": "2024-03-26T10:32:35.455068Z",
     "shell.execute_reply": "2024-03-26T10:32:35.453863Z"
    },
    "papermill": {
     "duration": 0.031164,
     "end_time": "2024-03-26T10:32:35.457299",
     "exception": false,
     "start_time": "2024-03-26T10:32:35.426135",
     "status": "completed"
    },
    "tags": []
   },
   "outputs": [],
   "source": [
    "# TODO: Calculate the skewness of each numerical column in the dataset.\n",
    "# Codes"
   ]
  },
  {
   "cell_type": "markdown",
   "id": "122a30c1",
   "metadata": {
    "papermill": {
     "duration": 0.021894,
     "end_time": "2024-03-26T10:32:35.501602",
     "exception": false,
     "start_time": "2024-03-26T10:32:35.479708",
     "status": "completed"
    },
    "tags": []
   },
   "source": [
    "**Description**<br>\n",
    "\n",
    "What are outliers in dataset ?\n",
    "\n",
    "Answer : Outliers are values at the extreme ends of a dataset.\n",
    "\n",
    "One of the best method to find out outliers : **Interquartile range method** \n",
    "\n",
    "Interquartile range method:\n",
    "\n",
    "1: Sort your data from low to high<br>\n",
    "2: Identify the `first quartile` (Q1), the `median`, and the `third quartile` (Q3).<br>\n",
    "3: Calculate your `IQR = Q3 – Q1`<br>\n",
    "4: Calculate your upper fence = `Q3 + (1.5 * IQR)`<br>\n",
    "5: Calculate your lower fence = `Q1 – (1.5 * IQR)`<br>\n",
    "6: Use your fences to highlight any outliers, all values that fall outside your fences.<br>\n",
    "7: Your outliers are any values **greater than your upper fence or less than your lower fence**.<br>\n"
   ]
  },
  {
   "cell_type": "code",
   "execution_count": 49,
   "id": "61c18b0f",
   "metadata": {
    "execution": {
     "iopub.execute_input": "2024-03-26T10:32:35.548679Z",
     "iopub.status.busy": "2024-03-26T10:32:35.548165Z",
     "iopub.status.idle": "2024-03-26T10:32:35.552681Z",
     "shell.execute_reply": "2024-03-26T10:32:35.551587Z"
    },
    "papermill": {
     "duration": 0.031539,
     "end_time": "2024-03-26T10:32:35.554905",
     "exception": false,
     "start_time": "2024-03-26T10:32:35.523366",
     "status": "completed"
    },
    "tags": []
   },
   "outputs": [],
   "source": [
    "# TODO: Define a function named \"Interquartile_Range\" that calculates the interquartile range (IQR) and fences for outlier detection for a given dataframe and target column.\n",
    "# Codes"
   ]
  },
  {
   "cell_type": "code",
   "execution_count": 50,
   "id": "ef8fa6b5",
   "metadata": {
    "execution": {
     "iopub.execute_input": "2024-03-26T10:32:35.601535Z",
     "iopub.status.busy": "2024-03-26T10:32:35.601131Z",
     "iopub.status.idle": "2024-03-26T10:32:35.605352Z",
     "shell.execute_reply": "2024-03-26T10:32:35.604291Z"
    },
    "papermill": {
     "duration": 0.030086,
     "end_time": "2024-03-26T10:32:35.607301",
     "exception": false,
     "start_time": "2024-03-26T10:32:35.577215",
     "status": "completed"
    },
    "tags": []
   },
   "outputs": [],
   "source": [
    "# TODO: Use the \"Interquartile_Range\" function to calculate the interquartile range (IQR) and fences for the 'Price' and 'Area' columns in the dataset.\n",
    "# Codes"
   ]
  },
  {
   "cell_type": "markdown",
   "id": "3de78a1c",
   "metadata": {
    "papermill": {
     "duration": 0.022416,
     "end_time": "2024-03-26T10:32:35.652142",
     "exception": false,
     "start_time": "2024-03-26T10:32:35.629726",
     "status": "completed"
    },
    "tags": []
   },
   "source": [
    "**Description**<br>\n",
    "* It must be considered that most outliers are on the right side dut to **Right_skewed** <br>\n",
    "so , we need to remove outliers on the right(Upper_Fence)\n",
    "\n",
    "* Among all the features , two of them have noticeable effect : **Area** and **Price** <br>\n",
    "We cant find out outliers from  (Room , Parking , Warehouse ,Elevator) features.<br>\n",
    "It's better to find out outliers first from Price , second Area"
   ]
  },
  {
   "cell_type": "code",
   "execution_count": 51,
   "id": "b87ce681",
   "metadata": {
    "execution": {
     "iopub.execute_input": "2024-03-26T10:32:35.699234Z",
     "iopub.status.busy": "2024-03-26T10:32:35.698802Z",
     "iopub.status.idle": "2024-03-26T10:32:35.703061Z",
     "shell.execute_reply": "2024-03-26T10:32:35.702120Z"
    },
    "papermill": {
     "duration": 0.030397,
     "end_time": "2024-03-26T10:32:35.705035",
     "exception": false,
     "start_time": "2024-03-26T10:32:35.674638",
     "status": "completed"
    },
    "tags": []
   },
   "outputs": [],
   "source": [
    "# TODO: Define upper fence values for the 'Price' and 'Area' columns. Identify and store the indices of data points exceeding these upper fences.\n",
    "# Codes"
   ]
  },
  {
   "cell_type": "markdown",
   "id": "a1950396",
   "metadata": {
    "papermill": {
     "duration": 0.022457,
     "end_time": "2024-03-26T10:32:35.749423",
     "exception": false,
     "start_time": "2024-03-26T10:32:35.726966",
     "status": "completed"
    },
    "tags": []
   },
   "source": [
    "**Description**<br>\n",
    "\n",
    "* We can use of a method and add all the Outliers which are greater than UpperFence for both Price and Area and then <br>\n",
    "eliminate them from our Dataset(but in a new variable)"
   ]
  },
  {
   "cell_type": "code",
   "execution_count": 52,
   "id": "571fd470",
   "metadata": {
    "execution": {
     "iopub.execute_input": "2024-03-26T10:32:35.797820Z",
     "iopub.status.busy": "2024-03-26T10:32:35.797359Z",
     "iopub.status.idle": "2024-03-26T10:32:35.801888Z",
     "shell.execute_reply": "2024-03-26T10:32:35.800794Z"
    },
    "papermill": {
     "duration": 0.031734,
     "end_time": "2024-03-26T10:32:35.804128",
     "exception": false,
     "start_time": "2024-03-26T10:32:35.772394",
     "status": "completed"
    },
    "tags": []
   },
   "outputs": [],
   "source": [
    "# TODO: Combine the indices of outliers identified for both 'Price' and 'Area' columns. Print the total number and percentage of outliers. Display the first five rows of the dataset for these outliers.\n",
    "# Codes"
   ]
  },
  {
   "cell_type": "code",
   "execution_count": 53,
   "id": "6bc6f6e6",
   "metadata": {
    "execution": {
     "iopub.execute_input": "2024-03-26T10:32:35.851370Z",
     "iopub.status.busy": "2024-03-26T10:32:35.850930Z",
     "iopub.status.idle": "2024-03-26T10:32:35.855624Z",
     "shell.execute_reply": "2024-03-26T10:32:35.854588Z"
    },
    "papermill": {
     "duration": 0.030737,
     "end_time": "2024-03-26T10:32:35.857755",
     "exception": false,
     "start_time": "2024-03-26T10:32:35.827018",
     "status": "completed"
    },
    "tags": []
   },
   "outputs": [],
   "source": [
    "# TODO: Remove rows identified as outliers from the dataset and print the shape of the prepared dataset. Display the first five rows of the prepared dataset.\n",
    "# Codes"
   ]
  },
  {
   "cell_type": "code",
   "execution_count": 54,
   "id": "4a6fdacb",
   "metadata": {
    "execution": {
     "iopub.execute_input": "2024-03-26T10:32:35.904379Z",
     "iopub.status.busy": "2024-03-26T10:32:35.903211Z",
     "iopub.status.idle": "2024-03-26T10:32:35.908338Z",
     "shell.execute_reply": "2024-03-26T10:32:35.907466Z"
    },
    "papermill": {
     "duration": 0.030521,
     "end_time": "2024-03-26T10:32:35.910517",
     "exception": false,
     "start_time": "2024-03-26T10:32:35.879996",
     "status": "completed"
    },
    "tags": []
   },
   "outputs": [],
   "source": [
    "# TODO: Visualize the distribution of prices from the prepared dataset without outliers using a boxplot.\n",
    "# Codes"
   ]
  },
  {
   "cell_type": "code",
   "execution_count": 55,
   "id": "a0fa58a8",
   "metadata": {
    "execution": {
     "iopub.execute_input": "2024-03-26T10:32:35.956135Z",
     "iopub.status.busy": "2024-03-26T10:32:35.955726Z",
     "iopub.status.idle": "2024-03-26T10:32:35.960118Z",
     "shell.execute_reply": "2024-03-26T10:32:35.959286Z"
    },
    "papermill": {
     "duration": 0.029765,
     "end_time": "2024-03-26T10:32:35.962183",
     "exception": false,
     "start_time": "2024-03-26T10:32:35.932418",
     "status": "completed"
    },
    "tags": []
   },
   "outputs": [],
   "source": [
    "# TODO: Calculate the skewness of each numerical column in the prepared dataset without outliers.\n",
    "# Codes"
   ]
  },
  {
   "cell_type": "markdown",
   "id": "bb18b900",
   "metadata": {
    "papermill": {
     "duration": 0.022267,
     "end_time": "2024-03-26T10:32:36.006734",
     "exception": false,
     "start_time": "2024-03-26T10:32:35.984467",
     "status": "completed"
    },
    "tags": []
   },
   "source": [
    "**Description**<br>\n",
    "\n",
    "* Now we have more balanced data and its ready to be used for fitting.\n",
    "* Due to we have dropped lots of data from dataset we can use of both(with outliers and without) to check the \n",
    "accuracy for each one ."
   ]
  }
 ],
 "metadata": {
  "colab": {
   "provenance": []
  },
  "kaggle": {
   "accelerator": "none",
   "dataSources": [
    {
     "datasetId": 4671874,
     "sourceId": 7945470,
     "sourceType": "datasetVersion"
    }
   ],
   "dockerImageVersionId": 30673,
   "isGpuEnabled": false,
   "isInternetEnabled": true,
   "language": "python",
   "sourceType": "notebook"
  },
  "kernelspec": {
   "display_name": "Python 3",
   "language": "python",
   "name": "python3"
  },
  "language_info": {
   "codemirror_mode": {
    "name": "ipython",
    "version": 3
   },
   "file_extension": ".py",
   "mimetype": "text/x-python",
   "name": "python",
   "nbconvert_exporter": "python",
   "pygments_lexer": "ipython3",
   "version": "3.10.13"
  },
  "papermill": {
   "default_parameters": {},
   "duration": 7.748713,
   "end_time": "2024-03-26T10:32:36.350149",
   "environment_variables": {},
   "exception": null,
   "input_path": "__notebook__.ipynb",
   "output_path": "__notebook__.ipynb",
   "parameters": {},
   "start_time": "2024-03-26T10:32:28.601436",
   "version": "2.5.0"
  }
 },
 "nbformat": 4,
 "nbformat_minor": 5
}
